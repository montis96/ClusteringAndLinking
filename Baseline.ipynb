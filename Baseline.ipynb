{
 "cells": [
  {
   "cell_type": "code",
   "execution_count": 91,
   "metadata": {
    "collapsed": true
   },
   "outputs": [],
   "source": [
    "from pathlib import Path\n",
    "import re\n",
    "import pandas as pd"
   ]
  },
  {
   "cell_type": "code",
   "execution_count": 64,
   "outputs": [],
   "source": [
    "path = Path(\".\\\\aida-yago2-dataset\\AIDA-YAGO2-dataset.tsv\")\n",
    "raw_text = path.read_text(encoding='utf-8').strip()"
   ],
   "metadata": {
    "collapsed": false,
    "pycharm": {
     "name": "#%%\n"
    }
   }
  },
  {
   "cell_type": "code",
   "execution_count": 65,
   "outputs": [],
   "source": [
    "raw_line = re.split(r'\\n', raw_text)"
   ],
   "metadata": {
    "collapsed": false,
    "pycharm": {
     "name": "#%%\n"
    }
   }
  },
  {
   "cell_type": "code",
   "execution_count": 87,
   "outputs": [],
   "source": [
    "tokens = []\n",
    "tags = []\n",
    "mention = []\n",
    "entities = []\n",
    "wikidatas = []\n",
    "numeric_codes = []\n",
    "alpha_codes = []\n",
    "for raw_word in raw_line:\n",
    "    word = raw_word.split(\"\\t\")\n",
    "    if len(word[0]) > 0 and \"DOCSTART\" not in word[0]:\n",
    "        tokens.append(word[0])\n",
    "        try:\n",
    "            tags.append(word[1])\n",
    "        except:\n",
    "            tags.append(None)\n",
    "        try:\n",
    "            mention.append(word[2])\n",
    "        except:\n",
    "            mention.append(None)\n",
    "        try:\n",
    "            entities.append(word[3])\n",
    "        except:\n",
    "            entities.append(None)\n",
    "        try:\n",
    "            wikidatas.append(word[4])\n",
    "        except:\n",
    "            wikidatas.append(None)\n",
    "        try:\n",
    "            numeric_codes.append(word[5])\n",
    "        except:\n",
    "            numeric_codes.append(None)\n",
    "        try:\n",
    "            alpha_codes.append(word[6])\n",
    "        except:\n",
    "            alpha_codes.append(None)"
   ],
   "metadata": {
    "collapsed": false,
    "pycharm": {
     "name": "#%%\n"
    }
   }
  },
  {
   "cell_type": "code",
   "execution_count": 99,
   "outputs": [],
   "source": [
    "df = pd.DataFrame(list(zip(tokens, tags, mention, entities, wikidatas, numeric_codes, alpha_codes)),\n",
    "                  columns=[\"tokens\", \"tags\", \"mention\", \"entities\", \"wikidatas\", \"numeric_codes\", \"alpha_codes\"])  #%%\n"
   ],
   "metadata": {
    "collapsed": false,
    "pycharm": {
     "name": "#%%\n"
    }
   }
  },
  {
   "cell_type": "code",
   "execution_count": 102,
   "outputs": [
    {
     "data": {
      "text/plain": "    tokens  tags          mention        entities  \\\n0       EU     B               EU         --NME--   \n1  rejects  None             None            None   \n2   German     B           German         Germany   \n3     call  None             None            None   \n4       to  None             None            None   \n5  boycott  None             None            None   \n6  British     B          British  United_Kingdom   \n7     lamb  None             None            None   \n8        .  None             None            None   \n9    Peter     B  Peter Blackburn         --NME--   \n\n                                     wikidatas numeric_codes alpha_codes  \n0                                         None          None        None  \n1                                         None          None        None  \n2         http://en.wikipedia.org/wiki/Germany         11867    /m/0345h  \n3                                         None          None        None  \n4                                         None          None        None  \n5                                         None          None        None  \n6  http://en.wikipedia.org/wiki/United_Kingdom         31717    /m/07ssc  \n7                                         None          None        None  \n8                                         None          None        None  \n9                                         None          None        None  ",
      "text/html": "<div>\n<style scoped>\n    .dataframe tbody tr th:only-of-type {\n        vertical-align: middle;\n    }\n\n    .dataframe tbody tr th {\n        vertical-align: top;\n    }\n\n    .dataframe thead th {\n        text-align: right;\n    }\n</style>\n<table border=\"1\" class=\"dataframe\">\n  <thead>\n    <tr style=\"text-align: right;\">\n      <th></th>\n      <th>tokens</th>\n      <th>tags</th>\n      <th>mention</th>\n      <th>entities</th>\n      <th>wikidatas</th>\n      <th>numeric_codes</th>\n      <th>alpha_codes</th>\n    </tr>\n  </thead>\n  <tbody>\n    <tr>\n      <th>0</th>\n      <td>EU</td>\n      <td>B</td>\n      <td>EU</td>\n      <td>--NME--</td>\n      <td>None</td>\n      <td>None</td>\n      <td>None</td>\n    </tr>\n    <tr>\n      <th>1</th>\n      <td>rejects</td>\n      <td>None</td>\n      <td>None</td>\n      <td>None</td>\n      <td>None</td>\n      <td>None</td>\n      <td>None</td>\n    </tr>\n    <tr>\n      <th>2</th>\n      <td>German</td>\n      <td>B</td>\n      <td>German</td>\n      <td>Germany</td>\n      <td>http://en.wikipedia.org/wiki/Germany</td>\n      <td>11867</td>\n      <td>/m/0345h</td>\n    </tr>\n    <tr>\n      <th>3</th>\n      <td>call</td>\n      <td>None</td>\n      <td>None</td>\n      <td>None</td>\n      <td>None</td>\n      <td>None</td>\n      <td>None</td>\n    </tr>\n    <tr>\n      <th>4</th>\n      <td>to</td>\n      <td>None</td>\n      <td>None</td>\n      <td>None</td>\n      <td>None</td>\n      <td>None</td>\n      <td>None</td>\n    </tr>\n    <tr>\n      <th>5</th>\n      <td>boycott</td>\n      <td>None</td>\n      <td>None</td>\n      <td>None</td>\n      <td>None</td>\n      <td>None</td>\n      <td>None</td>\n    </tr>\n    <tr>\n      <th>6</th>\n      <td>British</td>\n      <td>B</td>\n      <td>British</td>\n      <td>United_Kingdom</td>\n      <td>http://en.wikipedia.org/wiki/United_Kingdom</td>\n      <td>31717</td>\n      <td>/m/07ssc</td>\n    </tr>\n    <tr>\n      <th>7</th>\n      <td>lamb</td>\n      <td>None</td>\n      <td>None</td>\n      <td>None</td>\n      <td>None</td>\n      <td>None</td>\n      <td>None</td>\n    </tr>\n    <tr>\n      <th>8</th>\n      <td>.</td>\n      <td>None</td>\n      <td>None</td>\n      <td>None</td>\n      <td>None</td>\n      <td>None</td>\n      <td>None</td>\n    </tr>\n    <tr>\n      <th>9</th>\n      <td>Peter</td>\n      <td>B</td>\n      <td>Peter Blackburn</td>\n      <td>--NME--</td>\n      <td>None</td>\n      <td>None</td>\n      <td>None</td>\n    </tr>\n  </tbody>\n</table>\n</div>"
     },
     "execution_count": 102,
     "metadata": {},
     "output_type": "execute_result"
    }
   ],
   "source": [
    "df[0:10]"
   ],
   "metadata": {
    "collapsed": false,
    "pycharm": {
     "name": "#%%\n"
    }
   }
  },
  {
   "cell_type": "code",
   "execution_count": null,
   "outputs": [],
   "source": [],
   "metadata": {
    "collapsed": false,
    "pycharm": {
     "name": "#%%\n"
    }
   }
  }
 ],
 "metadata": {
  "kernelspec": {
   "display_name": "Python 3",
   "language": "python",
   "name": "python3"
  },
  "language_info": {
   "codemirror_mode": {
    "name": "ipython",
    "version": 2
   },
   "file_extension": ".py",
   "mimetype": "text/x-python",
   "name": "python",
   "nbconvert_exporter": "python",
   "pygments_lexer": "ipython2",
   "version": "2.7.6"
  }
 },
 "nbformat": 4,
 "nbformat_minor": 0
}