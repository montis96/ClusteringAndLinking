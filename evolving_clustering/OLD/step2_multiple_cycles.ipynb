{
 "cells": [
  {
   "cell_type": "code",
   "execution_count": 125,
   "outputs": [
    {
     "name": "stdout",
     "output_type": "stream",
     "text": [
      "The autoreload extension is already loaded. To reload it, use:\n",
      "  %reload_ext autoreload\n"
     ]
    }
   ],
   "source": [
    "%load_ext autoreload\n",
    "%autoreload 2"
   ],
   "metadata": {
    "collapsed": false,
    "pycharm": {
     "name": "#%%\n"
    }
   }
  },
  {
   "cell_type": "code",
   "execution_count": 126,
   "outputs": [],
   "source": [
    "import Packages.ClusteringHelper as ch\n",
    "from Packages.TimeEvolving import DataEvolver\n",
    "from textdistance import DamerauLevenshtein, Levenshtein\n",
    "import numpy as np\n",
    "from sklearn.cluster import DBSCAN, AgglomerativeClustering\n",
    "from collections import Counter\n",
    "from Packages.TimeEvolving import Cluster"
   ],
   "metadata": {
    "collapsed": false,
    "pycharm": {
     "name": "#%%\n"
    }
   }
  },
  {
   "cell_type": "code",
   "execution_count": 127,
   "outputs": [],
   "source": [
    "text, data = ch.read_aida_yago_conll(\n",
    "    \"D:\\\\Sgmon\\\\Documents\\\\Magistrale\\\\TESI\\\\ClusteringAndLinking\\\\aida-yago2-dataset\\\\AIDA-YAGO2-dataset.tsv\")\n",
    "save = False\n",
    "if save:\n",
    "    text_file = open('text.txt', 'w')\n",
    "    text_file.write(text)\n",
    "    text_file.close()\n",
    "ents_data = data[data['entities'] != ''].copy()"
   ],
   "metadata": {
    "collapsed": false,
    "pycharm": {
     "name": "#%%\n"
    }
   }
  },
  {
   "cell_type": "code",
   "execution_count": 128,
   "outputs": [],
   "source": [
    "ents_data = ch.add_entities_embedding(ents_data,\n",
    "                                      \"D:\\\\Sgmon\\\\Documents\\\\Magistrale\\\\TESI\\\\ClusteringAndLinking\\\\aida-yago2-dataset\\\\encodings\")\n",
    "ents_data_filtered = ents_data.copy()"
   ],
   "metadata": {
    "collapsed": false,
    "pycharm": {
     "name": "#%%\n"
    }
   }
  },
  {
   "cell_type": "code",
   "execution_count": 129,
   "outputs": [],
   "source": [
    "total_clusters = []\n",
    "documents = set(ents_data.documents)\n",
    "evolving = DataEvolver(documents, ents_data, randomly=False, step=20)\n",
    "gold_entities = []\n",
    "###################################################################\n",
    "iterator = evolving.__iter__()\n",
    "_ = iterator.__next__()\n",
    "###################################################################\n",
    "current_mentions = list(evolving.get_current_data().mentions)\n",
    "current_encodings = list(evolving.get_current_data()['encodings'].values)\n",
    "current_entities = list(evolving.get_current_data()['entities'].values)\n",
    "def lev_metric(x, y):\n",
    "    i, j = int(x[0]), int(y[0])  # extract indices\n",
    "    if len(current_mentions[i]) < 4:\n",
    "        if current_mentions[i] == current_mentions[j]:\n",
    "            return 0\n",
    "        else:\n",
    "            return Levenshtein().distance(current_mentions[i].lower(), current_mentions[j].lower()) + 3\n",
    "    else:\n",
    "        return Levenshtein().distance(current_mentions[i].lower(), current_mentions[j].lower())\n",
    "\n",
    "def dam_lev_metric(x, y):\n",
    "    i, j = int(x[0]), int(y[0])  # extract indices\n",
    "    if len(current_mentions[i]) < 4:\n",
    "        if current_mentions[i] == current_mentions[j]:\n",
    "            return 0\n",
    "        else:\n",
    "            return DamerauLevenshtein().distance(current_mentions[i].lower(), current_mentions[j].lower()) + 3\n",
    "    else:\n",
    "        return DamerauLevenshtein().distance(current_mentions[i].lower(), current_mentions[j].lower())\n",
    "\n",
    "X = np.arange(len(current_mentions)).reshape(-1, 1)\n",
    "clusterizator1 = DBSCAN(metric=lev_metric, eps=1, min_samples=0, n_jobs=-1)\n",
    "cluster_numbers = clusterizator1.fit_predict(X)"
   ],
   "metadata": {
    "collapsed": false,
    "pycharm": {
     "name": "#%%\n"
    }
   }
  },
  {
   "cell_type": "code",
   "execution_count": 130,
   "outputs": [],
   "source": [
    "cee_dict = {k: {'entities': [], 'mentions': [], 'encodings': [], 'sotto_clusters': None} for k in set(cluster_numbers)}\n",
    "for i, cluster in enumerate(cluster_numbers):\n",
    "    cee_dict[cluster]['entities'].append(current_entities[i])\n",
    "    cee_dict[cluster]['mentions'].append(current_mentions[i])\n",
    "    cee_dict[cluster]['encodings'].append(current_encodings[i])\n",
    "cee_list = cee_dict.values()\n",
    "# cee_list"
   ],
   "metadata": {
    "collapsed": false,
    "pycharm": {
     "name": "#%%\n"
    }
   }
  },
  {
   "cell_type": "code",
   "execution_count": 131,
   "outputs": [],
   "source": [
    "clusterizator2 = AgglomerativeClustering(n_clusters=None, affinity='cosine', distance_threshold=0.035, linkage=\"single\")\n",
    "for cluster in cee_dict.keys():\n",
    "    try:\n",
    "        cee_dict[cluster]['sotto_clusters'] = clusterizator2.fit_predict(cee_dict[cluster]['encodings'])\n",
    "    except ValueError:\n",
    "        cee_dict[cluster]['sotto_clusters'] = np.zeros(1, dtype=np.int8)"
   ],
   "metadata": {
    "collapsed": false,
    "pycharm": {
     "name": "#%%\n"
    }
   }
  },
  {
   "cell_type": "code",
   "execution_count": 132,
   "outputs": [],
   "source": [
    "sottocluster_list = []\n",
    "for el in cee_list:\n",
    "    sotto_cluster = {k: Cluster() for k in set(el['sotto_clusters'])}\n",
    "    for i, key in enumerate(el['sotto_clusters']):\n",
    "        sotto_cluster[key].add_element(mention=el['mentions'][i], entity=el['entities'][i], encodings=el['encodings'][i])\n",
    "    sottocluster_list.append(sotto_cluster)"
   ],
   "metadata": {
    "collapsed": false,
    "pycharm": {
     "name": "#%%\n"
    }
   }
  },
  {
   "cell_type": "code",
   "execution_count": 133,
   "outputs": [],
   "source": [
    "sottocluster_list = [clusters_dict[key] for clusters_dict in sottocluster_list for key in clusters_dict ]"
   ],
   "metadata": {
    "collapsed": false,
    "pycharm": {
     "name": "#%%\n"
    }
   }
  },
  {
   "cell_type": "code",
   "execution_count": 134,
   "outputs": [],
   "source": [
    "# for x in sottocluser_list:\n",
    "#     print(Counter(x.entities))"
   ],
   "metadata": {
    "collapsed": false,
    "pycharm": {
     "name": "#%%\n"
    }
   }
  },
  {
   "cell_type": "markdown",
   "source": [
    "# STEP FINALE\n"
   ],
   "metadata": {
    "collapsed": false,
    "pycharm": {
     "name": "#%% md\n"
    }
   }
  },
  {
   "cell_type": "code",
   "execution_count": 135,
   "outputs": [],
   "source": [
    "current_clusters = total_clusters + sottocluster_list"
   ],
   "metadata": {
    "collapsed": false,
    "pycharm": {
     "name": "#%%\n"
    }
   }
  },
  {
   "cell_type": "code",
   "execution_count": 136,
   "outputs": [],
   "source": [
    "sotto_encodings = [x.encodings_mean for x in current_clusters]"
   ],
   "metadata": {
    "collapsed": false,
    "pycharm": {
     "name": "#%%\n"
    }
   }
  },
  {
   "cell_type": "code",
   "execution_count": 137,
   "outputs": [],
   "source": [
    "clusterizator3 = AgglomerativeClustering(n_clusters=None, affinity='cosine', distance_threshold=0.015, linkage=\"single\")\n",
    "cluster_numbers = clusterizator3.fit_predict(sotto_encodings)"
   ],
   "metadata": {
    "collapsed": false,
    "pycharm": {
     "name": "#%%\n"
    }
   }
  },
  {
   "cell_type": "code",
   "execution_count": 138,
   "outputs": [],
   "source": [
    "final_clusters = {k: Cluster() for k in set(cluster_numbers)}\n",
    "\n",
    "for i, x in enumerate(current_clusters):\n",
    "    try:\n",
    "        final_clusters[cluster_numbers[i]] =  final_clusters[cluster_numbers[i]] + x\n",
    "    except:\n",
    "        print(cluster_numbers[i], final_clusters[cluster_numbers[i]], x)"
   ],
   "metadata": {
    "collapsed": false,
    "pycharm": {
     "name": "#%%\n"
    }
   }
  },
  {
   "cell_type": "code",
   "execution_count": 139,
   "outputs": [],
   "source": [
    "gold_entities = gold_entities + current_entities\n",
    "total_clusters = list(final_clusters.values())"
   ],
   "metadata": {
    "collapsed": false,
    "pycharm": {
     "name": "#%%\n"
    }
   }
  },
  {
   "cell_type": "markdown",
   "source": [
    "CEAFm"
   ],
   "metadata": {
    "collapsed": false
   }
  },
  {
   "cell_type": "code",
   "execution_count": 140,
   "outputs": [],
   "source": [
    "# precision\n",
    "best_alignment = ch.get_optimal_alignment([x.count_ents for x in total_clusters], set(gold_entities), is_dict=False)"
   ],
   "metadata": {
    "collapsed": false,
    "pycharm": {
     "name": "#%%\n"
    }
   }
  },
  {
   "cell_type": "code",
   "execution_count": 141,
   "outputs": [
    {
     "name": "stdout",
     "output_type": "stream",
     "text": [
      "0.8664921465968587\n"
     ]
    }
   ],
   "source": [
    "CEAFm_f1 = sum(best_alignment.values()) / len(gold_entities)\n",
    "print(CEAFm_f1)\n"
   ],
   "metadata": {
    "collapsed": false,
    "pycharm": {
     "name": "#%%\n"
    }
   }
  }
 ],
 "metadata": {
  "kernelspec": {
   "display_name": "Python 3",
   "language": "python",
   "name": "python3"
  },
  "language_info": {
   "codemirror_mode": {
    "name": "ipython",
    "version": 2
   },
   "file_extension": ".py",
   "mimetype": "text/x-python",
   "name": "python",
   "nbconvert_exporter": "python",
   "pygments_lexer": "ipython2",
   "version": "2.7.6"
  }
 },
 "nbformat": 4,
 "nbformat_minor": 0
}