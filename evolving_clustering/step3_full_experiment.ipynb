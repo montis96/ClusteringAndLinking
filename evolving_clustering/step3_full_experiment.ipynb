{
 "cells": [
  {
   "cell_type": "code",
   "execution_count": 2,
   "outputs": [],
   "source": [
    "%load_ext autoreload\n",
    "%autoreload 2"
   ],
   "metadata": {
    "collapsed": false,
    "pycharm": {
     "name": "#%%\n"
    }
   }
  },
  {
   "cell_type": "code",
   "execution_count": 3,
   "outputs": [],
   "source": [
    "import Packages.ClusteringHelper as ch\n",
    "from Packages.TimeEvolving import DataEvolver\n",
    "from textdistance import DamerauLevenshtein, Levenshtein\n",
    "import numpy as np\n",
    "from sklearn.cluster import DBSCAN, AgglomerativeClustering\n",
    "from Packages.TimeEvolving import Cluster\n",
    "from tqdm.notebook import tqdm\n",
    "import math\n",
    "import sys\n",
    "from collections import Counter\n",
    "import time\n",
    "from scipy.spatial.distance import cosine\n",
    "from sklearn.metrics.pairwise import pairwise_distances"
   ],
   "metadata": {
    "collapsed": false,
    "pycharm": {
     "name": "#%%\n"
    }
   }
  },
  {
   "cell_type": "code",
   "execution_count": 4,
   "outputs": [],
   "source": [
    "text, data = ch.read_aida_yago_conll(\n",
    "    \"D:\\\\Sgmon\\\\Documents\\\\Magistrale\\\\TESI\\\\ClusteringAndLinking\\\\aida-yago2-dataset\\\\AIDA-YAGO2-dataset.tsv\")\n",
    "save = False\n",
    "if save:\n",
    "    text_file = open('text.txt', 'w')\n",
    "    text_file.write(text)\n",
    "    text_file.close()\n",
    "ents_data = data[data['entities'] != ''].copy()"
   ],
   "metadata": {
    "collapsed": false,
    "pycharm": {
     "name": "#%%\n"
    }
   }
  },
  {
   "cell_type": "code",
   "execution_count": 5,
   "outputs": [],
   "source": [
    "ents_data = ch.add_entities_embedding(ents_data,\n",
    "                                      \"D:\\\\Sgmon\\\\Documents\\\\Magistrale\\\\TESI\\\\ClusteringAndLinking\\\\aida-yago2-dataset\\\\encodings\")\n",
    "ents_data_filtered = ents_data.copy()\n",
    "documents = set(ents_data.documents)"
   ],
   "metadata": {
    "collapsed": false,
    "pycharm": {
     "name": "#%%\n"
    }
   }
  },
  {
   "cell_type": "code",
   "execution_count": 6,
   "outputs": [],
   "source": [
    "evolving = DataEvolver(documents, ents_data, randomly=False, step=10)\n",
    "gold_entities = []\n",
    "total_clusters = []\n",
    "n=0"
   ],
   "metadata": {
    "collapsed": false,
    "pycharm": {
     "name": "#%%\n"
    }
   }
  },
  {
   "cell_type": "markdown",
   "source": [
    "## Let the cycle start\n"
   ],
   "metadata": {
    "collapsed": false,
    "pycharm": {
     "name": "#%% md\n"
    }
   }
  },
  {
   "cell_type": "code",
   "execution_count": 27,
   "outputs": [
    {
     "data": {
      "text/plain": "  0%|          | 0/139 [00:00<?, ?it/s]",
      "application/vnd.jupyter.widget-view+json": {
       "version_major": 2,
       "version_minor": 0,
       "model_id": "41da45aee6ae4b36abacdcc0e78b3882"
      }
     },
     "metadata": {},
     "output_type": "display_data"
    },
    {
     "name": "stdout",
     "output_type": "stream",
     "text": [
      "CEAFm-R: 0.9003436426116839 <br>\n",
      "CEAFm-P: 0.9003436426116839 <br>\n",
      "CEAFm: 0.900343642611684 <br>\n",
      "Clusters:\n",
      "Cluster{'<b>Washington,_D.C.</b>': {'WASHINGTON': 3, 'Washington': 3, '<span style=\"background: yellow;\">#</span>': 6}}; <span style=\"background: pink;\">#_elements</span> = 6 <br><br> Cluster{'<b>Nepal</b>': {'Nepal': 4, '<span style=\"background: yellow;\">#</span>': 4}}; <span style=\"background: pink;\">#_elements</span> = 4 <br><br> Cluster{'<b>United_States</b>': {'United States': 5, 'U.S.': 11, '<span style=\"background: yellow;\">#</span>': 16}}; <span style=\"background: pink;\">#_elements</span> = 16 <br><br> Cluster{'<b>Iraq</b>': {'Iraq': 9, 'Iraqi': 8, '<span style=\"background: yellow;\">#</span>': 17}}; <span style=\"background: pink;\">#_elements</span> = 17 <br><br> Cluster{'<b>Reuters</b>': {'Reuters': 4, '<span style=\"background: yellow;\">#</span>': 4}}; <span style=\"background: pink;\">#_elements</span> = 4 <br><br> Cluster{'<b>Kurdish_people</b>': {'Kurdish': 1, '<span style=\"background: yellow;\">#</span>': 1}, '<b>Kurdistan</b>': {'Kurdish': 2, '<span style=\"background: yellow;\">#</span>': 2}, '<b>Kurdish_nationalism</b>': {'Kurdish': 1, '<span style=\"background: yellow;\">#</span>': 1}, '<b>Iraqi_Kurdistan</b>': {'Kurdish': 2, '<span style=\"background: yellow;\">#</span>': 2}}; <span style=\"background: pink;\">#_elements</span> = 6 <br><br> Cluster{'<b>Islam</b>': {'Islamist': 3, '<span style=\"background: yellow;\">#</span>': 3}}; <span style=\"background: pink;\">#_elements</span> = 3 <br><br> Cluster{'<b>Amman</b>': {'AMMAN': 2, 'Amman': 5, '<span style=\"background: yellow;\">#</span>': 7}}; <span style=\"background: pink;\">#_elements</span> = 7 <br><br> Cluster{'<b>New_York_Stock_Exchange</b>': {'New York Stock Exchange': 1, '<span style=\"background: yellow;\">#</span>': 1}}; <span style=\"background: pink;\">#_elements</span> = 1 <br><br> Cluster{\"<b>Kurdistan_Workers'_Party</b>\": {'PKK': 7, '<span style=\"background: yellow;\">#</span>': 7}}; <span style=\"background: pink;\">#_elements</span> = 7 <br><br> Cluster{'<b>Jordan</b>': {'Jordan': 9, '<span style=\"background: yellow;\">#</span>': 9}}; <span style=\"background: pink;\">#_elements</span> = 9 <br><br> Cluster{'<b>United_Kingdom</b>': {'Britain': 1, '<span style=\"background: yellow;\">#</span>': 1}}; <span style=\"background: pink;\">#_elements</span> = 1 <br><br> Cluster{'<b>Japan</b>': {'Japanese': 1, '<span style=\"background: yellow;\">#</span>': 1}}; <span style=\"background: pink;\">#_elements</span> = 1 <br><br> Cluster{'<b>Kathmandu</b>': {'KATHMANDU': 2, 'Kathmandu': 1, '<span style=\"background: yellow;\">#</span>': 3}}; <span style=\"background: pink;\">#_elements</span> = 3 <br><br> Cluster{'<b>Al_Karak</b>': {'Karak': 1, '<span style=\"background: yellow;\">#</span>': 1}}; <span style=\"background: pink;\">#_elements</span> = 1 <br><br> Cluster{'<b>Spain</b>': {'Spain': 1, '<span style=\"background: yellow;\">#</span>': 1}}; <span style=\"background: pink;\">#_elements</span> = 1 <br><br> Cluster{'<b>Nepal</b>': {'Nepali': 1, '<span style=\"background: yellow;\">#</span>': 1}}; <span style=\"background: pink;\">#_elements</span> = 1 <br><br> Cluster{'<b>Microsoft</b>': {'Microsoft Corp.': 1, '<span style=\"background: yellow;\">#</span>': 1}}; <span style=\"background: pink;\">#_elements</span> = 1 <br><br> Cluster{'<b>Diana,_Princess_of_Wales</b>': {'Diana': 5, '<span style=\"background: yellow;\">#</span>': 5}}; <span style=\"background: pink;\">#_elements</span> = 5 <br><br> Cluster{'<b>Gartner</b>': {'Gartner Group': 1, '<span style=\"background: yellow;\">#</span>': 1}}; <span style=\"background: pink;\">#_elements</span> = 1 <br><br> Cluster{'<b>Necmettin_Erbakan</b>': {'Erbakan': 1, '<span style=\"background: yellow;\">#</span>': 1}}; <span style=\"background: pink;\">#_elements</span> = 1 <br><br> Cluster{'<b>SBC_Communications</b>': {'SBC Communications': 1, '<span style=\"background: yellow;\">#</span>': 1}}; <span style=\"background: pink;\">#_elements</span> = 1 <br><br> Cluster{'<b>Chicago</b>': {'CHICAGO': 1, '<span style=\"background: yellow;\">#</span>': 1}}; <span style=\"background: pink;\">#_elements</span> = 1 <br><br> Cluster{'<b>Beirut_Stock_Exchange</b>': {'Beirut Stock Exchange': 1, '<span style=\"background: yellow;\">#</span>': 1}}; <span style=\"background: pink;\">#_elements</span> = 1 <br><br> Cluster{'<b>The_Walt_Disney_Company</b>': {'Disney': 1, '<span style=\"background: yellow;\">#</span>': 1}}; <span style=\"background: pink;\">#_elements</span> = 1 <br><br> Cluster{'<b>Necmettin_Erbakan</b>': {'Necmettin Erbakan': 1, '<span style=\"background: yellow;\">#</span>': 1}}; <span style=\"background: pink;\">#_elements</span> = 1 <br><br> Cluster{'<b>Italy</b>': {'Italy': 3, '<span style=\"background: yellow;\">#</span>': 3}}; <span style=\"background: pink;\">#_elements</span> = 3 <br><br> Cluster{\"<b>Kurdistan_Workers'_Party</b>\": {'Kurdistan Workers Party': 2, '<span style=\"background: yellow;\">#</span>': 2}}; <span style=\"background: pink;\">#_elements</span> = 2 <br><br> Cluster{'<b>Windows_95</b>': {'Windows 95': 11, '<span style=\"background: yellow;\">#</span>': 11}}; <span style=\"background: pink;\">#_elements</span> = 11 <br><br> Cluster{'<b>Charles,_Prince_of_Wales</b>': {'Charles': 1, '<span style=\"background: yellow;\">#</span>': 1}}; <span style=\"background: pink;\">#_elements</span> = 1 <br><br> Cluster{'<b>Southern_New_England_Telecommunications</b>': {'Southern New England Telecommunications Corp.': 1, '<span style=\"background: yellow;\">#</span>': 1}}; <span style=\"background: pink;\">#_elements</span> = 1 <br><br> Cluster{'<b>New_York_City</b>': {'New York': 1, '<span style=\"background: yellow;\">#</span>': 1}}; <span style=\"background: pink;\">#_elements</span> = 1 <br><br> Cluster{'<b>Transcendental_Meditation</b>': {'Transcendental Meditation': 1, '<span style=\"background: yellow;\">#</span>': 1}}; <span style=\"background: pink;\">#_elements</span> = 1 <br><br> Cluster{'<b>Natural_Law_Party_(United_States)</b>': {'Natural Law Party': 1, '<span style=\"background: yellow;\">#</span>': 1}}; <span style=\"background: pink;\">#_elements</span> = 1 <br><br> Cluster{'<b>Goldman_Sachs</b>': {'Goldman Sachs & Co': 1, '<span style=\"background: yellow;\">#</span>': 1}}; <span style=\"background: pink;\">#_elements</span> = 1 <br><br> Cluster{'<b>Rob_Enderle</b>': {'Enderle': 1, '<span style=\"background: yellow;\">#</span>': 1}}; <span style=\"background: pink;\">#_elements</span> = 1 <br><br> Cluster{'<b>Windows_NT</b>': {'Windows NT': 1, '<span style=\"background: yellow;\">#</span>': 1}}; <span style=\"background: pink;\">#_elements</span> = 1 <br><br> Cluster{'<b>Anatolia</b>': {'Anatolian': 2, '<span style=\"background: yellow;\">#</span>': 2}}; <span style=\"background: pink;\">#_elements</span> = 2 <br><br> Cluster{'<b>Windows_NT_4.0</b>': {'Windows NT 4.0': 1, '<span style=\"background: yellow;\">#</span>': 1}}; <span style=\"background: pink;\">#_elements</span> = 1 <br><br> Cluster{'<b>John_Hagelin</b>': {'John Hagelin': 1, '<span style=\"background: yellow;\">#</span>': 1}}; <span style=\"background: pink;\">#_elements</span> = 1 <br><br> Cluster{'<b>Eternit</b>': {'Eternit': 1, '<span style=\"background: yellow;\">#</span>': 1}}; <span style=\"background: pink;\">#_elements</span> = 1 <br><br> Cluster{'<b>Redmond,_Washington</b>': {'Redmond': 1, '<span style=\"background: yellow;\">#</span>': 1}}; <span style=\"background: pink;\">#_elements</span> = 1 <br><br> Cluster{'<b>Deutsche_Bundesbank</b>': {'Bundesbank': 1, '<span style=\"background: yellow;\">#</span>': 1}}; <span style=\"background: pink;\">#_elements</span> = 1 <br><br> Cluster{'<b>Sri_Lanka</b>': {'Sri Lankans': 1, '<span style=\"background: yellow;\">#</span>': 1}}; <span style=\"background: pink;\">#_elements</span> = 1 <br><br> Cluster{'<b>BellSouth</b>': {'BellSouth Corp.': 1, '<span style=\"background: yellow;\">#</span>': 1}}; <span style=\"background: pink;\">#_elements</span> = 1 <br><br> Cluster{'<b>Greenwich_Mean_Time</b>': {'GMT': 1, '<span style=\"background: yellow;\">#</span>': 1}}; <span style=\"background: pink;\">#_elements</span> = 1 <br><br> Cluster{'<b>Goldman_Sachs</b>': {'Goldman Sachs': 1, '<span style=\"background: yellow;\">#</span>': 1}}; <span style=\"background: pink;\">#_elements</span> = 1 <br><br> Cluster{'<b>Liberation_Tigers_of_Tamil_Eelam</b>': {'Liberation Tigers of Tamil Eelam': 1, '<span style=\"background: yellow;\">#</span>': 1}}; <span style=\"background: pink;\">#_elements</span> = 1 <br><br> Cluster{'<b>Illinois</b>': {'Ill': 1, '<span style=\"background: yellow;\">#</span>': 1}}; <span style=\"background: pink;\">#_elements</span> = 1 <br><br> Cluster{'<b>Himalayas</b>': {'Himalayan': 1, '<span style=\"background: yellow;\">#</span>': 1}}; <span style=\"background: pink;\">#_elements</span> = 1 <br><br> Cluster{'<b>Continental_AG</b>': {'Continental': 1, '<span style=\"background: yellow;\">#</span>': 1}}; <span style=\"background: pink;\">#_elements</span> = 1 <br><br> Cluster{'<b>Deutsche_Mark</b>': {'DEM': 3, '<span style=\"background: yellow;\">#</span>': 3}}; <span style=\"background: pink;\">#_elements</span> = 3 <br><br> Cluster{'<b>Rob_Enderle</b>': {'Rob Enderle': 1, '<span style=\"background: yellow;\">#</span>': 1}}; <span style=\"background: pink;\">#_elements</span> = 1 <br><br> Cluster{'<b>Chihuahua,_Chihuahua</b>': {'Chihuahua': 1, '<span style=\"background: yellow;\">#</span>': 1}}; <span style=\"background: pink;\">#_elements</span> = 1 <br><br> Cluster{'<b>Republican_Party_(United_States)</b>': {'Republican': 2, '<span style=\"background: yellow;\">#</span>': 2}}; <span style=\"background: pink;\">#_elements</span> = 2 <br><br> Cluster{'<b>European_Union</b>': {'European': 1, '<span style=\"background: yellow;\">#</span>': 1}}; <span style=\"background: pink;\">#_elements</span> = 1 <br><br> Cluster{'<b>Beirut</b>': {'BEIRUT': 1, 'Beirut': 2, '<span style=\"background: yellow;\">#</span>': 3}}; <span style=\"background: pink;\">#_elements</span> = 3 <br><br> Cluster{'<b>Boston</b>': {'BOSTON': 1, '<span style=\"background: yellow;\">#</span>': 1}}; <span style=\"background: pink;\">#_elements</span> = 1 <br><br> Cluster{'<b>Solidere</b>': {'SOLIDERE': 4, '<span style=\"background: yellow;\">#</span>': 4}}; <span style=\"background: pink;\">#_elements</span> = 4 <br><br> Cluster{'<b>Sweden</b>': {'Sweden': 1, '<span style=\"background: yellow;\">#</span>': 1}}; <span style=\"background: pink;\">#_elements</span> = 1 <br><br> Cluster{'<b>Germany</b>': {'Germany': 1, '<span style=\"background: yellow;\">#</span>': 1}}; <span style=\"background: pink;\">#_elements</span> = 1 <br><br> Cluster{'<b>Camelot,_Chesapeake,_Virginia</b>': {'Camelot': 1, '<span style=\"background: yellow;\">#</span>': 1}}; <span style=\"background: pink;\">#_elements</span> = 1 <br><br> Cluster{'<b>Seattle</b>': {'SEATTLE': 1, '<span style=\"background: yellow;\">#</span>': 1}}; <span style=\"background: pink;\">#_elements</span> = 1 <br><br> Cluster{'<b>WBUR</b>': {'WBUR-FM': 1, '<span style=\"background: yellow;\">#</span>': 1}}; <span style=\"background: pink;\">#_elements</span> = 1 <br><br> Cluster{'<b>United_States</b>': {'America': 1, '<span style=\"background: yellow;\">#</span>': 1}}; <span style=\"background: pink;\">#_elements</span> = 1 <br><br> Cluster{'<b>Kurdistan_Democratic_Party</b>': {'KDP': 2, '<span style=\"background: yellow;\">#</span>': 2}}; <span style=\"background: pink;\">#_elements</span> = 2 <br><br> Cluster{'<b>Continental_AG</b>': {'Continental AG': 1, '<span style=\"background: yellow;\">#</span>': 1}}; <span style=\"background: pink;\">#_elements</span> = 1 <br><br> Cluster{'<b>United_States</b>': {'United States': 1, '<span style=\"background: yellow;\">#</span>': 1}}; <span style=\"background: pink;\">#_elements</span> = 1 <br><br> Cluster{'<b>France</b>': {'France': 2, '<span style=\"background: yellow;\">#</span>': 2}}; <span style=\"background: pink;\">#_elements</span> = 2 <br><br> Cluster{'<b>Mexico</b>': {'Mexico': 1, '<span style=\"background: yellow;\">#</span>': 1}}; <span style=\"background: pink;\">#_elements</span> = 1 <br><br> Cluster{'<b>United_States</b>': {'American': 1, '<span style=\"background: yellow;\">#</span>': 1}}; <span style=\"background: pink;\">#_elements</span> = 1 <br><br> Cluster{'<b>Middle_East</b>': {'Near Eastern': 1, '<span style=\"background: yellow;\">#</span>': 1}}; <span style=\"background: pink;\">#_elements</span> = 1 <br><br> Cluster{'<b>Lufthansa</b>': {'Lufthansa': 1, '<span style=\"background: yellow;\">#</span>': 1}}; <span style=\"background: pink;\">#_elements</span> = 1 <br><br> Cluster{'<b>Allah</b>': {'Allahu': 1, '<span style=\"background: yellow;\">#</span>': 1}}; <span style=\"background: pink;\">#_elements</span> = 1 <br><br> Cluster{'<b>Cambridge,_Massachusetts</b>': {'Cambridge': 1, '<span style=\"background: yellow;\">#</span>': 1}}; <span style=\"background: pink;\">#_elements</span> = 1 <br><br> Cluster{'<b>Robert_Pelletreau</b>': {'Robert Pelletreau': 1, '<span style=\"background: yellow;\">#</span>': 1}}; <span style=\"background: pink;\">#_elements</span> = 1 <br><br> Cluster{'<b>Beijing</b>': {'Beijing': 1, '<span style=\"background: yellow;\">#</span>': 1}}; <span style=\"background: pink;\">#_elements</span> = 1 <br><br> Cluster{'<b>Birendra_of_Nepal</b>': {'Birendra': 1, '<span style=\"background: yellow;\">#</span>': 1}}; <span style=\"background: pink;\">#_elements</span> = 1 <br><br> Cluster{'<b>Kurdistan_Democratic_Party</b>': {'Kurdistan Democratic Party': 1, '<span style=\"background: yellow;\">#</span>': 1}}; <span style=\"background: pink;\">#_elements</span> = 1 <br><br> Cluster{'<b>Patriotic_Union_of_Kurdistan</b>': {'Patriotic Union of Kurdistan': 1, '<span style=\"background: yellow;\">#</span>': 1}}; <span style=\"background: pink;\">#_elements</span> = 1 <br><br> Cluster{'<b>Massoud_Barzani</b>': {'Massoud Barzani': 1, '<span style=\"background: yellow;\">#</span>': 1}}; <span style=\"background: pink;\">#_elements</span> = 1 <br><br> Cluster{'<b>Van,_Turkey</b>': {'Van': 1, '<span style=\"background: yellow;\">#</span>': 1}}; <span style=\"background: pink;\">#_elements</span> = 1 <br><br> Cluster{'<b>William_Weld</b>': {'Weld': 3, '<span style=\"background: yellow;\">#</span>': 3}}; <span style=\"background: pink;\">#_elements</span> = 3 <br><br> Cluster{'<b>Ankara</b>': {'ANKARA': 1, '<span style=\"background: yellow;\">#</span>': 1}}; <span style=\"background: pink;\">#_elements</span> = 1 <br><br> Cluster{'<b>William_Weld</b>': {'William Weld': 1, '<span style=\"background: yellow;\">#</span>': 1}}; <span style=\"background: pink;\">#_elements</span> = 1 <br><br> Cluster{'<b>Virginia</b>': {'Virginia': 1, '<span style=\"background: yellow;\">#</span>': 1}}; <span style=\"background: pink;\">#_elements</span> = 1 <br><br> Cluster{'<b>Dan_Glickman</b>': {'Glickman': 2, '<span style=\"background: yellow;\">#</span>': 2}}; <span style=\"background: pink;\">#_elements</span> = 2 <br><br> Cluster{'<b>Lhasa</b>': {'Lhasa': 1, '<span style=\"background: yellow;\">#</span>': 1}}; <span style=\"background: pink;\">#_elements</span> = 1 <br><br> Cluster{'<b>Dan_Glickman</b>': {'Dan Glickman': 1, '<span style=\"background: yellow;\">#</span>': 1}}; <span style=\"background: pink;\">#_elements</span> = 1 <br><br> Cluster{'<b>Patriotic_Union_of_Kurdistan</b>': {'PUK': 2, '<span style=\"background: yellow;\">#</span>': 2}}; <span style=\"background: pink;\">#_elements</span> = 2 <br><br> Cluster{'<b>Lufthansa</b>': {'Deutsche Lufthansa AG': 1, '<span style=\"background: yellow;\">#</span>': 1}}; <span style=\"background: pink;\">#_elements</span> = 1 <br><br> Cluster{'<b>The_Times</b>': {'Times of London': 1, '<span style=\"background: yellow;\">#</span>': 1}}; <span style=\"background: pink;\">#_elements</span> = 1 <br><br> Cluster{'<b>London</b>': {'LONDON': 3, '<span style=\"background: yellow;\">#</span>': 3}}; <span style=\"background: pink;\">#_elements</span> = 3 <br><br> Cluster{'<b>Woodridge,_Illinois</b>': {'Woodridge': 1, '<span style=\"background: yellow;\">#</span>': 1}}; <span style=\"background: pink;\">#_elements</span> = 1 <br><br> Cluster{'<b>Microsoft_Windows</b>': {'Windows': 1, '<span style=\"background: yellow;\">#</span>': 1}}; <span style=\"background: pink;\">#_elements</span> = 1 <br><br> Cluster{'<b>Franklin_D._Roosevelt</b>': {'Franklin Roosevelt': 1, '<span style=\"background: yellow;\">#</span>': 1}}; <span style=\"background: pink;\">#_elements</span> = 1 <br><br> Cluster{'<b>Kurdish_people</b>': {'Kurd': 1, '<span style=\"background: yellow;\">#</span>': 1}}; <span style=\"background: pink;\">#_elements</span> = 1 <br><br> Cluster{'<b>Iraqi_Kurdistan</b>': {'Iraqi Kurds': 1, '<span style=\"background: yellow;\">#</span>': 1}}; <span style=\"background: pink;\">#_elements</span> = 1 <br><br> Cluster{'<b>Egypt</b>': {'Egypt': 1, '<span style=\"background: yellow;\">#</span>': 1}}; <span style=\"background: pink;\">#_elements</span> = 1 <br><br> Cluster{'<b>Jiang_Zemin</b>': {'Jiang Zemin': 1, '<span style=\"background: yellow;\">#</span>': 1}}; <span style=\"background: pink;\">#_elements</span> = 1 <br><br> Cluster{'<b>Theodore_Roosevelt</b>': {'Theodore Roosevelt': 1, '<span style=\"background: yellow;\">#</span>': 1}}; <span style=\"background: pink;\">#_elements</span> = 1 <br><br> Cluster{'<b>United_States_Department_of_Agriculture</b>': {'USDA': 2, '<span style=\"background: yellow;\">#</span>': 2}}; <span style=\"background: pink;\">#_elements</span> = 2 <br><br> Cluster{'<b>Microsoft</b>': {'Microsoft': 6, '<span style=\"background: yellow;\">#</span>': 6}}; <span style=\"background: pink;\">#_elements</span> = 6 <br><br> Cluster{'<b>John_Kerry</b>': {'John Kerry': 1, '<span style=\"background: yellow;\">#</span>': 1}}; <span style=\"background: pink;\">#_elements</span> = 1 <br><br> Cluster{'<b>United_States_Department_of_State</b>': {'U.S. State Department': 1, '<span style=\"background: yellow;\">#</span>': 1}}; <span style=\"background: pink;\">#_elements</span> = 1 <br><br> Cluster{'<b>Massachusetts</b>': {'Massachusetts': 2, '<span style=\"background: yellow;\">#</span>': 2}}; <span style=\"background: pink;\">#_elements</span> = 2 <br><br> Cluster{'<b>Zenith_Electronics</b>': {'Zenith': 10, '<span style=\"background: yellow;\">#</span>': 10}}; <span style=\"background: pink;\">#_elements</span> = 10 <br><br> Cluster{'<b>Hakkâri_Province</b>': {'Hakkari': 1, '<span style=\"background: yellow;\">#</span>': 1}}; <span style=\"background: pink;\">#_elements</span> = 1 <br><br> Cluster{'<b>God</b>': {'God': 1, '<span style=\"background: yellow;\">#</span>': 1}}; <span style=\"background: pink;\">#_elements</span> = 1 <br><br> Cluster{'<b>Texas</b>': {'Texas': 2, '<span style=\"background: yellow;\">#</span>': 2}}; <span style=\"background: pink;\">#_elements</span> = 2 <br><br> Cluster{'<b>United_States_Department_of_State</b>': {'State Department': 1, '<span style=\"background: yellow;\">#</span>': 1}}; <span style=\"background: pink;\">#_elements</span> = 1 <br><br> Cluster{'<b>International_Monetary_Fund</b>': {'International Monetary Fund': 1, '<span style=\"background: yellow;\">#</span>': 1}}; <span style=\"background: pink;\">#_elements</span> = 1 <br><br> Cluster{'<b>Duhok,_Iraq</b>': {'DOHUK': 1, 'Dohuk': 1, '<span style=\"background: yellow;\">#</span>': 2}}; <span style=\"background: pink;\">#_elements</span> = 2 <br><br> Cluster{'<b>Colombo</b>': {'COLOMBO': 1, 'Colombo': 4, '<span style=\"background: yellow;\">#</span>': 5}}; <span style=\"background: pink;\">#_elements</span> = 5 <br><br> Cluster{'<b>Tibet</b>': {'Tibetan': 1, '<span style=\"background: yellow;\">#</span>': 1}}; <span style=\"background: pink;\">#_elements</span> = 1 <br><br> Cluster{\"<b>Ba'ath_Party</b>\": {'Baath': 1, '<span style=\"background: yellow;\">#</span>': 1}}; <span style=\"background: pink;\">#_elements</span> = 1 <br><br> Cluster{'<b>Massachusetts</b>': {'Mass': 1, '<span style=\"background: yellow;\">#</span>': 1}}; <span style=\"background: pink;\">#_elements</span> = 1 <br><br> Cluster{'<b>Sri_Lankan_Tamil_people</b>': {'Tamil': 2, '<span style=\"background: yellow;\">#</span>': 2}}; <span style=\"background: pink;\">#_elements</span> = 2 <br><br> Cluster{'<b>India</b>': {'India': 8, '<span style=\"background: yellow;\">#</span>': 8}}; <span style=\"background: pink;\">#_elements</span> = 8 <br><br> Cluster{'<b>Susan_Roosevelt_Weld</b>': {'Susan Roosevelt Weld': 1, '<span style=\"background: yellow;\">#</span>': 1}}; <span style=\"background: pink;\">#_elements</span> = 1 <br><br> Cluster{'<b>Empire_State_Building</b>': {'Empire State': 1, '<span style=\"background: yellow;\">#</span>': 1}}; <span style=\"background: pink;\">#_elements</span> = 1 <br><br> Cluster{'<b>Jalal_Talabani</b>': {'Jalal Talabani': 1, '<span style=\"background: yellow;\">#</span>': 1}}; <span style=\"background: pink;\">#_elements</span> = 1 <br><br> Cluster{'<b>United_Kingdom</b>': {'British': 1, '<span style=\"background: yellow;\">#</span>': 1}}; <span style=\"background: pink;\">#_elements</span> = 1 <br><br> Cluster{'<b>Democratic_Party_(United_States)</b>': {'Democratic': 2, 'Democrats': 1, '<span style=\"background: yellow;\">#</span>': 3}}; <span style=\"background: pink;\">#_elements</span> = 3 <br><br> Cluster{\"<b>People's_Republic_of_China</b>\": {'China': 4, 'Chinese': 3, '<span style=\"background: yellow;\">#</span>': 7}}; <span style=\"background: pink;\">#_elements</span> = 7 <br><br> Cluster{'<b>Chongqing</b>': {'Chongqing': 1, '<span style=\"background: yellow;\">#</span>': 1}}; <span style=\"background: pink;\">#_elements</span> = 1 <br><br> Cluster{'<b>Baghdad</b>': {'Baghdad': 2, '<span style=\"background: yellow;\">#</span>': 2}}; <span style=\"background: pink;\">#_elements</span> = 2 <br><br> Cluster{'<b>Prakash_Chandra_Lohani</b>': {'Prakash Chandra Lohani': 1, '<span style=\"background: yellow;\">#</span>': 1}}; <span style=\"background: pink;\">#_elements</span> = 1 <br><br> Cluster{'<b>Sri_Lanka</b>': {'Sri Lanka': 4, 'Sri Lankan': 1, '<span style=\"background: yellow;\">#</span>': 5}}; <span style=\"background: pink;\">#_elements</span> = 5 <br><br> Cluster{'<b>Roosevelt_family</b>': {'Roosevelts': 1, '<span style=\"background: yellow;\">#</span>': 1}}; <span style=\"background: pink;\">#_elements</span> = 1 <br><br> Cluster{'<b>Turkish_Armed_Forces</b>': {'Turkish': 1, '<span style=\"background: yellow;\">#</span>': 1}}; <span style=\"background: pink;\">#_elements</span> = 1 <br><br> Cluster{'<b>Şırnak_Province</b>': {'Sirnak': 1, '<span style=\"background: yellow;\">#</span>': 1}}; <span style=\"background: pink;\">#_elements</span> = 1 <br><br> Cluster{'<b>London</b>': {'London': 1, '<span style=\"background: yellow;\">#</span>': 1}}; <span style=\"background: pink;\">#_elements</span> = 1 <br><br> Cluster{'<b>Chesapeake,_Virginia</b>': {'CHESAPEAKE': 1, '<span style=\"background: yellow;\">#</span>': 1}}; <span style=\"background: pink;\">#_elements</span> = 1 <br><br> Cluster{'<b>Al_Karak</b>': {'Karak': 2, '<span style=\"background: yellow;\">#</span>': 2}}; <span style=\"background: pink;\">#_elements</span> = 2 <br><br> Cluster{'<b>Frankfurt_am_Main</b>': {'FRANKFURT': 1, '<span style=\"background: yellow;\">#</span>': 1}}; <span style=\"background: pink;\">#_elements</span> = 1 <br><br> Cluster{'<b>Microsoft_Windows</b>': {'Windows': 1, '<span style=\"background: yellow;\">#</span>': 1}}; <span style=\"background: pink;\">#_elements</span> = 1 <br><br> Cluster{'<b>Greenwich_Mean_Time</b>': {'GMT': 1, '<span style=\"background: yellow;\">#</span>': 1}}; <span style=\"background: pink;\">#_elements</span> = 1 <br><br> Cluster{'<b>Li_Peng</b>': {'Li Peng': 1, '<span style=\"background: yellow;\">#</span>': 1}}; <span style=\"background: pink;\">#_elements</span> = 1 <br><br> Cluster{'<b>Saddam_Hussein</b>': {'Saddam Hussein': 1, '<span style=\"background: yellow;\">#</span>': 1}}; <span style=\"background: pink;\">#_elements</span> = 1 <br><br> Cluster{'<b>Jordan</b>': {'Jordanian': 1, '<span style=\"background: yellow;\">#</span>': 1}}; <span style=\"background: pink;\">#_elements</span> = 1 <br><br> Cluster{'<b>Hussein_of_Jordan</b>': {'Hussein': 1, '<span style=\"background: yellow;\">#</span>': 1}}; <span style=\"background: pink;\">#_elements</span> = 1\n",
      "2.3644566000000395\n"
     ]
    }
   ],
   "source": [
    "tic = time.perf_counter()\n",
    "for iteration in tqdm(evolving, total=math.ceil(len(evolving.documents) / evolving.step)):\n",
    "    current_mentions = list(evolving.get_current_data().mentions)\n",
    "    current_encodings = list(evolving.get_current_data()['encodings'].values)\n",
    "    current_entities = list(evolving.get_current_data()['entities'].values)\n",
    "    def lev_metric(x, y):\n",
    "        i, j = int(x[0]), int(y[0])  # extract indices\n",
    "        if len(current_mentions[i]) < 4:\n",
    "            if current_mentions[i] == current_mentions[j]:\n",
    "                return 0\n",
    "            else:\n",
    "                return Levenshtein().distance(current_mentions[i].lower(), current_mentions[j].lower()) + 3\n",
    "        else:\n",
    "            return Levenshtein().distance(current_mentions[i].lower(), current_mentions[j].lower())\n",
    "    def dam_lev_metric(x, y):\n",
    "        i, j = int(x[0]), int(y[0])  # extract indices\n",
    "        if len(current_mentions[i]) < 4:\n",
    "            if current_mentions[i] == current_mentions[j]:\n",
    "                return 0\n",
    "            else:\n",
    "                return DamerauLevenshtein().distance(current_mentions[i].lower(), current_mentions[j].lower()) + 3\n",
    "        else:\n",
    "            return DamerauLevenshtein().distance(current_mentions[i].lower(), current_mentions[j].lower())\n",
    "    X = np.arange(len(current_mentions)).reshape(-1, 1)\n",
    "    m_matrix = pairwise_distances(X, X, metric=dam_lev_metric, n_jobs=-1)\n",
    "    # clusterizator1 = DBSCAN(metric=dam_lev_metric, eps=1, min_samples=0, n_jobs=-1)\n",
    "    clusterizator1 = AgglomerativeClustering(n_clusters=None, affinity='precomputed',\n",
    "                                             distance_threshold=1,\n",
    "                                             linkage=\"single\")\n",
    "    cluster_numbers = clusterizator1.fit_predict(m_matrix)\n",
    "    cee_dict = {k: {'entities': [], 'mentions': [], 'encodings': [], 'sotto_clusters': None} for k in\n",
    "                set(cluster_numbers)}\n",
    "    for i, cluster in enumerate(cluster_numbers):\n",
    "        cee_dict[cluster]['entities'].append(current_entities[i])\n",
    "        cee_dict[cluster]['mentions'].append(current_mentions[i])\n",
    "        cee_dict[cluster]['encodings'].append(current_encodings[i])\n",
    "    cee_list = cee_dict.values()\n",
    "    clusterizator2 = AgglomerativeClustering(n_clusters=None, affinity='cosine', distance_threshold=first_threshold,\n",
    "                                             linkage=\"single\")\n",
    "    for cluster in cee_dict.keys():\n",
    "        try:\n",
    "            cee_dict[cluster]['sotto_clusters'] = clusterizator2.fit_predict(cee_dict[cluster]['encodings'])\n",
    "        except ValueError:\n",
    "            cee_dict[cluster]['sotto_clusters'] = np.zeros(1, dtype=np.int8)\n",
    "    sottocluster_list = []\n",
    "    for el in cee_list:\n",
    "        sotto_cluster = {k: Cluster() for k in set(el['sotto_clusters'])}\n",
    "        for i, key in enumerate(el['sotto_clusters']):\n",
    "            sotto_cluster[key].add_element(mention=el['mentions'][i], entity=el['entities'][i],\n",
    "                                           encodings=el['encodings'][i])\n",
    "        sottocluster_list.append(sotto_cluster)\n",
    "    sottocluster_list = [clusters_dict[key] for clusters_dict in sottocluster_list for key in clusters_dict]\n",
    "    current_clusters = total_clusters + sottocluster_list\n",
    "    sotto_encodings = [x.encodings_mean for x in current_clusters]\n",
    "    clusterizator3 = AgglomerativeClustering(n_clusters=None, affinity='cosine',\n",
    "                                             distance_threshold=second_threshold,\n",
    "                                             linkage=\"single\")\n",
    "    cluster_numbers = clusterizator3.fit_predict(sotto_encodings)\n",
    "    final_clusters = {k: Cluster() for k in set(cluster_numbers)}\n",
    "    for i, x in enumerate(current_clusters):\n",
    "        try:\n",
    "            final_clusters[cluster_numbers[i]] = final_clusters[cluster_numbers[i]] + x\n",
    "        except:\n",
    "            print(cluster_numbers[i], final_clusters[cluster_numbers[i]], x)\n",
    "    gold_entities = gold_entities + current_entities\n",
    "    total_clusters = list(final_clusters.values())\n",
    "    total_clusters = [x for x in total_clusters if len(set(x.mentions)) < 15]\n",
    "    # CEAFm\n",
    "    best_alignment = ch.get_optimal_alignment([x.count_ents for x in total_clusters], set(gold_entities),\n",
    "                                              is_dict=False)\n",
    "    CEAFm_p = sum(best_alignment.values()) / len(gold_entities)\n",
    "    CEAFm_r = sum(best_alignment.values()) / sum([x.n_elements for x in total_clusters])\n",
    "    CEAFm_f1 = 2 * (CEAFm_p * CEAFm_r) / (CEAFm_p + CEAFm_r)\n",
    "    original_stdout = sys.stdout\n",
    "    # with open(\".\\\\Results\\\\step\" + str(n) + \".txt\", \"a\") as f:\n",
    "    print(\"CEAFm-R:\", CEAFm_r,'<br>')\n",
    "    print(\"CEAFm-P:\", CEAFm_p,'<br>')\n",
    "    print(\"CEAFm:\", CEAFm_f1,'<br>')\n",
    "    print(\"Clusters:\")\n",
    "    print(*total_clusters, sep=\" <br><br> \")\n",
    "    # print(\"Gold_standard:\")\n",
    "    # print(Counter(gold_entities))\n",
    "    n = n +1\n",
    "    break\n",
    "toc = time.perf_counter()\n",
    "print(toc - tic)"
   ],
   "metadata": {
    "collapsed": false,
    "pycharm": {
     "name": "#%%\n"
    }
   }
  },
  {
   "cell_type": "code",
   "execution_count": 7,
   "outputs": [],
   "source": [],
   "metadata": {
    "collapsed": false,
    "pycharm": {
     "name": "#%%\n"
    }
   }
  },
  {
   "cell_type": "code",
   "execution_count": 7,
   "outputs": [],
   "source": [],
   "metadata": {
    "collapsed": false,
    "pycharm": {
     "name": "#%%\n"
    }
   }
  }
 ],
 "metadata": {
  "kernelspec": {
   "display_name": "Python 3",
   "language": "python",
   "name": "python3"
  },
  "language_info": {
   "codemirror_mode": {
    "name": "ipython",
    "version": 2
   },
   "file_extension": ".py",
   "mimetype": "text/x-python",
   "name": "python",
   "nbconvert_exporter": "python",
   "pygments_lexer": "ipython2",
   "version": "2.7.6"
  }
 },
 "nbformat": 4,
 "nbformat_minor": 0
}