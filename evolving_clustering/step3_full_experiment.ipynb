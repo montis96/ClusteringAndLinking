{
 "cells": [
  {
   "cell_type": "code",
   "execution_count": 2,
   "outputs": [],
   "source": [
    "%load_ext autoreload\n",
    "%autoreload 2"
   ],
   "metadata": {
    "collapsed": false,
    "pycharm": {
     "name": "#%%\n"
    }
   }
  },
  {
   "cell_type": "code",
   "execution_count": 3,
   "outputs": [],
   "source": [
    "import Packages.ClusteringHelper as ch\n",
    "from Packages.TimeEvolving import DataEvolver\n",
    "from textdistance import DamerauLevenshtein, Levenshtein\n",
    "import numpy as np\n",
    "from sklearn.cluster import DBSCAN, AgglomerativeClustering\n",
    "from Packages.TimeEvolving import Cluster\n",
    "from tqdm.notebook import tqdm\n",
    "import math\n",
    "import sys\n",
    "from collections import Counter\n",
    "import time"
   ],
   "metadata": {
    "collapsed": false,
    "pycharm": {
     "name": "#%%\n"
    }
   }
  },
  {
   "cell_type": "code",
   "execution_count": 4,
   "outputs": [],
   "source": [
    "text, data = ch.read_aida_yago_conll(\n",
    "    \"D:\\\\Sgmon\\\\Documents\\\\Magistrale\\\\TESI\\\\ClusteringAndLinking\\\\aida-yago2-dataset\\\\AIDA-YAGO2-dataset.tsv\")\n",
    "save = False\n",
    "if save:\n",
    "    text_file = open('text.txt', 'w')\n",
    "    text_file.write(text)\n",
    "    text_file.close()\n",
    "ents_data = data[data['entities'] != ''].copy()"
   ],
   "metadata": {
    "collapsed": false,
    "pycharm": {
     "name": "#%%\n"
    }
   }
  },
  {
   "cell_type": "code",
   "execution_count": 5,
   "outputs": [],
   "source": [
    "ents_data = ch.add_entities_embedding(ents_data,\n",
    "                                      \"D:\\\\Sgmon\\\\Documents\\\\Magistrale\\\\TESI\\\\ClusteringAndLinking\\\\aida-yago2-dataset\\\\encodings\")\n",
    "ents_data_filtered = ents_data.copy()\n",
    "documents = set(ents_data.documents)"
   ],
   "metadata": {
    "collapsed": false,
    "pycharm": {
     "name": "#%%\n"
    }
   }
  },
  {
   "cell_type": "code",
   "execution_count": 6,
   "outputs": [],
   "source": [
    "evolving = DataEvolver(documents, ents_data, randomly=False, step=10)\n",
    "gold_entities = []\n",
    "total_clusters = []\n",
    "n=0"
   ],
   "metadata": {
    "collapsed": false,
    "pycharm": {
     "name": "#%%\n"
    }
   }
  },
  {
   "cell_type": "markdown",
   "source": [
    "## Let the cycle start\n"
   ],
   "metadata": {
    "collapsed": false,
    "pycharm": {
     "name": "#%% md\n"
    }
   }
  },
  {
   "cell_type": "code",
   "execution_count": 7,
   "outputs": [
    {
     "data": {
      "text/plain": "  0%|          | 0/139 [00:00<?, ?it/s]",
      "application/vnd.jupyter.widget-view+json": {
       "version_major": 2,
       "version_minor": 0,
       "model_id": "91f671628df24eaeb08db5142f423170"
      }
     },
     "metadata": {},
     "output_type": "display_data"
    },
    {
     "name": "stdout",
     "output_type": "stream",
     "text": [
      "CEAFm: 0.9096774193548387\n",
      "Clusters:\n",
      "Cluster{'<b>Sweden</b>': {'SWEDISH': 1, 'SWEDEN': 1, '#': 2}}; #_elements = 2\n",
      "Cluster{\"<b>People's_Republic_of_China</b>\": {'China': 6, 'Chinese': 1, '#': 7}}; #_elements = 7\n",
      "Cluster{'<b>United_Kingdom</b>': {'British': 6, 'Britain': 4, '#': 10}}; #_elements = 10\n",
      "Cluster{'<b>Middle_East</b>': {'Middle East': 1, '#': 1}}; #_elements = 1\n",
      "Cluster{'<b>Russia</b>': {'Moscow': 1, '#': 1}}; #_elements = 1\n",
      "Cluster{'<b>United_States</b>': {'United States': 1, '#': 1}}; #_elements = 1\n",
      "Cluster{'<b>Golan_Heights</b>': {'Golan': 2, '#': 2}}; #_elements = 2\n",
      "Cluster{'<b>Hafez_al-Assad</b>': {'Assad': 1, '#': 1}}; #_elements = 1\n",
      "Cluster{'<b>Golan_Heights</b>': {'Golan Heights': 1, '#': 1}}; #_elements = 1\n",
      "Cluster{'<b>Channel_2_(Israel)</b>': {'Channel Two': 1, '#': 1}}; #_elements = 1\n",
      "Cluster{'<b>Itamar_Rabinovich</b>': {'Rabinovich': 1, '#': 1}}; #_elements = 1\n",
      "Cluster{'<b>Benjamin_Netanyahu</b>': {'Netanyahu': 2, '#': 2}}; #_elements = 2\n",
      "Cluster{'<b>Itamar_Rabinovich</b>': {'Itamar Rabinovich': 1, '#': 1}}; #_elements = 1\n",
      "Cluster{'<b>Likud</b>': {'Likud': 1, '#': 1}}; #_elements = 1\n",
      "Cluster{'<b>Israel</b>': {'Israel': 10, 'Israeli': 4, '#': 14}}; #_elements = 14\n",
      "Cluster{'<b>Syria</b>': {'Syria': 9, 'Syrian': 2, 'Syrians': 1, '#': 12}}; #_elements = 12\n",
      "Cluster{'<b>HypoVereinsbank</b>': {'BAYERISCHE VEREINSBANK': 2, '#': 2}}; #_elements = 2\n",
      "Cluster{'<b>David_Levy_(Israeli_politician)</b>': {'David Levy': 1, '#': 1}}; #_elements = 1\n",
      "Cluster{'<b>Frankfurt_am_Main</b>': {'FRANKFURT': 1, '#': 1}}; #_elements = 1\n",
      "Cluster{'<b>Eliyahu_Ben-Elissar</b>': {'Eliahu Ben-Elissar': 1, '#': 1}}; #_elements = 1\n",
      "Cluster{'<b>God</b>': {'God': 1, '#': 1}}; #_elements = 1\n",
      "Cluster{'<b>Reuters</b>': {'Reuters Television': 1, '#': 1}}; #_elements = 1\n",
      "Cluster{'<b>Jerusalem</b>': {'JERUSALEM': 1, '#': 1}}; #_elements = 1\n",
      "Cluster{'<b>Egypt</b>': {'Egypt': 1, '#': 1}}; #_elements = 1\n",
      "Cluster{'<b>Benjamin_Netanyahu</b>': {'Benjamin Netanyahu': 1, '#': 1}}; #_elements = 1\n",
      "Cluster{'<b>Athens</b>': {'ATHENS': 1, '#': 1}}; #_elements = 1\n",
      "Cluster{'<b>Ford_Motor_Company</b>': {'Ford': 1, '#': 1}}; #_elements = 1\n",
      "Cluster{'<b>Syria</b>': {'Damascus': 5, '#': 5}}; #_elements = 5\n",
      "Cluster{'<b>Kol_Yisrael</b>': {'Israel Radio': 2, '#': 2}}; #_elements = 2\n",
      "Cluster{'<b>Costas_Simitis</b>': {'Costas Simitis': 2, '#': 2}}; #_elements = 2\n",
      "Cluster{'<b>Jimi_Hendrix</b>': {'Hendrix': 4, '#': 4}}; #_elements = 4\n",
      "Cluster{'<b>Opel</b>': {'Opel AG': 1, '#': 1}}; #_elements = 1\n",
      "Cluster{\"<b>Ministry_of_Foreign_Affairs_of_the_People's_Republic_of_China</b>\": {'Foreign Ministry': 1, '#': 1}}; #_elements = 1\n",
      "Cluster{'<b>Taiwan_Strait</b>': {'Taiwan Strait': 1, '#': 1}}; #_elements = 1\n",
      "Cluster{'<b>Volkswagen</b>': {'Volkswagen AG': 1, '#': 1}}; #_elements = 1\n",
      "Cluster{'<b>European_Commission</b>': {'European Commission': 1, '#': 1}}; #_elements = 1\n",
      "Cluster{'<b>Ukraine</b>': {'Ukraine': 2, '#': 2}}; #_elements = 2\n",
      "Cluster{'<b>Brussels</b>': {'BRUSSELS': 1, '#': 1}}; #_elements = 1\n",
      "Cluster{'<b>Association_for_Relations_Across_the_Taiwan_Straits</b>': {'Association for Relations Across the Taiwan Straits': 1, '#': 1}}; #_elements = 1\n",
      "Cluster{'<b>Bovine_spongiform_encephalopathy</b>': {'BSE': 2, '#': 2}}; #_elements = 2\n",
      "Cluster{'<b>Xinhua_News_Agency</b>': {'Xinhua': 1, '#': 1}}; #_elements = 1\n",
      "Cluster{'<b>Jimi_Hendrix</b>': {'Jimi Hendrix': 1, '#': 1}}; #_elements = 1\n",
      "Cluster{'<b>Porsche</b>': {'Porsche': 2, '#': 2}}; #_elements = 2\n",
      "Cluster{'<b>London</b>': {'LONDON': 4, 'London': 1, '#': 5}}; #_elements = 5\n",
      "Cluster{'<b>Europe</b>': {'Europe': 1, '#': 1}}; #_elements = 1\n",
      "Cluster{'<b>Tartus</b>': {'Tartous': 1, '#': 1}}; #_elements = 1\n",
      "Cluster{'<b>Greece</b>': {'GREEK': 1, 'Greek': 1, '#': 2}}; #_elements = 2\n",
      "Cluster{'<b>European_Union</b>': {'European Union': 2, '#': 2}}; #_elements = 2\n",
      "Cluster{'<b>Kostas_Skandalidis</b>': {'Costas Skandalidis': 1, '#': 1}}; #_elements = 1\n",
      "Cluster{'<b>Franz_Fischler</b>': {'Franz Fischler': 1, '#': 1}}; #_elements = 1\n",
      "Cluster{'<b>United_States</b>': {'Washington': 1, '#': 1}, '<b>Washington,_D.C.</b>': {'Washington': 2, '#': 2}}; #_elements = 3\n",
      "Cluster{'<b>Nottingham</b>': {'Nottingham': 1, '#': 1}}; #_elements = 1\n",
      "Cluster{'<b>United_States</b>': {'U.S.': 1, '#': 1}}; #_elements = 1\n",
      "Cluster{'<b>Bonn</b>': {'Bonn': 1, '#': 1}}; #_elements = 1\n",
      "Cluster{'<b>Australia</b>': {'Australian': 1, '#': 1}}; #_elements = 1\n",
      "Cluster{'<b>Loyola_de_Palacio</b>': {'Loyola de Palacio': 1, '#': 1}}; #_elements = 1\n",
      "Cluster{'<b>England</b>': {'English': 1, 'ENGLISH': 1, '#': 2}}; #_elements = 2\n",
      "Cluster{'<b>France</b>': {'France': 2, '#': 2}}; #_elements = 2\n",
      "Cluster{'<b>General_Motors</b>': {'General Motors': 1, '#': 1}}; #_elements = 1\n",
      "Cluster{'<b>European_Commission</b>': {'Commission': 1, '#': 1}}; #_elements = 1\n",
      "Cluster{'<b>Beijing</b>': {'BEIJING': 2, 'Beijing': 2, '#': 4}}; #_elements = 4\n",
      "Cluster{'<b>Germany</b>': {'German': 7, 'Germany': 3, 'Germans': 1, 'GERMAN': 1, '#': 12}}; #_elements = 12\n",
      "Cluster{'<b>Spain</b>': {'Spanish': 1, '#': 1}}; #_elements = 1\n",
      "Cluster{'<b>Lien_Chan</b>': {'Lien Chan': 1, '#': 1}}; #_elements = 1\n",
      "Cluster{'<b>Republic_of_China</b>': {'Taiwanese': 2, '#': 2}}; #_elements = 2\n",
      "Cluster{'<b>Taipei</b>': {'Taipei': 3, '#': 3}}; #_elements = 3\n",
      "Cluster{'<b>Republic_of_China</b>': {'Taiwan': 7, '#': 7}}; #_elements = 7\n",
      "5.5010044000000065\n"
     ]
    }
   ],
   "source": [
    "tic = time.perf_counter()\n",
    "for iteration in tqdm(evolving, total=math.ceil(len(evolving.documents) / evolving.step)):\n",
    "    current_mentions = list(evolving.get_current_data().mentions)\n",
    "    current_encodings = list(evolving.get_current_data()['encodings'].values)\n",
    "    current_entities = list(evolving.get_current_data()['entities'].values)\n",
    "\n",
    "\n",
    "    def lev_metric(x, y):\n",
    "        i, j = int(x[0]), int(y[0])  # extract indices\n",
    "        if len(current_mentions[i]) < 4:\n",
    "            if current_mentions[i] == current_mentions[j]:\n",
    "                return 0\n",
    "            else:\n",
    "                return Levenshtein().distance(current_mentions[i].lower(), current_mentions[j].lower()) + 3\n",
    "        else:\n",
    "            return Levenshtein().distance(current_mentions[i].lower(), current_mentions[j].lower())\n",
    "\n",
    "\n",
    "    def dam_lev_metric(x, y):\n",
    "        i, j = int(x[0]), int(y[0])  # extract indices\n",
    "        if len(current_mentions[i]) < 4:\n",
    "            if current_mentions[i] == current_mentions[j]:\n",
    "                return 0\n",
    "            else:\n",
    "                return DamerauLevenshtein().distance(current_mentions[i].lower(), current_mentions[j].lower()) + 3\n",
    "        else:\n",
    "            return DamerauLevenshtein().distance(current_mentions[i].lower(), current_mentions[j].lower())\n",
    "\n",
    "\n",
    "    X = np.arange(len(current_mentions)).reshape(-1, 1)\n",
    "    clusterizator1 = DBSCAN(metric=lev_metric, eps=1, min_samples=0, n_jobs=-1)\n",
    "    cluster_numbers = clusterizator1.fit_predict(X)\n",
    "\n",
    "    cee_dict = {k: {'entities': [], 'mentions': [], 'encodings': [], 'sotto_clusters': None} for k in\n",
    "                set(cluster_numbers)}\n",
    "    for i, cluster in enumerate(cluster_numbers):\n",
    "        cee_dict[cluster]['entities'].append(current_entities[i])\n",
    "        cee_dict[cluster]['mentions'].append(current_mentions[i])\n",
    "        cee_dict[cluster]['encodings'].append(current_encodings[i])\n",
    "    cee_list = cee_dict.values()\n",
    "    clusterizator2 = AgglomerativeClustering(n_clusters=None, affinity='cosine', distance_threshold=0.035,\n",
    "                                             linkage=\"single\")\n",
    "    for cluster in cee_dict.keys():\n",
    "        try:\n",
    "            cee_dict[cluster]['sotto_clusters'] = clusterizator2.fit_predict(cee_dict[cluster]['encodings'])\n",
    "        except ValueError:\n",
    "            cee_dict[cluster]['sotto_clusters'] = np.zeros(1, dtype=np.int8)\n",
    "\n",
    "    sottocluster_list = []\n",
    "    for el in cee_list:\n",
    "        sotto_cluster = {k: Cluster() for k in set(el['sotto_clusters'])}\n",
    "        for i, key in enumerate(el['sotto_clusters']):\n",
    "            sotto_cluster[key].add_element(mention=el['mentions'][i], entity=el['entities'][i],\n",
    "                                           encodings=el['encodings'][i])\n",
    "        sottocluster_list.append(sotto_cluster)\n",
    "    sottocluster_list = [clusters_dict[key] for clusters_dict in sottocluster_list for key in clusters_dict]\n",
    "\n",
    "    current_clusters = total_clusters + sottocluster_list\n",
    "    sotto_encodings = [x.encodings_mean for x in current_clusters]\n",
    "    clusterizator3 = AgglomerativeClustering(n_clusters=None, affinity='cosine', distance_threshold=0.015,\n",
    "                                             linkage=\"single\")\n",
    "    cluster_numbers = clusterizator3.fit_predict(sotto_encodings)\n",
    "    final_clusters = {k: Cluster() for k in set(cluster_numbers)}\n",
    "    for i, x in enumerate(current_clusters):\n",
    "        try:\n",
    "            final_clusters[cluster_numbers[i]] = final_clusters[cluster_numbers[i]] + x\n",
    "        except:\n",
    "            print(cluster_numbers[i], final_clusters[cluster_numbers[i]], x)\n",
    "    gold_entities = gold_entities + current_entities\n",
    "    total_clusters = list(final_clusters.values())\n",
    "\n",
    "    #CEAFm\n",
    "    best_alignment = ch.get_optimal_alignment([x.count_ents for x in total_clusters], set(gold_entities), is_dict=False)\n",
    "    CEAFm_f1 = sum(best_alignment.values()) / len(gold_entities)\n",
    "    original_stdout = sys.stdout\n",
    "    # with open(\".\\\\Results\\\\step\" + str(n) + \".txt\", \"a\") as f:\n",
    "    print(\"CEAFm:\", CEAFm_f1)\n",
    "    print(\"Clusters:\")\n",
    "    print(*total_clusters, sep=\"\\n\")\n",
    "    # print(\"Gold_standard:\")\n",
    "    # print(Counter(gold_entities))\n",
    "    n = n +1\n",
    "    break\n",
    "toc = time.perf_counter()\n",
    "print(toc - tic)\n"
   ],
   "metadata": {
    "collapsed": false,
    "pycharm": {
     "name": "#%%\n"
    }
   }
  }
 ],
 "metadata": {
  "kernelspec": {
   "display_name": "Python 3",
   "language": "python",
   "name": "python3"
  },
  "language_info": {
   "codemirror_mode": {
    "name": "ipython",
    "version": 2
   },
   "file_extension": ".py",
   "mimetype": "text/x-python",
   "name": "python",
   "nbconvert_exporter": "python",
   "pygments_lexer": "ipython2",
   "version": "2.7.6"
  }
 },
 "nbformat": 4,
 "nbformat_minor": 0
}