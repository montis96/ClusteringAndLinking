{
 "cells": [
  {
   "cell_type": "code",
   "execution_count": 1,
   "metadata": {
    "collapsed": true
   },
   "outputs": [],
   "source": [
    "%load_ext autoreload\n",
    "%autoreload 2"
   ]
  },
  {
   "cell_type": "code",
   "execution_count": 2,
   "outputs": [],
   "source": [
    "import getopt\n",
    "import sys\n",
    "\n",
    "sys.path.append('.')\n",
    "\n",
    "import Packages.ClusteringHelper as ch\n",
    "from Packages.TimeEvolving import DataEvolver, compare_ecoding\n",
    "# from textdistance import DamerauLevenshtein, Levenshtein, JaroWinkler\n",
    "import numpy as np\n",
    "from sklearn.cluster import DBSCAN, AgglomerativeClustering\n",
    "from Packages.TimeEvolving import Cluster\n",
    "from tqdm import tqdm\n",
    "import math\n",
    "from collections import Counter\n",
    "import datetime, time, os\n",
    "from scipy.spatial.distance import cdist\n",
    "from pyxdameraulevenshtein import damerau_levenshtein_distance"
   ],
   "metadata": {
    "collapsed": false,
    "pycharm": {
     "name": "#%%\n"
    }
   }
  },
  {
   "cell_type": "code",
   "execution_count": 3,
   "outputs": [],
   "source": [
    "text, data = ch.read_aida_yago_conll(\n",
    "    \"D:\\\\Sgmon\\\\Documents\\\\Magistrale\\\\TESI\\\\ClusteringAndLinking\\\\aida-yago2-dataset\\\\AIDA-YAGO2-dataset.tsv\")\n",
    "save = False\n",
    "if save:\n",
    "    text_file = open('text.txt', 'w')\n",
    "    text_file.write(text)\n",
    "    text_file.close()\n",
    "ents_data = data[data['entities'] != ''].copy()"
   ],
   "metadata": {
    "collapsed": false,
    "pycharm": {
     "name": "#%%\n"
    }
   }
  },
  {
   "cell_type": "code",
   "execution_count": 4,
   "outputs": [],
   "source": [
    "ents_data = ch.add_entities_embedding(ents_data,\n",
    "                                      \"D:\\\\Sgmon\\\\Documents\\\\Magistrale\\\\TESI\\\\ClusteringAndLinking\\\\aida-yago2-dataset\\\\encodings\")\n",
    "ents_data_filtered = ents_data.copy()\n",
    "documents = set(ents_data.documents)"
   ],
   "metadata": {
    "collapsed": false,
    "pycharm": {
     "name": "#%%\n"
    }
   }
  },
  {
   "cell_type": "code",
   "execution_count": 5,
   "outputs": [],
   "source": [
    "n=0"
   ],
   "metadata": {
    "collapsed": false,
    "pycharm": {
     "name": "#%%\n"
    }
   }
  },
  {
   "cell_type": "markdown",
   "source": [
    "## Let the cycle start\n"
   ],
   "metadata": {
    "collapsed": false,
    "pycharm": {
     "name": "#%% md\n"
    }
   }
  },
  {
   "cell_type": "code",
   "execution_count": null,
   "outputs": [],
   "source": [
    "tic = time.perf_counter()"
   ],
   "metadata": {
    "collapsed": false,
    "pycharm": {
     "name": "#%%\n"
    }
   }
  },
  {
   "cell_type": "code",
   "execution_count": null,
   "outputs": [],
   "source": [
    "total_mentions = []\n",
    "total_entities = []\n",
    "total_cluster = []\n",
    "evolving = DataEvolver(documents, ents_data, randomly=True, step=10, seed=42)\n",
    "\n",
    "for iteration in tqdm(evolving, total=math.ceil(len(evolving.documents) / evolving.step)):\n",
    "    total_mentions = total_mentions + list(evolving.get_current_data().mentions)\n",
    "    total_mention_lower = [x.lower()for x in total_mentions]\n",
    "    total_entities = total_entities + list(evolving.get_current_data().entities)\n",
    "    mention_counter = {k:[] for k in set(total_mention_lower)}\n",
    "    for index, men in enumerate(total_mention_lower):\n",
    "        mention_counter[men].append(total_entities[index])\n",
    "\n",
    "    def dam_lev_metric(x, y):\n",
    "        i, j = x[0], y[0]\n",
    "        if len(i) < 4 or len(j) < 4:\n",
    "            if i == j:\n",
    "                return 0\n",
    "            else:\n",
    "                return damerau_levenshtein_distance(i.lower(), j.lower()) + 3\n",
    "        else:\n",
    "            return damerau_levenshtein_distance(i.lower(), j.lower())\n",
    "\n",
    "    if len(total_mentions) == 1:\n",
    "        cluster_numbers = np.zeros(1, dtype=np.int8)\n",
    "    else:\n",
    "        X = np.array(list(set(total_mention_lower))).reshape(-1, 1)\n",
    "        m_matrix = cdist(X, X, metric=dam_lev_metric)\n",
    "        # clusterizator1 = DBSCAN(metric=dam_lev_metric, eps=1, min_samples=0, n_jobs=-1)\n",
    "        clusterizator1 = AgglomerativeClustering(n_clusters=None, affinity='precomputed',\n",
    "                                                 distance_threshold=1.2,\n",
    "                                                 linkage=\"single\")\n",
    "        cluster_numbers = clusterizator1.fit_predict(m_matrix)\n",
    "    mention_to_cluster = {}\n",
    "    for index, x in enumerate(set(total_mention_lower)):\n",
    "        mention_to_cluster[x] = cluster_numbers[index]\n",
    "\n",
    "    total_clusters = {k: Cluster() for k in set(cluster_numbers)}\n",
    "    for index in range(len(total_mention_lower)):\n",
    "        total_clusters[mention_to_cluster[total_mention_lower[index]]].add_element(\n",
    "            total_mentions[index], total_entities[index], []\n",
    "        )\n",
    "    total_clusters = list(total_clusters.values())\n",
    "\n",
    "    # BCUBED\n",
    "    bcubed_precision, bcubed_recall = ch.calcolo_b_cubed(total_clusters, total_entities)\n",
    "    bcubed_f1 = (2 * (bcubed_recall * bcubed_precision)) / (bcubed_precision + bcubed_recall)\n",
    "    # CEAFm\n",
    "    best_alignment = ch.get_optimal_alignment([x.count_ents() for x in total_clusters], set(total_entities),\n",
    "                                              is_dict=False)\n",
    "    CEAFm_p = sum(best_alignment.values()) / len(total_entities)\n",
    "    CEAFm_r = sum(best_alignment.values()) / sum([x.n_elements() for x in total_clusters])\n",
    "    CEAFm_f1 = 2 * (CEAFm_p * CEAFm_r) / (CEAFm_p + CEAFm_r)\n",
    "\n",
    "    break"
   ],
   "metadata": {
    "collapsed": false,
    "pycharm": {
     "name": "#%%\n"
    }
   }
  },
  {
   "cell_type": "code",
   "execution_count": 14,
   "outputs": [
    {
     "data": {
      "text/plain": "0.7989417989417988"
     },
     "execution_count": 14,
     "metadata": {},
     "output_type": "execute_result"
    }
   ],
   "source": [
    "CEAFm_f1\n"
   ],
   "metadata": {
    "collapsed": false,
    "pycharm": {
     "name": "#%%\n"
    }
   }
  }
 ],
 "metadata": {
  "kernelspec": {
   "display_name": "Python 3",
   "language": "python",
   "name": "python3"
  },
  "language_info": {
   "codemirror_mode": {
    "name": "ipython",
    "version": 2
   },
   "file_extension": ".py",
   "mimetype": "text/x-python",
   "name": "python",
   "nbconvert_exporter": "python",
   "pygments_lexer": "ipython2",
   "version": "2.7.6"
  }
 },
 "nbformat": 4,
 "nbformat_minor": 0
}