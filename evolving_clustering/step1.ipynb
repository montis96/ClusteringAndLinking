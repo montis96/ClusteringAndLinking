{
 "cells": [
  {
   "cell_type": "code",
   "execution_count": 1,
   "metadata": {
    "collapsed": true
   },
   "outputs": [],
   "source": [
    "%load_ext autoreload\n",
    "%autoreload 2"
   ]
  },
  {
   "cell_type": "code",
   "execution_count": 2,
   "outputs": [],
   "source": [
    "import Packages.ClusteringHelper as ch"
   ],
   "metadata": {
    "collapsed": false,
    "pycharm": {
     "name": "#%%\n"
    }
   }
  },
  {
   "cell_type": "code",
   "execution_count": 3,
   "outputs": [],
   "source": [
    "text, data = ch.read_aida_yago_conll(\n",
    "    \"D:\\\\Sgmon\\\\Documents\\\\Magistrale\\\\TESI\\\\ClusteringAndLinking\\\\aida-yago2-dataset\\\\AIDA-YAGO2-dataset.tsv\")\n",
    "save = False\n",
    "if save:\n",
    "    text_file = open('text.txt', 'w')\n",
    "    text_file.write(text)\n",
    "    text_file.close()\n",
    "ents_data = data[data['entities'] != ''].copy()"
   ],
   "metadata": {
    "collapsed": false,
    "pycharm": {
     "name": "#%%\n"
    }
   }
  },
  {
   "cell_type": "code",
   "execution_count": 4,
   "outputs": [],
   "source": [
    "ents_data = ch.add_entities_embedding(ents_data,\n",
    "                                      \"D:\\\\Sgmon\\\\Documents\\\\Magistrale\\\\TESI\\\\ClusteringAndLinking\\\\aida-yago2-dataset\\\\encodings\")\n",
    "ents_data_filtered = ch.filter_data(ents_data, 3)"
   ],
   "metadata": {
    "collapsed": false,
    "pycharm": {
     "name": "#%%\n"
    }
   }
  },
  {
   "cell_type": "code",
   "execution_count": 5,
   "outputs": [],
   "source": [
    "documents = set(ents_data.documents)"
   ],
   "metadata": {
    "collapsed": false,
    "pycharm": {
     "name": "#%%\n"
    }
   }
  },
  {
   "cell_type": "code",
   "execution_count": 6,
   "outputs": [],
   "source": [
    "from Packages.TimeEvolving import DataEvolver\n",
    "\n",
    "evolving = DataEvolver(documents, ents_data, randomly=True, step=200)"
   ],
   "metadata": {
    "collapsed": false,
    "pycharm": {
     "name": "#%%\n"
    }
   }
  },
  {
   "cell_type": "code",
   "execution_count": 7,
   "outputs": [],
   "source": [
    "iterator = evolving.__iter__()\n",
    "_ = iterator.__next__()"
   ],
   "metadata": {
    "collapsed": false,
    "pycharm": {
     "name": "#%%\n"
    }
   }
  },
  {
   "cell_type": "code",
   "execution_count": null,
   "outputs": [],
   "source": [
    "current_mentions = list(evolving.get_current_data().mentions)\n",
    "\n",
    "from textdistance import DamerauLevenshtein, Levenshtein\n",
    "import numpy as np\n",
    "from sklearn.cluster import dbscan\n",
    "\n",
    "\n",
    "def lev_metric(x, y):\n",
    "    i, j = int(x[0]), int(y[0])  # extract indices\n",
    "    if len(current_mentions[i]) < 4:\n",
    "        if current_mentions[i] == current_mentions[j]:\n",
    "            return 0\n",
    "        else:\n",
    "            return Levenshtein().distance(current_mentions[i].lower(), current_mentions[j].lower()) + 3\n",
    "    else:\n",
    "        return Levenshtein().distance(current_mentions[i].lower(), current_mentions[j].lower())\n",
    "\n",
    "\n",
    "def dam_lev_metric(x, y):\n",
    "    i, j = int(x[0]), int(y[0])  # extract indices\n",
    "    if len(current_mentions[i]) < 4:\n",
    "        if current_mentions[i] == current_mentions[j]:\n",
    "            return 0\n",
    "        else:\n",
    "            return DamerauLevenshtein().distance(current_mentions[i].lower(), current_mentions[j].lower()) + 3\n",
    "    else:\n",
    "        return DamerauLevenshtein().distance(current_mentions[i].lower(), current_mentions[j].lower())\n",
    "\n",
    "\n",
    "X = np.arange(len(current_mentions)).reshape(-1, 1)\n",
    "_, clusters = dbscan(X, metric=lev_metric, eps=1, min_samples=0, n_jobs=-1)"
   ],
   "metadata": {
    "collapsed": false,
    "pycharm": {
     "name": "#%%\n",
     "is_executing": true
    }
   }
  },
  {
   "cell_type": "code",
   "execution_count": null,
   "outputs": [],
   "source": [
    "current_encodings = evolving.get_current_data()['encodings'].values\n",
    "current_entities = evolving.get_current_data()['entities'].values\n",
    "cee_dict = {k: {'entities': [], 'mentions': [], 'encodings': [], 'sotto_clusters': []} for k in set(clusters)}\n",
    "for i, cluster in enumerate(clusters):\n",
    "    cee_dict[cluster]['entities'].append(current_entities[i])\n",
    "    cee_dict[cluster]['mentions'].append(current_mentions[i])\n",
    "    cee_dict[cluster]['encodings'].append(current_encodings[i])"
   ],
   "metadata": {
    "collapsed": false,
    "pycharm": {
     "name": "#%%\n",
     "is_executing": true
    }
   }
  },
  {
   "cell_type": "code",
   "execution_count": null,
   "outputs": [],
   "source": [
    "from sklearn.cluster import AgglomerativeClustering\n",
    "clusterizator = AgglomerativeClustering(n_clusters=None, affinity='cosine', distance_threshold=0.045, linkage=\"single\")\n",
    "for cluster in cee_dict.keys():\n",
    "    try:\n",
    "        cee_dict[cluster]['sotto_clusters'].append(clusterizator.fit_predict(cee_dict[cluster]['encodings']))\n",
    "    except ValueError:\n",
    "        cee_dict[cluster]['sotto_clusters'].append(0)"
   ],
   "metadata": {
    "collapsed": false,
    "pycharm": {
     "name": "#%%\n",
     "is_executing": true
    }
   }
  },
  {
   "cell_type": "code",
   "execution_count": null,
   "outputs": [],
   "source": [
    "for x in cee_dict:\n",
    "    print(cee_dict[x]['sotto_clusters'])"
   ],
   "metadata": {
    "collapsed": false,
    "pycharm": {
     "name": "#%%\n",
     "is_executing": true
    }
   }
  }
 ],
 "metadata": {
  "kernelspec": {
   "display_name": "Python 3",
   "language": "python",
   "name": "python3"
  },
  "language_info": {
   "codemirror_mode": {
    "name": "ipython",
    "version": 2
   },
   "file_extension": ".py",
   "mimetype": "text/x-python",
   "name": "python",
   "nbconvert_exporter": "python",
   "pygments_lexer": "ipython2",
   "version": "2.7.6"
  }
 },
 "nbformat": 4,
 "nbformat_minor": 0
}