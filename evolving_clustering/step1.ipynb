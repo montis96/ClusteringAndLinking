{
 "cells": [
  {
   "cell_type": "code",
   "execution_count": 40,
   "metadata": {
    "collapsed": true
   },
   "outputs": [
    {
     "name": "stdout",
     "output_type": "stream",
     "text": [
      "The autoreload extension is already loaded. To reload it, use:\n",
      "  %reload_ext autoreload\n"
     ]
    }
   ],
   "source": [
    "%load_ext autoreload\n",
    "%autoreload 2"
   ]
  },
  {
   "cell_type": "code",
   "execution_count": 41,
   "outputs": [],
   "source": [
    "import Packages.ClusteringHelper as ch\n",
    "from Packages.TimeEvolving import DataEvolver\n",
    "from textdistance import DamerauLevenshtein, Levenshtein\n",
    "import numpy as np\n",
    "from sklearn.cluster import DBSCAN, AgglomerativeClustering\n",
    "from collections import Counter"
   ],
   "metadata": {
    "collapsed": false,
    "pycharm": {
     "name": "#%%\n"
    }
   }
  },
  {
   "cell_type": "code",
   "execution_count": 42,
   "outputs": [],
   "source": [
    "text, data = ch.read_aida_yago_conll(\n",
    "    \"D:\\\\Sgmon\\\\Documents\\\\Magistrale\\\\TESI\\\\ClusteringAndLinking\\\\aida-yago2-dataset\\\\AIDA-YAGO2-dataset.tsv\")\n",
    "save = False\n",
    "if save:\n",
    "    text_file = open('text.txt', 'w')\n",
    "    text_file.write(text)\n",
    "    text_file.close()\n",
    "ents_data = data[data['entities'] != ''].copy()"
   ],
   "metadata": {
    "collapsed": false,
    "pycharm": {
     "name": "#%%\n"
    }
   }
  },
  {
   "cell_type": "code",
   "execution_count": 43,
   "outputs": [],
   "source": [
    "ents_data = ch.add_entities_embedding(ents_data,\n",
    "                                      \"D:\\\\Sgmon\\\\Documents\\\\Magistrale\\\\TESI\\\\ClusteringAndLinking\\\\aida-yago2-dataset\\\\encodings\")\n",
    "ents_data_filtered = ch.filter_data(ents_data, 3)"
   ],
   "metadata": {
    "collapsed": false,
    "pycharm": {
     "name": "#%%\n"
    }
   }
  },
  {
   "cell_type": "code",
   "execution_count": 44,
   "outputs": [],
   "source": [
    "documents = set(ents_data.documents)"
   ],
   "metadata": {
    "collapsed": false,
    "pycharm": {
     "name": "#%%\n"
    }
   }
  },
  {
   "cell_type": "code",
   "execution_count": 45,
   "outputs": [],
   "source": [
    "gold_entities = set()\n",
    "evolving = DataEvolver(documents, ents_data, randomly=False, step=20)\n",
    "total_current_entities = []\n",
    "iterator = evolving.__iter__()\n",
    "_ = iterator.__next__()"
   ],
   "metadata": {
    "collapsed": false,
    "pycharm": {
     "name": "#%%\n"
    }
   }
  },
  {
   "cell_type": "code",
   "execution_count": 46,
   "outputs": [],
   "source": [
    "current_mentions = list(evolving.get_current_data().mentions)\n",
    "def lev_metric(x, y):\n",
    "    i, j = int(x[0]), int(y[0])  # extract indices\n",
    "    if len(current_mentions[i]) < 4:\n",
    "        if current_mentions[i] == current_mentions[j]:\n",
    "            return 0\n",
    "        else:\n",
    "            return Levenshtein().distance(current_mentions[i].lower(), current_mentions[j].lower()) + 3\n",
    "    else:\n",
    "        return Levenshtein().distance(current_mentions[i].lower(), current_mentions[j].lower())\n",
    "\n",
    "def dam_lev_metric(x, y):\n",
    "    i, j = int(x[0]), int(y[0])  # extract indices\n",
    "    if len(current_mentions[i]) < 4:\n",
    "        if current_mentions[i] == current_mentions[j]:\n",
    "            return 0\n",
    "        else:\n",
    "            return DamerauLevenshtein().distance(current_mentions[i].lower(), current_mentions[j].lower()) + 3\n",
    "    else:\n",
    "        return DamerauLevenshtein().distance(current_mentions[i].lower(), current_mentions[j].lower())\n",
    "\n",
    "X = np.arange(len(current_mentions)).reshape(-1, 1)\n",
    "clusterizator2 = DBSCAN(metric=lev_metric, eps=1, min_samples=0, n_jobs=-1)\n",
    "clusters = clusterizator2.fit_predict(X)"
   ],
   "metadata": {
    "collapsed": false,
    "pycharm": {
     "name": "#%%\n"
    }
   }
  },
  {
   "cell_type": "code",
   "execution_count": 47,
   "outputs": [],
   "source": [
    "current_encodings = evolving.get_current_data()['encodings'].values\n",
    "current_entities = evolving.get_current_data()['entities'].values\n",
    "cee_dict = {k: {'entities': [], 'mentions': [], 'encodings': [], 'sotto_clusters': None} for k in set(clusters)}\n",
    "for i, cluster in enumerate(clusters):\n",
    "    cee_dict[cluster]['entities'].append(current_entities[i])\n",
    "    cee_dict[cluster]['mentions'].append(current_mentions[i])\n",
    "    cee_dict[cluster]['encodings'].append(current_encodings[i])\n",
    "cee_list = cee_dict.values()\n",
    "# cee_list"
   ],
   "metadata": {
    "collapsed": false,
    "pycharm": {
     "name": "#%%\n"
    }
   }
  },
  {
   "cell_type": "code",
   "execution_count": 48,
   "outputs": [],
   "source": [
    "clusterizator = AgglomerativeClustering(n_clusters=None, affinity='cosine', distance_threshold=0.035, linkage=\"single\")\n",
    "for cluster in cee_dict.keys():\n",
    "    try:\n",
    "        cee_dict[cluster]['sotto_clusters'] = clusterizator.fit_predict(cee_dict[cluster]['encodings'])\n",
    "    except ValueError:\n",
    "        cee_dict[cluster]['sotto_clusters'] = np.zeros(1, dtype=np.int8)"
   ],
   "metadata": {
    "collapsed": false,
    "pycharm": {
     "name": "#%%\n"
    }
   }
  },
  {
   "cell_type": "code",
   "execution_count": 49,
   "outputs": [
    {
     "name": "stdout",
     "output_type": "stream",
     "text": [
      "mentions: ['German', 'German', 'Germany', 'German', 'Germany', 'Germany', 'German', 'German', 'Germans', 'German', 'German', 'GERMAN']\n",
      "entities: ['Germany', 'Germany', 'Germany', 'Germany', 'Germany', 'Germany', 'Germany', 'Germany', 'Germany', 'Germany', 'Germany', 'Germany']\n",
      "sotto_clusters: [0 0 0 0 0 0 0 0 0 0 0 0]\n",
      "-------\n"
     ]
    }
   ],
   "source": [
    "for x in cee_list:\n",
    "    print(\"mentions:\" , x['mentions'])\n",
    "    print(\"entities:\" , x['entities'])\n",
    "    print(\"sotto_clusters:\", x['sotto_clusters'])\n",
    "    print(\"-------\")\n",
    "    break"
   ],
   "metadata": {
    "collapsed": false,
    "pycharm": {
     "name": "#%%\n"
    }
   }
  },
  {
   "cell_type": "code",
   "execution_count": 50,
   "outputs": [],
   "source": [
    "cee_sottocluser_list = []\n",
    "for el in cee_list:\n",
    "    sotto_cluster = {k: {'entities': [], 'mentions': [], 'encodings': []} for k in set(el['sotto_clusters'])}\n",
    "    for i, key in enumerate(el['sotto_clusters']):\n",
    "        sotto_cluster[key]['mentions'].append(el['mentions'][i])\n",
    "        sotto_cluster[key]['entities'].append(el['entities'][i])\n",
    "        sotto_cluster[key]['encodings'].append(el['encodings'][i])\n",
    "    cee_sottocluser_list.append(sotto_cluster)"
   ],
   "metadata": {
    "collapsed": false,
    "pycharm": {
     "name": "#%%\n"
    }
   }
  },
  {
   "cell_type": "code",
   "execution_count": 51,
   "outputs": [],
   "source": [
    "cee_sottocluser_list = [clusters_dict[key] for clusters_dict in cee_sottocluser_list for key in clusters_dict ]"
   ],
   "metadata": {
    "collapsed": false,
    "pycharm": {
     "name": "#%%\n"
    }
   }
  },
  {
   "cell_type": "code",
   "execution_count": 52,
   "outputs": [],
   "source": [
    "sotto_encodings = [np.mean(cluster['encodings'], axis=0) for cluster in cee_sottocluser_list]"
   ],
   "metadata": {
    "collapsed": false,
    "pycharm": {
     "name": "#%%\n"
    }
   }
  },
  {
   "cell_type": "code",
   "execution_count": 53,
   "outputs": [],
   "source": [
    "clusterizator3 = AgglomerativeClustering(n_clusters=None, affinity='cosine', distance_threshold=0.015, linkage=\"single\")\n",
    "cluster_sotto_cluster = clusterizator3.fit_predict(sotto_encodings)"
   ],
   "metadata": {
    "collapsed": false,
    "pycharm": {
     "name": "#%%\n"
    }
   }
  },
  {
   "cell_type": "code",
   "execution_count": 54,
   "outputs": [],
   "source": [
    "final_clusters = {k:Counter() for k in set(cluster_sotto_cluster)}\n",
    "for i, x in enumerate(cee_sottocluser_list):\n",
    "    final_clusters[cluster_sotto_cluster[i]] =  final_clusters[cluster_sotto_cluster[i]] + Counter(x['entities'])"
   ],
   "metadata": {
    "collapsed": false,
    "pycharm": {
     "name": "#%%\n"
    }
   }
  },
  {
   "cell_type": "code",
   "execution_count": 73,
   "outputs": [],
   "source": [
    "gold_entities = set.union(gold_entities, set(current_entities))\n",
    "total_current_entities = total_current_entities + current_entities"
   ],
   "metadata": {
    "collapsed": false,
    "pycharm": {
     "name": "#%%\n"
    }
   }
  },
  {
   "cell_type": "markdown",
   "source": [
    "CEAFm"
   ],
   "metadata": {
    "collapsed": false,
    "pycharm": {
     "name": "#%% md\n"
    }
   }
  },
  {
   "cell_type": "code",
   "execution_count": 75,
   "outputs": [],
   "source": [
    "# precision\n",
    "best_alignment = ch.get_optimal_alignment(final_clusters, gold_entities, is_dict=True)"
   ],
   "metadata": {
    "collapsed": false,
    "pycharm": {
     "name": "#%%\n"
    }
   }
  },
  {
   "cell_type": "code",
   "execution_count": 80,
   "outputs": [],
   "source": [
    "best_alignment"
   ],
   "metadata": {
    "collapsed": false,
    "pycharm": {
     "name": "#%%\n"
    }
   }
  },
  {
   "cell_type": "code",
   "execution_count": 81,
   "outputs": [
    {
     "name": "stdout",
     "output_type": "stream",
     "text": [
      "0.8664921465968587\n"
     ]
    }
   ],
   "source": [
    "CEAFm_f1 = sum(best_alignment.values()) / len(total_current_entities)\n",
    "print(CEAFm_f1)\n"
   ],
   "metadata": {
    "collapsed": false,
    "pycharm": {
     "name": "#%%\n"
    }
   }
  }
 ],
 "metadata": {
  "kernelspec": {
   "display_name": "Python 3",
   "language": "python",
   "name": "python3"
  },
  "language_info": {
   "codemirror_mode": {
    "name": "ipython",
    "version": 2
   },
   "file_extension": ".py",
   "mimetype": "text/x-python",
   "name": "python",
   "nbconvert_exporter": "python",
   "pygments_lexer": "ipython2",
   "version": "2.7.6"
  }
 },
 "nbformat": 4,
 "nbformat_minor": 0
}