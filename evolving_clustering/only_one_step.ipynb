{
 "cells": [
  {
   "cell_type": "code",
   "execution_count": 1,
   "outputs": [],
   "source": [
    "%load_ext autoreload\n",
    "%autoreload 2"
   ],
   "metadata": {
    "collapsed": false,
    "pycharm": {
     "name": "#%%\n"
    }
   }
  },
  {
   "cell_type": "code",
   "execution_count": 2,
   "outputs": [],
   "source": [
    "import Packages.ClusteringHelper as ch\n",
    "from Packages.TimeEvolving import DataEvolver\n",
    "from textdistance import DamerauLevenshtein, Levenshtein\n",
    "import numpy as np\n",
    "from sklearn.cluster import DBSCAN, AgglomerativeClustering\n",
    "from Packages.TimeEvolving import Cluster\n",
    "from tqdm.notebook import tqdm\n",
    "import math\n",
    "import time\n",
    "from scipy.spatial import distance\n",
    "from sklearn.metrics.pairwise import pairwise_distances\n"
   ],
   "metadata": {
    "collapsed": false,
    "pycharm": {
     "name": "#%%\n"
    }
   }
  },
  {
   "cell_type": "code",
   "execution_count": 3,
   "outputs": [],
   "source": [
    "text, data = ch.read_aida_yago_conll(\n",
    "    \"D:\\\\Sgmon\\\\Documents\\\\Magistrale\\\\TESI\\\\ClusteringAndLinking\\\\aida-yago2-dataset\\\\AIDA-YAGO2-dataset.tsv\")\n",
    "save = False\n",
    "if save:\n",
    "    text_file = open('text.txt', 'w')\n",
    "    text_file.write(text)\n",
    "    text_file.close()\n",
    "ents_data = data[data['entities'] != ''].copy()"
   ],
   "metadata": {
    "collapsed": false,
    "pycharm": {
     "name": "#%%\n"
    }
   }
  },
  {
   "cell_type": "code",
   "execution_count": 4,
   "outputs": [],
   "source": [
    "ents_data = ch.add_entities_embedding(ents_data,\n",
    "                                      \"D:\\\\Sgmon\\\\Documents\\\\Magistrale\\\\TESI\\\\ClusteringAndLinking\\\\aida-yago2-dataset\\\\encodings\")\n",
    "ents_data_filtered = ents_data.copy()\n",
    "documents = set(ents_data.documents)"
   ],
   "metadata": {
    "collapsed": false,
    "pycharm": {
     "name": "#%%\n"
    }
   }
  },
  {
   "cell_type": "code",
   "execution_count": 9,
   "outputs": [],
   "source": [
    "evolving = DataEvolver(documents, ents_data, randomly=False, step=10)\n",
    "gold_entities = []\n",
    "total_clusters = []\n",
    "n = 0"
   ],
   "metadata": {
    "collapsed": false,
    "pycharm": {
     "name": "#%%\n"
    }
   }
  },
  {
   "cell_type": "markdown",
   "source": [
    "## Let the cycle start\n"
   ],
   "metadata": {
    "collapsed": false
   }
  },
  {
   "cell_type": "code",
   "execution_count": 10,
   "outputs": [],
   "source": [
    "tic = time.perf_counter()"
   ],
   "metadata": {
    "collapsed": false,
    "pycharm": {
     "name": "#%%\n"
    }
   }
  },
  {
   "cell_type": "code",
   "execution_count": null,
   "outputs": [
    {
     "data": {
      "text/plain": "  0%|          | 0/139 [00:00<?, ?it/s]",
      "application/vnd.jupyter.widget-view+json": {
       "version_major": 2,
       "version_minor": 0,
       "model_id": "98c796d0ef23418d8f0167bfc7d6f292"
      }
     },
     "metadata": {},
     "output_type": "display_data"
    }
   ],
   "source": [
    "for iteration in tqdm(evolving, total=math.ceil(len(evolving.documents) / evolving.step)):\n",
    "    current_mentions = list(evolving.get_current_data().mentions)\n",
    "    current_encodings = list(evolving.get_current_data()['encodings'].values)\n",
    "    current_entities = list(evolving.get_current_data()['entities'].values)\n",
    "    current_clusters = [Cluster(mentions=[current_mentions[x]], encodings_list=[current_encodings[x]],\n",
    "                                entities=[current_entities[x]]) for x in range(len(current_mentions))]\n",
    "\n",
    "    total_clusters =  total_clusters + current_clusters\n",
    "\n",
    "\n",
    "    def distance_metric(x, y):\n",
    "        i, j = int(x[0]), int(y[0])  # extract indices\n",
    "        sintact_distance_list = [DamerauLevenshtein().normalized_distance(el1, el2)\n",
    "                                 for el1 in total_clusters[i].unique_mentions for el2 in total_clusters[j].unique_mentions]\n",
    "        sintact_distance = np.mean(sintact_distance_list)\n",
    "        semantic_distance = distance.cosine(total_clusters[i].encodings_mean, total_clusters[j].encodings_mean)\n",
    "        return 0.63 * sintact_distance + 0.37 * semantic_distance\n",
    "\n",
    "    X = np.arange(len(total_clusters)).reshape(-1, 1)\n",
    "    m_matrix = pairwise_distances(X, X, metric=distance_metric, n_jobs=-1)\n",
    "    clusterizator1 = AgglomerativeClustering(n_clusters=None, affinity='precomputed',\n",
    "                                             distance_threshold=0.25,\n",
    "                                             linkage=\"single\", memory=\"./qua\")\n",
    "    cluster_numbers = clusterizator1.fit_predict(m_matrix)\n",
    "    cluster_dict = {x:Cluster() for x in set(cluster_numbers)}\n",
    "    for index, x in enumerate(cluster_numbers):\n",
    "        cluster_dict[x] = cluster_dict[x] + total_clusters[index]\n",
    "    total_clusters = total_clusters + list(cluster_dict.values())"
   ],
   "metadata": {
    "collapsed": false,
    "pycharm": {
     "name": "#%%\n",
     "is_executing": true
    }
   }
  },
  {
   "cell_type": "code",
   "execution_count": null,
   "outputs": [],
   "source": [],
   "metadata": {
    "collapsed": false,
    "pycharm": {
     "name": "#%%\n"
    }
   }
  },
  {
   "cell_type": "code",
   "execution_count": null,
   "outputs": [],
   "source": [],
   "metadata": {
    "collapsed": false,
    "pycharm": {
     "name": "#%%\n"
    }
   }
  }
 ],
 "metadata": {
  "kernelspec": {
   "display_name": "Python 3",
   "language": "python",
   "name": "python3"
  },
  "language_info": {
   "codemirror_mode": {
    "name": "ipython",
    "version": 2
   },
   "file_extension": ".py",
   "mimetype": "text/x-python",
   "name": "python",
   "nbconvert_exporter": "python",
   "pygments_lexer": "ipython2",
   "version": "2.7.6"
  }
 },
 "nbformat": 4,
 "nbformat_minor": 0
}