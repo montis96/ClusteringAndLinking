{
 "cells": [
  {
   "cell_type": "code",
   "execution_count": 1,
   "outputs": [],
   "source": [
    "%load_ext autoreload\n",
    "%autoreload 2"
   ],
   "metadata": {
    "collapsed": false,
    "pycharm": {
     "name": "#%%\n"
    }
   }
  },
  {
   "cell_type": "code",
   "execution_count": 2,
   "outputs": [],
   "source": [
    "import Packages.ClusteringHelper as ch\n",
    "import numpy as np\n",
    "from collections import Counter\n",
    "import string\n",
    "from nltk.corpus import stopwords"
   ],
   "metadata": {
    "collapsed": false,
    "pycharm": {
     "name": "#%%\n"
    }
   }
  },
  {
   "cell_type": "code",
   "execution_count": 3,
   "outputs": [
    {
     "data": {
      "text/plain": "        documents   tokens       indexes  word_indexes mentions  \\\n0               0       EU        (0, 2)             0            \n1               0  rejects       (3, 10)             1            \n2               0   German      (11, 17)             2   German   \n3               0     call      (18, 22)             3            \n4               0       to      (23, 25)             4            \n...           ...      ...           ...           ...      ...   \n285584       1392  younger  (1342, 1349)           265            \n285585       1392  brother  (1350, 1357)           266            \n285586       1392        ,  (1358, 1359)           267            \n285587       1392    Bobby  (1360, 1365)           268    Bobby   \n285588       1392        .  (1366, 1367)           269            \n\n              entities                                    wikidatas  \\\n0                                                                     \n1                                                                     \n2              Germany         http://en.wikipedia.org/wiki/Germany   \n3                                                                     \n4                                                                     \n...                ...                                          ...   \n285584                                                                \n285585                                                                \n285586                                                                \n285587  Bobby_Charlton  http://en.wikipedia.org/wiki/Bobby_Charlton   \n285588                                                                \n\n       numeric_codes alpha_codes  \n0                                 \n1                                 \n2              11867    /m/0345h  \n3                                 \n4                                 \n...              ...         ...  \n285584                            \n285585                            \n285586                            \n285587          4224    /m/01c8x  \n285588                            \n\n[285589 rows x 9 columns]",
      "text/html": "<div>\n<style scoped>\n    .dataframe tbody tr th:only-of-type {\n        vertical-align: middle;\n    }\n\n    .dataframe tbody tr th {\n        vertical-align: top;\n    }\n\n    .dataframe thead th {\n        text-align: right;\n    }\n</style>\n<table border=\"1\" class=\"dataframe\">\n  <thead>\n    <tr style=\"text-align: right;\">\n      <th></th>\n      <th>documents</th>\n      <th>tokens</th>\n      <th>indexes</th>\n      <th>word_indexes</th>\n      <th>mentions</th>\n      <th>entities</th>\n      <th>wikidatas</th>\n      <th>numeric_codes</th>\n      <th>alpha_codes</th>\n    </tr>\n  </thead>\n  <tbody>\n    <tr>\n      <th>0</th>\n      <td>0</td>\n      <td>EU</td>\n      <td>(0, 2)</td>\n      <td>0</td>\n      <td></td>\n      <td></td>\n      <td></td>\n      <td></td>\n      <td></td>\n    </tr>\n    <tr>\n      <th>1</th>\n      <td>0</td>\n      <td>rejects</td>\n      <td>(3, 10)</td>\n      <td>1</td>\n      <td></td>\n      <td></td>\n      <td></td>\n      <td></td>\n      <td></td>\n    </tr>\n    <tr>\n      <th>2</th>\n      <td>0</td>\n      <td>German</td>\n      <td>(11, 17)</td>\n      <td>2</td>\n      <td>German</td>\n      <td>Germany</td>\n      <td>http://en.wikipedia.org/wiki/Germany</td>\n      <td>11867</td>\n      <td>/m/0345h</td>\n    </tr>\n    <tr>\n      <th>3</th>\n      <td>0</td>\n      <td>call</td>\n      <td>(18, 22)</td>\n      <td>3</td>\n      <td></td>\n      <td></td>\n      <td></td>\n      <td></td>\n      <td></td>\n    </tr>\n    <tr>\n      <th>4</th>\n      <td>0</td>\n      <td>to</td>\n      <td>(23, 25)</td>\n      <td>4</td>\n      <td></td>\n      <td></td>\n      <td></td>\n      <td></td>\n      <td></td>\n    </tr>\n    <tr>\n      <th>...</th>\n      <td>...</td>\n      <td>...</td>\n      <td>...</td>\n      <td>...</td>\n      <td>...</td>\n      <td>...</td>\n      <td>...</td>\n      <td>...</td>\n      <td>...</td>\n    </tr>\n    <tr>\n      <th>285584</th>\n      <td>1392</td>\n      <td>younger</td>\n      <td>(1342, 1349)</td>\n      <td>265</td>\n      <td></td>\n      <td></td>\n      <td></td>\n      <td></td>\n      <td></td>\n    </tr>\n    <tr>\n      <th>285585</th>\n      <td>1392</td>\n      <td>brother</td>\n      <td>(1350, 1357)</td>\n      <td>266</td>\n      <td></td>\n      <td></td>\n      <td></td>\n      <td></td>\n      <td></td>\n    </tr>\n    <tr>\n      <th>285586</th>\n      <td>1392</td>\n      <td>,</td>\n      <td>(1358, 1359)</td>\n      <td>267</td>\n      <td></td>\n      <td></td>\n      <td></td>\n      <td></td>\n      <td></td>\n    </tr>\n    <tr>\n      <th>285587</th>\n      <td>1392</td>\n      <td>Bobby</td>\n      <td>(1360, 1365)</td>\n      <td>268</td>\n      <td>Bobby</td>\n      <td>Bobby_Charlton</td>\n      <td>http://en.wikipedia.org/wiki/Bobby_Charlton</td>\n      <td>4224</td>\n      <td>/m/01c8x</td>\n    </tr>\n    <tr>\n      <th>285588</th>\n      <td>1392</td>\n      <td>.</td>\n      <td>(1366, 1367)</td>\n      <td>269</td>\n      <td></td>\n      <td></td>\n      <td></td>\n      <td></td>\n      <td></td>\n    </tr>\n  </tbody>\n</table>\n<p>285589 rows × 9 columns</p>\n</div>"
     },
     "execution_count": 3,
     "metadata": {},
     "output_type": "execute_result"
    }
   ],
   "source": [
    "text, data = ch.read_aida_yago_conll(\n",
    "    \"D:\\\\Sgmon\\\\Documents\\\\Magistrale\\\\TESI\\\\ClusteringAndLinking\\\\aida-yago2-dataset\\\\AIDA-YAGO2-dataset.tsv\")\n",
    "save = False\n",
    "if save:\n",
    "    text_file = open('text.txt', 'w')\n",
    "    text_file.write(text)\n",
    "    text_file.close()\n",
    "data"
   ],
   "metadata": {
    "collapsed": false,
    "pycharm": {
     "name": "#%%\n"
    }
   }
  },
  {
   "cell_type": "code",
   "execution_count": 5,
   "outputs": [],
   "source": [
    "# Gold standard\n",
    "ents_data = data[data['entities'] != '']\n",
    "entities = ents_data['entities'].values\n",
    "mentions = ents_data['tokens'].values\n",
    "docs = ents_data['documents'].values\n",
    "word_indexes = ents_data['word_indexes'].values\n",
    "unique_entities = np.unique(entities)\n",
    "gold_standard = Counter(entities)\n",
    "gold_standard = dict(sorted(gold_standard.items(), key=lambda item: item[1], reverse=True))"
   ],
   "metadata": {
    "collapsed": false,
    "pycharm": {
     "name": "#%%\n"
    }
   }
  },
  {
   "cell_type": "markdown",
   "source": [
    "#### Gensim word2vec"
   ],
   "metadata": {
    "collapsed": false
   }
  },
  {
   "cell_type": "code",
   "execution_count": 6,
   "outputs": [],
   "source": [
    "lowercase = True\n",
    "remove_stopwords = True\n",
    "remove_numbers = True\n",
    "remove_symbols = True\n",
    "\n",
    "text_preprocessed = text\n",
    "stop_words = set(stopwords.words(\"english\"))\n",
    "\n",
    "if remove_symbols:\n",
    "    text_preprocessed = [x.translate(str.maketrans('', '', string.punctuation)) for x in text_preprocessed]\n",
    "\n",
    "# rimuovo numeri e punteggiatura\n",
    "if lowercase:\n",
    "    text_splitted_training = [x.lower().split() for x in text_preprocessed]\n",
    "    text_splitted = [x.lower().split() for x in text]\n",
    "else:\n",
    "    text_splitted_training = [x.split() for x in text_preprocessed]\n",
    "    text_splitted = [x.split() for x in text]\n",
    "\n",
    "if remove_numbers:\n",
    "    text_splitted_training = [[y for y in x if not y.isnumeric()] for x in text_splitted_training]\n",
    "\n",
    "if remove_stopwords:\n",
    "    text_splitted_training = [[y for y in x if y.lower() not in stop_words] for x in text_splitted_training]"
   ],
   "metadata": {
    "collapsed": false,
    "pycharm": {
     "name": "#%%\n"
    }
   }
  },
  {
   "cell_type": "markdown",
   "source": [
    "Model selection"
   ],
   "metadata": {
    "collapsed": false
   }
  },
  {
   "cell_type": "code",
   "execution_count": 7,
   "outputs": [],
   "source": [
    "# create the model\n",
    "import os\n",
    "from gensim.models import KeyedVectors\n",
    "from gensim.models.word2vec import Word2Vec\n",
    "from multiprocessing import cpu_count\n",
    "\n",
    "import os\n",
    "from gensim.models import KeyedVectors\n",
    "\n",
    "model_path = \"D:\\Sgmon\\Documents\\Magistrale\\TESI\\gensim-data\"\n",
    "\"\"\"\n",
    "sg 0 = CBOW\n",
    "sh 1 = SKIPGRAM\n",
    "\"\"\"\n",
    "model = Word2Vec(text_splitted_training, min_count=5, workers=cpu_count(), window=1, sg=0, size=25)\n",
    "\n",
    "# or select it\n",
    "#\n",
    "# model = KeyedVectors.load_word2vec_format(os.path.join(model_path, 'word2vec-google-news-300', \"word2vec-google-news-300.gz\"),\n",
    "#                                                        binary=True)\n",
    "\n",
    "# model = KeyedVectors.load_word2vec_format(os.path.join(model_path, 'glove-twitter-25', 'glove-twitter-25.gz'))\n",
    "\n",
    "# model = KeyedVectors.load_word2vec_format(os.path.join(model_path, 'glove-wiki-gigaword-50', 'glove-wiki-gigaword-50.gz'))\n",
    "\n",
    "\n",
    "# model = KeyedVectors.load_word2vec_format(\n",
    "#     os.path.join(model_path, 'glove-wiki-gigaword-300', \"glove-wiki-gigaword-300.txt\"))\n",
    "\n",
    "# model = KeyedVectors.load_word2vec_format(os.path.join(model_path, 'fasttext-wiki-news-subwords-300', \"fasttext-wiki-news-subwords-300.gz\"),\n",
    "#                                                        binary=False)"
   ],
   "metadata": {
    "collapsed": false,
    "pycharm": {
     "name": "#%%\n"
    }
   }
  },
  {
   "cell_type": "code",
   "execution_count": 8,
   "outputs": [],
   "source": [
    "lev_cluster_dict = []\n",
    "windows = 25\n",
    "doc_windows = 20\n",
    "for i in range(len(mentions)):\n",
    "    lev_cluster_dict.append(\n",
    "        (mentions[i], entities[i], docs[i], word_indexes[i],\n",
    "         ch.get_context(text_splitted[docs[i]], word_indexes[i], windows=windows)))"
   ],
   "metadata": {
    "collapsed": false,
    "pycharm": {
     "name": "#%%\n"
    }
   }
  },
  {
   "cell_type": "code",
   "execution_count": 21,
   "outputs": [],
   "source": [
    "windows = 25\n",
    "doc_windows = 20\n",
    "cluster_all = []\n",
    "from sklearn.cluster import AgglomerativeClustering\n",
    "from sklearn.cluster import DBSCAN\n",
    "\n",
    "# from hdbscan import HDBSCAN\n",
    "\n",
    "clusterizator = AgglomerativeClustering(n_clusters=None, affinity='manhattan', distance_threshold=0.01, linkage=\"single\")\n",
    "# clusterizator = DBSCAN(min_samples=0, metric=\"cosine\", n_jobs=-1, eps=0.1)\n",
    "# clusterizator = HDBSCAN(min_cluster_size=2, metric=\"euclidean\", min_samples=1, cluster_selection_epsilon=0.4)\n",
    "\n",
    "contexts_vectorized = ch.calculate_context_vector(model, lev_cluster_dict, text_splitted, doc_window=doc_windows,\n",
    "                                                      doc_context_alpha=0.3, word_context_aplha=.7)\n",
    "if len(contexts_vectorized) > 1:\n",
    "    cluster = clusterizator.fit_predict(contexts_vectorized)\n",
    "else:\n",
    "    cluster = np.zeros(1)\n",
    "    # print(cluster_all)\n",
    "    # break"
   ],
   "metadata": {
    "collapsed": false,
    "pycharm": {
     "name": "#%%\n"
    }
   }
  },
  {
   "cell_type": "code",
   "execution_count": 22,
   "outputs": [],
   "source": [
    "cluster_dict = {}\n",
    "for i, cl in enumerate(cluster):\n",
    "    try:\n",
    "        cluster_dict[cl].append(entities[i])\n",
    "    except:\n",
    "        cluster_dict[cl] = [entities[i]]"
   ],
   "metadata": {
    "collapsed": false,
    "pycharm": {
     "name": "#%%\n"
    }
   }
  },
  {
   "cell_type": "code",
   "execution_count": 23,
   "outputs": [],
   "source": [
    "for x in cluster_dict:\n",
    "    cluster_dict[x] = Counter(cluster_dict[x])"
   ],
   "metadata": {
    "collapsed": false,
    "pycharm": {
     "name": "#%%\n"
    }
   }
  },
  {
   "cell_type": "code",
   "execution_count": 24,
   "outputs": [
    {
     "data": {
      "text/plain": "{5573: Counter({'Germany': 1, 'United_Kingdom': 1, 'Brussels': 1}),\n 10942: Counter({'European_Commission': 1}),\n 12603: Counter({'Germany': 1}),\n 9409: Counter({'United_Kingdom': 1}),\n 10918: Counter({'Germany': 1}),\n 14765: Counter({'European_Union': 1}),\n 11143: Counter({'United_Kingdom': 1}),\n 11038: Counter({'European_Commission': 1}),\n 13573: Counter({'European_Union': 1}),\n 3087: Counter({'United_Kingdom': 1, 'France': 1}),\n 10014: Counter({'Bovine_spongiform_encephalopathy': 1}),\n 13333: Counter({'Spain': 1}),\n 3204: Counter({'France': 1, 'United_Kingdom': 1}),\n 16153: Counter({'Bovine_spongiform_encephalopathy': 1}),\n 10935: Counter({'United_Kingdom': 1}),\n 10307: Counter({'Germany': 1}),\n 10136: Counter({'United_Kingdom': 1}),\n 13281: Counter({'Europe': 1}),\n 9726: Counter({'Germany': 1}),\n 11792: Counter({'Bonn': 1}),\n 14161: Counter({'United_Kingdom': 1}),\n 12607: Counter({'Germany': 1}),\n 14999: Counter({'United_Kingdom': 1}),\n 14335: Counter({'United_Kingdom': 1}),\n 3274: Counter({'Jimi_Hendrix': 1, 'London': 1, 'United_States': 1}),\n 15755: Counter({'Jimi_Hendrix': 1}),\n 30: Counter({'Jimi_Hendrix': 2, 'Australia': 1}),\n 1766: Counter({'London': 1, 'Jimi_Hendrix': 1}),\n 2983: Counter({'England': 1, 'Nottingham': 1}),\n 6566: Counter({\"People's_Republic_of_China\": 2,\n          'Republic_of_China': 1,\n          'Beijing': 1}),\n 12414: Counter({'Taipei': 1}),\n 9488: Counter({'Ukraine': 1}),\n 14207: Counter({'Republic_of_China': 1}),\n 11609: Counter({'Beijing': 1}),\n 10281: Counter({\"People's_Republic_of_China\": 1}),\n 11237: Counter({'Republic_of_China': 1}),\n 12907: Counter({'Republic_of_China': 1}),\n 15006: Counter({\"People's_Republic_of_China\": 1}),\n 12508: Counter({'Taipei': 1}),\n 15155: Counter({'Republic_of_China': 1}),\n 11527: Counter({'Reuters': 1}),\n 15112: Counter({'Republic_of_China': 1}),\n 14405: Counter({'Beijing': 1}),\n 14139: Counter({\"People's_Republic_of_China\": 1}),\n 15629: Counter({'Taipei': 1}),\n 1205: Counter({'Ukraine': 1, 'Republic_of_China': 1}),\n 2151: Counter({\"People's_Republic_of_China\": 2,\n          'Republic_of_China': 1,\n          'Beijing': 1}),\n 14127: Counter({'Republic_of_China': 1}),\n 12127: Counter({'Xinhua_News_Agency': 1}),\n 2786: Counter({'Germany': 1, 'Frankfurt_am_Main': 1}),\n 13037: Counter({'Germany': 1}),\n 12606: Counter({'Germany': 1}),\n 441: Counter({'Germany': 2}),\n 13163: Counter({'Ford_Motor_Company': 1}),\n 1426: Counter({'Greece': 1, 'Athens': 1}),\n 11127: Counter({'Greece': 1}),\n 12991: Counter({'Costas_Simitis': 1}),\n 15163: Counter({'Costas_Simitis': 1}),\n 11023: Counter({'London': 1}),\n 15327: Counter({'Germany': 1}),\n 9911: Counter({'London': 1}),\n 12679: Counter({'Sweden': 1}),\n 14843: Counter({'London': 1}),\n 11833: Counter({'England': 1}),\n 15319: Counter({'Sweden': 1}),\n 9797: Counter({'Syria': 1}),\n 1622: Counter({'Israel': 1, 'Syria': 1, 'Jerusalem': 1}),\n 10001: Counter({'Israel': 1}),\n 13381: Counter({'Syria': 1}),\n 11209: Counter({'Itamar_Rabinovich': 1}),\n 9356: Counter({'Israel': 1}),\n 3760: Counter({'Washington,_D.C.': 1, 'Syria': 1}),\n 9018: Counter({'Syria': 1}),\n 12898: Counter({'Syria': 1}),\n 686: Counter({'Syria': 1, 'Washington,_D.C.': 1}),\n 15893: Counter({'Itamar_Rabinovich': 1}),\n 14254: Counter({'Israel': 1}),\n 14684: Counter({'Egypt': 1}),\n 486: Counter({'Likud': 1, 'Syria': 2}),\n 14311: Counter({'Israel': 1}),\n 10182: Counter({'United_States': 1}),\n 14588: Counter({'Syria': 1}),\n 10670: Counter({'Syria': 1}),\n 13930: Counter({'Israel': 1}),\n 16709: Counter({'Israel': 1}),\n 16666: Counter({'Syria': 1}),\n 9341: Counter({'Syria': 1}),\n 12276: Counter({'Israel': 1}),\n 16583: Counter({'Israel': 1}),\n 14810: Counter({'David_Levy_(Israeli_politician)': 1}),\n 8870: Counter({'Israel': 1}),\n 15063: Counter({'Benjamin_Netanyahu': 1}),\n 11935: Counter({'Golan_Heights': 1}),\n 9678: Counter({'Israel': 1}),\n 11424: Counter({'Middle_East': 1}),\n 11876: Counter({'Golan_Heights': 1}),\n 9069: Counter({'Golan_Heights': 1}),\n 11713: Counter({'Syria': 1}),\n 13875: Counter({'Syria': 1}),\n 13069: Counter({'Israel': 1}),\n 16295: Counter({'God': 1}),\n 1663: Counter({'Israel': 2, 'Syria': 1}),\n 16358: Counter({'Benjamin_Netanyahu': 1}),\n 9651: Counter({'Benjamin_Netanyahu': 1}),\n 2683: Counter({'Syria': 1, 'United_States': 1, 'Russia': 1}),\n 3365: Counter({'Poland': 2, 'Libya': 1, 'Tunis': 1}),\n 15931: Counter({'Poland': 1}),\n 10270: Counter({'Libya': 1}),\n 10451: Counter({'Poland': 1}),\n 12851: Counter({'Libya': 1}),\n 11993: Counter({'Poland': 1}),\n 10245: Counter({'Reuters': 1}),\n 9311: Counter({'Poland': 1}),\n 14312: Counter({'Libya': 1}),\n 5943: Counter({'Poland': 1, 'Libya': 1}),\n 3782: Counter({'Iran': 1, 'Baghdad': 2}),\n 13035: Counter({'Iran': 1}),\n 4080: Counter({'Iraq': 1, 'Iran': 1}),\n 13260: Counter({'Kurdish_people': 1}),\n 12381: Counter({'Iran': 1}),\n 11627: Counter({'Iraq': 1}),\n 11868: Counter({'Baghdad': 1}),\n 13198: Counter({'Democratic_Party_of_Iranian_Kurdistan': 1}),\n 14931: Counter({'Democratic_Party_of_Iranian_Kurdistan': 1}),\n 13181: Counter({'Iran': 1}),\n 11644: Counter({'Kurdish_people': 1}),\n 10761: Counter({'Iran': 1}),\n 15999: Counter({'Iranian_Kurdistan': 1}),\n 15201: Counter({'Iranian_Kurdistan': 1}),\n 8479: Counter({'Iran': 1}),\n 12930: Counter({'Iraq': 1}),\n 12131: Counter({'Democratic_Party_of_Iranian_Kurdistan': 1}),\n 9714: Counter({'Iraqi_Kurdistan': 1}),\n 15953: Counter({'Baghdad': 1}),\n 16330: Counter({'Iraqi_Kurdistan': 1}),\n 16398: Counter({'Iran': 1}),\n 14027: Counter({'Patriotic_Union_of_Kurdistan': 1}),\n 14785: Counter({'Patriotic_Union_of_Kurdistan': 1}),\n 1454: Counter({'Iraq': 1, 'Kurdistan_Democratic_Party': 1}),\n 14185: Counter({'Kurdistan_Democratic_Party': 1}),\n 11987: Counter({'Iraqi_Kurdistan': 1}),\n 13682: Counter({'Iraq': 1}),\n 15310: Counter({'Iraq': 1}),\n 14907: Counter({'Kuwait': 1}),\n 12150: Counter({'Gulf_War': 1}),\n 12845: Counter({'Iran': 1}),\n 12053: Counter({'Kurdistan_Democratic_Party': 1}),\n 12178: Counter({'Iran': 1}),\n 9236: Counter({'Iraqi_Kurdistan': 1}),\n 10804: Counter({'Iran': 1}),\n 15659: Counter({'Iraq': 1}),\n 13906: Counter({'Kurdish_people': 1}),\n 8363: Counter({'Iraqi_Kurdistan': 1, 'Iraq': 1}),\n 1860: Counter({'Saudi_Arabia': 1, 'Manama': 1}),\n 9750: Counter({'Saudi_Arabia': 1}),\n 14408: Counter({'Saudi_Arabia': 1}),\n 3126: Counter({'Israel': 2, 'Yasser_Arafat': 1, 'Jerusalem': 1}),\n 13483: Counter({'State_of_Palestine': 1}),\n 9989: Counter({'Yasser_Arafat': 1}),\n 13309: Counter({'Yasser_Arafat': 1}),\n 10992: Counter({'Israel': 1}),\n 145: Counter({'Reuters': 1, 'Yasser_Arafat': 1, 'Israel': 1}),\n 9206: Counter({'Shimon_Peres': 1}),\n 10083: Counter({'Ramallah': 1}),\n 11081: Counter({'Gaza_Strip': 1}),\n 14510: Counter({'Israel': 1}),\n 11003: Counter({'State_of_Palestine': 1}),\n 315: Counter({'State_of_Palestine': 1, 'Benjamin_Netanyahu': 1}),\n 14466: Counter({'Ramallah': 1}),\n 12533: Counter({'Yasser_Arafat': 1}),\n 12574: Counter({'Yasser_Arafat': 1}),\n 15993: Counter({'Israel': 1}),\n 10825: Counter({'Yasser_Arafat': 1}),\n 13058: Counter({'Israel': 1}),\n 10674: Counter({'Gaza_Strip': 1}),\n 5728: Counter({'Yasser_Arafat': 2,\n          'Shimon_Peres': 1,\n          'Gaza_Strip': 1,\n          'Jerusalem': 1}),\n 11899: Counter({'Shimon_Peres': 1}),\n 15689: Counter({'Gaza_Strip': 1}),\n 14115: Counter({'State_of_Palestine': 1}),\n 12913: Counter({'Israel': 1}),\n 745: Counter({'State_of_Palestine': 1, 'Israel': 1}),\n 8601: Counter({'Shimon_Peres': 1}),\n 11155: Counter({'Yasser_Arafat': 1}),\n 10189: Counter({'Gaza_Strip': 1}),\n 13363: Counter({'Ramallah': 1}),\n 10312: Counter({'Shimon_Peres': 1}),\n 13619: Counter({'State_of_Palestine': 1}),\n 9228: Counter({'Israel': 1}),\n 9789: Counter({'Yasser_Arafat': 1}),\n 11186: Counter({'State_of_Palestine': 1}),\n 5425: Counter({'Shimon_Peres': 1, 'Israel': 1}),\n 11739: Counter({'Benjamin_Netanyahu': 1}),\n 12283: Counter({'Shimon_Peres': 1}),\n 14479: Counter({'Likud': 1}),\n 3587: Counter({'Afghanistan': 1,\n          'United_Arab_Emirates': 1,\n          'Taliban': 1,\n          'Dubai': 1}),\n 15459: Counter({'Afghanistan': 1}),\n 13730: Counter({'United_Arab_Emirates': 1}),\n 12438: Counter({'Russia': 1}),\n 11148: Counter({'Taliban': 1}),\n 15176: Counter({'Afghanistan': 1}),\n 14306: Counter({'Afghanistan': 1}),\n 10754: Counter({'Abu_Dhabi': 1}),\n 9246: Counter({'United_Arab_Emirates': 1}),\n 8989: Counter({'Afghanistan': 1}),\n 10152: Counter({'Russia': 1}),\n 11877: Counter({'United_Arab_Emirates': 1}),\n 11822: Counter({'Taliban': 1}),\n 536: Counter({'Kandahar': 1, 'Afghanistan': 1}),\n 9562: Counter({'United_Arab_Emirates': 1}),\n 11503: Counter({'Kandahar': 1}),\n 10777: Counter({'Afghanistan': 1}),\n 10758: Counter({'Kabul': 1}),\n 13891: Counter({'Kandahar': 1}),\n 9899: Counter({'Kandahar': 1}),\n 1662: Counter({'Taliban': 1, 'Kabul': 1}),\n 11853: Counter({'Burhanuddin_Rabbani': 1}),\n 12341: Counter({'Taliban': 1}),\n 14881: Counter({'Russia': 1}),\n 11810: Counter({'Russia': 1}),\n 11013: Counter({'Taliban': 1}),\n 14823: Counter({'Taliban': 1}),\n 10666: Counter({'Albania': 1}),\n 9333: Counter({'Russia': 1}),\n 16220: Counter({'Burhanuddin_Rabbani': 1}),\n 13577: Counter({'Russia': 1}),\n 8635: Counter({'Russia': 1}),\n 1449: Counter({'United_Arab_Emirates': 1, 'Abu_Dhabi': 1}),\n 1945: Counter({'Iraq': 2,\n          'Saddam_Hussein': 2,\n          'Russia': 1,\n          'Vladimir_Zhirinovsky': 1,\n          'Baghdad': 1}),\n 13505: Counter({'Russia': 1}),\n 13731: Counter({'Vladimir_Zhirinovsky': 1}),\n 14413: Counter({'Iraq': 1}),\n 11196: Counter({'Russia': 1}),\n 8706: Counter({'Iraq': 1}),\n 9947: Counter({'Saddam_Hussein': 1}),\n 13344: Counter({'Iraq': 1}),\n 10611: Counter({'Russia': 1}),\n 11842: Counter({'Vladimir_Zhirinovsky': 1}),\n 14974: Counter({'Saddam_Hussein': 1}),\n 14973: Counter({'Baghdad': 1}),\n 11910: Counter({'Russia': 1}),\n 11838: Counter({'Iraq': 1}),\n 14083: Counter({'Kuwait': 1}),\n 11843: Counter({'Vladimir_Zhirinovsky': 1}),\n 9417: Counter({'Russia': 1}),\n 11207: Counter({'United_Nations': 1}),\n 9130: Counter({'Iraq': 1}),\n 14003: Counter({'Russia': 1}),\n 14543: Counter({'Iraq': 1}),\n 11210: Counter({'Russia': 1}),\n 14541: Counter({'Iraq': 1}),\n 9437: Counter({'Russia': 1}),\n 10384: Counter({'Iraq': 1}),\n 9953: Counter({'Vladimir_Zhirinovsky': 1}),\n 12641: Counter({'Iraq': 1}),\n 10568: Counter({'Iraq': 1}),\n 8986: Counter({'Saddam_Hussein': 1}),\n 645: Counter({'Iraq': 2, 'Baghdad': 2}),\n 1673: Counter({'Iraq': 2}),\n 3389: Counter({'Reuters': 2}),\n 59: Counter({'Iraq': 2}),\n 11259: Counter({'Saddam_Hussein': 1}),\n 14797: Counter({'Russia': 1}),\n 11211: Counter({'Vladimir_Zhirinovsky': 1}),\n 10488: Counter({'Baghdad': 1}),\n 9043: Counter({'Persian_Gulf': 1}),\n 1389: Counter({'Lebanon': 2, 'Beirut': 2}),\n 324: Counter({'Beirut': 2}),\n 359: Counter({'Reuters': 2}),\n 8567: Counter({'Hezbollah': 1}),\n 10590: Counter({'Israel': 1}),\n 13057: Counter({'Israel': 1}),\n 14897: Counter({'Syria': 1}),\n 16041: Counter({'Lebanon': 1}),\n 8961: Counter({'Beirut': 1}),\n 3731: Counter({'Lebanon': 1, 'Pakistan': 1}),\n 3873: Counter({'Chicago_Mercantile_Exchange': 1, 'Chicago': 1}),\n 8419: Counter({'Chicago_Mercantile_Exchange': 1}),\n 3215: Counter({'Greece': 2, 'Athens': 1}),\n 14039: Counter({'Costas_Simitis': 1}),\n 10103: Counter({'Costas_Simitis': 1}),\n 1286: Counter({'France': 1, 'Le_Monde': 1, 'Paris': 1}),\n 10879: Counter({'Le_Monde': 1}),\n 14599: Counter({'Africa': 1}),\n 12477: Counter({'Alain_Juppé': 1}),\n 9143: Counter({'Paris': 1}),\n 12301: Counter({'Corsica': 1}),\n 13807: Counter({'France': 1}),\n 10846: Counter({'France': 1}),\n 1469: Counter({'Heidrun_oil_field': 1, 'Oslo': 1}),\n 16597: Counter({'Heidrun_oil_field': 1}),\n 13587: Counter({'Heidrun_oil_field': 1}),\n 10165: Counter({'Oslo': 1}),\n 2160: Counter({'Finland': 2, 'Helsinki': 1}),\n 15969: Counter({'Finland': 1}),\n 10536: Counter({'European_Union': 1}),\n 3261: Counter({'Netherlands': 1, 'Amsterdam': 1}),\n 15863: Counter({'Netherlands': 1}),\n 10464: Counter({'Greenwich_Mean_Time': 1}),\n 14593: Counter({'Greenwich_Mean_Time': 1}),\n 12439: Counter({'Amsterdam': 1}),\n 1203: Counter({'Germany': 2, 'United_Kingdom': 1, 'Bonn': 1}),\n 15823: Counter({'United_Kingdom': 1}),\n 10427: Counter({'European_Union': 1}),\n 16267: Counter({'United_Kingdom': 1}),\n 13851: Counter({'European_Commission': 1}),\n 5864: Counter({'United_Kingdom': 1, 'France': 1}),\n 9420: Counter({'Bovine_spongiform_encephalopathy': 1}),\n 12371: Counter({'Bovine_spongiform_encephalopathy': 1}),\n 9160: Counter({'United_Kingdom': 1}),\n 9116: Counter({'Germany': 1}),\n 15253: Counter({'United_Kingdom': 1}),\n 10506: Counter({'United_Kingdom': 1}),\n 5604: Counter({'United_Kingdom': 1}),\n 9159: Counter({'United_Kingdom': 1}),\n 14682: Counter({'United_Kingdom': 1}),\n 3145: Counter({'World_Series_of_Golf': 2, 'Akron,_Ohio': 2, 'Ohio': 2}),\n 12526: Counter({'WGC-Bridgestone_Invitational': 1}),\n 10483: Counter({'United_States': 1}),\n 77: Counter({'Paul_Goydos': 1,\n          'Steve_Stricker': 1,\n          'Sweden': 1,\n          'Germany': 2,\n          'Willie_Wood_(golfer)': 1,\n          'Alex_Čejka': 1,\n          'Costantino_Rocca': 1}),\n 16699: Counter({'Billy_Mayfair': 1}),\n 4092: Counter({'Hidemichi_Tanaka': 1,\n          'Justin_Leonard': 1,\n          'Mark_Brooks_(golfer)': 1,\n          'Tim_Herron': 1,\n          'Duffy_Waldorf': 1,\n          'Germany': 2,\n          'Hal_Sutton': 1,\n          'Tom_Lehman': 1,\n          'D._A._Weibring': 1,\n          'Brad_Bryant': 1,\n          'Craig_Parry': 2,\n          'Australia': 1,\n          'Satoshi_Higashi': 1,\n          'Sven_Strüver': 1}),\n 1032: Counter({'Japan': 1,\n          'Alex_Čejka': 1,\n          'Paul_Stankowski': 1,\n          'Costantino_Rocca': 1,\n          'Jim_Furyk': 1}),\n 15492: Counter({'Davis_Love_III': 1}),\n 15209: Counter({'Anders_Forsbrand': 1}),\n 131: Counter({'Nick_Faldo': 1,\n          'United_Kingdom': 1,\n          'John_Cook_(golfer)': 1,\n          'Phil_Mickelson': 1,\n          'Fred_Couples': 1,\n          'Italy': 1}),\n 11946: Counter({'Steve_Jones_(golfer)': 1}),\n 15687: Counter({'Greg_Norman': 1}),\n 789: Counter({'Australia': 1, 'Ernie_Els': 1}),\n 1628: Counter({'South_Africa': 1, 'Scott_McCarron': 1, 'Australia': 1}),\n 384: Counter({'Scott_Hoch': 1,\n          'Loren_Roberts': 1,\n          'Japan': 1,\n          'South_Africa': 1}),\n 13667: Counter({'Clarence_Rose': 1}),\n 15546: Counter({'Fred_Funk': 1}),\n 13818: Counter({'Sven_Strüver': 1}),\n 4186: Counter({'Stewart_Ginn': 1,\n          'Billy_Mayfair': 1,\n          'Australia': 1,\n          'Hidemichi_Tanaka': 1,\n          'Japan': 1,\n          'Sweden': 1,\n          'Italy': 1,\n          'Paul_Stankowski': 1}),\n 1863: Counter({'Australia': 1, 'Corey_Pavin': 1}),\n 15650: Counter({'Craig_Stadler': 1}),\n 16575: Counter({'Japan': 1}),\n 3477: Counter({'Wayne_Westner': 1, 'South_Africa': 1, 'Japan': 1}),\n 1054: Counter({'Tom_Watson_(golfer)': 1, 'Japan': 1}),\n 2599: Counter({'ACF_Gloria_1922_Bistriţa': 2, 'Bistriţa': 1}),\n 11195: Counter({'Romania': 1}),\n 11505: Counter({'Malta': 1}),\n 9077: Counter({'ACF_Gloria_1922_Bistriţa': 1}),\n 11731: Counter({'ACF_Gloria_1922_Bistriţa': 1}),\n 12287: Counter({'England': 1}),\n 13055: Counter({'Europe': 1}),\n 13311: Counter({'England': 1}),\n 678: Counter({'Southern_California_Open': 3,\n          'Carlsbad,_California': 3,\n          'California': 3}),\n 578: Counter({'Southern_California_Open': 3}),\n 8803: Counter({'Arantxa_Sánchez_Vicario': 1}),\n 14215: Counter({'Spain': 1}),\n 9814: Counter({'Japan': 1}),\n 11632: Counter({'Kimiko_Date_Krumm': 1}),\n 15237: Counter({'Japan': 1}),\n 9974: Counter({'Japan': 1}),\n 14347: Counter({'Sandrine_Testud': 1}),\n 10054: Counter({'France': 1}),\n 437: Counter({'Ai_Sugiyama': 1, 'Kimiko_Date_Krumm': 1}),\n 13030: Counter({'Japan': 1}),\n 2870: Counter({'Nathalie_Tauziat': 1,\n          'France': 1,\n          'Republic_of_China': 1,\n          'Spain': 1}),\n 767: Counter({'Commack,_New_York': 3, 'New_York': 2, 'New_York_City': 1}),\n 14095: Counter({'Michael_Chang': 1}),\n 8518: Counter({'United_States': 1}),\n 13029: Counter({'Sergi_Bruguera': 1}),\n 9941: Counter({'Spain': 1}),\n 268: Counter({'Michael_Joyce_(tennis)': 1, 'Andriy_Medvedev': 1}),\n 15944: Counter({'United_States': 1}),\n 16350: Counter({'Richey_Reneberg': 1}),\n 499: Counter({'United_States': 1, 'Morocco': 1}),\n 14025: Counter({'Martin_Damm': 1}),\n 13959: Counter({'Czech_Republic': 1}),\n 1965: Counter({'Karol_Kučera': 1,\n          'Slovakia': 1,\n          'Hicham_Arazi': 1,\n          'Morocco': 1,\n          'Jonathan_Stark': 1}),\n 3297: Counter({'Kenny_Dalglish': 2, 'Blackburn_Rovers_F.C.': 1, 'London': 1}),\n 16051: Counter({'Blackburn_Rovers_F.C.': 1}),\n 15165: Counter({'England': 1}),\n 15423: Counter({'Blackburn_Rovers_F.C.': 1}),\n 8467: Counter({'Kenny_Dalglish': 1}),\n 11647: Counter({'Blackburn_Rovers_F.C.': 1}),\n 9337: Counter({'Spain': 1}),\n 9163: Counter({'Kenny_Dalglish': 1}),\n 15289: Counter({'Kenny_Dalglish': 1}),\n 14567: Counter({'Blackburn_Rovers_F.C.': 1}),\n 7864: Counter({'County_Championship': 1, 'London': 1}),\n 9852: Counter({'England': 1}),\n 13780: Counter({'County_Championship': 1}),\n 9984: Counter({'Durham_County_Cricket_Club': 1}),\n 13438: Counter({'Somerset_County_Cricket_Club': 1}),\n 107: Counter({'Gloucestershire_County_Cricket_Club': 1,\n          'Headingley': 1,\n          'Yorkshire_County_Cricket_Club': 2,\n          'Headingley_Stadium': 1}),\n 15038: Counter({'Essex_County_Cricket_Club': 1}),\n 1040: Counter({'Cardiff': 3,\n          'Kent_County_Cricket_Club': 3,\n          'Somerset_County_Cricket_Club': 2,\n          'Essex_County_Cricket_Club': 1,\n          'Trent_Bridge': 2,\n          'Hampshire_County_Cricket_Club': 1,\n          'Northampton': 1,\n          'Sussex_County_Cricket_Club': 1,\n          'Nottinghamshire_County_Cricket_Club': 1,\n          'Surrey_County_Cricket_Club': 1,\n          'Worcester': 1,\n          'Warwickshire_County_Cricket_Club': 1,\n          'Worcestershire_County_Cricket_Club': 1,\n          'Darren_Gough': 1}),\n 1371: Counter({'Glamorgan_County_Cricket_Club': 2,\n          'Leicester': 2,\n          'Leicestershire_County_Cricket_Club': 2,\n          'Hampshire_County_Cricket_Club': 2,\n          'Northampton': 2,\n          'Sussex_County_Cricket_Club': 2,\n          'Northamptonshire_County_Cricket_Club': 1,\n          'Trent_Bridge': 1,\n          'Nottinghamshire_County_Cricket_Club': 1,\n          'Warwickshire_County_Cricket_Club': 1,\n          'Worcestershire_County_Cricket_Club': 1}),\n 8330: Counter({'Surrey_County_Cricket_Club': 2,\n          'Worcester': 2,\n          'Warwickshire_County_Cricket_Club': 1}),\n 658: Counter({'Worcestershire_County_Cricket_Club': 1,\n          'Headingley_Stadium': 1,\n          'Yorkshire_County_Cricket_Club': 1,\n          'Lancashire_County_Cricket_Club': 1}),\n 2186: Counter({'England_cricket_team': 1,\n          'Pakistan_national_cricket_team': 1,\n          'London': 1}),\n 14054: Counter({'England_cricket_team': 1}),\n 14464: Counter({'Pakistan_national_cricket_team': 1}),\n 9828: Counter({'The_Oval': 1}),\n 12531: Counter({'England_cricket_team': 1}),\n 16431: Counter({'Waqar_Younis': 1}),\n 9475: Counter({'Mushtaq_Ahmed': 1}),\n 8563: Counter({'Saeed_Anwar': 1}),\n 12117: Counter({'Waqar_Younis': 1}),\n 8685: Counter({'Mohammad_Akram': 1}),\n 11395: Counter({'Mushtaq_Ahmed': 1}),\n 15868: Counter({'Wasim_Akram': 1}),\n 13174: Counter({'Wasim_Akram': 1}),\n 1943: Counter({'Waqar_Younis': 1,\n          'Pakistan_national_cricket_team': 1,\n          'Saeed_Anwar': 1,\n          'Wasim_Akram': 1}),\n 15500: Counter({'Mohammad_Akram': 1}),\n 14338: Counter({'Mushtaq_Ahmed': 1}),\n 15312: Counter({'Ijaz_Ahmed_(cricketer)': 1}),\n 1710: Counter({'Inzamam-ul-Haq': 1, 'Asif_Mujtaba': 1}),\n 13222: Counter({'Saleem_Malik': 1}),\n 2099: Counter({'Moin_Khan': 1, 'Mushtaq_Ahmed': 1, 'Waqar_Younis': 1}),\n 6475: Counter({'Duncan_Ferguson': 1,\n          'Scotland_national_football_team': 1,\n          'Glasgow': 1}),\n 10796: Counter({'Everton_F.C.': 1}),\n 14542: Counter({'Duncan_Ferguson': 1}),\n 10882: Counter({'Manchester_United_F.C.': 1}),\n 9690: Counter({'Scotland': 1}),\n 12223: Counter({'Rangers_F.C.': 1}),\n 11920: Counter({'Ally_McCoist': 1}),\n 1068: Counter({'1998_FIFA_World_Cup': 1,\n          'Austria_national_football_team': 1}),\n 15323: Counter({'Vienna': 1}),\n 14235: Counter({'Duncan_Ferguson': 1}),\n 11589: Counter({'Scotland_national_football_team': 1}),\n 8729: Counter({'Scotland_national_football_team': 1}),\n 10016: Counter({'Duncan_Ferguson': 1}),\n 10849: Counter({'Ally_McCoist': 1}),\n 14349: Counter({'Celtic_F.C.': 1}),\n 16739: Counter({'England': 1}),\n 1676: Counter({'London': 1, 'England_cricket_team': 1}),\n 2888: Counter({'Pakistan_national_cricket_team': 1, 'The_Oval': 1}),\n 1788: Counter({'Roy_Keane': 1,\n          'Manchester_United_F.C.': 1,\n          'London': 1,\n          'Republic_of_Ireland': 1}),\n 14522: Counter({'Roy_Keane': 1}),\n 10111: Counter({'England': 1}),\n 12511: Counter({'FA_Cup': 1}),\n 14337: Counter({'Manchester_United_F.C.': 1}),\n 12959: Counter({'Roy_Keane': 1}),\n 9263: Counter({'Everton_F.C.': 1}),\n 12639: Counter({'Manchester_United_F.C.': 1}),\n 1503: Counter({'Rogers_Cup_(tennis)': 2, 'Toronto': 1}),\n 12785: Counter({'Daniel_Nestor': 1}),\n 10759: Counter({'Canada': 1}),\n 8904: Counter({'Thomas_Muster': 1}),\n 13210: Counter({'Austria': 1}),\n 13453: Counter({'Mikael_Tillström': 1}),\n 13960: Counter({'Sweden': 1}),\n 12595: Counter({'Goran_Ivanišević': 1}),\n 10074: Counter({'Croatia': 1}),\n 600: Counter({'Wayne_Ferreira': 1, 'Jiří_Novák': 1}),\n 11382: Counter({'South_Africa': 1}),\n 9578: Counter({'Czech_Republic': 1}),\n 15805: Counter({'Marcelo_Ríos': 1}),\n 1962: Counter({'Chile': 1, 'Zimbabwe': 1}),\n 15711: Counter({'Kenneth_Carlsen': 1}),\n 410: Counter({'Denmark': 1,\n          'Àlex_Corretja': 1,\n          'United_States': 2,\n          'Marc_Rosset': 1,\n          'Switzerland': 1,\n          'Cédric_Pioline': 1}),\n 242: Counter({'MaliVai_Washington': 1, 'Spain': 1, 'Renzo_Furlan': 1}),\n 15903: Counter({'United_States': 1}),\n 10452: Counter({'Todd_Martin': 1}),\n 2020: Counter({'Italy': 1, 'United_States': 1, 'Sweden': 1}),\n 15817: Counter({'Mark_Philippoussis': 1}),\n 16266: Counter({'Australia': 1}),\n 12030: Counter({'France': 1}),\n 11490: Counter({'France': 1}),\n 14081: Counter({'Patrick_Rafter': 1}),\n 12532: Counter({'Australia': 1}),\n 1708: Counter({'Alberto_Berasategui': 1, 'Czech_Republic': 1}),\n 14261: Counter({'Spain': 1}),\n 16131: Counter({'Petr_Korda': 1}),\n 14421: Counter({'Francisco_Clavet': 1}),\n 14718: Counter({'Spain': 1}),\n 15252: Counter({'Daniel_Vacek': 1}),\n 8863: Counter({'Czech_Republic': 1}),\n 9237: Counter({'Jason_Stoltenberg': 1}),\n 12692: Counter({'Australia': 1}),\n 15279: Counter({'Todd_Woodbridge': 1}),\n 13801: Counter({'Australia': 1}),\n 16158: Counter({'Canada': 1}),\n 16043: Counter({'Byron_Black': 1}),\n 14443: Counter({'Bohdan_Ulihrach': 1}),\n 13038: Counter({'Czech_Republic': 1}),\n 14138: Counter({'Andrea_Gaudenzi': 1}),\n 1132: Counter({'Italy': 1,\n          'Tim_Henman': 1,\n          'United_Kingdom': 1,\n          'Chris_Woodruff': 1,\n          'United_States': 1}),\n 530: Counter({'David_Millns': 1, 'Boland_cricket_team': 2, 'Cape_Town': 1}),\n 9903: Counter({'Leicestershire_County_Cricket_Club': 1}),\n 10585: Counter({'David_Millns': 1}),\n 12573: Counter({'Australia': 1}),\n 11545: Counter({'England': 1}),\n 1677: Counter({'England_cricket_team': 1, 'Boland_cricket_team': 1}),\n 13823: Counter({'Tirana': 1}),\n 11007: Counter({'Tirana': 1}),\n 10419: Counter({'Albania': 1}),\n 15266: Counter({'1._HFC_Humenné': 1}),\n 1924: Counter({'Slovakia': 1,\n          'Estonia': 1,\n          'Azerbaijan_national_football_team': 1}),\n 820: Counter({'1._HFC_Humenné': 1,\n          'SK_Brann': 1,\n          'Heart_of_Midlothian_F.C.': 1,\n          'Scotland': 1}),\n 76: Counter({'Bistriţa': 1, 'ACF_Gloria_1922_Bistriţa': 1}),\n 2058: Counter({'Romania': 1,\n          'ACF_Gloria_1922_Bistriţa': 1,\n          'Poland_national_football_team': 1,\n          'Lithuania': 1,\n          'FC_Sion': 1,\n          'Switzerland_national_football_team': 1}),\n 9954: Counter({'ACF_Gloria_1922_Bistriţa': 1}),\n 254: Counter({'Ruch_Chorzów': 1,\n          'Yugoslavia': 1,\n          'Red_Star_Belgrade': 1,\n          'Moldova_national_football_team': 1}),\n 882: Counter({'Wales_national_football_team': 1,\n          'Ukraine_national_football_team': 1,\n          'Faroe_Islands_national_football_team': 1,\n          'Georgia_(country)': 1,\n          'Skopje': 1,\n          'Republic_of_Macedonia': 1,\n          'Hungary': 1}),\n 15282: Counter({'Ruch_Chorzów': 1}),\n 1655: Counter({'Larnaca': 1,\n          'Sofia': 1,\n          'Red_Star_Belgrade': 1,\n          'Heart_of_Midlothian_F.C.': 1}),\n 15169: Counter({'Cyprus_national_football_team': 1}),\n 16718: Counter({'Armenia_national_football_team': 1}),\n 11924: Counter({'FC_Sion': 1}),\n 12357: Counter({'SK_Brann': 1}),\n 680: Counter({'Norway': 1, 'Finland': 1}),\n 15341: Counter({'Ireland': 1}),\n 10366: Counter({'SK_Brann': 1}),\n 440: Counter({'Bulgaria': 1, 'Sparta_Prague': 1}),\n 9158: Counter({'Slovenia': 1}),\n 3533: Counter({'FC_Vaduz': 1, 'Latvia': 1}),\n 12989: Counter({'Liechtenstein_national_football_team': 1}),\n 8733: Counter({'FC_Vaduz': 1}),\n 11806: Counter({'FC_Vaduz': 1}),\n 10792: Counter({'Luxembourg': 1}),\n 118: Counter({'Prague': 1, 'Glentoran_F.C.': 1}),\n 12937: Counter({'Sparta_Prague': 1}),\n 9470: Counter({'Northern_Ireland_national_football_team': 1}),\n 10644: Counter({'Red_Star_Belgrade': 1}),\n 10255: Counter({'Israel': 1}),\n 1266: Counter({'IFK_Göteborg': 2,\n          'Ferencvárosi_TC': 1,\n          'UEFA_European_Football_Championship': 1,\n          'Budapest': 1}),\n 8767: Counter({'Sweden': 1}),\n 9055: Counter({'Ferencvárosi_TC': 1}),\n 9407: Counter({'Hungary': 1}),\n 14239: Counter({'UEFA_Champions_League': 1}),\n 9135: Counter({'IFK_Göteborg': 1}),\n 12183: Counter({'Ferencvárosi_TC': 1}),\n 15959: Counter({'IFK_Göteborg': 1}),\n 1981: Counter({'Brazil': 1, 'Rio_de_Janeiro': 1}),\n 11227: Counter({'Brazil': 1}),\n 395: Counter({'Esporte_Clube_Bahia': 1, 'Clube_Atlético_Paranaense': 1}),\n 10443: Counter({'Sport_Club_Corinthians_Paulista': 1}),\n 11649: Counter({'Guarani_Futebol_Clube': 1}),\n 11645: Counter({'Coritiba_Foot_Ball_Club': 1}),\n 774: Counter({'Clube_Atlético_Mineiro': 1, 'Cruzeiro_Esporte_Clube': 1}),\n 3458: Counter({'Esporte_Clube_Vitória': 1,\n          'Esporte_Clube_Juventude': 1,\n          'Goiás_Esporte_Clube': 1}),\n 1693: Counter({'Sport_Club_do_Recife': 1,\n          'Grêmio_Foot-Ball_Porto_Alegrense': 1,\n          'Clube_Atlético_Bragantino': 1,\n          'Sociedade_Esportiva_Palmeiras': 1,\n          'Associação_Portuguesa_de_Desportos': 1,\n          'Paraná_Clube': 1}),\n 700: Counter({'John_Newcombe': 1,\n          'Davis_Cup': 2,\n          'Sydney': 1,\n          'Australia': 1}),\n 9332: Counter({'John_Newcombe': 1}),\n 15475: Counter({'Wimbledon_Championships': 1}),\n 11811: Counter({'Australia': 1}),\n 13519: Counter({'Davis_Cup': 1}),\n 15275: Counter({'Tony_Roche': 1}),\n 9463: Counter({'Tony_Roche': 1}),\n 15077: Counter({'John_Newcombe': 1}),\n 13447: Counter({'Sydney': 1}),\n 9765: Counter({'Australia_Davis_Cup_team': 1}),\n 10115: Counter({'John_Newcombe': 1}),\n 13441: Counter({'Australia_Davis_Cup_team': 1}),\n 14371: Counter({'Davis_Cup': 1}),\n 12354: Counter({'John_Newcombe': 1}),\n 9465: Counter({'Tony_Roche': 1}),\n 11314: Counter({'John_Newcombe': 1}),\n 12796: Counter({'Wimbledon_Championships': 1}),\n 13005: Counter({'Jason_Stoltenberg': 1}),\n 2041: Counter({'Patrick_Rafter': 1, 'Todd_Woodbridge': 1}),\n 14961: Counter({'Mark_Philippoussis': 1}),\n 9645: Counter({'Summer_Olympic_Games': 1}),\n 13987: Counter({'Mark_Woodforde': 1}),\n 10797: Counter({'Goran_Ivanišević': 1}),\n 12995: Counter({'John_Newcombe': 1}),\n 12821: Counter({'Australia_Davis_Cup_team': 1}),\n 12967: Counter({'John_Newcombe': 1}),\n 15243: Counter({'Australia_Davis_Cup_team': 1}),\n 11253: Counter({'Davis_Cup': 1}),\n 3591: Counter({'Malaysia_Open_(badminton)': 2, 'Kuala_Lumpur': 1}),\n 10171: Counter({\"People's_Republic_of_China\": 1}),\n 10253: Counter({'South_Korea': 1}),\n 15288: Counter({'Malaysia': 1}),\n 10798: Counter({'Malaysia': 1}),\n 9469: Counter({'Malaysia': 1}),\n 15335: Counter({'Netherlands': 1}),\n 12792: Counter({'Indonesia': 1}),\n 919: Counter({'Malaysia': 1, \"People's_Republic_of_China\": 1}),\n 2082: Counter({'Indonesia': 1, 'Malaysia': 1}),\n 10162: Counter({'Hermawan_Susanto': 1}),\n 11614: Counter({'Indonesia': 1}),\n 10160: Counter({'Fung_Permadi': 1}),\n 12723: Counter({'Republic_of_China': 1}),\n 8975: Counter({'Wang_Chen_(badminton)': 1}),\n 10150: Counter({\"People's_Republic_of_China\": 1}),\n 12235: Counter({'Indonesia': 1}),\n 705: Counter({'Japan': 1, 'Sweden': 1}),\n 15742: Counter({\"People's_Republic_of_China\": 1}),\n 3291: Counter({'Sweden': 1,\n          'Gong_Zhichao': 1,\n          \"People's_Republic_of_China\": 1,\n          'Indonesia': 1}),\n 609: Counter({'Indonesia': 1, 'Malaysia': 1}),\n 13782: Counter({\"People's_Republic_of_China\": 1}),\n 13300: Counter({\"People's_Republic_of_China\": 1}),\n 10031: Counter({\"People's_Republic_of_China\": 1}),\n 10207: Counter({'New_Zealand': 1}),\n 10191: Counter({'Sweden': 1}),\n 1659: Counter({'US_Open_(tennis)': 1, 'New_York_City': 1}),\n 13319: Counter({'US_Open_(tennis)': 1}),\n 10891: Counter({'United_States': 1}),\n 10878: Counter({'Pete_Sampras': 1}),\n 16092: Counter({'United_States': 1}),\n 11864: Counter({'Adrian_Voinea': 1}),\n 887: Counter({'Romania': 1, 'Switzerland': 1}),\n 1799: Counter({'Jiří_Novák': 1,\n          'Czech_Republic': 1,\n          'Spain': 1,\n          'Argentina': 1}),\n 11547: Counter({'Sweden': 1}),\n 15781: Counter({'Alexander_Vladimirovich_Volkov': 1}),\n 861: Counter({'Russia': 1, 'Mikael_Tillström': 1}),\n 12747: Counter({'Sweden': 1}),\n 11226: Counter({'Andrei_Olhovskiy': 1}),\n 16280: Counter({'Russia': 1}),\n 968: Counter({'Mark_Woodforde': 1, 'Australia': 1}),\n 13097: Counter({'Mark_Philippoussis': 1}),\n 15753: Counter({'Australia': 1}),\n 14920: Counter({'Roberto_Carretero': 1}),\n 11421: Counter({'Spain': 1}),\n 1037: Counter({'Spain': 1,\n          'Francisco_Clavet': 1,\n          'Andriy_Medvedev': 1,\n          'United_States': 1,\n          'Sweden': 1}),\n 983: Counter({'Spain': 1, 'Sweden': 1, 'France': 1}),\n 14068: Counter({'Cédric_Pioline': 1}),\n 504: Counter({'France': 2, 'South_Africa': 1, 'Guy_Forget': 1, 'Brazil': 1}),\n 795: Counter({'Wayne_Ferreira': 1, 'South_Africa': 1}),\n 13197: Counter({'Karol_Kučera': 1}),\n 13653: Counter({'Slovakia': 1}),\n 11992: Counter({'Jonas_Björkman': 1}),\n 934: Counter({'Sweden': 1, 'United_States': 1}),\n 54: Counter({'Norway': 1,\n          'Jean-Philippe_Fleurian': 1,\n          'Michael_Tebbutt': 1,\n          'Jan_Siemerink': 1,\n          'Belgium': 1,\n          'Germany': 1,\n          'United_States': 3,\n          'Australia': 2,\n          'Kenneth_Carlsen': 1,\n          'Jason_Stoltenberg': 1,\n          'Italy': 1,\n          'Arnaud_Boetsch': 1}),\n 11787: Counter({'Àlex_Corretja': 1}),\n 14818: Counter({'Spain': 1}),\n 14427: Counter({'Byron_Black': 1}),\n 967: Counter({'Zimbabwe': 1, 'Daniel_Vacek': 1}),\n 1671: Counter({'David_Rikl': 1, 'Morocco': 1}),\n 1016: Counter({'Czech_Republic': 1, 'Hicham_Arazi': 1, 'Sjeng_Schalken': 1}),\n 13962: Counter({'Netherlands': 1}),\n 10337: Counter({'Austria': 1}),\n 20: Counter({'Yevgeny_Kafelnikov': 1,\n          'Ján_Krošlák': 1,\n          'Morocco': 1,\n          'Andrea_Gaudenzi': 1,\n          'Australia': 1,\n          'Jonathan_Stark': 1,\n          'Thomas_Enqvist': 1,\n          'Patrick_Rafter': 1,\n          'Marcelo_Ríos': 1,\n          'Chile': 1}),\n 2003: Counter({'Russia': 1,\n          'MaliVai_Washington': 1,\n          'United_States': 2,\n          'Marc_Rosset': 1}),\n 234: Counter({'Goran_Ivanišević': 1,\n          'United_States': 1,\n          'Japan': 1,\n          'Australia': 1}),\n 2059: Counter({'Croatia': 1, 'Russia': 1, 'Scott_Draper': 1, 'France': 1}),\n 2042: Counter({'Australia': 1,\n          'Renzo_Furlan': 1,\n          'Thomas_Johansson': 1,\n          'Tim_Henman': 1,\n          'United_Kingdom': 1,\n          'France': 1,\n          'Belgium': 1,\n          'Michael_Stich': 1,\n          'Jeff_Tarango': 1}),\n 985: Counter({'Spain': 1, 'Italy': 1, 'Sweden': 1, 'Germany': 1}),\n 458: Counter({'United_Kingdom': 1, 'Guillaume_Raoux': 1, 'France': 1}),\n 484: Counter({'Ukraine': 1, 'United_States': 1}),\n 16406: Counter({'Slovakia': 1}),\n 1750: Counter({'Chris_Woodruff': 1, 'United_States': 1}),\n 12990: Counter({'Petr_Korda': 1}),\n 11756: Counter({'Czech_Republic': 1}),\n 15355: Counter({'Bohdan_Ulihrach': 1}),\n 12318: Counter({'Czech_Republic': 1}),\n 1904: Counter({'Todd_Martin': 1,\n          'Italy': 1,\n          'Richey_Reneberg': 1,\n          'Bernd_Karbacher': 1,\n          'Netherlands': 1,\n          'Javier_Sánchez': 1,\n          'Switzerland': 1}),\n 472: Counter({'Doug_Flach': 1,\n          'Argentina': 1,\n          'Magnus_Gustafsson': 1,\n          'Alex_Rădulescu': 1}),\n 518: Counter({'United_States': 2,\n          'Stefan_Edberg': 1,\n          'Richard_Krajicek': 1,\n          'Germany': 2}),\n 14242: Counter({'Sweden': 1}),\n 13177: Counter({'Paul_Haarhuis': 1}),\n 11229: Counter({'Netherlands': 1}),\n 13010: Counter({'Michael_Joyce_(tennis)': 1}),\n 4134: Counter({'United_States': 1, 'Mark_Knowles': 1, 'Jim_Grabb': 1}),\n 16150: Counter({'Germany': 1}),\n 1033: Counter({'Sweden': 1, 'Uruguay': 1, 'Todd_Woodbridge': 1}),\n 12615: Counter({'Andre_Agassi': 1}),\n 12290: Counter({'United_States': 1}),\n 10924: Counter({'Colombia': 1}),\n 10360: Counter({'South_Africa': 1}),\n 183: Counter({'Félix_Mantilla_Botella': 1, 'Spain': 1, 'Carlos_Moyá': 1}),\n 15637: Counter({'Spain': 1}),\n 12196: Counter({'Netherlands': 1}),\n 9816: Counter({'United_States': 1}),\n 14152: Counter({'Nicolás_Lapentti': 1}),\n 10009: Counter({'Ecuador': 1}),\n 4164: Counter({'United_States': 1, 'Karim_Alami': 1}),\n 10246: Counter({'Morocco': 1}),\n 492: Counter({'The_Bahamas': 1, 'Spain': 1}),\n 16617: Counter({'Sergi_Bruguera': 1}),\n 11894: Counter({'Spain': 1}),\n 13956: Counter({'Javier_Frana': 1}),\n 1841: Counter({'Thomas_Muster': 1, 'Austria': 1}),\n 1786: Counter({'Jim_Courier': 1, 'United_States': 1}),\n 15589: Counter({'Spain': 1}),\n 16459: Counter({'Denmark': 1}),\n 2019: Counter({'Australia': 1, 'Venezuela': 1}),\n 943: Counter({'Jared_Palmer': 1, 'Martin_Damm': 1, 'Sweden': 1}),\n 652: Counter({'United_States': 1, 'Czech_Republic': 1}),\n 16215: Counter({'Alberto_Berasategui': 1}),\n 15336: Counter({'Spain': 1}),\n 15927: Counter({'United_States': 1}),\n 11969: Counter({'Czech_Republic': 1}),\n 9674: Counter({'Germany': 1}),\n 802: Counter({'Spain': 1, 'Michael_Chang': 1, 'United_States': 1}),\n 1603: Counter({'Baltimore_Orioles': 2, 'Davey_Johnson': 1, 'Baltimore': 1}),\n 8730: Counter({'Davey_Johnson': 1}),\n 12200: Counter({'Seattle_Mariners': 1}),\n 15283: Counter({'Davey_Johnson': 1}),\n 10030: Counter({'Baltimore_Orioles': 1}),\n 10113: Counter({'Davey_Johnson': 1}),\n 13885: Counter({'Baltimore_Orioles': 1}),\n 12859: Counter({'Davey_Johnson': 1}),\n 11203: Counter({'Davey_Johnson': 1}),\n 11875: Counter({'Los_Angeles_Angels_of_Anaheim': 1}),\n 10841: Counter({'New_York_City': 1}),\n 10941: Counter({'Davey_Johnson': 1}),\n 9336: Counter({'Baltimore_Orioles': 1}),\n 11109: Counter({'Baltimore_Orioles': 1}),\n 12727: Counter({'Cincinnati_Reds': 1}),\n 8891: Counter({'New_York_Mets': 1}),\n 14703: Counter({'Baltimore_Orioles': 1}),\n 1110: Counter({'New_York_Yankees': 1, 'American_League_East': 1}),\n 1573: Counter({'Major_League_Baseball': 2, 'New_York_City': 2}),\n 621: Counter({'Major_League_Baseball': 2}),\n 561: Counter({'American_League_East': 2}),\n 2054: Counter({'New_York_Yankees': 1, 'New_York_City': 1}),\n 922: Counter({'Baltimore_Orioles': 2}),\n 3688: Counter({'Boston_Red_Sox': 2}),\n 3684: Counter({'Toronto_Blue_Jays': 2}),\n 2050: Counter({'Detroit_Tigers': 2}),\n 4117: Counter({'National_League_Central': 2}),\n 4174: Counter({'Cleveland_Indians': 2,\n          'National_League_West': 2,\n          'Chicago_White_Sox': 1}),\n 14996: Counter({'Chicago_Cubs': 1}),\n 14911: Counter({'Minnesota_Twins': 1}),\n 8042: Counter({'Milwaukee_Brewers': 2}),\n 4138: Counter({'Kansas_City_Royals': 4,\n          'Texas_Rangers_(baseball)': 4,\n          'Pittsburgh_Pirates': 4,\n          'National_League_West': 4,\n          'Minnesota_Twins': 3}),\n 16433: Counter({'Seattle_Mariners': 1}),\n 13250: Counter({'Oakland_Athletics': 1}),\n 46: Counter({'Los_Angeles_Angels_of_Anaheim': 2}),\n 13063: Counter({'Oakland_Athletics': 1}),\n 826: Counter({'Boston_Red_Sox': 1, 'Seattle_Mariners': 1}),\n 295: Counter({'Baltimore_Orioles': 1,\n          'Oakland_Athletics': 1,\n          'Milwaukee_Brewers': 1}),\n 14811: Counter({'Los_Angeles_Angels_of_Anaheim': 1}),\n 16265: Counter({'New_York_Yankees': 1}),\n 16228: Counter({'Toronto_Blue_Jays': 1}),\n 12056: Counter({'Chicago_Cubs': 1}),\n 13550: Counter({'Detroit_Tigers': 1}),\n 13492: Counter({'Kansas_City_Royals': 1}),\n 14117: Counter({'Texas_Rangers_(baseball)': 1}),\n 1875: Counter({'Minnesota_Twins': 1, 'National_League_East': 1}),\n 14905: Counter({'Atlanta_Braves': 1}),\n 14259: Counter({'Montreal_Expos': 1}),\n 16432: Counter({'New_York_Yankees': 1}),\n 6: Counter({'Florida_Marlins': 1, 'Philadelphia_Phillies': 4}),\n 15766: Counter({'National_League_Central': 1}),\n 16095: Counter({'Houston_Astros': 1}),\n 15858: Counter({'Chicago_White_Sox': 1}),\n 14458: Counter({'Cincinnati_Reds': 1}),\n 8978: Counter({'San_Diego_Padres': 1}),\n 12728: Counter({'Los_Angeles_Angels_of_Anaheim': 1}),\n 11522: Counter({'Colorado_Rockies': 1}),\n 1685: Counter({'San_Francisco_Giants': 2}),\n 7520: Counter({'Colorado_Rockies': 1, 'Cincinnati_Reds': 1}),\n 624: Counter({'Atlanta_Braves': 1,\n          'Pittsburgh_Pirates': 1,\n          'Houston_Astros': 1,\n          'Philadelphia_Phillies': 1,\n          'Los_Angeles_Angels_of_Anaheim': 1,\n          'Montreal_Expos': 1,\n          'San_Francisco_Giants': 1}),\n 4039: Counter({'Major_League_Baseball': 4, 'New_York_City': 2}),\n 11975: Counter({'American_League': 1}),\n 9418: Counter({'Los_Angeles_Angels_of_Anaheim': 1}),\n 11962: Counter({'New_York_Yankees': 1}),\n 13734: Counter({'Detroit_Tigers': 1}),\n 698: Counter({'Chicago_White_Sox': 1, 'Minnesota_Twins': 1}),\n 16016: Counter({'Milwaukee_Brewers': 1}),\n 9884: Counter({'Boston_Red_Sox': 1}),\n 10399: Counter({'Oakland_Athletics': 1}),\n 11223: Counter({'Baltimore_Orioles': 1}),\n 15561: Counter({'Seattle_Mariners': 1}),\n 16481: Counter({'Texas_Rangers_(baseball)': 1}),\n 13571: Counter({'Cleveland_Indians': 1}),\n 13261: Counter({'Toronto_Blue_Jays': 1}),\n 16593: Counter({'Kansas_City_Royals': 1}),\n 14247: Counter({'National_League': 1}),\n 13262: Counter({'Chicago_White_Sox': 1}),\n 12114: Counter({'Florida_Marlins': 1}),\n 8454: Counter({'San_Francisco_Giants': 1}),\n 93: Counter({'New_York_Yankees': 1, 'Atlanta_Braves': 1}),\n 11440: Counter({'Cincinnati_Reds': 1}),\n 1779: Counter({'Pittsburgh_Pirates': 1,\n          'Houston_Astros': 1,\n          'Colorado_Rockies': 1}),\n 1204: Counter({'Philadelphia_Phillies': 1,\n          'Los_Angeles_Angels_of_Anaheim': 1,\n          'San_Diego_Padres': 1,\n          'Montreal_Expos': 1}),\n 1997: Counter({'Rusty_Greer': 2,\n          'Texas_Rangers_(baseball)': 1,\n          'Cleveland_Indians': 1,\n          'Cleveland': 1}),\n 15606: Counter({'Texas_Rangers_(baseball)': 1}),\n 14723: Counter({'Cleveland_Indians': 1}),\n 11803: Counter({'Rusty_Greer': 1}),\n 15617: Counter({'Rusty_Greer': 1}),\n 8624: Counter({'Texas_Rangers_(baseball)': 1}),\n 13697: Counter({'Cleveland_Indians': 1}),\n 10006: Counter({'New_York_Yankees': 1}),\n 15387: Counter({'Cleveland_Indians': 1}),\n 16319: Counter({'Cleveland_Indians': 1}),\n 11449: Counter({'Texas_Rangers_(baseball)': 1}),\n 13989: Counter({'Baltimore_Orioles': 1}),\n 15317: Counter({'Cal_Ripken,_Jr.': 1}),\n 15622: Counter({'Bobby_Bonilla': 1}),\n 15324: Counter({'Baltimore_Orioles': 1}),\n 10496: Counter({'Seattle_Mariners': 1}),\n 16105: Counter({'Seattle_Mariners': 1}),\n 13353: Counter({'Cal_Ripken,_Jr.': 1}),\n 10809: Counter({'Bobby_Bonilla': 1}),\n 10026: Counter({'Bobby_Bonilla': 1}),\n 15557: Counter({'Baltimore_Orioles': 1}),\n 15567: Counter({'New_York_Yankees': 1}),\n 14286: Counter({'American_League_East': 1}),\n 13537: Counter({'Seattle_Mariners': 1}),\n 8537: Counter({'Cal_Ripken,_Jr.': 1}),\n 2219: Counter({'Baltimore_Orioles': 1, 'New_York_City': 1}),\n 864: Counter({'Los_Angeles_Angels_of_Anaheim': 1, 'Boston_Red_Sox': 1}),\n 13516: Counter({'New_York_Yankees': 1}),\n 15383: Counter({'Los_Angeles_Angels_of_Anaheim': 1}),\n 12231: Counter({'New_York_Yankees': 1}),\n 16547: Counter({'Los_Angeles_Angels_of_Anaheim': 1}),\n 9285: Counter({'New_York_City': 1}),\n 12135: Counter({'Boston': 1}),\n 125: Counter({'Boston_Red_Sox': 1, 'Oakland_Athletics': 1}),\n 11839: Counter({'Oakland_Athletics': 1}),\n 12134: Counter({'Detroit': 1}),\n 15344: Counter({'Detroit_Tigers': 1}),\n 12194: Counter({'Chicago_White_Sox': 1}),\n 8476: Counter({'Detroit_Tigers': 1}),\n 13317: Counter({'Chicago_White_Sox': 1}),\n 11068: Counter({'Kansas_City,_Missouri': 1}),\n 11358: Counter({'Toronto_Blue_Jays': 1}),\n 16147: Counter({'Kansas_City_Royals': 1}),\n 16686: Counter({'Minnesota': 1}),\n 16688: Counter({'Milwaukee_Brewers': 1}),\n 10494: Counter({'Minnesota_Twins': 1}),\n 13704: Counter({'Milwaukee_Brewers': 1}),\n 1508: Counter({'Phillip_Cocu': 2, 'PSV_Eindhoven': 1, 'Amsterdam': 1}),\n 12123: Counter({'PSV_Eindhoven': 1}),\n 14079: Counter({'N.E.C._(football_club)': 1}),\n 11311: Counter({'Netherlands': 1}),\n 1071: Counter({'Luc_Nilis': 1, 'Netherlands': 1}),\n 12783: Counter({'PSV_Eindhoven': 1}),\n 13269: Counter({'AFC_Ajax': 1}),\n 12239: Counter({'NAC_Breda': 1}),\n 541: Counter({'Netherlands': 1, 'Amsterdam': 1}),\n 10511: Counter({'Netherlands': 1}),\n 9603: Counter({'N.E.C._(football_club)': 1}),\n 14367: Counter({'PSV_Eindhoven': 1}),\n 9559: Counter({'Luc_Nilis': 1}),\n 15199: Counter({'Phillip_Cocu': 1}),\n 3351: Counter({'Netherlands': 2,\n          'Amsterdam': 1,\n          'N.E.C._(football_club)': 1,\n          'PSV_Eindhoven': 1}),\n 3860: Counter({'Adrian_Knup': 1,\n          'Switzerland': 1,\n          'Geneva': 1,\n          'Galatasaray_S.K._(football_team)': 1}),\n 8971: Counter({'Adrian_Knup': 1}),\n 807: Counter({'Switzerland_national_football_team': 1,\n          '1998_FIFA_World_Cup': 1}),\n 12899: Counter({'Azerbaijan_national_football_team': 1}),\n 13159: Counter({'Adrian_Knup': 1}),\n 14143: Counter({'Europe': 1}),\n 9623: Counter({'Adrian_Knup': 1}),\n 285: Counter({'Switzerland_national_football_team': 1, 'UEFA_Euro_1996': 1}),\n 138: Counter({'Cagliari_Calcio': 1,\n          'Servette_FC': 1,\n          'F.C._Internazionale_Milano': 1}),\n 3728: Counter({'Grasshopper_Club_Zürich': 1,\n          'Everton_F.C.': 1,\n          'FC_Sion': 2}),\n 1484: Counter({'Hamburger_SV': 1, 'Grasshopper_Club_Zürich': 1}),\n 191: Counter({'Cagliari_Calcio': 1,\n          'FC_Sion': 1,\n          'Grasshopper_Club_Zürich': 2,\n          'VfB_Stuttgart': 1,\n          'Adrian_Knup': 1,\n          'Galatasaray_S.K._(football_team)': 1}),\n 14789: Counter({'Grasshopper_Club_Zürich': 1}),\n 4108: Counter({'FC_Sion': 1, 'Borussia_Dortmund': 1}),\n 11411: Counter({'Brussels': 1}),\n 12249: Counter({'Brussels': 1}),\n 9421: Counter({'Belgium': 1}),\n 8136: Counter({'German_Open_(golf)': 1, 'Stuttgart': 1, 'Germany': 1}),\n 14783: Counter({'German_Open_(golf)': 1}),\n 15487: Counter({'United_Kingdom': 1}),\n 12143: Counter({'Paul_Broadhurst': 1}),\n 8735: Counter({'Raymond_Russell': 1}),\n 10729: Counter({'New_Zealand': 1}),\n 13209: Counter({'Ian_Woosnam': 1}),\n 9719: Counter({'Germany': 1}),\n 12726: Counter({'Sweden': 1}),\n 803: Counter({'Wayne_Riley': 1, 'Spain': 1}),\n 758: Counter({'Australia': 1, 'Denmark': 1, 'Robert_Karlsson': 1}),\n 15: Counter({'Eamonn_Darcy': 1,\n          'Republic_of_Ireland': 2,\n          'Sweden': 3,\n          'Miguel_Ángel_Martín_(golfer)': 1,\n          'Thomas_Bjørn': 1,\n          'Spain': 2,\n          'Paul_Eales': 1,\n          'Jonathan_Lomas': 1}),\n 13724: Counter({'Mark_Roe': 1}),\n 1584: Counter({'Retief_Goosen': 1, 'South_Africa': 1}),\n 15397: Counter({'Carl_Suneson': 1}),\n 13992: Counter({'Paul_Lawrie': 1}),\n 15843: Counter({'Iain_Pyman': 1}),\n 511: Counter({'France': 1, 'Des_Smyth': 1, 'Spain': 1}),\n 16067: Counter({'Republic_of_Ireland': 1}),\n 9994: Counter({'David_Carter_(golfer)': 1}),\n 14742: Counter({'Lee_Westwood': 1}),\n 15702: Counter({'Australia': 1}),\n 3348: Counter({'Spain': 1, 'Pádraig_Harrington': 1}),\n 1950: Counter({'Republic_of_Ireland': 1, 'Sweden': 1}),\n 16550: Counter({'Germany': 1, 'Paul_McGinley': 1}),\n 719: Counter({'Michael_Jonzon': 1, 'Andrew_Coltart': 1}),\n 15694: Counter({'Pedro_Linhart': 1}),\n 3484: Counter({'Australia': 1, 'Spain': 1}),\n 3037: Counter({'UEFA': 1, 'Geneva': 1, 'Norway': 1}),\n 1287: Counter({'England': 1, 'Sweden': 1}),\n 14950: Counter({'UEFA_Europa_League': 1}),\n 16194: Counter({'Norway': 1}),\n 11238: Counter({'England': 1}),\n 14584: Counter({'Sweden': 1}),\n 809: Counter({'Norway': 1, 'England': 1}),\n 15725: Counter({'Sweden': 1}),\n 15510: Counter({'Wales': 1}),\n 15735: Counter({'Estonia': 1}),\n 10497: Counter({'Republic_of_Ireland': 1}),\n 13136: Counter({'Belarus': 1}),\n 7766: Counter({'Netherlands': 1,\n          'Denmark': 1,\n          'Belgium': 1,\n          'Luxembourg': 1,\n          'Slovakia': 1,\n          'Georgia_(country)': 1,\n          'Russia': 1}),\n 109: Counter({'Germany': 1,\n          'Scotland': 1,\n          'Moldova': 1,\n          'Ukraine': 1,\n          'Finland': 1}),\n 1019: Counter({'Latvia': 1,\n          'Yugoslavia': 1,\n          'France': 1,\n          'Portugal': 1,\n          'Republic_of_Macedonia': 1}),\n 15298: Counter({'Israel': 1}),\n 2033: Counter({'Switzerland': 1, 'Lithuania': 1, 'Austria': 1}),\n 14013: Counter({'Poland': 1}),\n 13248: Counter({'Spain': 1}),\n 4139: Counter({'Romania': 1, 'Italy': 1}),\n 9795: Counter({'Hungary': 1}),\n 14141: Counter({'Czech_Republic': 1}),\n 15619: Counter({'Greece': 1}),\n 15605: Counter({'Northern_Ireland': 1}),\n 3406: Counter({'Cyprus': 1, 'Armenia': 1}),\n 6712: Counter({'Slovenia': 1, 'Croatia': 1, 'Bulgaria': 1, 'Malta': 1}),\n 3777: Counter({'Australia_national_cricket_team': 1, 'Colombo': 1}),\n 9755: Counter({'Australia_national_cricket_team': 1}),\n 13777: Counter({'Sri_Lanka': 1}),\n 16663: Counter({'Australia_national_cricket_team': 1}),\n 16278: Counter({'Sri_Lanka': 1}),\n 808: Counter({'India_national_cricket_team': 1,\n          'Zimbabwe_national_cricket_team': 1}),\n 9123: Counter({'Australia_national_cricket_team': 1}),\n 12499: Counter({'Ricky_Ponting': 1}),\n 12703: Counter({'Australia_national_cricket_team': 1}),\n 15569: Counter({'Geoff_Marsh': 1}),\n 1551: Counter({'Romania': 2, 'Bulgaria': 1, 'Sofia': 1}),\n 851: Counter({'Bulgaria': 2}),\n 12342: Counter({'Romania': 1}),\n 14327: Counter({'Minnesota': 1}),\n 10919: Counter({'United_States_district_court': 1}),\n 16657: Counter({'Minneapolis': 1}),\n 14451: Counter({'Medicare_(United_States)': 1}),\n 12567: Counter({'United_States_district_court': 1}),\n 12101: Counter({'Minneapolis': 1}),\n 12198: Counter({'Medicare_(United_States)': 1}),\n 10702: Counter({'Medicare_(United_States)': 1}),\n 14665: Counter({'Medicare_(United_States)': 1}),\n 8637: Counter({'New_York_City': 1}),\n 13535: Counter({'Best_Products': 1}),\n 14935: Counter({'Reuters': 1}),\n 9097: Counter({'Best_Products': 1}),\n 14067: Counter({'Best_Products': 1}),\n 9483: Counter({'Best_Products': 1}),\n 16231: Counter({'Best_Products': 1}),\n 9890: Counter({'London': 1}),\n 12099: Counter({\"Crohn's_disease\": 1}),\n 12269: Counter({'Sweden': 1}),\n 10143: Counter({\"Crohn's_disease\": 1}),\n 16187: Counter({\"Crohn's_disease\": 1}),\n 9217: Counter({\"Crohn's_disease\": 1}),\n 10187: Counter({'Germany': 1}),\n 2558: Counter({'Confederation_of_British_Industry': 1, 'London': 1}),\n 10931: Counter({'Confederation_of_British_Industry': 1}),\n 16651: Counter({'Confederation_of_British_Industry': 1}),\n 9053: Counter({'Confederation_of_British_Industry': 1}),\n 3641: Counter({'London': 2}),\n 13075: Counter({'Greece': 1}),\n 9334: Counter({'Greece': 1}),\n 15041: Counter({'London': 1}),\n 14183: Counter({'United_Kingdom': 1}),\n 13341: Counter({'University_of_Oxford': 1}),\n 9514: Counter({'University_of_Oxford': 1}),\n 2183: Counter({'United_Kingdom': 2, 'Caribbean': 1, 'London': 1}),\n 9915: Counter({'Caribbean': 1}),\n 8669: Counter({'United_Kingdom': 1}),\n 8441: Counter({'United_Kingdom': 1}),\n 1192: Counter({'Mark_Philippoussis': 1,\n          'Pete_Sampras': 1,\n          'US_Open_(tennis)': 1,\n          'New_York_City': 1}),\n 15551: Counter({'Pete_Sampras': 1}),\n 10279: Counter({'Grand_Slam_(tennis)': 1}),\n 8550: Counter({'Steffi_Graf': 1}),\n 11574: Counter({'Pete_Sampras': 1}),\n 852: Counter({'US_Open_(tennis)': 1, 'Czech_Republic': 1}),\n 9175: Counter({'David_Rikl': 1}),\n 75: Counter({'Steffi_Graf': 1, 'Yayuk_Basuki': 1}),\n 10889: Counter({'Indonesia': 1}),\n 12498: Counter({'US_Open_(tennis)': 1}),\n 11881: Counter({'Pete_Sampras': 1}),\n 12501: Counter({'Mark_Philippoussis': 1}),\n 11773: Counter({'Australia': 1}),\n 15809: Counter({'Pete_Sampras': 1}),\n 8780: Counter({'Australian_Open': 1}),\n 13339: Counter({'Pete_Sampras': 1}),\n 9949: Counter({'Wimbledon_Championships': 1}),\n 12863: Counter({'New_York_City': 1}),\n 16569: Counter({'Steffi_Graf': 1}),\n 9784: Counter({'Arantxa_Sánchez_Vicario': 1}),\n 13740: Counter({'Germany': 1}),\n 15867: Counter({'Natasha_Zvereva': 1}),\n 9709: Counter({'Belarus': 1}),\n 3916: Counter({'Andre_Agassi': 1, 'Pete_Sampras': 1}),\n 13299: Counter({'Andre_Agassi': 1}),\n 10513: Counter({'Pete_Sampras': 1}),\n 8695: Counter({'Summer_Olympic_Games': 1}),\n 16248: Counter({'Andre_Agassi': 1}),\n 11502: Counter({'Karim_Alami': 1}),\n 9207: Counter({'Morocco': 1}),\n 15769: Counter({'Michael_Chang': 1}),\n 15371: Counter({'Czech_Republic': 1}),\n 15771: Counter({'Daniel_Vacek': 1}),\n 11581: Counter({'Monica_Seles': 1}),\n 15723: Counter({'United_States': 1}),\n 2318: Counter({'Austria': 1, 'Thomas_Muster': 1}),\n 9254: Counter({'Thomas_Muster': 1}),\n 15175: Counter({'United_States': 1}),\n 14321: Counter({'Richey_Reneberg': 1}),\n 916: Counter({'Thomas_Muster': 1,\n          'Wimbledon_Championships': 1,\n          'Richard_Krajicek': 1,\n          'Netherlands': 1}),\n 897: Counter({'United_States': 1, 'Michael_Chang': 1}),\n 13784: Counter({'Todd_Martin': 1}),\n 15803: Counter({'Jim_Courier': 1}),\n 10554: Counter({'Stefan_Edberg': 1}),\n 14133: Counter({'Sweden': 1}),\n 13367: Counter({'Grand_Slam_(tennis)': 1}),\n 13574: Counter({'Mark_Philippoussis': 1}),\n 11151: Counter({'Pete_Sampras': 1}),\n 10907: Counter({'France': 1}),\n 92: Counter({'Cédric_Pioline': 1, 'French_Open': 1}),\n 11336: Counter({'Yevgeny_Kafelnikov': 1}),\n 13047: Counter({'Monica_Seles': 1}),\n ...}"
     },
     "execution_count": 24,
     "metadata": {},
     "output_type": "execute_result"
    }
   ],
   "source": [
    "cluster_dict"
   ],
   "metadata": {
    "collapsed": false,
    "pycharm": {
     "name": "#%%\n"
    }
   }
  },
  {
   "cell_type": "code",
   "execution_count": 12,
   "outputs": [],
   "source": [],
   "metadata": {
    "collapsed": false,
    "pycharm": {
     "name": "#%%\n"
    }
   }
  }
 ],
 "metadata": {
  "kernelspec": {
   "display_name": "Python 3",
   "language": "python",
   "name": "python3"
  },
  "language_info": {
   "codemirror_mode": {
    "name": "ipython",
    "version": 2
   },
   "file_extension": ".py",
   "mimetype": "text/x-python",
   "name": "python",
   "nbconvert_exporter": "python",
   "pygments_lexer": "ipython2",
   "version": "2.7.6"
  }
 },
 "nbformat": 4,
 "nbformat_minor": 0
}