{
 "cells": [
  {
   "cell_type": "code",
   "execution_count": 103,
   "metadata": {
    "collapsed": true
   },
   "outputs": [
    {
     "name": "stdout",
     "output_type": "stream",
     "text": [
      "The autoreload extension is already loaded. To reload it, use:\n",
      "  %reload_ext autoreload\n"
     ]
    }
   ],
   "source": [
    "%load_ext autoreload\n",
    "%autoreload 2"
   ]
  },
  {
   "cell_type": "code",
   "execution_count": 104,
   "outputs": [],
   "source": [
    "import Packages.ClusteringHelper as ch\n",
    "import numpy as np\n",
    "from tqdm import tqdm\n",
    "from collections import Counter\n",
    "import string\n",
    "import re\n",
    "from nltk.corpus import stopwords"
   ],
   "metadata": {
    "collapsed": false,
    "pycharm": {
     "name": "#%%\n"
    }
   }
  },
  {
   "cell_type": "code",
   "execution_count": 105,
   "outputs": [
    {
     "data": {
      "text/plain": "        documents   tokens       indexes  word_indexes mentions  \\\n0               0       EU        (0, 2)             0            \n1               0  rejects       (3, 10)             1            \n2               0   German      (11, 17)             2   German   \n3               0     call      (18, 22)             3            \n4               0       to      (23, 25)             4            \n...           ...      ...           ...           ...      ...   \n285584       1392  younger  (1342, 1349)           265            \n285585       1392  brother  (1350, 1357)           266            \n285586       1392        ,  (1358, 1359)           267            \n285587       1392    Bobby  (1360, 1365)           268    Bobby   \n285588       1392        .  (1366, 1367)           269            \n\n              entities                                    wikidatas  \\\n0                                                                     \n1                                                                     \n2              Germany         http://en.wikipedia.org/wiki/Germany   \n3                                                                     \n4                                                                     \n...                ...                                          ...   \n285584                                                                \n285585                                                                \n285586                                                                \n285587  Bobby_Charlton  http://en.wikipedia.org/wiki/Bobby_Charlton   \n285588                                                                \n\n       numeric_codes alpha_codes  \n0                                 \n1                                 \n2              11867    /m/0345h  \n3                                 \n4                                 \n...              ...         ...  \n285584                            \n285585                            \n285586                            \n285587          4224    /m/01c8x  \n285588                            \n\n[285589 rows x 9 columns]",
      "text/html": "<div>\n<style scoped>\n    .dataframe tbody tr th:only-of-type {\n        vertical-align: middle;\n    }\n\n    .dataframe tbody tr th {\n        vertical-align: top;\n    }\n\n    .dataframe thead th {\n        text-align: right;\n    }\n</style>\n<table border=\"1\" class=\"dataframe\">\n  <thead>\n    <tr style=\"text-align: right;\">\n      <th></th>\n      <th>documents</th>\n      <th>tokens</th>\n      <th>indexes</th>\n      <th>word_indexes</th>\n      <th>mentions</th>\n      <th>entities</th>\n      <th>wikidatas</th>\n      <th>numeric_codes</th>\n      <th>alpha_codes</th>\n    </tr>\n  </thead>\n  <tbody>\n    <tr>\n      <th>0</th>\n      <td>0</td>\n      <td>EU</td>\n      <td>(0, 2)</td>\n      <td>0</td>\n      <td></td>\n      <td></td>\n      <td></td>\n      <td></td>\n      <td></td>\n    </tr>\n    <tr>\n      <th>1</th>\n      <td>0</td>\n      <td>rejects</td>\n      <td>(3, 10)</td>\n      <td>1</td>\n      <td></td>\n      <td></td>\n      <td></td>\n      <td></td>\n      <td></td>\n    </tr>\n    <tr>\n      <th>2</th>\n      <td>0</td>\n      <td>German</td>\n      <td>(11, 17)</td>\n      <td>2</td>\n      <td>German</td>\n      <td>Germany</td>\n      <td>http://en.wikipedia.org/wiki/Germany</td>\n      <td>11867</td>\n      <td>/m/0345h</td>\n    </tr>\n    <tr>\n      <th>3</th>\n      <td>0</td>\n      <td>call</td>\n      <td>(18, 22)</td>\n      <td>3</td>\n      <td></td>\n      <td></td>\n      <td></td>\n      <td></td>\n      <td></td>\n    </tr>\n    <tr>\n      <th>4</th>\n      <td>0</td>\n      <td>to</td>\n      <td>(23, 25)</td>\n      <td>4</td>\n      <td></td>\n      <td></td>\n      <td></td>\n      <td></td>\n      <td></td>\n    </tr>\n    <tr>\n      <th>...</th>\n      <td>...</td>\n      <td>...</td>\n      <td>...</td>\n      <td>...</td>\n      <td>...</td>\n      <td>...</td>\n      <td>...</td>\n      <td>...</td>\n      <td>...</td>\n    </tr>\n    <tr>\n      <th>285584</th>\n      <td>1392</td>\n      <td>younger</td>\n      <td>(1342, 1349)</td>\n      <td>265</td>\n      <td></td>\n      <td></td>\n      <td></td>\n      <td></td>\n      <td></td>\n    </tr>\n    <tr>\n      <th>285585</th>\n      <td>1392</td>\n      <td>brother</td>\n      <td>(1350, 1357)</td>\n      <td>266</td>\n      <td></td>\n      <td></td>\n      <td></td>\n      <td></td>\n      <td></td>\n    </tr>\n    <tr>\n      <th>285586</th>\n      <td>1392</td>\n      <td>,</td>\n      <td>(1358, 1359)</td>\n      <td>267</td>\n      <td></td>\n      <td></td>\n      <td></td>\n      <td></td>\n      <td></td>\n    </tr>\n    <tr>\n      <th>285587</th>\n      <td>1392</td>\n      <td>Bobby</td>\n      <td>(1360, 1365)</td>\n      <td>268</td>\n      <td>Bobby</td>\n      <td>Bobby_Charlton</td>\n      <td>http://en.wikipedia.org/wiki/Bobby_Charlton</td>\n      <td>4224</td>\n      <td>/m/01c8x</td>\n    </tr>\n    <tr>\n      <th>285588</th>\n      <td>1392</td>\n      <td>.</td>\n      <td>(1366, 1367)</td>\n      <td>269</td>\n      <td></td>\n      <td></td>\n      <td></td>\n      <td></td>\n      <td></td>\n    </tr>\n  </tbody>\n</table>\n<p>285589 rows × 9 columns</p>\n</div>"
     },
     "execution_count": 105,
     "metadata": {},
     "output_type": "execute_result"
    }
   ],
   "source": [
    "text, data = ch.read_aida_yago_conll(\n",
    "    \"D:\\\\Sgmon\\\\Documents\\\\Magistrale\\\\TESI\\\\ClusteringAndLinking\\\\aida-yago2-dataset\\\\AIDA-YAGO2-dataset.tsv\")\n",
    "save = False\n",
    "if save:\n",
    "    text_file = open('text.txt', 'w')\n",
    "    text_file.write(text)\n",
    "    text_file.close()\n",
    "data"
   ],
   "metadata": {
    "collapsed": false,
    "pycharm": {
     "name": "#%%\n"
    }
   }
  },
  {
   "cell_type": "code",
   "execution_count": 106,
   "outputs": [],
   "source": [
    "ents_data = data[data['entities'] != ''].copy()"
   ],
   "metadata": {
    "collapsed": false,
    "pycharm": {
     "name": "#%%\n"
    }
   }
  },
  {
   "cell_type": "code",
   "execution_count": 107,
   "outputs": [],
   "source": [
    "from pathlib import Path\n",
    "\n",
    "path_train = Path(\n",
    "    \"D:\\\\Sgmon\\\\Documents\\\\Magistrale\\\\TESI\\\\ClusteringAndLinking\\\\aida-yago2-dataset\\\\encodings\\\\AIDA-YAGO2_train_encodings.jsonl\")\n",
    "path_testa = Path(\n",
    "    \"D:\\\\Sgmon\\\\Documents\\\\Magistrale\\\\TESI\\\\ClusteringAndLinking\\\\aida-yago2-dataset\\\\encodings\\\\AIDA-YAGO2_testa_encodings.jsonl\")\n",
    "path_testb = Path(\n",
    "    \"D:\\\\Sgmon\\\\Documents\\\\Magistrale\\\\TESI\\\\ClusteringAndLinking\\\\aida-yago2-dataset\\\\encodings\\\\AIDA-YAGO2_testb_encodings.jsonl\")\n",
    "raw_encodings_train = open(path_train, 'r').read()\n",
    "raw_encodings_testa = open(path_testa, 'r').read()\n",
    "raw_encodings_testb = open(path_testb, 'r').read()"
   ],
   "metadata": {
    "collapsed": false,
    "pycharm": {
     "name": "#%%\n"
    }
   }
  },
  {
   "cell_type": "code",
   "execution_count": 108,
   "outputs": [],
   "source": [
    "import json\n",
    "\n",
    "jsonl_parsed_train = [json.loads(x) for x in raw_encodings_train.splitlines()]\n",
    "jsonl_parsed_testa = [json.loads(x) for x in raw_encodings_testa.splitlines()]\n",
    "jsonl_parsed_testb = [json.loads(x) for x in raw_encodings_testb.splitlines()]\n",
    "jsonl_parsed = jsonl_parsed_train + jsonl_parsed_testa + jsonl_parsed_testb"
   ],
   "metadata": {
    "collapsed": false,
    "pycharm": {
     "name": "#%%\n"
    }
   }
  },
  {
   "cell_type": "code",
   "execution_count": 109,
   "outputs": [],
   "source": [
    "encodings = [x['encoding'] for x in jsonl_parsed]"
   ],
   "metadata": {
    "collapsed": false,
    "pycharm": {
     "name": "#%%\n"
    }
   }
  },
  {
   "cell_type": "code",
   "execution_count": 110,
   "outputs": [],
   "source": [
    "ents_data['encodings'] = encodings\n",
    "ents_data_filtered = ch.filter_data(ents_data, 3)"
   ],
   "metadata": {
    "collapsed": false,
    "pycharm": {
     "name": "#%%\n"
    }
   }
  },
  {
   "cell_type": "code",
   "execution_count": 111,
   "outputs": [],
   "source": [
    "ents_data = ents_data_filtered[ents_data_filtered['entities'] != '']\n",
    "entities = ents_data['entities'].values\n",
    "mentions = ents_data['tokens'].values\n",
    "encodings = ents_data['encodings'].values\n",
    "unique_entities = np.unique(entities)\n",
    "gold_standard = Counter(entities)\n",
    "gold_standard = dict(sorted(gold_standard.items(), key=lambda item: item[1], reverse=True))"
   ],
   "metadata": {
    "collapsed": false,
    "pycharm": {
     "name": "#%%\n"
    }
   }
  },
  {
   "cell_type": "code",
   "execution_count": 112,
   "outputs": [],
   "source": [
    "leven_cluster = np.loadtxt(\"../aida-yago2-dataset/db_cluster_levestein_0_3.txt\", dtype=np.int32)\n",
    "lev_cluster_dict = {}\n",
    "for i, x in enumerate(leven_cluster):\n",
    "    try:\n",
    "        lev_cluster_dict[x].append(\n",
    "            (mentions[i], entities[i], encodings[i]))\n",
    "    except:\n",
    "        lev_cluster_dict[x] = [\n",
    "            (mentions[i], entities[i], encodings[i])]"
   ],
   "metadata": {
    "collapsed": false,
    "pycharm": {
     "name": "#%%\n"
    }
   }
  },
  {
   "cell_type": "code",
   "execution_count": 113,
   "outputs": [
    {
     "name": "stderr",
     "output_type": "stream",
     "text": [
      "100%|██████████| 2750/2750 [00:02<00:00, 1051.57it/s]\n"
     ]
    }
   ],
   "source": [
    "cluster_all = []\n",
    "from sklearn.cluster import AgglomerativeClustering\n",
    "clusterizator = AgglomerativeClustering(n_clusters=None, affinity='cosine', distance_threshold=0.03, linkage=\"single\")\n",
    "\n",
    "for x in tqdm(lev_cluster_dict):\n",
    "    encodings = [y[2] for y in lev_cluster_dict[x]]\n",
    "    if len(encodings) > 1:\n",
    "        cluster = clusterizator.fit_predict(encodings)\n",
    "        cluster_all.append(cluster)\n",
    "    else:\n",
    "        cluster_all.append(np.zeros(1))"
   ],
   "metadata": {
    "collapsed": false,
    "pycharm": {
     "name": "#%%%\n"
    }
   }
  },
  {
   "cell_type": "code",
   "execution_count": 114,
   "outputs": [],
   "source": [
    "total_encodings = [[y[2] for y in lev_cluster_dict[x]] for x in lev_cluster_dict.keys()]"
   ],
   "metadata": {
    "collapsed": false,
    "pycharm": {
     "name": "#%%\n"
    }
   }
  },
  {
   "cell_type": "code",
   "execution_count": 115,
   "outputs": [],
   "source": [
    "clustered_entities = [[row[1] for row in lev_cluster_dict[index]] for index in lev_cluster_dict.keys()]\n"
   ],
   "metadata": {
    "collapsed": false,
    "pycharm": {
     "name": "#%%\n"
    }
   }
  },
  {
   "cell_type": "code",
   "execution_count": 116,
   "outputs": [],
   "source": [
    "clusters_splitted = []\n",
    "for n_cluster in range(len(clustered_entities)):\n",
    "    cluster_unique = dict.fromkeys(set(cluster_all[n_cluster]), [])\n",
    "    for key in cluster_unique:\n",
    "        cluster_unique[key] = [clustered_entities[n_cluster][index] for index in\n",
    "                               range(len(clustered_entities[n_cluster])) if cluster_all[n_cluster][index] == key]\n",
    "    clusters_splitted.append(cluster_unique)"
   ],
   "metadata": {
    "collapsed": false,
    "pycharm": {
     "name": "#%%\n"
    }
   }
  },
  {
   "cell_type": "code",
   "execution_count": 117,
   "outputs": [],
   "source": [
    "clusters_splitted = []\n",
    "clusters_vectors = []\n",
    "for n_cluster in range(len(clustered_entities)):\n",
    "    cluster_unique = dict.fromkeys(set(cluster_all[n_cluster]), [])\n",
    "    cluster_unique_vector = dict.fromkeys(set(cluster_all[n_cluster]), [])\n",
    "    for key in cluster_unique:\n",
    "        cluster_unique[key] = [clustered_entities[n_cluster][index] for index in\n",
    "                               range(len(clustered_entities[n_cluster])) if cluster_all[n_cluster][index] == key]\n",
    "        cluster_unique_vector[key] = [total_encodings[n_cluster][index] for index in\n",
    "                               range(len(clustered_entities[n_cluster])) if cluster_all[n_cluster][index] == key]\n",
    "    clusters_vectors.append(cluster_unique_vector)\n",
    "    clusters_splitted.append(cluster_unique)"
   ],
   "metadata": {
    "collapsed": false,
    "pycharm": {
     "name": "#%%\n"
    }
   }
  },
  {
   "cell_type": "code",
   "execution_count": 118,
   "outputs": [],
   "source": [
    "clusters_splitted_vector_dict = [np.mean(x[y],axis=0)  for x in clusters_vectors for y in x]"
   ],
   "metadata": {
    "collapsed": false,
    "pycharm": {
     "name": "#%%\n"
    }
   }
  },
  {
   "cell_type": "code",
   "execution_count": 119,
   "outputs": [],
   "source": [
    "clusters_splitted_dict = [Counter(x[y]) for x in clusters_splitted for y in x]"
   ],
   "metadata": {
    "collapsed": false,
    "pycharm": {
     "name": "#%%\n"
    }
   }
  },
  {
   "cell_type": "code",
   "execution_count": 134,
   "outputs": [
    {
     "data": {
      "text/plain": "3002"
     },
     "execution_count": 134,
     "metadata": {},
     "output_type": "execute_result"
    }
   ],
   "source": [
    "clusterizator = AgglomerativeClustering(n_clusters=None, affinity='cosine', distance_threshold=0.015, linkage=\"single\")\n",
    "\n",
    "clusters_of_cluster = clusterizator.fit_predict(clusters_splitted_vector_dict)\n",
    "len(clusters_of_cluster)"
   ],
   "metadata": {
    "collapsed": false,
    "pycharm": {
     "name": "#%%\n"
    }
   }
  },
  {
   "cell_type": "code",
   "execution_count": 135,
   "outputs": [
    {
     "data": {
      "text/plain": "2911"
     },
     "execution_count": 135,
     "metadata": {},
     "output_type": "execute_result"
    }
   ],
   "source": [
    "coc_dict = {}\n",
    "for index, el in enumerate(clusters_of_cluster):\n",
    "    try:\n",
    "        coc_dict[el] = coc_dict[el] + clusters_splitted_dict[index]\n",
    "    except:\n",
    "        coc_dict[el] = clusters_splitted_dict[index]\n",
    "len(coc_dict.keys())"
   ],
   "metadata": {
    "collapsed": false,
    "pycharm": {
     "name": "#%%\n"
    }
   }
  },
  {
   "cell_type": "code",
   "execution_count": 136,
   "outputs": [
    {
     "data": {
      "text/plain": "{2835: Counter({'Germany': 354,\n          'German_language': 3,\n          'Germany_national_football_team': 6,\n          'Nazi_Germany': 2}),\n 10: Counter({'United_Kingdom': 262, 'England': 1}),\n 2344: Counter({'Brussels': 43}),\n 1997: Counter({'Brussels': 1}),\n 2803: Counter({'European_Commission': 8}),\n 2125: Counter({'European_Union': 24}),\n 1760: Counter({'European_Commission': 11}),\n 18: Counter({'France': 299, 'France_national_football_team': 10}),\n 177: Counter({'Bovine_spongiform_encephalopathy': 6}),\n 1988: Counter({'Budapest_Stock_Exchange': 1}),\n 1876: Counter({'Budapest_Stock_Exchange': 1}),\n 21: Counter({'Spain': 173, 'Spain_Fed_Cup_team': 4}),\n 169: Counter({'Europe': 108,\n          'UEFA_Champions_League': 1,\n          'European_Union': 8,\n          'UEFA_European_Football_Championship': 2}),\n 1742: Counter({'Bonn': 42}),\n 1631: Counter({'Jimi_Hendrix': 4}),\n 2537: Counter({'London': 233,\n          'London_Wasps': 2,\n          'Harlequins_Rugby_League': 3,\n          'London_Stock_Exchange': 3}),\n 167: Counter({'United_States': 627,\n          'United_Kingdom': 2,\n          \"United_States_men's_national_soccer_team\": 3,\n          'United_States_Fed_Cup_team': 3}),\n 1523: Counter({'Hong_Kong': 4}),\n 2618: Counter({'United_Nations': 61}),\n 1883: Counter({'Jimi_Hendrix': 1}),\n 2901: Counter({'England': 68, 'English_language': 6, 'United_Kingdom': 3}),\n 2394: Counter({'England': 1}),\n 2317: Counter({'Nottingham': 2}),\n 2041: Counter({'Nottingham': 1}),\n 2866: Counter({'Australia': 203,\n          'Australia_Davis_Cup_team': 4,\n          'Australia_national_cricket_team': 60,\n          'Australia_national_rugby_union_team': 7}),\n 173: Counter({\"People's_Republic_of_China\": 179,\n          'Republic_of_China': 1,\n          'China_PR_national_football_team': 5}),\n 2868: Counter({'Republic_of_China': 22, 'Taiwan': 8}),\n 2277: Counter({'Beijing': 30, \"People's_Republic_of_China\": 3}),\n 2708: Counter({'Taipei': 5}),\n 685: Counter({'Ukraine': 45, 'Ukraine_national_football_team': 4}),\n 1688: Counter({'Republic_of_China': 3}),\n 2132: Counter({\"People's_Republic_of_China\": 1}),\n 2767: Counter({'Reuters': 1}),\n 2775: Counter({'Xinhua_News_Agency': 11}),\n 1957: Counter({'Frankfurt_am_Main': 9,\n          'DAX': 1,\n          'Frankfurt_Stock_Exchange': 3}),\n 2305: Counter({'Ford_Motor_Company': 5}),\n 171: Counter({'Greece': 40}),\n 1647: Counter({'Rusty_Greer': 3}),\n 2357: Counter({'Athens': 15}),\n 2703: Counter({'Costas_Simitis': 7}),\n 2808: Counter({'Sweden': 7}),\n 2679: Counter({'Sweden': 1}),\n 2840: Counter({'Sweden': 112}),\n 2580: Counter({'Syria': 29, 'Syria_national_football_team': 17}),\n 2569: Counter({'Israel': 194}),\n 2057: Counter({'Jerusalem': 48}),\n 1677: Counter({'Itamar_Rabinovich': 2}),\n 2673: Counter({'Washington,_D.C.': 49,\n          'United_States': 7,\n          'MaliVai_Washington': 10,\n          'Washington_Capitals': 5,\n          'Washington_Wizards': 3,\n          'Washington_Redskins': 2}),\n 2492: Counter({'Syria': 6}),\n 1637: Counter({'Itamar_Rabinovich': 1}),\n 24: Counter({'Egypt': 43}),\n 1811: Counter({'Likud': 3}),\n 1791: Counter({'David_Levy_(Israeli_politician)': 4}),\n 2358: Counter({'Benjamin_Netanyahu': 13}),\n 2231: Counter({'Golan_Heights': 1}),\n 2839: Counter({'Middle_East': 12}),\n 2387: Counter({'Golan_Heights': 2}),\n 32: Counter({'God': 9}),\n 1625: Counter({'Benjamin_Netanyahu': 23}),\n 2433: Counter({'Russia': 15, 'Moscow': 76, 'Government_of_Russia': 1}),\n 336: Counter({'Poland': 102, 'Poland_national_football_team': 5}),\n 2647: Counter({'Libya': 18}),\n 2417: Counter({'Tunis': 5}),\n 2639: Counter({'Reuters': 109}),\n 2291: Counter({'Boland_cricket_team': 3}),\n 2797: Counter({'Iran': 30}),\n 2614: Counter({'Baghdad': 32, 'Iraq': 5}),\n 1642: Counter({'Ronnie_Irani': 6}),\n 2039: Counter({'Iraq': 180, 'Iran': 38}),\n 2134: Counter({'Irish_Republican_Army': 2}),\n 2074: Counter({'Ian_Botham': 1}),\n 2729: Counter({'Irish_Republican_Army': 1}),\n 2464: Counter({'Kurdish_people': 5, 'Iraqi_Kurdistan': 2, 'Kurdistan': 30}),\n 2371: Counter({'Democratic_Party_of_Iranian_Kurdistan': 1}),\n 2377: Counter({'Democratic_Party_of_Iranian_Kurdistan': 2}),\n 2264: Counter({'Kurdistan_Democratic_Party': 29}),\n 2807: Counter({'Kurdish_people': 4, 'Kurdistan': 6}),\n 2208: Counter({'Iranian_Kurdistan': 1}),\n 2583: Counter({'Iranian_Kurdistan': 2}),\n 1557: Counter({'Iraqi_Kurdistan': 11}),\n 1591: Counter({'Patriotic_Union_of_Kurdistan': 26}),\n 1548: Counter({'Kurdistan_Democratic_Party': 10}),\n 2271: Counter({'Kuwait': 6}),\n 2731: Counter({'Kuwait_national_football_team': 5}),\n 2270: Counter({'Kuwait': 1}),\n 1513: Counter({'Gulf_War': 8}),\n 2805: Counter({'Iraqi_Kurdistan': 6}),\n 38: Counter({'Saudi_Arabia': 30}),\n 1556: Counter({'Audi': 2}),\n 2535: Counter({'Panama': 2, 'Panama_national_football_team': 3}),\n 2065: Counter({'Manama': 3}),\n 2601: Counter({'Manama': 1}),\n 2567: Counter({'Yasser_Arafat': 49}),\n 2528: Counter({'State_of_Palestine': 57, 'Palestine': 19}),\n 2347: Counter({'Yasser_Arafat': 17}),\n 2103: Counter({'Shimon_Peres': 8}),\n 2223: Counter({'Ramallah': 11}),\n 1855: Counter({'Gaza_Strip': 8, 'Gaza': 8}),\n 1805: Counter({'Shimon_Peres': 10}),\n 2634: Counter({'Robert_Pirès': 3}),\n 2784: Counter({'Afghanistan': 14}),\n 2343: Counter({'United_Arab_Emirates': 6}),\n 2727: Counter({'United_Arab_Emirates_national_football_team': 3}),\n 2447: Counter({'Taliban': 7}),\n 2202: Counter({'Dubai': 6}),\n 2174: Counter({'Dubai': 1}),\n 1754: Counter({'United_Arab_Emirates': 4,\n          'United_Arab_Emirates_national_football_team': 1}),\n 2683: Counter({'Russia': 289, 'Russia_national_football_team': 4}),\n 2733: Counter({'Afghanistan': 14}),\n 1654: Counter({'Abu_Dhabi': 2}),\n 2461: Counter({'Abu_Dhabi': 2}),\n 2201: Counter({'Kandahar': 5}),\n 1700: Counter({'Kabul': 10}),\n 1455: Counter({'Burhanuddin_Rabbani': 3}),\n 2757: Counter({'Albania': 27, 'Albanians': 3}),\n 1665: Counter({'Burhanuddin_Rabbani': 3}),\n 2376: Counter({'Saddam_Hussein': 5}),\n 1836: Counter({'Vladimir_Zhirinovsky': 4}),\n 1610: Counter({'Saddam_Hussein': 8}),\n 1522: Counter({'Vladimir_Zhirinovsky': 2}),\n 2441: Counter({'Persian_Gulf': 7, 'Gulf_War': 1}),\n 2438: Counter({'Gulf_of_Mexico': 1}),\n 39: Counter({'Lebanon': 41}),\n 2049: Counter({'Beirut': 11}),\n 1991: Counter({'Hezbollah': 4}),\n 2568: Counter({'Pakistan': 59, 'Pakistan_national_cricket_team': 78}),\n 2833: Counter({'Chicago_Mercantile_Exchange': 4}),\n 2750: Counter({'Chicago': 72,\n          'Chicago_Cubs': 3,\n          'Chicago_White_Sox': 54,\n          'Chicago_Blackhawks': 5,\n          'Chicago_Bulls': 3}),\n 2095: Counter({'Le_Monde': 5}),\n 2525: Counter({'Paris': 60, 'Paris_Saint_Germain_(rugby_league_team)': 3}),\n 2538: Counter({'Paris_Saint_Germain_(rugby_league_team)': 1}),\n 2756: Counter({'Africa': 27}),\n 2047: Counter({'Alain_Juppé': 5}),\n 1771: Counter({'Corsica': 7}),\n 1863: Counter({'Heidrun_oil_field': 3}),\n 1283: Counter({'Oslo': 7}),\n 2907: Counter({'Finland': 4}),\n 2448: Counter({'Helsinki': 8}),\n 2902: Counter({'Finland': 47, \"Finland_men's_national_ice_hockey_team\": 4}),\n 50: Counter({'Netherlands': 153,\n          'Eredivisie': 3,\n          'Netherlands_national_football_team': 11}),\n 2225: Counter({'Amsterdam': 48}),\n 84: Counter({'Greenwich_Mean_Time': 61}),\n 2517: Counter({'World_Series_of_Golf': 10}),\n 1899: Counter({'Akron,_Ohio': 12}),\n 1987: Counter({'Ohio': 17}),\n 1783: Counter({'WGC-Bridgestone_Invitational': 3}),\n 1935: Counter({'Paul_Goydos': 4}),\n 2066: Counter({'Billy_Mayfair': 8}),\n 1891: Counter({'Hidemichi_Tanaka': 3}),\n 42: Counter({'Japan': 153,\n          'Japan_Fed_Cup_team': 3,\n          'Japan_national_football_team': 13}),\n 2013: Counter({'Steve_Stricker': 6}),\n 1691: Counter({'Justin_Leonard': 3}),\n 2227: Counter({'Mark_Brooks_(golfer)': 4}),\n 1543: Counter({'Tim_Herron': 3}),\n 2591: Counter({'Duffy_Waldorf': 7}),\n 2111: Counter({'Davis_Love_III': 4}),\n 2543: Counter({'Anders_Forsbrand': 3}),\n 2207: Counter({'Nick_Faldo': 3}),\n 1593: Counter({'John_Cook_(golfer)': 3}),\n 1488: Counter({'Steve_Jones_(golfer)': 3}),\n 2604: Counter({'Phil_Mickelson': 5}),\n 2531: Counter({'Greg_Norman': 5}),\n 1939: Counter({'Ernie_Els': 3}),\n 2691: Counter({'South_Africa': 78,\n          'South_Africa_national_rugby_union_team': 12,\n          'South_Africa_national_cricket_team': 4}),\n 2272: Counter({'Scott_Hoch': 4}),\n 993: Counter({'Clarence_Rose': 3}),\n 2311: Counter({'Loren_Roberts': 4}),\n 2186: Counter({'Loren_Roberts': 1}),\n 1673: Counter({'Fred_Funk': 3}),\n 2879: Counter({'Sven_Strüver': 3}),\n 1619: Counter({'Alex_Čejka': 3}),\n 2627: Counter({'Hal_Sutton': 3}),\n 2651: Counter({'Tom_Lehman': 4}),\n 2021: Counter({'D._A._Weibring': 3}),\n 2263: Counter({'Brad_Bryant': 3}),\n 2115: Counter({'Craig_Parry': 3}),\n 2179: Counter({'Stewart_Ginn': 3}),\n 1959: Counter({'Corey_Pavin': 3}),\n 2003: Counter({'Craig_Stadler': 3}),\n 1767: Counter({'Fred_Couples': 3}),\n 2071: Counter({'Paul_Stankowski': 3}),\n 2895: Counter({'Costantino_Rocca': 8}),\n 86: Counter({'Italy': 214,\n          'Italy_national_football_team': 3,\n          'Italy_national_rugby_union_team': 4}),\n 1711: Counter({'Jim_Furyk': 3}),\n 2423: Counter({'Satoshi_Higashi': 3}),\n 2831: Counter({'Willie_Wood_(golfer)': 4}),\n 1903: Counter({'Scott_McCarron': 4}),\n 1871: Counter({'Wayne_Westner': 3}),\n 2278: Counter({'Tom_Watson_(golfer)': 3}),\n 2737: Counter({'ACF_Gloria_1922_Bistriţa': 9}),\n 2395: Counter({'Bistriţa': 2}),\n 2495: Counter({'Bistriţa': 1}),\n 2689: Counter({'Romania': 45, 'Romania_national_football_team': 8}),\n 1851: Counter({'Romania': 1}),\n 2792: Counter({'Malta': 10}),\n 2562: Counter({'Malta': 1}),\n 2409: Counter({'England': 87,\n          'England_cricket_team': 81,\n          'England_national_football_team': 19,\n          'England_national_rugby_union_team': 11,\n          'United_Kingdom': 3}),\n 2623: Counter({'Southern_California_Open': 10}),\n 2247: Counter({'Carlsbad,_California': 5}),\n 2809: Counter({'California': 21, 'Los_Angeles_Angels_of_Anaheim': 30}),\n 1583: Counter({'Arantxa_Sánchez_Vicario': 11}),\n 1663: Counter({'Kimiko_Date_Krumm': 6}),\n 2667: Counter({'Sandrine_Testud': 5}),\n 2175: Counter({'Ai_Sugiyama': 3}),\n 1483: Counter({'Nathalie_Tauziat': 4}),\n 1993: Counter({'Commack,_New_York': 4}),\n 2719: Counter({'New_York': 15,\n          'New_York_City': 134,\n          'New_York_Yankees': 48,\n          'New_York_Mets': 1,\n          'New_York_Knicks': 5}),\n 2643: Counter({'Michael_Chang': 6}),\n 1727: Counter({'Sergi_Bruguera': 6}),\n 1629: Counter({'Michael_Joyce_(tennis)': 4}),\n 1703: Counter({'Richey_Reneberg': 4}),\n 1879: Counter({'Martin_Damm': 6}),\n 2666: Counter({'Czech_Republic': 63,\n          \"Czech_Republic_men's_national_ice_hockey_team\": 4}),\n 2891: Counter({'Morocco': 24}),\n 2415: Counter({'Karol_Kučera': 5}),\n 2717: Counter({'Slovakia': 36, 'Slovakia_national_football_team': 3}),\n 1599: Counter({'Hicham_Arazi': 3}),\n 2145: Counter({'Kenny_Dalglish': 4}),\n 2253: Counter({'Blackburn_Rovers_F.C.': 16}),\n 2054: Counter({'Kenny_Dalglish': 1}),\n 2596: Counter({'County_Championship': 12}),\n 2407: Counter({'County_Championship': 3}),\n 2692: Counter({'Durham_County_Cricket_Club': 12}),\n 2768: Counter({'Somerset_County_Cricket_Club': 14}),\n 2702: Counter({'Gloucestershire_County_Cricket_Club': 14}),\n 2724: Counter({'Essex_County_Cricket_Club': 23}),\n 2595: Counter({'Cardiff': 6, 'Cardiff_City_F.C.': 8}),\n 1500: Counter({'Cardiff': 1}),\n 2725: Counter({'Kent_County_Cricket_Club': 17}),\n 2766: Counter({'Glamorgan_County_Cricket_Club': 15}),\n 2690: Counter({'Leicester': 7,\n          'Leicester_City_F.C.': 7,\n          'Leicester_Tigers': 4}),\n 2686: Counter({'Leicestershire_County_Cricket_Club': 17}),\n 2853: Counter({'Hampshire_County_Cricket_Club': 16}),\n 2617: Counter({'Northampton': 9,\n          'Northampton_Town_F.C.': 7,\n          'Northamptonshire_County_Cricket_Club': 1}),\n 1842: Counter({'Sussex_County_Cricket_Club': 11}),\n 2707: Counter({'Northamptonshire_County_Cricket_Club': 10}),\n 1951: Counter({'Trent_Bridge': 7}),\n 2684: Counter({'Nottinghamshire_County_Cricket_Club': 14}),\n 2780: Counter({'Surrey_County_Cricket_Club': 24}),\n 2321: Counter({'Worcester': 4}),\n 2644: Counter({'Warwickshire_County_Cricket_Club': 20}),\n 2654: Counter({'Worcestershire_County_Cricket_Club': 16}),\n 1345: Counter({'Headingley_Stadium': 4, 'Headingley': 6}),\n 2885: Counter({'Yorkshire_County_Cricket_Club': 16}),\n 1584: Counter({'Lancashire_County_Cricket_Club': 15}),\n 34: Counter({'The_Oval': 23}),\n 2349: Counter({'Waqar_Younis': 34}),\n 1485: Counter({'Mushtaq_Ahmed': 30}),\n 1475: Counter({'Saeed_Anwar': 19}),\n 2267: Counter({'Mohammad_Akram': 7}),\n 2004: Counter({'Wasim_Akram': 36}),\n 1943: Counter({'Ijaz_Ahmed_(cricketer)': 17}),\n 2367: Counter({'Inzamam-ul-Haq': 14}),\n 2327: Counter({'Saleem_Malik': 18}),\n 1607: Counter({'Asif_Mujtaba': 10}),\n 2615: Counter({'Moin_Khan': 20}),\n 1553: Counter({'Duncan_Ferguson': 3}),\n 342: Counter({'Scotland_national_football_team': 12,\n          'Scotland': 65,\n          'Scotland_national_rugby_union_team': 5}),\n 1924: Counter({'Scotland': 1}),\n 2638: Counter({'Glasgow': 9}),\n 2570: Counter({'Everton_F.C.': 13}),\n 2533: Counter({'Duncan_Ferguson': 3}),\n 2499: Counter({'Duncan_Ferguson': 1}),\n 2424: Counter({'Manchester_United_F.C.': 18}),\n 2635: Counter({'Rangers_F.C.': 1}),\n 1761: Counter({'Ally_McCoist': 3}),\n 2048: Counter({'1998_FIFA_World_Cup': 34,\n          'FIFA_World_Cup': 15,\n          'Cricket_World_Cup': 5,\n          'UCI_Road_World_Cup': 5,\n          '1995_Rugby_World_Cup': 2,\n          'FIS_Freestyle_Skiing_World_Cup': 5,\n          'FIS_Alpine_Ski_World_Cup': 9,\n          'Biathlon_World_Cup': 3}),\n 2760: Counter({'Austria_national_football_team': 9, 'Austria': 86}),\n 1948: Counter({'Vienna': 14}),\n 2522: Counter({'Celtic_F.C.': 10}),\n 2560: Counter({'Keane_(company)': 2}),\n 1601: Counter({'Roy_Keane': 1}),\n 15: Counter({'Republic_of_Ireland': 54,\n          'Ireland': 5,\n          'Republic_of_Ireland_national_football_team': 9,\n          'Northern_Ireland': 1}),\n 2875: Counter({'Roy_Keane': 1}),\n 2257: Counter({'FA_Cup': 1}),\n 2378: Counter({'Roy_Keane': 1}),\n 2597: Counter({'Manchester_United_F.C.': 4}),\n 2418: Counter({'Rogers_Cup_(tennis)': 13}),\n 2872: Counter({'Toronto': 25,\n          'Toronto_Blue_Jays': 23,\n          'Toronto_Maple_Leafs': 4,\n          'Toronto_Raptors': 3}),\n 1785: Counter({'Daniel_Nestor': 4}),\n 83: Counter({'Canada': 108}),\n 2585: Counter({'Thomas_Muster': 7}),\n 1983: Counter({'Mikael_Tillström': 7}),\n 2000: Counter({'Goran_Ivanišević': 6}),\n 2753: Counter({'Croatia': 26}),\n 1503: Counter({'Wayne_Ferreira': 9}),\n 2751: Counter({'Jiří_Novák': 4}),\n 2297: Counter({'Marcelo_Ríos': 9}),\n 78: Counter({'Chile': 31, 'Chile_national_football_team': 3}),\n 2031: Counter({'Kenneth_Carlsen': 4}),\n 9: Counter({'Denmark': 35}),\n 2887: Counter({'MaliVai_Washington': 9}),\n 1887: Counter({'Àlex_Corretja': 4}),\n 2105: Counter({'Todd_Martin': 12}),\n 1679: Counter({'Renzo_Furlan': 3}),\n 1821: Counter({'Mark_Philippoussis': 10}),\n 2855: Counter({'Marc_Rosset': 4}),\n 172: Counter({'Switzerland': 84, 'Switzerland_national_football_team': 5}),\n 1535: Counter({'Cédric_Pioline': 7}),\n 1705: Counter({'Patrick_Rafter': 7}),\n 2303: Counter({'Alberto_Berasategui': 4}),\n 2055: Counter({'Petr_Korda': 6}),\n 1856: Counter({'Francisco_Clavet': 3}),\n 1751: Counter({'Daniel_Vacek': 5}),\n 1846: Counter({'Jason_Stoltenberg': 6}),\n 1537: Counter({'Todd_Woodbridge': 9}),\n 1536: Counter({'Byron_Black': 3}),\n 2545: Counter({'Zimbabwe': 18, 'Zimbabwe_national_cricket_team': 14}),\n 1527: Counter({'Bohdan_Ulihrach': 6}),\n 2127: Counter({'Andrea_Gaudenzi': 4}),\n 2527: Counter({'Tim_Henman': 6}),\n 1615: Counter({'Chris_Woodruff': 3}),\n 2355: Counter({'David_Millns': 1}),\n 1609: Counter({'Cape_Town': 9}),\n 1661: Counter({'David_Millns': 2}),\n 2205: Counter({'Tirana': 14}),\n 2215: Counter({'1._HFC_Humenné': 5}),\n 1923: Counter({'Ruch_Chorzów': 5}),\n 88: Counter({'Wales_national_football_team': 4, 'Wales': 16}),\n 1942: Counter({'Larnaca': 5}),\n 1928: Counter({'Larnaca': 1}),\n 2067: Counter({'Cyprus_national_football_team': 4, 'Cyprus': 16}),\n 2819: Counter({'Armenia_national_football_team': 4, 'Armenia': 8}),\n 2813: Counter({'Lithuania': 11, 'Lithuania_national_football_team': 6}),\n 2897: Counter({'FC_Sion': 10}),\n 2468: Counter({'Estonia': 14}),\n 1562: Counter({'SK_Brann': 5}),\n 7: Counter({'Norway': 56}),\n 2189: Counter({'Sofia': 10}),\n 2754: Counter({'Bulgaria': 20}),\n 2337: Counter({'Bulgaria': 1}),\n 2658: Counter({'Slovenia': 19}),\n 2621: Counter({'FC_Vaduz': 3}),\n 1801: Counter({'Liechtenstein_national_football_team': 1,\n          'Liechtenstein': 1}),\n 2198: Counter({'Liechtenstein_national_football_team': 6,\n          'Liechtenstein': 2}),\n 2888: Counter({'Latvia': 7}),\n 2366: Counter({'Luxembourg': 6}),\n 2880: Counter({'Faroe_Islands_national_football_team': 3}),\n 2660: Counter({'Georgia_(country)': 2}),\n 2109: Counter({'Georgia_(country)': 1}),\n 2389: Counter({'Prague': 11}),\n 1171: Counter({'Sparta_Prague': 1}),\n 2403: Counter({'Glentoran_F.C.': 3}),\n 2497: Counter({'Northern_Ireland_national_football_team': 5,\n          'Northern_Ireland': 3}),\n 2324: Counter({'Northern_Ireland': 4}),\n 2404: Counter({'Sparta_Prague': 1, 'FK_Spartak_Zlatibor_Voda': 4}),\n 2165: Counter({'Heart_of_Midlothian_F.C.': 9}),\n 1763: Counter({'Red_Star_Belgrade': 1}),\n 170: Counter({'Yugoslavia': 43, 'Serbia': 1}),\n 1502: Counter({'Red_Star_Belgrade': 5, 'KK_Crvena_zvezda': 6}),\n 2542: Counter({'Moldova_national_football_team': 7, 'Moldova': 5}),\n 1934: Counter({'Azerbaijan_national_football_team': 4, 'Azerbaijan': 4}),\n 2581: Counter({'Skopje': 3}),\n 1814: Counter({'Skopje': 1}),\n 2718: Counter({'Republic_of_Macedonia': 5}),\n 85: Counter({'Hungary': 36}),\n 2093: Counter({'IFK_Göteborg': 2}),\n 2117: Counter({'Ferencvárosi_TC': 5}),\n 2910: Counter({'UEFA_European_Football_Championship': 1}),\n 2682: Counter({'Budapest': 17}),\n 2811: Counter({'IFK_Göteborg': 2}),\n 2299: Counter({'UEFA_Champions_League': 1}),\n 82: Counter({'Brazil': 92, 'Brazil_national_football_team': 9}),\n 2572: Counter({'Rio_de_Janeiro': 10}),\n 1945: Counter({'Esporte_Clube_Bahia': 4}),\n 1567: Counter({'Clube_Atlético_Paranaense': 3}),\n 2899: Counter({'Sport_Club_Corinthians_Paulista': 3}),\n 1746: Counter({'Guarani_Futebol_Clube': 3}),\n 1579: Counter({'Coritiba_Foot_Ball_Club': 3}),\n 2551: Counter({'Clube_Atlético_Mineiro': 4}),\n 1606: Counter({'Cruzeiro_Esporte_Clube': 3}),\n 2496: Counter({'Victorian_Bushrangers': 8}),\n 1541: Counter({'Esporte_Clube_Vitória': 3}),\n 2903: Counter({'Esporte_Clube_Juventude': 4}),\n 1726: Counter({'Goiás_Esporte_Clube': 4}),\n 2475: Counter({'Sport_Club_do_Recife': 3}),\n 1620: Counter({'Grêmio_Foot-Ball_Porto_Alegrense': 4}),\n 2781: Counter({'Clube_Atlético_Bragantino': 3}),\n 1778: Counter({'Sociedade_Esportiva_Palmeiras': 3}),\n 43: Counter({'Portugal': 18, 'Portugal_national_football_team': 7}),\n 2743: Counter({'Associação_Portuguesa_de_Desportos': 4}),\n 2391: Counter({'Paraná_Clube': 3}),\n 1479: Counter({'John_Newcombe': 7}),\n 2107: Counter({'Davis_Cup': 7}),\n 2575: Counter({'Sydney': 19, 'Sydney_Swans': 2, '2000_Summer_Olympics': 1}),\n 2487: Counter({'Sydney_Swans': 2}),\n 1341: Counter({'John_Newcombe': 1}),\n 2144: Counter({'Wimbledon_Championships': 27, 'Wimbledon_F.C.': 16}),\n 2867: Counter({'Tony_Roche': 1}),\n 2045: Counter({'Tony_Roche': 1}),\n 1747: Counter({'Tony_Roche': 1}),\n 2801: Counter({'Summer_Olympic_Games': 24,\n          '1996_Summer_Olympics': 14,\n          'Olympic_sports': 10,\n          '2000_Summer_Olympics': 1,\n          '1936_Summer_Olympics': 3}),\n 1672: Counter({'Mark_Woodforde': 4}),\n 1545: Counter({'Malaysia_Open_(badminton)': 6}),\n 1781: Counter({'Kuala_Lumpur': 4}),\n 1668: Counter({'Kuala_Lumpur': 1}),\n 2909: Counter({'South_Korea': 42,\n          'Korea_Republic_national_football_team': 8}),\n 2656: Counter({'Malaysia': 21}),\n 1563: Counter({'Netherlands': 1}),\n 2700: Counter({'Indonesia': 69, 'Indonesia_national_football_team': 9}),\n 1627: Counter({'Hermawan_Susanto': 3}),\n 1985: Counter({'Fung_Permadi': 3}),\n 2239: Counter({'Wang_Chen_(badminton)': 3}),\n 2143: Counter({'Gong_Zhichao': 3}),\n 2675: Counter({'New_Zealand': 32,\n          'New_Zealand_national_rugby_union_team': 21,\n          'New_Zealand_national_cricket_team': 7}),\n 2406: Counter({'US_Open_(tennis)': 38}),\n 1708: Counter({'Pete_Sampras': 8}),\n 2219: Counter({'Adrian_Voinea': 4}),\n 1919: Counter({'Alexander_Vladimirovich_Volkov': 3}),\n 2211: Counter({'Andrei_Olhovskiy': 3}),\n 2735: Counter({'Roberto_Carretero': 3}),\n 2015: Counter({'Jonas_Björkman': 3}),\n 1633: Counter({'David_Rikl': 4}),\n 1487: Counter({'Sjeng_Schalken': 3}),\n 2687: Counter({'Guy_Forget': 3}),\n 1701: Counter({'Yevgeny_Kafelnikov': 3}),\n 1759: Counter({'Scott_Draper': 3}),\n 2693: Counter({'Thomas_Johansson': 4}),\n 2837: Counter({'Andriy_Medvedev': 7}),\n 2437: Counter({'Jean-Philippe_Fleurian': 3}),\n 2720: Counter({'Ján_Krošlák': 3}),\n 2159: Counter({'Doug_Flach': 3}),\n 2559: Counter({'Paul_Haarhuis': 4}),\n 1995: Counter({'Michael_Tebbutt': 3}),\n 2038: Counter({'Jonathan_Stark': 2}),\n 1970: Counter({'Jonathan_Stark': 1}),\n 1774: Counter({'Bernd_Karbacher': 4}),\n 2413: Counter({'Stefan_Edberg': 7}),\n 1789: Counter({'Richard_Krajicek': 5}),\n 2260: Counter({'Andre_Agassi': 5}),\n 2254: Counter({'Colombia': 32}),\n 1947: Counter({'Colombia': 1}),\n 2783: Counter({'Félix_Mantilla_Botella': 4}),\n 2511: Counter({'Carlos_Moyá': 3}),\n 2631: Counter({'Jan_Siemerink': 3}),\n 2335: Counter({'Nicolás_Lapentti': 3}),\n 2092: Counter({'Ecuador': 10}),\n 2455: Counter({'Karim_Alami': 4}),\n 2131: Counter({'Thomas_Enqvist': 7}),\n 2655: Counter({'Guillaume_Raoux': 3}),\n 337: Counter({'Belgium': 129, 'Belgium_national_football_team': 10}),\n 1519: Counter({'Mark_Knowles': 3}),\n 1268: Counter({'The_Bahamas': 7}),\n 2645: Counter({'Uruguay': 4}),\n 1813: Counter({'Michael_Stich': 5}),\n 1592: Counter({'Javier_Frana': 3}),\n 2790: Counter({'Argentina': 52}),\n 2119: Counter({'Jim_Courier': 4}),\n 1839: Counter({'Javier_Sánchez': 4}),\n 1895: Counter({'Jim_Grabb': 3}),\n 1743: Counter({'Arnaud_Boetsch': 3}),\n 2624: Counter({'Venezuela': 21}),\n 2815: Counter({'Magnus_Gustafsson': 4}),\n 1796: Counter({'Jeff_Tarango': 4}),\n 1775: Counter({'Alex_Rădulescu': 3}),\n 1967: Counter({'Jared_Palmer': 3}),\n 41: Counter({'Baltimore_Orioles': 19}),\n 2576: Counter({'Baltimore_Orioles': 1}),\n 2339: Counter({'Davey_Johnson': 3}),\n 2827: Counter({'Baltimore': 5, 'Baltimore_Orioles': 40}),\n 2244: Counter({'Baltimore': 1}),\n 1792: Counter({'Baltimore': 1}),\n 2862: Counter({'Seattle_Mariners': 6}),\n 2408: Counter({'Davey_Johnson': 1, 'Allen_Johnson': 1}),\n 2026: Counter({'Davey_Johnson': 4}),\n 2881: Counter({'Los_Angeles_Angels_of_Anaheim': 6}),\n 2896: Counter({'Cincinnati_Reds': 6}),\n 2876: Counter({'New_York_Mets': 3}),\n 2883: Counter({'New_York_Jets': 1}),\n 2889: Counter({'New_York_Yankees': 5}),\n 2685: Counter({'American_League_East': 1}),\n 2705: Counter({'Major_League_Baseball': 29}),\n 1994: Counter({'Major_League_Baseball': 11}),\n 2600: Counter({'American_League_East': 10}),\n 2802: Counter({'Boston_Red_Sox': 33,\n          'Boston': 10,\n          'Boston_Bruins': 4,\n          'Boston_Celtics': 4}),\n 2290: Counter({'Bolton_Wanderers_F.C.': 9}),\n 2630: Counter({'Detroit_Tigers': 31, 'Detroit': 8, 'Detroit_Pistons': 5}),\n 1443: Counter({'National_League_Central': 20}),\n 2824: Counter({'Cleveland_Indians': 31,\n          'Cleveland': 2,\n          'Cleveland_Cavaliers': 3}),\n 1918: Counter({'Cleveland': 1}),\n 2863: Counter({'Minnesota_Twins': 31,\n          'Minnesota': 6,\n          'Minnesota_Timberwolves': 4}),\n 2865: Counter({'Milwaukee_Brewers': 32,\n          'Milwaukee': 5,\n          'Milwaukee_Bucks': 3}),\n 2513: Counter({'Kansas_City_Royals': 29, 'Kansas_City,_Missouri': 8}),\n 2794: Counter({'National_League_West': 20}),\n 2710: Counter({'Texas_Rangers_(baseball)': 31, 'Texas': 14}),\n 2806: Counter({'Seattle_Mariners': 36,\n          'Seattle': 8,\n          'Seattle_SuperSonics': 3}),\n 2842: Counter({'Oakland_Athletics': 32}),\n 2669: Counter({'National_League_East': 11}),\n 2681: Counter({'Atlanta_Braves': 32,\n          '1996_Summer_Olympics': 5,\n          'Atlanta': 13,\n          'Atlanta_Hawks': 3}),\n 2351: Counter({'Atalanta_B.C.': 6}),\n 2816: Counter({'Montreal_Expos': 24,\n          'Montreal': 10,\n          'Montreal_Canadiens': 4}),\n 1497: Counter({'Montreal': 1}),\n 1439: Counter({'Florida_Marlins': 30, 'Florida_Panthers': 3}),\n 2810: Counter({'Philadelphia_Phillies': 27,\n          'Philadelphia': 11,\n          'Philadelphia_Flyers': 4,\n          'Philadelphia_Eagles': 3,\n          'Philadelphia_76ers': 3}),\n 2812: Counter({'Houston_Astros': 29, 'Houston': 6, 'Houston_Rockets': 3}),\n 2832: Counter({'Cincinnati_Reds': 30, 'Cincinnati': 2}),\n 1534: Counter({'Cincinnati': 1}),\n 1415: Counter({'Pittsburgh_Pirates': 27, 'Pittsburgh_Penguins': 4}),\n 2430: Counter({'San_Diego': 4}),\n 2622: Counter({'San_Diego_Padres': 26, 'San_Diego': 4}),\n 2745: Counter({'Los_Angeles_Angels_of_Anaheim': 20,\n          'Los_Angeles': 19,\n          'Los_Angeles_Dodgers': 7,\n          'Los_Angeles_Kings': 3}),\n 2203: Counter({'Los_Angeles': 1}),\n 2791: Counter({'Colorado_Rockies': 33,\n          'Colorado': 15,\n          'Colorado_Avalanche': 5}),\n 2834: Counter({'San_Francisco_Giants': 29, 'San_Francisco': 6}),\n 1100: Counter({'American_League': 14}),\n 2359: Counter({'National_League': 12}),\n 1702: Counter({'Cleveland_Indians': 5, 'Indiana': 3, 'Indiana_Pacers': 4}),\n 2632: Counter({'India_national_cricket_team': 19,\n          'India': 100,\n          'Indigenous_peoples_of_the_Americas': 4}),\n 1506: Counter({'Rusty_Greer': 2}),\n 2336: Counter({'Texas_Rangers_(baseball)': 5}),\n 2106: Counter({'Cleveland_Indians': 5}),\n 2520: Counter({'Texas_Rangers_(baseball)': 4, 'Rangers_F.C.': 10}),\n 0: Counter({'New_York_Yankees': 13,\n          'Seattle_Mariners': 6,\n          'Los_Angeles_Angels_of_Anaheim': 4}),\n 2429: Counter({'Cal_Ripken,_Jr.': 3}),\n 2388: Counter({'Bobby_Bonilla': 3}),\n 1504: Counter({'United_States_Marine_Corps': 3}),\n 2427: Counter({'Cal_Ripken,_Jr.': 4}),\n 1462: Counter({'Bobby_Bonilla': 2}),\n 2721: Counter({'American_League_East': 1}),\n 89: Counter({'Boston_Red_Sox': 7}),\n 2778: Counter({'Oakland_Athletics': 5}),\n 1888: Counter({'Oakland_Athletics': 1}),\n 16: Counter({'Detroit_Tigers': 8, 'Kansas_City_Royals': 3}),\n 361: Counter({'Chicago_White_Sox': 11}),\n 2664: Counter({'Toronto_Blue_Jays': 4}),\n 180: Counter({'Milwaukee_Brewers': 7}),\n 2637: Counter({'Minnesota_Twins': 2}),\n 1559: Counter({'Phillip_Cocu': 3}),\n 13: Counter({'PSV_Eindhoven': 18}),\n 2890: Counter({'Phillip_Cocu': 3}),\n 1456: Counter({'PSV_Eindhoven': 15}),\n 2728: Counter({'N.E.C._(football_club)': 11}),\n 1482: Counter({'Luc_Nilis': 4}),\n 2166: Counter({'AFC_Ajax': 18}),\n 1636: Counter({'NAC_Breda': 10}),\n 2501: Counter({'Luc_Nilis': 3}),\n 2713: Counter({'Adrian_Knup': 3}),\n 2173: Counter({'Geneva': 16}),\n 1762: Counter({'Geneva': 1}),\n 973: Counter({'Galatasaray_S.K._(football_team)': 4}),\n 1827: Counter({'Adrian_Knup': 2}),\n 2514: Counter({'UEFA_Euro_1996': 8}),\n 1400: Counter({'Cagliari_Calcio': 6}),\n 1621: Counter({'Grasshopper_Club_Zürich': 7}),\n 1766: Counter({'Hamburger_SV': 11, 'Hamburg': 6}),\n 2440: Counter({'VfB_Stuttgart': 4}),\n 1694: Counter({'Stuttgart': 4}),\n 2843: Counter({'Servette_FC': 3}),\n 1674: Counter({'F.C._Internazionale_Milano': 2}),\n 1864: Counter({'Borussia_Dortmund': 11}),\n 1459: Counter({'German_Open_(golf)': 7}),\n 2428: Counter({'Paul_Broadhurst': 5}),\n 2398: Counter({'Paul_Broadhurst': 1}),\n 2479: Counter({'Raymond_Russell': 7}),\n 2864: Counter({'Ian_Woosnam': 9}),\n 1603: Counter({'Wayne_Riley': 5}),\n 1865: Counter({'Eamonn_Darcy': 3}),\n 1841: Counter({'Mark_Roe': 5}),\n 1946: Counter({'Retief_Goosen': 5}),\n 1915: Counter({'Carl_Suneson': 3}),\n 1683: Counter({'Paul_Lawrie': 7}),\n 2694: Counter({'Iain_Pyman': 5}),\n 2431: Counter({'Des_Smyth': 3}),\n 2155: Counter({'David_Carter_(golfer)': 4}),\n 2363: Counter({'Lee_Westwood': 4}),\n 2301: Counter({'Miguel_Ángel_Martín_(golfer)': 7}),\n 2845: Counter({'Thomas_Bjørn': 3}),\n 2607: Counter({'Pádraig_Harrington': 4}),\n 1999: Counter({'Paul_McGinley': 3}),\n 2035: Counter({'Michael_Jonzon': 4}),\n 2151: Counter({'Paul_Eales': 5}),\n 1480: Counter({'Andrew_Coltart': 4}),\n 2399: Counter({'Jonathan_Lomas': 5}),\n 2185: Counter({'Robert_Karlsson': 3}),\n 2759: Counter({'Pedro_Linhart': 7}),\n 1812: Counter({'UEFA': 5}),\n 2906: Counter({'UEFA_Europa_League': 6}),\n 2776: Counter({'Belarus': 21, 'Belarus_national_football_team': 3}),\n 1920: Counter({'Belarus': 1}),\n 2333: Counter({'Portugal': 1}),\n 2361: Counter({'Colombo': 27}),\n 1797: Counter({'Sri_Lanka': 28, 'Sri_Lanka_national_cricket_team': 38}),\n 1807: Counter({'Ricky_Ponting': 4}),\n 1471: Counter({'Geoff_Marsh': 3}),\n 2856: Counter({'Finland': 3}),\n 2275: Counter({'Minnesota': 2}),\n 1890: Counter({'Minnesota': 1}),\n 2470: Counter({'United_States_district_court': 1}),\n 1840: Counter({'Minneapolis': 4}),\n 2584: Counter({'Medicare_(United_States)': 6}),\n 2467: Counter({'United_States_district_court': 3}),\n 2209: Counter({'Best_Products': 5}),\n 168: Counter({'Western_world': 9, 'NATO': 1}),\n 2771: Counter({\"Crohn's_disease\": 4}),\n 1203: Counter({'Confederation_of_British_Industry': 3}),\n 1881: Counter({'Confederation_of_British_Industry': 1}),\n 2243: Counter({'University_of_Oxford': 1}),\n 1986: Counter({'University_of_Oxford': 2}),\n 2552: Counter({'Oxford_United_F.C.': 10}),\n 1744: Counter({'Caribbean': 7}),\n 1958: Counter({'Mark_Philippoussis': 8}),\n 1496: Counter({'Pete_Sampras': 9}),\n 1798: Counter({'Grand_Slam_(tennis)': 15}),\n 1861: Counter({'Steffi_Graf': 5}),\n 2090: Counter({'Steffi_Graf': 13}),\n 1468: Counter({'Yayuk_Basuki': 3}),\n 1346: Counter({'Australian_Open': 10}),\n 1648: Counter({'Natasha_Zvereva': 4}),\n 2030: Counter({'Andre_Agassi': 6}),\n 2150: Counter({'Czech_Republic': 24}),\n 2136: Counter({'Monica_Seles': 10}),\n 2118: Counter({'Thomas_Muster': 7}),\n 2350: Counter({'Michael_Chang': 11}),\n 2445: Counter({'French_Open': 8}),\n 1850: Counter({'Monica_Seles': 7}),\n 2469: Counter({'Anke_Huber': 6}),\n 2345: Counter({'Conchita_Martínez': 7}),\n 1964: Counter({'Conchita_Martínez': 1}),\n 1756: Counter({'Lindsay_Davenport': 7}),\n 1643: Counter({'Anke_Huber': 7}),\n 1201: Counter({'Amanda_Coetzer': 6}),\n 1658: Counter({'Martina_Hingis': 5}),\n 1547: Counter({'Jana_Novotná': 5}),\n 1755: Counter({'Conchita_Martínez': 8}),\n 2836: Counter({'Ruxandra_Dragomir': 3}),\n 2362: Counter({'Jason_Stoltenberg': 1}),\n 2204: Counter({'Daniel_Nestor': 2}),\n 1678: Counter({'Goran_Ivanišević': 3}),\n 1989: Counter({'Marc_Rosset': 1}),\n 1315: Counter({'Seoul': 23}),\n 1735: Counter({'Anyang_LG_Cheetahs': 6}),\n 2153: Counter({'Suwon_Samsung_Bluewings': 5}),\n 1952: Counter({'Pohang_Steelers': 6}),\n 1786: Counter({'Ulsan_Hyundai_FC': 5}),\n 2858: Counter({'Senegal': 6}),\n 2749: Counter({'Dakar': 3}),\n 2329: Counter({'Dakar': 1}),\n 2814: Counter({'Senegal': 2}),\n 2598: Counter({'Nigeria': 49}),\n 2602: Counter({'Liberia': 9}),\n 1788: Counter({'Liberia': 3}),\n 2646: Counter({'Economic_Community_of_West_African_States_Monitoring_Group': 3}),\n 2405: Counter({'Monrovia': 4}),\n 2706: Counter({'United_Nations': 27}),\n 2577: Counter({'Abuja': 4}),\n 2892: Counter({'Conakry': 4}),\n 2854: Counter({'Organisation_of_the_Islamic_Conference': 3}),\n 1992: Counter({'Organisation_of_the_Islamic_Conference': 4}),\n 2148: Counter({'Johannesburg': 22}),\n 2372: Counter({'Nelson_Mandela': 4}),\n 1551: Counter({\"Standard_&_Poor's\": 5}),\n 2146: Counter({'Grozny': 27}),\n 1491: Counter({'Interfax': 32}),\n 2476: Counter({'Chechnya': 62}),\n 2340: Counter({'Interior_ministry': 6}),\n 972: Counter({'Alexander_Lebed': 16}),\n 1955: Counter({'Aslan_Maskhadov': 11}),\n 1748: Counter({'Novye_Atagi': 6}),\n 1510: Counter({'Boris_Yeltsin': 18}),\n 1838: Counter({'Chechnya': 31}),\n 2847: Counter({'Information_Telegraph_Agency_of_Russia': 9}),\n 1780: Counter({'Alexander_Lebed': 48}),\n 2829: Counter({'Boris_Yeltsin': 50}),\n 2059: Counter({'Moscow_Kremlin': 8, 'Government_of_Russia': 5}),\n 2104: Counter({'Bosnia': 58}),\n 2221: Counter({'Sarajevo': 15}),\n 20: Counter({'Serbia': 50, 'Serbs': 9}),\n 2220: Counter({'Ljubljana': 3}),\n 2252: Counter({'Bogotá': 10}),\n 2099: Counter({'Buenos_Aires': 10, 'Buenos_Aires_Province': 4}),\n 2838: Counter({'Peru': 6}),\n 1594: Counter({'Lima': 3}),\n 2830: Counter({'Peru': 1}),\n 1776: Counter({'Suriname': 5}),\n 1734: Counter({'Paramaribo': 2}),\n 2157: Counter({'Paramaribo': 2}),\n 1931: Counter({'Suriname': 2}),\n 2878: Counter({'Thailand': 25}),\n 1121: Counter({'Bangkok': 13}),\n 2089: Counter({'Hong_Kong': 73}),\n 1447: Counter({'Alexander_Downer': 2}),\n 2582: Counter({'Alexander_Downer': 2}),\n 2549: Counter({'Australia': 1, 'Canberra': 6, 'Canberra_Raiders': 4}),\n 77: Counter({'Tibet': 9}),\n 2287: Counter({'Nablus': 5}),\n 2216: Counter({'Amman': 20}),\n 2904: Counter({'Jordan': 26, 'Neil_Jordan': 7}),\n 2411: Counter({'Neil_Jordan': 1}),\n 2848: Counter({'Jordan_Grand_Prix': 7}),\n 1885: Counter({'Edward_Said': 1}),\n 1843: Counter({'New_York_City': 5}),\n 2459: Counter({'Edward_Said': 2}),\n 2481: Counter({'Palestinian_National_Authority': 8}),\n 1044: Counter({'Gaza_Strip': 3}),\n 37: Counter({'Jews': 31}),\n 2112: Counter({'Istanbul': 7}),\n 2180: Counter({'Cairo': 18}),\n 2587: Counter({'EgyptAir': 4}),\n 686: Counter({'Sudan': 44}),\n 2167: Counter({'Hosni_Mubarak': 4}),\n 1659: Counter({'Hosni_Mubarak': 7}),\n 2526: Counter({'United_Nations_Security_Council': 3}),\n 2515: Counter({'Ethiopia': 7, 'Ethiopia_national_football_team': 7}),\n 1515: Counter({'Miss_Universe': 4}),\n 2077: Counter({'Alicia_Machado': 1}),\n 2486: Counter({'New_Mexico': 2}),\n 1660: Counter({'New_Mexico': 1}),\n 1849: Counter({'Alicia_Machado': 9}),\n 2498: Counter({'Los_Angeles': 1}),\n 2108: Counter({'Alicia_Machado': 1}),\n 1830: Counter({'Jack_Kevorkian': 7}),\n 1501: Counter({'Jack_Kevorkian': 1}),\n 2477: Counter({'Missouri': 7}),\n 2137: Counter({'Massachusetts': 9}),\n 2368: Counter({'Neo-Nazism': 2}),\n 2877: Counter({'Neo-Nazism': 2}),\n 873: Counter({'Adolf_Hitler': 2}),\n 1932: Counter({'Nazi_Germany': 4, 'Nazi_Party': 3}),\n 1528: Counter({'Social_Democratic_Party_of_Germany': 1}),\n 1656: Counter({'Nazi_Party': 1}),\n 1784: Counter({'Yasushi_Akashi': 2}),\n 2348: Counter({'United_Nations_Security_Council': 11}),\n 1481: Counter({'Yasushi_Akashi': 1}),\n 2400: Counter({'Algeria': 43}),\n 1406: Counter({'Islam': 58}),\n 2360: Counter({'Catholic_Church': 12}),\n 2886: Counter({'Algiers': 9, 'Algeria': 2}),\n 2373: Counter({'Berlin': 32, '1936_Summer_Olympics': 1}),\n 2051: Counter({'BNP_Paribas': 3}),\n 2503: Counter({'Aegon': 3}),\n 1376: Counter({'Bill_Clinton': 93}),\n 1685: Counter({'Ballybunion': 5}),\n 2571: Counter({'Dublin': 16}),\n 1358: Counter({'Bill_Clinton': 23}),\n 674: Counter({'Democratic_Party_(United_States)': 45}),\n 1873: Counter({'Wolfgang_Ischinger': 1}),\n 1714: Counter({'Wolfgang_Ischinger': 5}),\n 1646: Counter({'Klaus_Kinkel': 2}),\n 2873: Counter({'Klaus_Kinkel': 2}),\n 2732: Counter({'New_Delhi': 13}),\n 1524: Counter({'Inder_Kumar_Gujral': 1}),\n 1486: Counter({'Inder_Kumar_Gujral': 5}),\n 1738: Counter({'Comprehensive_Nuclear-Test-Ban_Treaty': 2}),\n 1845: Counter({'Comprehensive_Nuclear-Test-Ban_Treaty': 3}),\n 2421: Counter({'Dhaka': 14, 'Dhaka_Stock_Exchange': 3}),\n 1342: Counter({'Bangladesh': 13}),\n 1956: Counter({'Commonwealth_of_Nations': 13}),\n 6: Counter({'Liam_Fox': 5}),\n 1445: Counter({'Nepal': 22}),\n 727: Counter({'Kashmir': 4}),\n 1103: Counter({'Dhaka_Stock_Exchange': 2}),\n 906: Counter({'Reserve_Bank_of_India': 2}),\n 2483: Counter({'Run_(baseball)': 4}),\n 1580: Counter({'C._Rangarajan': 1}),\n 1467: Counter({'C._Rangarajan': 3}),\n 2318: Counter({'Mumbai': 12}),\n 1695: Counter({'Reserve_Bank_of_India': 1}),\n 2884: Counter({'Mother_Teresa': 20}),\n 1768: Counter({'Kolkata': 14}),\n 1831: Counter({'Nobel_Peace_Prize': 6}),\n 2338: Counter({'Missionaries_of_Charity': 5}),\n 1979: Counter({'Goma': 3}),\n 2374: Counter({'Rome': 23, 'A.S._Roma': 5}),\n 2619: Counter({'Goma': 1}),\n 1741: Counter({'Mother_Teresa': 1}),\n 2302: Counter({'Catholic_Church': 4}),\n 1971: Counter({'News_Corporation': 8}),\n 33: Counter({'United_States_dollar': 9}),\n 2557: Counter({'The_Sun_(United_Kingdom)': 1}),\n 1530: Counter({'The_Times': 4}),\n 1233: Counter({'Bank_of_New_Zealand': 2}),\n 2142: Counter({'Wellington': 19}),\n 1699: Counter({'Bank_of_New_Zealand': 1}),\n 2826: Counter({'Thailand': 11}),\n 1180: Counter({'Tokyo': 30}),\n 1857: Counter({'Hong_Kong_dollar': 8}),\n 2331: Counter({'Jakarta': 27}),\n 1977: Counter({'Indonesian_Democratic_Party': 3}),\n 1809: Counter({'Megawati_Sukarnoputri': 3}),\n 1464: Counter({'Dow_Jones_Industrial_Average': 7}),\n 1617: Counter({'Surabaya': 6}),\n 2763: Counter({'FTSE_100_Index': 4}),\n 1581: Counter({'Nikkei_225': 6}),\n 995: Counter({'Kiev': 3}),\n 2723: Counter({'Soviet_Union': 12}),\n 1906: Counter({'Tajikistan': 5}),\n 1639: Counter({'Leonid_Kuchma': 1}),\n 2096: Counter({'Post-Soviet_states': 4}),\n 2715: Counter({'Leonid_Kuchma': 3}),\n 1463: Counter({'International_Monetary_Fund': 4}),\n 1907: Counter({'NATO': 33}),\n 1585: Counter({'Vatican_Library': 3, 'Vatican_City': 4}),\n 2698: Counter({'Soviet_Union': 6}),\n 1803: Counter({'John_Crawley': 2}),\n 2385: Counter({'John_Crawley': 2}),\n 2379: Counter({'The_Oval': 1}),\n 1877: Counter({'Circuit_de_Spa-Francorchamps': 4}),\n 1566: Counter({'Gerhard_Berger': 5}),\n 1460: Counter({'Benetton_Formula': 9, 'Pallacanestro_Treviso': 7}),\n 2507: Counter({'David_Coulthard': 4}),\n 2: Counter({'McLaren': 8, 'WilliamsF1': 9}),\n 2319: Counter({'Jacques_Villeneuve': 5}),\n 2130: Counter({'Mike_Williams_(baseball)': 2}),\n 1681: Counter({'Mika_Häkkinen': 5}),\n 2755: Counter({'Heinz-Harald_Frentzen': 4}),\n 1441: Counter({'Jean_Alesi': 5}),\n 1963: Counter({'Damon_Hill': 5}),\n 2110: Counter({'Michael_Schumacher': 6}),\n 1589: Counter({'Martin_Brundle': 4}),\n 2276: Counter({'Rubens_Barrichello': 4}),\n 1531: Counter({'Johnny_Herbert': 4}),\n 2322: Counter({'Sauber': 6}),\n 2769: Counter({'Olivier_Panis': 4}),\n 1870: Counter({'Equipe_Ligier': 6}),\n 2828: Counter({'Greenwich_Mean_Time': 1}),\n 2871: Counter({'Gabriela_Sabatini': 4}),\n 2857: Counter({'Åsa_Svensson': 4}),\n 1495: Counter({'Katarína_Studeníková': 3}),\n 2079: Counter({'Karina_Habšudová': 5}),\n 1290: Counter({'Portsmouth_F.C.': 11, 'Portsmouth': 7}),\n 1880: Counter({'Queens_Park_Rangers_F.C.': 10}),\n 773: Counter({'Tranmere_Rovers_F.C.': 11}),\n 2294: Counter({'Grimsby_Town_F.C.': 11}),\n 2078: Counter({'East_Stirlingshire_F.C.': 6}),\n 2512: Counter({'Colchester': 3, 'Colchester_United_F.C.': 7}),\n 733: Counter({'Shaun_Pollock': 6}),\n 1833: Counter({'Shaun_Pollock': 2}),\n 2025: Counter({'Shaun_Pollock': 1}),\n 2262: Counter({'Dominic_Cork': 13}),\n 2752: Counter({'York_City_F.C.': 8}),\n 2554: Counter({'Croatia': 4}),\n 2312: Counter({'Robert_Croft': 25}),\n 1884: Counter({'Alan_Mullally': 20}),\n 2187: Counter({'Ian_Salisbury': 5}),\n 1564: Counter({'Fabrizio_Ravanelli': 3}),\n 2410: Counter({'Middlesbrough_F.C.': 10}),\n 1107: Counter({'Italy': 1}),\n 1454: Counter({'Fabrizio_Ravanelli': 2}),\n 1588: Counter({'Chelsea_Clinton': 5}),\n 2286: Counter({'Chelsea_F.C.': 12}),\n 2869: Counter({'Nottingham_Forest_F.C.': 5}),\n 996: Counter({'Wayne_Ferreira': 1}),\n 1686: Counter({'Thomas_Enqvist': 3}),\n 1300: Counter({'Todd_Martin': 2}),\n 2519: Counter({'Todd_Martin': 1}),\n 836: Counter({'Patrick_Rafter': 3}),\n 2609: Counter({'Cédric_Pioline': 1}),\n 1469: Counter({'New_Haven,_Connecticut': 3}),\n 1435: Counter({'South_Korea': 7, 'Korea': 3}),\n 2547: Counter({'Petr_Korda': 1}),\n 2485: Counter({'Petr_Korda': 1}),\n 1777: Counter({'Rugby_union': 18}),\n 1426: Counter({'Japie_Mulder': 3}),\n 2695: Counter({'Japie_Mulder': 2}),\n 1750: Counter({'Pretoria': 7}),\n 1889: Counter({'South_Africa_national_rugby_union_team': 10}),\n 1587: Counter({'Ong_Ewe_Hock': 3}),\n 2539: Counter({'Chanda_Rubin': 2}),\n 2255: Counter({'US_Open_(tennis)': 6}),\n 1916: Counter({'Robert_Rubin': 14}),\n 2228: Counter({'Chanda_Rubin': 4}),\n 2266: Counter({'Lindsay_Davenport': 3}),\n 999: Counter({'Paul_Sorrento': 3}),\n 2599: Counter({'Jamie_Moyer': 1}),\n 1729: Counter({'Paul_Sorrento': 1}),\n 2908: Counter({'Jamie_Moyer': 3}),\n 2241: Counter({'Brady_Anderson': 4}),\n 1875: Counter({'Jay_Buhner': 4}),\n 1867: Counter({'Mark_Acre': 2}),\n 2578: Counter({'Sporting_Clube_de_Portugal': 7}),\n 2586: Counter({'Lisbon': 8}),\n 2649: Counter({'S.C._Espinho': 1}),\n 2197: Counter({'S.C._Espinho': 2}),\n 1168: Counter({'F.C._Porto': 16}),\n 2020: Counter({'S.L._Benfica': 6}),\n 2818: Counter({'FC_St._Pauli': 15}),\n 1538: Counter({'Fußball-Bundesliga': 10}),\n 2088: Counter({'FC_Schalke_04': 14}),\n 1431: Counter({'F.C._Hansa_Rostock': 14}),\n 2671: Counter({'Salah_Hissou': 3}),\n 2785: Counter({'AS_Nancy': 11}),\n 5: Counter({'Paris_Saint-Germain_F.C.': 13}),\n 2016: Counter({'Svetlana_Masterkova': 6}),\n 1732: Counter({'Svetlana_Masterkova': 5}),\n 1174: Counter({'Zürich': 13}),\n 2234: Counter({'Zürich': 1}),\n 2393: Counter({'Mozambique': 5}),\n 2168: Counter({'Maria_Mutola': 4}),\n 1824: Counter({'Maria_Mutola': 2}),\n 2605: Counter({'1996_Summer_Olympics': 7}),\n 2653: Counter({'Stephen_Ames': 5}),\n 1804: Counter({'Roger_Chapman_(golfer)': 4}),\n 2680: Counter({'Barry_Lane': 3}),\n 2229: Counter({'Dennis_Mitchell': 6}),\n 1433: Counter({'Dennis_Mitchell': 4}),\n 1969: Counter({'Donovan_Bailey': 8}),\n 1568: Counter({'Linford_Christie': 7}),\n 2844: Counter({'Carl_Lewis': 4}),\n 1047: Counter({'Donovan_Bailey': 12}),\n 2540: Counter({'Carl_Lewis': 2}),\n 1968: Counter({'Ato_Boldon': 4}),\n 1858: Counter({'Linford_Christie': 15}),\n 1795: Counter({'Allen_Johnson': 2}),\n 761: Counter({'Colin_Jackson': 2}),\n 2191: Counter({'Colin_Jackson': 1}),\n 2116: Counter({'Ludmila_Engquist': 3}),\n 1339: Counter({'Jamaica': 21}),\n 2711: Counter({'Michelle_Freeman': 4}),\n 2436: Counter({'Cuba': 34}),\n 1437: Counter({'Chicago_Cubs': 5}),\n 1687: Counter({'Aliuska_López': 3}),\n 1417: Counter({'Ludmila_Engquist': 1}),\n 2289: Counter({'Derrick_Adkins': 3}),\n 1721: Counter({'Gail_Devers': 4}),\n 1740: Counter({'Merlene_Ottey': 4}),\n 1489: Counter({'Gail_Devers': 1}),\n 1285: Counter({'Gwen_Torrence': 3}),\n 1628: Counter({'Merlene_Ottey': 1}),\n 1927: Counter({'Emilio_Valle': 3}),\n 1208: Counter({'Kenya': 41}),\n 1902: Counter({'Kenya': 1}),\n 2158: Counter({'Kenya': 1}),\n 2193: Counter({'Davidson_Ezinwa': 4}),\n 1560: Counter({'Jon_Drummond': 4}),\n 1185: Counter({'Zambia': 4}),\n 2641: Counter({'Mary_Onyali-Omagbemi': 3}),\n 1823: Counter({'Irina_Privalova': 3}),\n 1465: Counter({'Michael_Johnson_(athlete)': 5}),\n 2364: Counter({'Uganda': 2, 'Uganda_national_football_team': 5}),\n 796: Counter({'Uganda': 1}),\n 2023: Counter({'Frankie_Fredericks': 6}),\n 2650: Counter({'Namibia': 8, 'Namibia_national_football_team': 3}),\n 1623: Counter({'Chandra_Sturrup': 3}),\n 1505: Counter({'Falilat_Ogunkoya': 3}),\n 1476: Counter({'Jonathan_Edwards_(athlete)': 3}),\n 1484: Counter({'Kenny_Harrison': 3}),\n 1911: Counter({'William_Tanui': 3}),\n 1937: Counter({'John_Mayock': 3}),\n 2740: Counter({'Kazakhstan': 3}),\n 742: Counter({'Kazakhstan': 2}),\n 1007: Counter({'Burundi': 20, 'Burundi_national_football_team': 5}),\n 2508: Counter({'Rwanda': 31}),\n 2594: Counter({'Rwanda': 1}),\n 2073: Counter({'Juventus_F.C.': 12}),\n 2460: Counter({'Jorge_Costa': 2}),\n 2640: Counter({'Jorge_Costa': 1}),\n 1361: Counter({'Carlos_Secretário': 3}),\n 2579: Counter({'Dimas_Teixeira': 2}),\n 2823: Counter({'Luís_Figo': 3}),\n 959: Counter({'Berti_Vogts': 3}),\n 2390: Counter({'Berti_Vogts': 2}),\n 879: Counter({'Gary_Breen': 1}),\n 1622: Counter({'SV_Werder_Bremen': 1}),\n 1676: Counter({'Borussia_Dortmund': 1}),\n 2532: Counter({'Thomas_Helmer': 2}),\n 2432: Counter({'Oliver_Bierhoff': 2}),\n 2758: Counter({'Oliver_Bierhoff': 1}),\n 2493: Counter({'Fredi_Bobic': 1}),\n 1962: Counter({'Jürgen_Klinsmann': 3}),\n 1416: Counter({'Legia_Warszawa': 5}),\n 2772: Counter({'Europe': 1}),\n 2133: Counter({'R.W.D._Molenbeek': 4}),\n 2488: Counter({'SK_Brann': 1}),\n 1474: Counter({'Muttiah_Muralitharan': 3}),\n 813: Counter({'Muttiah_Muralitharan': 1}),\n 2283: Counter({'Arjuna_Ranatunga': 4}),\n 883: Counter({'WSC_World_XI': 3}),\n 1941: Counter({'Arjuna_Ranatunga': 2}),\n 2245: Counter({'Ian_Healy': 6}),\n 2396: Counter({'Angola': 10}),\n 1720: Counter({'United_Nations_Security_Council': 2}),\n 1432: Counter({'UNITA': 6}),\n 1444: Counter({'Ottawa_Senators': 4}),\n 920: Counter({'Ottawa': 6}),\n 1262: Counter({'Lloyd_Axworthy': 2}),\n 898: Counter({'Lloyd_Axworthy': 1}),\n 2870: Counter({'Toronto': 2}),\n 1477: Counter({'Warren_Buffett': 3}),\n 2147: Counter({'Warren_Buffett': 1}),\n 2160: Counter({'Boston': 2}),\n 2285: Counter({'Miami': 7}),\n 2014: Counter({'Miami_Heat': 5, 'Miami_Dolphins': 2}),\n 2274: Counter({'AMR_Corporation': 2}),\n 965: Counter({'American_Airlines': 3}),\n 2094: Counter({'AMR_Corporation': 1}),\n 1828: Counter({'Red_Sea': 5}),\n 2489: Counter({'Middle_East': 5}),\n 53: Counter({'Indian_Oil_Corporation': 6}),\n 1508: Counter({'Mediterranean_Sea': 1}),\n 838: Counter({'Black_Sea': 2}),\n 1799: Counter({'Black_Sea': 1}),\n 2354: Counter({'Asia': 10}),\n 1810: Counter({'ASEAN': 2}),\n 2282: Counter({'Singapore': 44}),\n 1255: Counter({'Greg_Norman': 5}),\n 1692: Counter({'Arab_World': 9, 'Arab_people': 8}),\n 1012: Counter({'Hapoel_Tayibe_F.C.': 3}),\n 1319: Counter({'Poles': 3}),\n 2126: Counter({'Bob_Dole': 47}),\n 1324: Counter({'Taibe,_Galilee': 3}),\n ...}"
     },
     "execution_count": 136,
     "metadata": {},
     "output_type": "execute_result"
    }
   ],
   "source": [
    "coc_dict"
   ],
   "metadata": {
    "collapsed": false,
    "pycharm": {
     "name": "#%%\n"
    }
   }
  },
  {
   "cell_type": "code",
   "execution_count": 137,
   "outputs": [],
   "source": [
    "import Packages.ClusteringHelper as ch\n",
    "golden_standard_dict = ch.get_gold_standard_dict(ents_data)"
   ],
   "metadata": {
    "collapsed": false,
    "pycharm": {
     "name": "#%%\n"
    }
   }
  },
  {
   "cell_type": "markdown",
   "source": [
    "### B-CUBED"
   ],
   "metadata": {
    "collapsed": false
   }
  },
  {
   "cell_type": "code",
   "execution_count": 138,
   "outputs": [
    {
     "name": "stderr",
     "output_type": "stream",
     "text": [
      "100%|██████████| 2089/2089 [00:05<00:00, 366.94it/s]\n"
     ]
    },
    {
     "data": {
      "text/plain": "0.8987571069326864"
     },
     "execution_count": 138,
     "metadata": {},
     "output_type": "execute_result"
    }
   ],
   "source": [
    "from tqdm import tqdm\n",
    "# B-cubed - precision\n",
    "bcubed_precision_num = 0\n",
    "for gold_key in tqdm(golden_standard_dict.keys()):\n",
    "    for lev_key in coc_dict.keys():\n",
    "        try:\n",
    "            bcubed_precision_num = bcubed_precision_num + (pow(coc_dict[lev_key][gold_key], 2) /\n",
    "                                       sum(coc_dict[lev_key].values()))\n",
    "        except:\n",
    "            pass\n",
    "bcubed_precision = bcubed_precision_num/sum([sum(x.values()) for x in coc_dict.values()])\n",
    "bcubed_precision"
   ],
   "metadata": {
    "collapsed": false,
    "pycharm": {
     "name": "#%%\n"
    }
   }
  },
  {
   "cell_type": "code",
   "execution_count": 139,
   "outputs": [
    {
     "name": "stderr",
     "output_type": "stream",
     "text": [
      "100%|██████████| 2089/2089 [00:04<00:00, 466.75it/s]\n"
     ]
    },
    {
     "data": {
      "text/plain": "0.8462756606472945"
     },
     "execution_count": 139,
     "metadata": {},
     "output_type": "execute_result"
    }
   ],
   "source": [
    "# B-cubed - recall\n",
    "bcubed_recall_num = 0\n",
    "for gold_key in tqdm(golden_standard_dict.keys()):\n",
    "    for lev_key in coc_dict.keys():\n",
    "        try:\n",
    "            bcubed_recall_num = bcubed_recall_num + (pow(coc_dict[lev_key][gold_key], 2) /\n",
    "                                       golden_standard_dict[gold_key])\n",
    "        except:\n",
    "            pass\n",
    "bcubed_recall = bcubed_recall_num/ents_data.shape[0]\n",
    "bcubed_recall"
   ],
   "metadata": {
    "collapsed": false,
    "pycharm": {
     "name": "#%%\n"
    }
   }
  },
  {
   "cell_type": "code",
   "execution_count": 140,
   "outputs": [
    {
     "data": {
      "text/plain": "0.8717272002699508"
     },
     "execution_count": 140,
     "metadata": {},
     "output_type": "execute_result"
    }
   ],
   "source": [
    "bcubed_f1 = (2 * (bcubed_recall * bcubed_precision)) / (\n",
    "        bcubed_precision + bcubed_recall)\n",
    "bcubed_f1"
   ],
   "metadata": {
    "collapsed": false,
    "pycharm": {
     "name": "#%%\n"
    }
   }
  },
  {
   "cell_type": "code",
   "execution_count": 126,
   "outputs": [],
   "source": [],
   "metadata": {
    "collapsed": false,
    "pycharm": {
     "name": "#%%\n"
    }
   }
  }
 ],
 "metadata": {
  "kernelspec": {
   "display_name": "Python 3",
   "language": "python",
   "name": "python3"
  },
  "language_info": {
   "codemirror_mode": {
    "name": "ipython",
    "version": 2
   },
   "file_extension": ".py",
   "mimetype": "text/x-python",
   "name": "python",
   "nbconvert_exporter": "python",
   "pygments_lexer": "ipython2",
   "version": "2.7.6"
  }
 },
 "nbformat": 4,
 "nbformat_minor": 0
}