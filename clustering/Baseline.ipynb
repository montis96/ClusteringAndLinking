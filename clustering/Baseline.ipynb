{
 "cells": [
  {
   "cell_type": "code",
   "execution_count": 73,
   "outputs": [
    {
     "name": "stdout",
     "output_type": "stream",
     "text": [
      "The autoreload extension is already loaded. To reload it, use:\n",
      "  %reload_ext autoreload\n"
     ]
    }
   ],
   "source": [
    "%load_ext autoreload\n",
    "%autoreload 2"
   ],
   "metadata": {
    "collapsed": false,
    "pycharm": {
     "name": "#%%\n"
    }
   }
  },
  {
   "cell_type": "code",
   "execution_count": 1,
   "metadata": {
    "collapsed": true
   },
   "outputs": [],
   "source": [
    "import Packages.CoNLLReader as reader\n",
    "import numpy as np\n",
    "from tqdm import tqdm\n",
    "from Levenshtein import distance"
   ]
  },
  {
   "cell_type": "code",
   "execution_count": 2,
   "outputs": [
    {
     "data": {
      "text/plain": "         tokens             indexes tags mentions        entities  \\\n0            EU              (0, 2)                                 \n1       rejects             (3, 10)                                 \n2        German            (11, 17)    B   German         Germany   \n3          call            (18, 22)                                 \n4            to            (23, 25)                                 \n...         ...                 ...  ...      ...             ...   \n285584  younger  (1615647, 1615654)                                 \n285585  brother  (1615655, 1615662)                                 \n285586        ,  (1615663, 1615664)                                 \n285587    Bobby  (1615665, 1615670)    B    Bobby  Bobby_Charlton   \n285588        .  (1615671, 1615672)                                 \n\n                                          wikidatas numeric_codes alpha_codes  \n0                                                                              \n1                                                                              \n2              http://en.wikipedia.org/wiki/Germany         11867    /m/0345h  \n3                                                                              \n4                                                                              \n...                                             ...           ...         ...  \n285584                                                                         \n285585                                                                         \n285586                                                                         \n285587  http://en.wikipedia.org/wiki/Bobby_Charlton          4224    /m/01c8x  \n285588                                                                         \n\n[285589 rows x 8 columns]",
      "text/html": "<div>\n<style scoped>\n    .dataframe tbody tr th:only-of-type {\n        vertical-align: middle;\n    }\n\n    .dataframe tbody tr th {\n        vertical-align: top;\n    }\n\n    .dataframe thead th {\n        text-align: right;\n    }\n</style>\n<table border=\"1\" class=\"dataframe\">\n  <thead>\n    <tr style=\"text-align: right;\">\n      <th></th>\n      <th>tokens</th>\n      <th>indexes</th>\n      <th>tags</th>\n      <th>mentions</th>\n      <th>entities</th>\n      <th>wikidatas</th>\n      <th>numeric_codes</th>\n      <th>alpha_codes</th>\n    </tr>\n  </thead>\n  <tbody>\n    <tr>\n      <th>0</th>\n      <td>EU</td>\n      <td>(0, 2)</td>\n      <td></td>\n      <td></td>\n      <td></td>\n      <td></td>\n      <td></td>\n      <td></td>\n    </tr>\n    <tr>\n      <th>1</th>\n      <td>rejects</td>\n      <td>(3, 10)</td>\n      <td></td>\n      <td></td>\n      <td></td>\n      <td></td>\n      <td></td>\n      <td></td>\n    </tr>\n    <tr>\n      <th>2</th>\n      <td>German</td>\n      <td>(11, 17)</td>\n      <td>B</td>\n      <td>German</td>\n      <td>Germany</td>\n      <td>http://en.wikipedia.org/wiki/Germany</td>\n      <td>11867</td>\n      <td>/m/0345h</td>\n    </tr>\n    <tr>\n      <th>3</th>\n      <td>call</td>\n      <td>(18, 22)</td>\n      <td></td>\n      <td></td>\n      <td></td>\n      <td></td>\n      <td></td>\n      <td></td>\n    </tr>\n    <tr>\n      <th>4</th>\n      <td>to</td>\n      <td>(23, 25)</td>\n      <td></td>\n      <td></td>\n      <td></td>\n      <td></td>\n      <td></td>\n      <td></td>\n    </tr>\n    <tr>\n      <th>...</th>\n      <td>...</td>\n      <td>...</td>\n      <td>...</td>\n      <td>...</td>\n      <td>...</td>\n      <td>...</td>\n      <td>...</td>\n      <td>...</td>\n    </tr>\n    <tr>\n      <th>285584</th>\n      <td>younger</td>\n      <td>(1615647, 1615654)</td>\n      <td></td>\n      <td></td>\n      <td></td>\n      <td></td>\n      <td></td>\n      <td></td>\n    </tr>\n    <tr>\n      <th>285585</th>\n      <td>brother</td>\n      <td>(1615655, 1615662)</td>\n      <td></td>\n      <td></td>\n      <td></td>\n      <td></td>\n      <td></td>\n      <td></td>\n    </tr>\n    <tr>\n      <th>285586</th>\n      <td>,</td>\n      <td>(1615663, 1615664)</td>\n      <td></td>\n      <td></td>\n      <td></td>\n      <td></td>\n      <td></td>\n      <td></td>\n    </tr>\n    <tr>\n      <th>285587</th>\n      <td>Bobby</td>\n      <td>(1615665, 1615670)</td>\n      <td>B</td>\n      <td>Bobby</td>\n      <td>Bobby_Charlton</td>\n      <td>http://en.wikipedia.org/wiki/Bobby_Charlton</td>\n      <td>4224</td>\n      <td>/m/01c8x</td>\n    </tr>\n    <tr>\n      <th>285588</th>\n      <td>.</td>\n      <td>(1615671, 1615672)</td>\n      <td></td>\n      <td></td>\n      <td></td>\n      <td></td>\n      <td></td>\n      <td></td>\n    </tr>\n  </tbody>\n</table>\n<p>285589 rows × 8 columns</p>\n</div>"
     },
     "execution_count": 2,
     "metadata": {},
     "output_type": "execute_result"
    }
   ],
   "source": [
    "text, data = reader.read_aida_yago_conll(\n",
    "    \"D:\\\\Sgmon\\\\Documents\\\\Magistrale\\\\TESI\\\\ClusteringAndLinking\\\\aida-yago2-dataset\\\\AIDA-YAGO2-dataset.tsv\")\n",
    "save = False\n",
    "if save:\n",
    "    text_file = open('text.txt', 'w')\n",
    "    text_file.write(text)\n",
    "    text_file.close()\n",
    "data"
   ],
   "metadata": {
    "collapsed": false,
    "pycharm": {
     "name": "#%%\n"
    }
   }
  },
  {
   "cell_type": "code",
   "execution_count": 3,
   "outputs": [],
   "source": [
    "n_entities = sum([x is not '' for x in list(data['entities'])])\n",
    "n_ass_ents = sum([x is not '' for x in list(data['numeric_codes'])])\n",
    "n_tokens = sum([1 for x in list(data['entities'])])"
   ],
   "metadata": {
    "collapsed": false,
    "pycharm": {
     "name": "#%%\n"
    }
   }
  },
  {
   "cell_type": "code",
   "execution_count": 4,
   "outputs": [
    {
     "name": "stdout",
     "output_type": "stream",
     "text": [
      "Numero totale di entità:                 27817 \n",
      "Numero totale di tokens:                285589 \n",
      "1 entità ogni:                           10.27 \n"
     ]
    }
   ],
   "source": [
    "print('{0:<35} {1:>10} '.format(\"Numero totale di entità:\", n_entities))\n",
    "print('{0:<35} {1:>10} '.format(\"Numero totale di tokens:\", n_tokens))\n",
    "print('{0:<35} {1:>10} '.format(\"1 entità ogni:\", round(n_tokens / n_entities, 2)))"
   ],
   "metadata": {
    "collapsed": false,
    "pycharm": {
     "name": "#%%\n"
    }
   }
  },
  {
   "cell_type": "code",
   "execution_count": 5,
   "outputs": [
    {
     "name": "stderr",
     "output_type": "stream",
     "text": [
      "100%|██████████| 285589/285589 [00:00<00:00, 2770716.14it/s]\n",
      "100%|██████████| 285589/285589 [00:00<00:00, 2595124.28it/s]\n"
     ]
    }
   ],
   "source": [
    "ent_nums = {}\n",
    "unique_entities = np.unique(data[data['entities'] != '']['entities'].values)\n",
    "entities = data['entities'].values\n",
    "for uniqu_ent in tqdm(entities):\n",
    "    ent_nums[uniqu_ent] = 0\n",
    "for uniqu_ent in tqdm(entities):\n",
    "    ent_nums[uniqu_ent] = ent_nums[uniqu_ent] + 1\n",
    "ent_nums.pop('')\n",
    "ent_nums = dict(sorted(ent_nums.items(), key=lambda item: item[1], reverse=True))"
   ],
   "metadata": {
    "collapsed": false,
    "pycharm": {
     "name": "#%%\n"
    }
   }
  },
  {
   "cell_type": "code",
   "execution_count": 6,
   "outputs": [],
   "source": [
    "ents_data = data[data['mentions'] != '']\n",
    "mentions = ents_data['mentions'].values\n",
    "\n",
    "mention_to_entity = {}\n",
    "for men, ent in set(list(zip(list(ents_data['mentions']), list(ents_data['entities'])))):\n",
    "    mention_to_entity[men] = ent"
   ],
   "metadata": {
    "collapsed": false,
    "pycharm": {
     "name": "#%%\n"
    }
   }
  },
  {
   "cell_type": "markdown",
   "source": [
    "### Golden standard"
   ],
   "metadata": {
    "collapsed": false,
    "pycharm": {
     "name": "#%% md\n"
    }
   }
  },
  {
   "cell_type": "code",
   "execution_count": 7,
   "outputs": [],
   "source": [
    "golden_standard = [mention_to_entity[x] for x in mentions]\n",
    "golden_standard_dict = dict.fromkeys(golden_standard, 0)\n",
    "for ent in golden_standard:\n",
    "    golden_standard_dict[ent] = golden_standard_dict[ent] + 1"
   ],
   "metadata": {
    "collapsed": false,
    "pycharm": {
     "name": "#%%\n"
    }
   }
  },
  {
   "cell_type": "markdown",
   "source": [
    "### Clustering by Levenshtein distance and DBSCAN"
   ],
   "metadata": {
    "collapsed": false,
    "pycharm": {
     "name": "#%% md\n"
    }
   }
  },
  {
   "cell_type": "code",
   "execution_count": 8,
   "outputs": [],
   "source": [
    "# Way with dbscan algorithm\n",
    "import numpy as np\n",
    "from sklearn.cluster import dbscan\n",
    "\n",
    "clustering = False\n",
    "if clustering:\n",
    "    def lev_metric(x, y):\n",
    "        i, j = int(x[0]), int(y[0])  # extract indices\n",
    "        if len(mentions[i]) < 4:\n",
    "            if mentions[i] == mentions[j]:\n",
    "                return 0\n",
    "            else:\n",
    "                return distance(mentions[i].lower(), mentions[j].lower()) + 3\n",
    "        else:\n",
    "            return distance(mentions[i].lower(), mentions[j].lower())\n",
    "\n",
    "\n",
    "    X = np.arange(len(mentions)).reshape(-1, 1)\n",
    "    _, leven_cluster = dbscan(X, metric=lev_metric, eps=1, min_samples=1, n_jobs=-1)\n",
    "    np.savetxt('db_cluster_levestein.txt', leven_cluster, delimiter=',')\n",
    "else:\n",
    "    leven_cluster = np.loadtxt(\"../aida-yago2-dataset/db_cluster_levestein.txt\", dtype=np.int32)"
   ],
   "metadata": {
    "collapsed": false,
    "pycharm": {
     "name": "#%%\n"
    }
   }
  },
  {
   "cell_type": "code",
   "execution_count": 10,
   "outputs": [
    {
     "name": "stderr",
     "output_type": "stream",
     "text": [
      "100%|██████████| 3115/3115 [00:00<00:00, 222152.91it/s]\n"
     ]
    }
   ],
   "source": [
    "# Now we create a dict for each cluster taht contains entities and entities count\n",
    "lev_cluster_dict = {}\n",
    "for i, x in enumerate(leven_cluster):\n",
    "    try:\n",
    "        lev_cluster_dict[x].append(mentions[i])\n",
    "    except:\n",
    "        lev_cluster_dict[x] = [mentions[i]]\n",
    "del lev_cluster_dict[-1]\n",
    "for key in tqdm(lev_cluster_dict):\n",
    "    cluster_list = [mention_to_entity[x] for x in lev_cluster_dict[key]]\n",
    "    cluster_set = set(cluster_list)\n",
    "    cluster_dict = dict.fromkeys(list(cluster_set), 0)\n",
    "    for cluster in cluster_list:\n",
    "        cluster_dict[cluster] = cluster_dict[cluster] + 1\n",
    "    lev_cluster_dict[key] = cluster_dict"
   ],
   "metadata": {
    "collapsed": false,
    "pycharm": {
     "name": "#%%\n"
    }
   }
  },
  {
   "cell_type": "markdown",
   "source": [
    "### evaluation levestein"
   ],
   "metadata": {
    "collapsed": false,
    "pycharm": {
     "name": "#%% md\n"
    }
   }
  },
  {
   "cell_type": "markdown",
   "source": [
    "CEAFm precision"
   ],
   "metadata": {
    "collapsed": false,
    "pycharm": {
     "name": "#%% md\n"
    }
   }
  },
  {
   "cell_type": "code",
   "execution_count": 11,
   "outputs": [],
   "source": [
    "max_lev_cluster_list = []\n",
    "for key in lev_cluster_dict.keys():\n",
    "    max_key = max(lev_cluster_dict[key], key=lev_cluster_dict[key].get)\n",
    "    max_lev_cluster_list.append((max_key, lev_cluster_dict[key][max_key]))\n",
    "max_lev_cluster_list.sort(key=lambda x: x[1], reverse=True)\n",
    "max_lev_cluster_dict = dict.fromkeys(entities, 0)\n",
    "for key, val in max_lev_cluster_list:\n",
    "    if max_lev_cluster_dict[key] == 0:\n",
    "        max_lev_cluster_dict[key] = val"
   ],
   "metadata": {
    "collapsed": false,
    "pycharm": {
     "name": "#%%\n"
    }
   }
  },
  {
   "cell_type": "code",
   "execution_count": 12,
   "outputs": [
    {
     "data": {
      "text/plain": "0.7408059819534817"
     },
     "execution_count": 12,
     "metadata": {},
     "output_type": "execute_result"
    }
   ],
   "source": [
    "# CEAFm_levenshtein_precision\n",
    "CEAFm_levenshtein_precision = sum([x for x in max_lev_cluster_dict.values()]) / ents_data.shape[0]\n",
    "CEAFm_levenshtein_precision"
   ],
   "metadata": {
    "collapsed": false,
    "pycharm": {
     "name": "#%%\n"
    }
   }
  },
  {
   "cell_type": "markdown",
   "source": [
    "CEAFm recall"
   ],
   "metadata": {
    "collapsed": false
   }
  },
  {
   "cell_type": "code",
   "execution_count": 13,
   "outputs": [
    {
     "data": {
      "text/plain": "0.8286886234768971"
     },
     "execution_count": 13,
     "metadata": {},
     "output_type": "execute_result"
    }
   ],
   "source": [
    "# CEAFm_levenshtein_recall\n",
    "CEAFm_levenshtein_recall = sum([x for x in max_lev_cluster_dict.values()]) / sum(\n",
    "    [y for x in lev_cluster_dict.values() for y in x.values()])\n",
    "CEAFm_levenshtein_recall"
   ],
   "metadata": {
    "collapsed": false,
    "pycharm": {
     "name": "#%%\n"
    }
   }
  },
  {
   "cell_type": "code",
   "execution_count": 14,
   "outputs": [
    {
     "data": {
      "text/plain": "0.7822868423050641"
     },
     "execution_count": 14,
     "metadata": {},
     "output_type": "execute_result"
    }
   ],
   "source": [
    "# CEAFm_levenshtein_f1\n",
    "CEAFm_levenshtein_f1 = (2 * (CEAFm_levenshtein_recall * CEAFm_levenshtein_precision)) / (\n",
    "        CEAFm_levenshtein_precision + CEAFm_levenshtein_recall)\n",
    "CEAFm_levenshtein_f1"
   ],
   "metadata": {
    "collapsed": false,
    "pycharm": {
     "name": "#%%\n"
    }
   }
  },
  {
   "cell_type": "code",
   "execution_count": 15,
   "outputs": [
    {
     "name": "stderr",
     "output_type": "stream",
     "text": [
      "100%|██████████| 5286/5286 [00:04<00:00, 1119.39it/s]\n"
     ]
    },
    {
     "data": {
      "text/plain": "0.751952163439699"
     },
     "execution_count": 15,
     "metadata": {},
     "output_type": "execute_result"
    }
   ],
   "source": [
    "# B-cubed - recall\n",
    "bcubed_recall_num = 0\n",
    "for gold_key in tqdm(golden_standard_dict.keys()):\n",
    "    for lev_key in lev_cluster_dict.keys():\n",
    "        try:\n",
    "            bcubed_recall_num = bcubed_recall_num + (pow(lev_cluster_dict[lev_key][gold_key], 2) /\n",
    "                                       golden_standard_dict[gold_key])\n",
    "        except:\n",
    "            pass\n",
    "bcubed_recall = bcubed_recall_num/ents_data.shape[0]\n",
    "bcubed_recall"
   ],
   "metadata": {
    "collapsed": false,
    "pycharm": {
     "name": "#%%\n"
    }
   }
  },
  {
   "cell_type": "code",
   "execution_count": 16,
   "outputs": [
    {
     "name": "stderr",
     "output_type": "stream",
     "text": [
      "100%|██████████| 5286/5286 [00:04<00:00, 1063.04it/s]\n"
     ]
    },
    {
     "data": {
      "text/plain": "0.8991542449278922"
     },
     "execution_count": 16,
     "metadata": {},
     "output_type": "execute_result"
    }
   ],
   "source": [
    "# B-cubed - precision\n",
    "bcubed_precision_num = 0\n",
    "for gold_key in tqdm(golden_standard_dict.keys()):\n",
    "    for lev_key in lev_cluster_dict.keys():\n",
    "        try:\n",
    "            bcubed_precision_num = bcubed_precision_num + (pow(lev_cluster_dict[lev_key][gold_key], 2) /\n",
    "                                       sum([x for x in lev_cluster_dict[lev_key].values()]))\n",
    "        except:\n",
    "            pass\n",
    "bcubed_precision = bcubed_precision_num/sum([y for x in lev_cluster_dict.values() for y in x.values()])\n",
    "bcubed_precision"
   ],
   "metadata": {
    "collapsed": false,
    "pycharm": {
     "name": "#%%\n"
    }
   }
  },
  {
   "cell_type": "code",
   "execution_count": 17,
   "outputs": [
    {
     "data": {
      "text/plain": "0.8189914063842582"
     },
     "execution_count": 17,
     "metadata": {},
     "output_type": "execute_result"
    }
   ],
   "source": [
    "bcubed_f1 = (2 * (bcubed_recall * bcubed_precision)) / (\n",
    "        bcubed_precision + bcubed_recall)\n",
    "bcubed_f1\n"
   ],
   "metadata": {
    "collapsed": false,
    "pycharm": {
     "name": "#%%\n"
    }
   }
  }
 ],
 "metadata": {
  "kernelspec": {
   "display_name": "Python 3",
   "language": "python",
   "name": "python3"
  },
  "language_info": {
   "codemirror_mode": {
    "name": "ipython",
    "version": 2
   },
   "file_extension": ".py",
   "mimetype": "text/x-python",
   "name": "python",
   "nbconvert_exporter": "python",
   "pygments_lexer": "ipython2",
   "version": "2.7.6"
  }
 },
 "nbformat": 4,
 "nbformat_minor": 0
}