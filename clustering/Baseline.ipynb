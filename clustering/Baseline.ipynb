{
 "cells": [
  {
   "cell_type": "code",
   "execution_count": 73,
   "outputs": [
    {
     "name": "stdout",
     "output_type": "stream",
     "text": [
      "The autoreload extension is already loaded. To reload it, use:\n",
      "  %reload_ext autoreload\n"
     ]
    }
   ],
   "source": [
    "%load_ext autoreload\n",
    "%autoreload 2"
   ],
   "metadata": {
    "collapsed": false,
    "pycharm": {
     "name": "#%%\n"
    }
   }
  },
  {
   "cell_type": "code",
   "execution_count": 130,
   "metadata": {
    "collapsed": true
   },
   "outputs": [],
   "source": [
    "import Packages.CoNLLReader as reader\n",
    "import numpy as np\n",
    "from tqdm import tqdm\n",
    "from Levenshtein import distance"
   ]
  },
  {
   "cell_type": "code",
   "execution_count": 131,
   "outputs": [
    {
     "data": {
      "text/plain": "         tokens             indexes tags mentions        entities  \\\n0            EU              (0, 2)                                 \n1       rejects             (3, 10)                                 \n2        German            (11, 17)    B   German         Germany   \n3          call            (18, 22)                                 \n4            to            (23, 25)                                 \n...         ...                 ...  ...      ...             ...   \n285584  younger  (1615647, 1615654)                                 \n285585  brother  (1615655, 1615662)                                 \n285586        ,  (1615663, 1615664)                                 \n285587    Bobby  (1615665, 1615670)    B    Bobby  Bobby_Charlton   \n285588        .  (1615671, 1615672)                                 \n\n                                          wikidatas numeric_codes alpha_codes  \n0                                                                              \n1                                                                              \n2              http://en.wikipedia.org/wiki/Germany         11867    /m/0345h  \n3                                                                              \n4                                                                              \n...                                             ...           ...         ...  \n285584                                                                         \n285585                                                                         \n285586                                                                         \n285587  http://en.wikipedia.org/wiki/Bobby_Charlton          4224    /m/01c8x  \n285588                                                                         \n\n[285589 rows x 8 columns]",
      "text/html": "<div>\n<style scoped>\n    .dataframe tbody tr th:only-of-type {\n        vertical-align: middle;\n    }\n\n    .dataframe tbody tr th {\n        vertical-align: top;\n    }\n\n    .dataframe thead th {\n        text-align: right;\n    }\n</style>\n<table border=\"1\" class=\"dataframe\">\n  <thead>\n    <tr style=\"text-align: right;\">\n      <th></th>\n      <th>tokens</th>\n      <th>indexes</th>\n      <th>tags</th>\n      <th>mentions</th>\n      <th>entities</th>\n      <th>wikidatas</th>\n      <th>numeric_codes</th>\n      <th>alpha_codes</th>\n    </tr>\n  </thead>\n  <tbody>\n    <tr>\n      <th>0</th>\n      <td>EU</td>\n      <td>(0, 2)</td>\n      <td></td>\n      <td></td>\n      <td></td>\n      <td></td>\n      <td></td>\n      <td></td>\n    </tr>\n    <tr>\n      <th>1</th>\n      <td>rejects</td>\n      <td>(3, 10)</td>\n      <td></td>\n      <td></td>\n      <td></td>\n      <td></td>\n      <td></td>\n      <td></td>\n    </tr>\n    <tr>\n      <th>2</th>\n      <td>German</td>\n      <td>(11, 17)</td>\n      <td>B</td>\n      <td>German</td>\n      <td>Germany</td>\n      <td>http://en.wikipedia.org/wiki/Germany</td>\n      <td>11867</td>\n      <td>/m/0345h</td>\n    </tr>\n    <tr>\n      <th>3</th>\n      <td>call</td>\n      <td>(18, 22)</td>\n      <td></td>\n      <td></td>\n      <td></td>\n      <td></td>\n      <td></td>\n      <td></td>\n    </tr>\n    <tr>\n      <th>4</th>\n      <td>to</td>\n      <td>(23, 25)</td>\n      <td></td>\n      <td></td>\n      <td></td>\n      <td></td>\n      <td></td>\n      <td></td>\n    </tr>\n    <tr>\n      <th>...</th>\n      <td>...</td>\n      <td>...</td>\n      <td>...</td>\n      <td>...</td>\n      <td>...</td>\n      <td>...</td>\n      <td>...</td>\n      <td>...</td>\n    </tr>\n    <tr>\n      <th>285584</th>\n      <td>younger</td>\n      <td>(1615647, 1615654)</td>\n      <td></td>\n      <td></td>\n      <td></td>\n      <td></td>\n      <td></td>\n      <td></td>\n    </tr>\n    <tr>\n      <th>285585</th>\n      <td>brother</td>\n      <td>(1615655, 1615662)</td>\n      <td></td>\n      <td></td>\n      <td></td>\n      <td></td>\n      <td></td>\n      <td></td>\n    </tr>\n    <tr>\n      <th>285586</th>\n      <td>,</td>\n      <td>(1615663, 1615664)</td>\n      <td></td>\n      <td></td>\n      <td></td>\n      <td></td>\n      <td></td>\n      <td></td>\n    </tr>\n    <tr>\n      <th>285587</th>\n      <td>Bobby</td>\n      <td>(1615665, 1615670)</td>\n      <td>B</td>\n      <td>Bobby</td>\n      <td>Bobby_Charlton</td>\n      <td>http://en.wikipedia.org/wiki/Bobby_Charlton</td>\n      <td>4224</td>\n      <td>/m/01c8x</td>\n    </tr>\n    <tr>\n      <th>285588</th>\n      <td>.</td>\n      <td>(1615671, 1615672)</td>\n      <td></td>\n      <td></td>\n      <td></td>\n      <td></td>\n      <td></td>\n      <td></td>\n    </tr>\n  </tbody>\n</table>\n<p>285589 rows × 8 columns</p>\n</div>"
     },
     "execution_count": 131,
     "metadata": {},
     "output_type": "execute_result"
    }
   ],
   "source": [
    "text, data = reader.read_aida_yago_conll(\n",
    "    \"D:\\\\Sgmon\\\\Documents\\\\Magistrale\\\\TESI\\\\ClusteringAndLinking\\\\aida-yago2-dataset\\\\AIDA-YAGO2-dataset.tsv\")\n",
    "save = False\n",
    "if save:\n",
    "    text_file = open('text.txt', 'w')\n",
    "    text_file.write(text)\n",
    "    text_file.close()\n",
    "data"
   ],
   "metadata": {
    "collapsed": false,
    "pycharm": {
     "name": "#%%\n"
    }
   }
  },
  {
   "cell_type": "code",
   "execution_count": 132,
   "outputs": [],
   "source": [
    "n_entities = sum([x is not '' for x in list(data['entities'])])\n",
    "n_ass_ents = sum([x is not '' for x in list(data['numeric_codes'])])\n",
    "n_tokens = sum([1 for x in list(data['entities'])])"
   ],
   "metadata": {
    "collapsed": false,
    "pycharm": {
     "name": "#%%\n"
    }
   }
  },
  {
   "cell_type": "code",
   "execution_count": 133,
   "outputs": [
    {
     "name": "stdout",
     "output_type": "stream",
     "text": [
      "Numero totale di entità:                 27817 \n",
      "Numero totale di tokens:                285589 \n",
      "1 entità ogni:                           10.27 \n"
     ]
    }
   ],
   "source": [
    "print('{0:<35} {1:>10} '.format(\"Numero totale di entità:\", n_entities))\n",
    "print('{0:<35} {1:>10} '.format(\"Numero totale di tokens:\", n_tokens))\n",
    "print('{0:<35} {1:>10} '.format(\"1 entità ogni:\", round(n_tokens / n_entities, 2)))"
   ],
   "metadata": {
    "collapsed": false,
    "pycharm": {
     "name": "#%%\n"
    }
   }
  },
  {
   "cell_type": "code",
   "execution_count": 134,
   "outputs": [
    {
     "name": "stderr",
     "output_type": "stream",
     "text": [
      "100%|██████████| 285589/285589 [00:00<00:00, 3210103.97it/s]\n",
      "100%|██████████| 285589/285589 [00:00<00:00, 2695285.99it/s]\n"
     ]
    }
   ],
   "source": [
    "ent_nums = {}\n",
    "unique_entities = np.unique(data[data['entities'] != '']['entities'].values)\n",
    "entities = data['entities'].values\n",
    "for uniqu_ent in tqdm(entities):\n",
    "    ent_nums[uniqu_ent] = 0\n",
    "for uniqu_ent in tqdm(entities):\n",
    "    ent_nums[uniqu_ent] = ent_nums[uniqu_ent] + 1\n",
    "ent_nums.pop('')\n",
    "ent_nums = dict(sorted(ent_nums.items(), key=lambda item: item[1], reverse=True))"
   ],
   "metadata": {
    "collapsed": false,
    "pycharm": {
     "name": "#%%\n"
    }
   }
  },
  {
   "cell_type": "code",
   "execution_count": 135,
   "outputs": [],
   "source": [
    "ents_data = data[data['mentions'] != '']\n",
    "mentions = ents_data['mentions'].values\n",
    "\n",
    "mention_to_entity = {}\n",
    "for men, ent in set(list(zip(list(ents_data['mentions']), list(ents_data['entities'])))):\n",
    "    mention_to_entity[men] = ent"
   ],
   "metadata": {
    "collapsed": false,
    "pycharm": {
     "name": "#%%\n"
    }
   }
  },
  {
   "cell_type": "markdown",
   "source": [
    "### Golden standard"
   ],
   "metadata": {
    "collapsed": false,
    "pycharm": {
     "name": "#%% md\n"
    }
   }
  },
  {
   "cell_type": "code",
   "execution_count": 136,
   "outputs": [],
   "source": [
    "golden_standard = [mention_to_entity[x] for x in mentions]\n",
    "golden_standard_dict = dict.fromkeys(golden_standard, 0)\n",
    "for ent in golden_standard:\n",
    "    golden_standard_dict[ent] = golden_standard_dict[ent] + 1"
   ],
   "metadata": {
    "collapsed": false,
    "pycharm": {
     "name": "#%%\n"
    }
   }
  },
  {
   "cell_type": "markdown",
   "source": [
    "### Clustering by Levenshtein distance and DBSCAN"
   ],
   "metadata": {
    "collapsed": false,
    "pycharm": {
     "name": "#%% md\n"
    }
   }
  },
  {
   "cell_type": "code",
   "execution_count": 137,
   "outputs": [],
   "source": [
    "# Way with dbscan algorithm\n",
    "import numpy as np\n",
    "from sklearn.cluster import dbscan\n",
    "\n",
    "clustering = False\n",
    "if clustering:\n",
    "    def lev_metric(x, y):\n",
    "        i, j = int(x[0]), int(y[0])  # extract indices\n",
    "        if len(mentions[i]) < 4:\n",
    "            if mentions[i] == mentions[j]:\n",
    "                return 0\n",
    "            else:\n",
    "                return distance(mentions[i].lower(), mentions[j].lower()) + 3\n",
    "        else:\n",
    "            return distance(mentions[i].lower(), mentions[j].lower())\n",
    "\n",
    "\n",
    "    X = np.arange(len(mentions)).reshape(-1, 1)\n",
    "    _, leven_cluster = dbscan(X, metric=lev_metric, eps=1, min_samples=1, n_jobs=-1)\n",
    "    np.savetxt('db_cluster_levestein.txt', leven_cluster, delimiter=',')\n",
    "else:\n",
    "    leven_cluster = np.loadtxt(\"../aida-yago2-dataset/db_cluster_levestein.txt\", dtype=np.int32)"
   ],
   "metadata": {
    "collapsed": false,
    "pycharm": {
     "name": "#%%\n"
    }
   }
  },
  {
   "cell_type": "code",
   "execution_count": 154,
   "outputs": [
    {
     "name": "stderr",
     "output_type": "stream",
     "text": [
      "100%|██████████| 3115/3115 [00:00<00:00, 282822.26it/s]\n"
     ]
    }
   ],
   "source": [
    "# Now we create a dict for each cluster taht contains entities and entities count\n",
    "lev_cluster_dict = {}\n",
    "for i, x in enumerate(leven_cluster):\n",
    "    try:\n",
    "        lev_cluster_dict[x].append(mentions[i])\n",
    "    except:\n",
    "        lev_cluster_dict[x] = [mentions[i]]\n",
    "del lev_cluster_dict[-1]\n",
    "for key in tqdm(lev_cluster_dict):\n",
    "    cluster_list = [mention_to_entity[x] for x in lev_cluster_dict[key]]\n",
    "    cluster_set = set(cluster_list)\n",
    "    cluster_dict = dict.fromkeys(list(cluster_set), 0)\n",
    "    for cluster in cluster_list:\n",
    "        cluster_dict[cluster] = cluster_dict[cluster] + 1\n",
    "    lev_cluster_dict[key] = cluster_dict"
   ],
   "metadata": {
    "collapsed": false,
    "pycharm": {
     "name": "#%%\n"
    }
   }
  },
  {
   "cell_type": "markdown",
   "source": [
    "### evaluation levestein"
   ],
   "metadata": {
    "collapsed": false,
    "pycharm": {
     "name": "#%% md\n"
    }
   }
  },
  {
   "cell_type": "markdown",
   "source": [
    "CEAFm precision"
   ],
   "metadata": {
    "collapsed": false,
    "pycharm": {
     "name": "#%% md\n"
    }
   }
  },
  {
   "cell_type": "code",
   "execution_count": 199,
   "outputs": [],
   "source": [
    "max_lev_cluster_list = []\n",
    "for key in lev_cluster_dict.keys():\n",
    "    max_key = max(lev_cluster_dict[key], key=lev_cluster_dict[key].get)\n",
    "    max_lev_cluster_list.append((max_key, lev_cluster_dict[key][max_key]))\n",
    "max_lev_cluster_list.sort(key=lambda x: x[1], reverse=True)\n",
    "max_lev_cluster_dict = dict.fromkeys(entities, 0)\n",
    "for key, val in max_lev_cluster_list:\n",
    "    if max_lev_cluster_dict[key] == 0:\n",
    "        max_lev_cluster_dict[key] = val"
   ],
   "metadata": {
    "collapsed": false,
    "pycharm": {
     "name": "#%%\n"
    }
   }
  },
  {
   "cell_type": "code",
   "execution_count": 200,
   "outputs": [
    {
     "data": {
      "text/plain": "{'Germany': 255,\n 'United_Kingdom': 443,\n 'Brussels': 44,\n 'European_Commission': 19,\n 'European_Union': 24,\n 'Franz_Fischler': 2,\n 'France': 6,\n 'Bovine_spongiform_encephalopathy': 0,\n 'Spain': 178,\n 'Loyola_de_Palacio': 0,\n 'Europe': 119,\n 'Bonn': 42,\n 'Jimi_Hendrix': 4,\n 'London': 147,\n 'United_States': 511,\n 'England': 82,\n 'Nottingham': 3,\n 'Australia': 0,\n \"People's_Republic_of_China\": 188,\n 'Republic_of_China': 3,\n 'Beijing': 33,\n 'Taipei': 5,\n 'Taiwan_Strait': 0,\n 'Ukraine': 5,\n 'Lien_Chan': 0,\n \"Ministry_of_Foreign_Affairs_of_the_People's_Republic_of_China\": 0,\n 'Reuters': 109,\n 'Xinhua_News_Agency': 11,\n 'Association_for_Relations_Across_the_Taiwan_Straits': 0,\n 'Frankfurt_am_Main': 14,\n 'Volkswagen': 3,\n 'Opel': 0,\n 'General_Motors': 0,\n 'Ford_Motor_Company': 0,\n 'Porsche': 2,\n 'Greece': 40,\n 'Athens': 15,\n 'Costas_Simitis': 7,\n 'Kostas_Skandalidis': 2,\n 'HypoVereinsbank': 2,\n 'Sweden': 8,\n 'Syria': 0,\n 'Tartus': 0,\n 'Israel': 197,\n 'Jerusalem': 48,\n 'Itamar_Rabinovich': 2,\n 'Washington,_D.C.': 0,\n 'Kol_Yisrael': 2,\n 'Eliyahu_Ben-Elissar': 0,\n 'Egypt': 43,\n 'Likud': 3,\n 'Hafez_al-Assad': 0,\n 'David_Levy_(Israeli_politician)': 4,\n 'Benjamin_Netanyahu': 36,\n 'Golan_Heights': 2,\n 'Middle_East': 17,\n 'God': 9,\n 'Channel_2_(Israel)': 0,\n 'Russia': 298,\n 'Poland': 105,\n 'Libya': 18,\n 'Tunis': 5,\n 'Iran': 30,\n 'Baghdad': 0,\n 'Iraq': 208,\n 'Kurdish_people': 0,\n 'Massoud_Rajavi': 0,\n 'Democratic_Party_of_Iranian_Kurdistan': 0,\n 'Resistance_movement': 0,\n 'Iranian_Kurdistan': 2,\n 'Iraqi_Kurdistan': 55,\n 'Patriotic_Union_of_Kurdistan': 33,\n 'Kurdistan_Democratic_Party': 39,\n 'Kuwait': 12,\n 'Gulf_War': 17,\n 'Qasr-e_Shirin': 0,\n 'Sulaymaniyah': 0,\n 'Saudi_Arabia': 30,\n 'Manama': 0,\n 'Yasser_Arafat': 68,\n 'State_of_Palestine': 76,\n 'Shimon_Peres': 18,\n 'Ramallah': 11,\n 'Gaza_Strip': 18,\n 'Allenby_Bridge': 0,\n 'Jordan_River': 0,\n 'Erez': 0,\n 'Afghanistan': 28,\n 'United_Arab_Emirates': 14,\n 'Taliban': 7,\n 'Dubai': 7,\n 'Abu_Dhabi': 5,\n 'Sharjah_(emirate)': 0,\n 'Kandahar': 5,\n 'Kabul': 10,\n 'Burhanuddin_Rabbani': 6,\n 'Abu_Dhabi_(emirate)': 0,\n 'Tatarstan': 0,\n 'Albania': 0,\n 'Saddam_Hussein': 13,\n 'Vladimir_Zhirinovsky': 6,\n 'Duma': 0,\n 'United_Nations': 27,\n 'Umm_Qasr': 0,\n 'Persian_Gulf': 0,\n 'Lebanon': 41,\n 'Beirut': 11,\n 'An-Nahar': 2,\n 'Hezbollah': 4,\n 'As-Safir': 2,\n 'Ad-Diyar': 2,\n 'Pakistan': 137,\n 'Maronite_Church': 0,\n 'Chicago_Mercantile_Exchange': 4,\n 'Chicago': 0,\n 'Montgomery,_Alabama': 0,\n 'Alabama': 2,\n 'KinderCare_Learning_Centers': 0,\n 'Lehman_Brothers': 2,\n 'Southern_New_England_Telecommunications': 0,\n 'Phoenix,_Arizona': 0,\n 'Le_Monde': 5,\n 'Paris': 66,\n 'Africa': 27,\n 'Alain_Juppé': 5,\n 'National_Liberation_Front_of_Corsica': 0,\n 'Corsica': 7,\n 'Bally_Shoe': 0,\n 'Sud-PTT': 0,\n 'France_Télécom': 0,\n 'Heidrun_oil_field': 3,\n 'Statoil': 2,\n 'Oslo': 7,\n 'Finland': 4,\n 'Helsinki': 8,\n 'Bank_of_Finland': 2,\n 'Netherlands': 8,\n 'Amsterdam': 48,\n 'Greenwich_Mean_Time': 64,\n 'ZDF': 2,\n 'World_Series_of_Golf': 10,\n 'Akron,_Ohio': 12,\n 'Ohio': 17,\n 'WGC-Bridgestone_Invitational': 3,\n 'Paul_Goydos': 4,\n 'Billy_Mayfair': 12,\n 'Hidemichi_Tanaka': 3,\n 'Japan': 166,\n 'Steve_Stricker': 6,\n 'Justin_Leonard': 3,\n 'Mark_Brooks_(golfer)': 4,\n 'Tim_Herron': 3,\n 'Duffy_Waldorf': 7,\n 'Davis_Love_III': 4,\n 'Anders_Forsbrand': 3,\n 'Nick_Faldo': 3,\n 'John_Cook_(golfer)': 3,\n 'Steve_Jones_(golfer)': 3,\n 'Phil_Mickelson': 16,\n 'Greg_Norman': 10,\n 'Ernie_Els': 3,\n 'South_Africa': 0,\n 'Scott_Hoch': 4,\n 'Clarence_Rose': 3,\n 'Loren_Roberts': 5,\n 'Fred_Funk': 3,\n 'Sven_Strüver': 3,\n 'Alex_Čejka': 3,\n 'Hal_Sutton': 3,\n 'Tom_Lehman': 4,\n 'D._A._Weibring': 3,\n 'Brad_Bryant': 3,\n 'Craig_Parry': 3,\n 'Stewart_Ginn': 3,\n 'Corey_Pavin': 3,\n 'Craig_Stadler': 3,\n 'Fred_Couples': 3,\n 'Paul_Stankowski': 3,\n 'Costantino_Rocca': 8,\n 'Italy': 0,\n 'Jim_Furyk': 3,\n 'Satoshi_Higashi': 3,\n 'Willie_Wood_(golfer)': 4,\n 'Shigeki_Maruyama': 2,\n 'Scott_McCarron': 4,\n 'Wayne_Westner': 3,\n 'Tom_Watson_(golfer)': 3,\n 'ACF_Gloria_1922_Bistriţa': 9,\n 'Bistriţa': 3,\n 'Romania': 0,\n 'Malta': 0,\n \"UEFA_Cup_Winners'_Cup\": 2,\n 'Gilbert_Agius': 2,\n 'York': 0,\n 'Mark_Prescott': 2,\n 'Nunthorpe_Stakes': 2,\n 'George_Duffield': 2,\n 'Longchamp_Racecourse': 0,\n 'Ascot_Racecourse': 0,\n 'Jason_Weaver_(jockey)': 0,\n 'Newmarket,_Suffolk': 0,\n 'Southern_California_Open': 10,\n 'Carlsbad,_California': 5,\n 'California': 35,\n 'Arantxa_Sánchez_Vicario': 11,\n 'Kimiko_Date_Krumm': 6,\n 'Sandrine_Testud': 5,\n 'Ai_Sugiyama': 3,\n 'Nathalie_Tauziat': 4,\n 'Wang_Shi-ting': 0,\n 'Commack,_New_York': 4,\n 'New_York': 4,\n 'Michael_Chang': 17,\n 'Sergi_Bruguera': 6,\n 'Michael_Joyce_(tennis)': 4,\n 'Richey_Reneberg': 4,\n 'Martin_Damm': 6,\n 'Czech_Republic': 24,\n 'Younes_El_Aynaoui': 2,\n 'Morocco': 33,\n 'Karol_Kučera': 5,\n 'Slovakia': 57,\n 'Hicham_Arazi': 3,\n 'Kenny_Dalglish': 4,\n 'Blackburn_Rovers_F.C.': 16,\n 'County_Championship': 15,\n 'Clarence_Park,_Weston-super-Mare': 0,\n 'Durham_County_Cricket_Club': 12,\n 'Somerset_County_Cricket_Club': 14,\n 'Castle_Park_Cricket_Ground': 0,\n 'Gloucestershire_County_Cricket_Club': 14,\n 'J._Russell_(Essex_cricketer)': 2,\n 'Essex_County_Cricket_Club': 25,\n 'Cardiff': 0,\n 'Kent_County_Cricket_Club': 17,\n 'Glamorgan_County_Cricket_Club': 15,\n 'Leicester': 0,\n 'Leicestershire_County_Cricket_Club': 17,\n 'Hampshire_County_Cricket_Club': 18,\n 'Northampton': 19,\n 'Sussex_County_Cricket_Club': 11,\n 'Northamptonshire_County_Cricket_Club': 10,\n 'Trent_Bridge': 7,\n 'Nottinghamshire_County_Cricket_Club': 14,\n 'Surrey_County_Cricket_Club': 0,\n 'Worcester': 4,\n 'Warwickshire_County_Cricket_Club': 20,\n 'Worcestershire_County_Cricket_Club': 16,\n 'Headingley_Stadium': 10,\n 'Yorkshire_County_Cricket_Club': 17,\n 'Lancashire_County_Cricket_Club': 15,\n 'England_cricket_team': 0,\n 'Pakistan_national_cricket_team': 0,\n 'The_Oval': 24,\n 'Waqar_Younis': 36,\n 'Mushtaq_Ahmed': 30,\n 'Saeed_Anwar': 19,\n 'Mohammad_Akram': 7,\n 'Wasim_Akram': 43,\n 'Ijaz_Ahmed_(cricketer)': 17,\n 'Inzamam-ul-Haq': 14,\n 'Saleem_Malik': 18,\n 'Asif_Mujtaba': 10,\n 'Moin_Khan': 20,\n 'Duncan_Ferguson': 8,\n 'Scotland_national_football_team': 0,\n 'Glasgow': 9,\n 'Everton_F.C.': 13,\n 'Manchester_United_F.C.': 22,\n 'Scotland': 37,\n 'Rangers_F.C.': 13,\n 'Ally_McCoist': 3,\n '1998_FIFA_World_Cup': 86,\n 'Austria_national_football_team': 0,\n 'Vienna': 14,\n 'Craig_Brown_(footballer)': 2,\n 'Celtic_F.C.': 10,\n 'Jackie_McNamara': 0,\n 'Roy_Keane': 1,\n 'Republic_of_Ireland': 48,\n 'FA_Cup': 5,\n 'Alex_Ferguson': 2,\n 'Rogers_Cup_(tennis)': 13,\n 'Toronto': 2,\n 'Daniel_Nestor': 6,\n 'Canada': 108,\n 'Thomas_Muster': 14,\n 'Austria': 0,\n 'Mikael_Tillström': 7,\n 'Goran_Ivanišević': 9,\n 'Croatia': 0,\n 'Wayne_Ferreira': 9,\n 'Jiří_Novák': 4,\n 'Marcelo_Ríos': 15,\n 'Chile': 33,\n 'Kenneth_Carlsen': 4,\n 'Denmark': 35,\n 'MaliVai_Washington': 9,\n 'Àlex_Corretja': 4,\n 'Todd_Martin': 15,\n 'Renzo_Furlan': 3,\n 'Mark_Philippoussis': 18,\n 'Marc_Rosset': 4,\n 'Switzerland': 41,\n 'Cédric_Pioline': 7,\n 'Grégory_Carraz': 0,\n 'Patrick_Rafter': 10,\n 'Alberto_Berasategui': 4,\n 'Petr_Korda': 6,\n 'Francisco_Clavet': 3,\n 'Daniel_Vacek': 5,\n 'Jason_Stoltenberg': 6,\n 'Todd_Woodbridge': 9,\n 'Sébastien_Lareau': 0,\n 'Byron_Black': 3,\n 'Zimbabwe': 29,\n 'Bohdan_Ulihrach': 6,\n 'Andrea_Gaudenzi': 4,\n 'Tim_Henman': 6,\n 'Chris_Woodruff': 3,\n 'David_Millns': 2,\n 'Boland_cricket_team': 0,\n 'Cape_Town': 9,\n 'International_cricketers_of_South_African_origin': 0,\n 'Phillip_DeFreitas': 0,\n 'Tirana': 14,\n 'Flamurtari_Vlorë': 0,\n '1._HFC_Humenné': 5,\n 'Valletta_F.C.': 0,\n 'Malta_national_football_team': 12,\n 'Chorzów': 0,\n 'Ruch_Chorzów': 5,\n 'Poland_national_football_team': 0,\n 'The_New_Saints_F.C.': 0,\n 'Wales_national_football_team': 0,\n 'Arkadiusz_Bąk': 0,\n 'Larnaca': 6,\n 'AEK_Larnaca': 2,\n 'Cyprus_national_football_team': 20,\n 'FC_Kotayk_Abovian': 0,\n 'Armenia_national_football_team': 0,\n 'Šiauliai': 0,\n 'FK_Kareda_Kaunas': 0,\n 'Lithuania': 0,\n 'FC_Sion': 10,\n 'Switzerland_national_football_team': 48,\n 'Vinnytsia': 0,\n 'Ukraine_national_football_team': 44,\n 'JK_Tallinna_Sadam': 0,\n 'Estonia': 0,\n 'PFC_Nyva_Vinnytsia': 0,\n 'Bergen': 2,\n 'SK_Brann': 5,\n 'Norway': 56,\n 'Shelbourne_F.C.': 2,\n 'Ireland': 0,\n 'Mons_Ivar_Mjelde': 0,\n 'Jan_Ove_Pedersen': 0,\n 'Mark_Rutherford_(footballer)': 0,\n 'Sofia': 10,\n 'PFC_Levski_Sofia': 0,\n 'Bulgaria': 21,\n 'NK_Olimpija_Ljubljana_(1911)': 2,\n 'Slovenia': 19,\n 'Rheinpark_Stadion': 0,\n 'FC_Vaduz': 5,\n 'Liechtenstein_national_football_team': 10,\n 'Latvia': 0,\n 'Luxembourg_(city)': 0,\n 'Union_Luxembourg': 0,\n 'Luxembourg': 7,\n 'NK_Varaždin': 2,\n 'Croatia_national_football_team': 21,\n 'Tórshavn': 0,\n 'Havnar_Bóltfelag': 0,\n 'Faroe_Islands_national_football_team': 5,\n 'FC_Dinamo_Batumi': 2,\n 'Georgia_(country)': 0,\n 'Prague': 11,\n 'Sparta_Prague': 2,\n 'Czech_Republic_national_football_team': 0,\n 'Glentoran_F.C.': 3,\n 'Northern_Ireland_national_football_team': 13,\n 'Horst_Siegl': 0,\n 'Zdeněk_Svoboda': 0,\n 'Petr_Gabriel': 0,\n 'Edinburgh': 0,\n 'Heart_of_Midlothian_F.C.': 9,\n 'Red_Star_Belgrade': 0,\n 'Yugoslavia': 44,\n 'Dave_McPherson_(footballer)': 0,\n 'Vinko_Marinović': 0,\n 'Hapoel_Ironi_Rishon_LeZion_F.C.': 0,\n 'FC_Tiraspol': 2,\n 'Moldova_national_football_team': 12,\n 'MYPA': 0,\n 'Azerbaijan_national_football_team': 7,\n 'Skopje': 4,\n 'FK_Sloga_Jugomagnat': 0,\n 'Republic_of_Macedonia': 0,\n 'Budapest_Honvéd_FC': 2,\n 'Hungary': 36,\n 'IFK_Göteborg': 4,\n 'Ferencvárosi_TC': 5,\n 'UEFA_European_Football_Championship': 0,\n 'Budapest': 17,\n 'UEFA_Champions_League': 7,\n 'Ferenc_Horváth': 0,\n 'Andreas_Andersson': 0,\n 'Brazil': 34,\n 'Rio_de_Janeiro': 12,\n 'Esporte_Clube_Bahia': 4,\n 'Clube_Atlético_Paranaense': 3,\n 'Sport_Club_Corinthians_Paulista': 3,\n 'Guarani_Futebol_Clube': 3,\n 'Coritiba_Foot_Ball_Club': 3,\n 'Clube_Atlético_Mineiro': 4,\n 'Cruzeiro_Esporte_Clube': 3,\n 'Esporte_Clube_Vitória': 0,\n 'Esporte_Clube_Flamengo': 0,\n 'Esporte_Clube_Juventude': 4,\n 'Goiás_Esporte_Clube': 4,\n 'Sport_Club_do_Recife': 3,\n 'Grêmio_Foot-Ball_Porto_Alegrense': 4,\n 'Clube_Atlético_Bragantino': 3,\n 'Sociedade_Esportiva_Palmeiras': 3,\n 'Associação_Desportiva_Vasco_da_Gama': 0,\n 'Associação_Portuguesa_de_Desportos': 0,\n 'Paraná_Clube': 3,\n 'John_Newcombe': 7,\n 'Davis_Cup': 7,\n 'Sydney': 24,\n 'Croatia_Davis_Cup_team': 0,\n 'Wimbledon_Championships': 44,\n 'Tony_Roche': 0,\n 'Split_(city)': 0,\n 'The_Daily_Telegraph_(Australia)': 0,\n 'Australia_Davis_Cup_team': 0,\n 'Neale_Fraser': 3,\n 'Summer_Olympic_Games': 0,\n 'Mark_Woodforde': 4,\n 'Germany_Davis_Cup_team': 0,\n 'Malaysia_Open_(badminton)': 6,\n 'Kuala_Lumpur': 5,\n 'South_Korea': 74,\n 'Malaysia': 21,\n 'Indonesia': 0,\n 'Hermawan_Susanto': 3,\n 'Fung_Permadi': 3,\n 'Wang_Chen_(badminton)': 3,\n 'Meluawati': 0,\n 'Gong_Zhichao': 3,\n 'New_Zealand': 0,\n 'Christine_Magnusson': 0,\n 'Zhang_Ning': 2,\n 'US_Open_(tennis)': 6,\n 'New_York_City': 7,\n 'Pete_Sampras': 17,\n 'Adrian_Voinea': 4,\n 'Magnus_Larsson': 0,\n 'Alexander_Vladimirovich_Volkov': 3,\n 'Andrei_Olhovskiy': 3,\n 'Roberto_Carretero': 3,\n 'Jordi_Burillo': 2,\n 'Jonas_Björkman': 3,\n 'David_Rikl': 4,\n 'Sjeng_Schalken': 3,\n 'Gilbert_Schaller': 2,\n 'Grant_Stafford': 2,\n 'Guy_Forget': 3,\n 'Fernando_Meligeni': 2,\n 'Yevgeny_Kafelnikov': 5,\n 'Andrei_Chesnokov': 0,\n 'Scott_Draper': 3,\n 'Galo_Blanco': 2,\n 'Thomas_Johansson': 4,\n 'Greg_Rusedski': 0,\n 'Andriy_Medvedev': 22,\n 'Jean-Philippe_Fleurian': 6,\n 'Ján_Krošlák': 3,\n 'Shuzo_Matsuoka': 2,\n 'Doug_Flach': 3,\n 'Mats_Wilander': 2,\n 'Paul_Haarhuis': 4,\n 'Michael_Tebbutt': 3,\n 'Jonathan_Stark': 3,\n 'Bernd_Karbacher': 8,\n 'Stefan_Edberg': 24,\n 'Richard_Krajicek': 7,\n 'Andre_Agassi': 11,\n 'Mauricio_Hadad': 0,\n 'Colombia': 33,\n 'Marcos_Ondruska': 2,\n 'Félix_Mantilla_Botella': 4,\n 'Carlos_Moyá': 3,\n 'Scott_Humphries': 2,\n 'Jan_Siemerink': 3,\n 'Carl-Uwe_Steeb': 2,\n 'David_Wheaton': 2,\n 'Kevin_Kim': 0,\n 'Nicolás_Lapentti': 3,\n 'Ecuador': 10,\n 'Karim_Alami': 4,\n 'Thomas_Enqvist': 10,\n 'Stéphane_Simian': 2,\n 'Guillaume_Raoux': 3,\n 'Filip_Dewulf': 2,\n 'Belgium': 139,\n 'Mark_Knowles': 3,\n 'The_Bahamas': 7,\n 'Marcelo_Filippini': 2,\n 'Uruguay': 6,\n 'Michael_Stich': 18,\n 'Chuck_Adams': 2,\n 'Javier_Frana': 3,\n 'Argentina': 52,\n 'Jim_Courier': 4,\n 'Javier_Sánchez': 4,\n 'Jim_Grabb': 3,\n 'Sandon_Stolle': 2,\n 'Stefano_Pescosolido': 2,\n 'Arnaud_Boetsch': 3,\n 'Nicolás_Pereira': 2,\n 'Venezuela': 21,\n 'Carlos_Costa': 2,\n 'Magnus_Gustafsson': 4,\n 'Jeff_Tarango': 12,\n 'Alex_Rădulescu': 3,\n 'Jared_Palmer': 3,\n 'Hernán_Gumy': 2,\n 'Nicklas_Kulti': 2,\n 'Jakob_Hlasek': 2,\n 'Cecil_Mamiit': 2,\n 'Vince_Spadea': 0,\n 'David_Prinosil': 2,\n 'Tomás_Carbonell': 2,\n 'Baltimore_Orioles': 20,\n 'Davey_Johnson': 9,\n 'Baltimore': 49,\n 'Seattle_Mariners': 12,\n 'Andy_Etchebarren': 2,\n 'Los_Angeles_Angels_of_Anaheim': 10,\n 'John_McNamara_(baseball)': 2,\n 'NewYork–Presbyterian_Hospital': 0,\n 'Phil_Regan_(baseball)': 0,\n 'Cincinnati_Reds': 11,\n 'New_York_Mets': 3,\n 'World_Series': 0,\n 'New_York_Yankees': 18,\n 'American_League_East': 10,\n 'Major_League_Baseball': 40,\n 'Boston_Red_Sox': 7,\n 'Toronto_Blue_Jays': 4,\n 'Detroit_Tigers': 8,\n 'National_League_Central': 0,\n 'Cleveland_Indians': 5,\n 'Chicago_Cubs': 5,\n 'Minnesota_Twins': 6,\n 'Milwaukee_Brewers': 7,\n 'Kansas_City_Royals': 6,\n 'National_League_West': 20,\n 'Texas_Rangers_(baseball)': 50,\n 'Oakland_Athletics': 28,\n 'National_League_East': 11,\n 'Atlanta_Braves': 14,\n 'Montreal_Expos': 6,\n 'Florida_Marlins': 10,\n 'Philadelphia_Phillies': 8,\n 'Houston_Astros': 7,\n 'Chicago_White_Sox': 11,\n 'Pittsburgh_Pirates': 41,\n 'San_Diego_Padres': 7,\n 'Colorado_Rockies': 5,\n 'San_Francisco_Giants': 9,\n 'American_League': 14,\n 'National_League': 12,\n 'Rusty_Greer': 2,\n 'Cleveland': 0,\n 'Julián_Tavárez': 0,\n 'Iván_Rodríguez': 2,\n 'Mickey_Cochrane': 0,\n 'Johnny_Bench': 0,\n 'Terry_Kennedy': 0,\n 'Progressive_Field': 0,\n 'Kenny_Lofton': 0,\n 'Ed_Vosberg': 0,\n 'Dean_Palmer': 0,\n 'Cal_Ripken,_Jr.': 7,\n 'Bobby_Bonilla': 5,\n 'Sterling_Hitchcock': 0,\n 'Randy_Johnson': 2,\n 'Cy_Young_Award': 0,\n 'Scott_Erickson': 0,\n 'Alex_Rodriguez': 2,\n 'Chris_Hoiles': 0,\n 'Jason_Dickson': 0,\n 'Chili_Davis': 0,\n 'Derek_Jeter': 0,\n 'Jimmy_Key': 2,\n 'Boston': 2,\n 'Mike_Stanley': 0,\n 'Mo_Vaughn': 2,\n 'Scott_Brosius': 0,\n 'Detroit': 0,\n 'Brad_Ausmus': 0,\n 'Kansas_City,_Missouri': 0,\n 'Juan_Guzmán_(baseball)': 2,\n 'Minnesota': 3,\n 'John_Jaha': 2,\n 'José_Valentín': 0,\n 'Phillip_Cocu': 6,\n 'PSV_Eindhoven': 33,\n 'N.E.C._(football_club)': 11,\n 'Arthur_Numan': 2,\n 'Luc_Nilis': 7,\n 'AFC_Ajax': 40,\n 'NAC_Breda': 10,\n 'Adrian_Knup': 5,\n 'Geneva': 17,\n 'Galatasaray_S.K._(football_team)': 4,\n 'Baku': 2,\n 'Artur_Jorge_(footballer)': 2,\n 'Rolf_Fringer': 0,\n 'UEFA_Euro_1996': 8,\n 'Marco_Pascolo': 0,\n 'Cagliari_Calcio': 6,\n 'Pascal_Zuberbühler': 0,\n 'Grasshopper_Club_Zürich': 7,\n 'Stéphane_Henchoz': 0,\n 'Hamburger_SV': 0,\n 'Marc_Hottiger': 0,\n 'Yvan_Quentin': 0,\n 'Ramon_Vega': 2,\n 'Raphaël_Wicky': 0,\n 'Alexandre_Comisetti': 0,\n 'Antonio_Esposito': 0,\n 'Sébastien_Fournier': 0,\n 'VfB_Stuttgart': 12,\n 'Christophe_Ohrel': 0,\n 'FC_Lausanne-Sport': 2,\n 'Patrick_Sylvestre': 0,\n 'David_Sesa': 0,\n 'Servette_FC': 3,\n 'Ciriaco_Sforza': 0,\n 'F.C._Internazionale_Milano': 8,\n 'Murat_Yakin': 0,\n 'Kubilay_Türkyilmaz': 0,\n 'Christophe_Bonvin': 0,\n 'Stéphane_Chapuisat': 0,\n 'Borussia_Dortmund': 11,\n 'German_Open_(golf)': 7,\n 'Stuttgart': 0,\n 'Paul_Broadhurst': 6,\n 'Raymond_Russell': 7,\n 'David_J_Russell': 0,\n 'Michael_Campbell': 0,\n 'Ian_Woosnam': 9,\n 'Bernhard_Langer': 2,\n 'Ronan_Rafferty': 2,\n 'Mats_Lanner': 2,\n 'Wayne_Riley': 5,\n 'Eamonn_Darcy': 3,\n 'Per_Nyman': 0,\n 'Russell_Claydon': 2,\n 'Mark_Roe': 5,\n 'Retief_Goosen': 5,\n 'Carl_Suneson': 3,\n 'Paul_Lawrie': 7,\n 'Iain_Pyman': 5,\n 'Miles_Tunnicliff': 0,\n 'Christian_Cévaër': 0,\n 'Des_Smyth': 3,\n 'David_Carter_(golfer)': 4,\n 'Lee_Westwood': 4,\n 'Greg_Chalmers': 0,\n 'Miguel_Ángel_Martín_(golfer)': 7,\n 'Thomas_Bjørn': 3,\n 'Derrick_Cooper': 0,\n 'Pádraig_Harrington': 4,\n 'Paul_McGinley': 3,\n 'Gary_Orr': 2,\n 'José_Maria_Cañizares': 2,\n 'Michael_Jonzon': 4,\n 'Paul_Eales': 5,\n 'Andrew_Coltart': 4,\n 'Jonathan_Lomas': 5,\n 'José_Rivero': 0,\n 'Robert_Karlsson': 3,\n 'Pedro_Linhart': 7,\n 'Jamie_Spence': 0,\n 'Terry_Price_(golfer)': 2,\n 'Mark_Mouland': 0,\n 'UEFA': 5,\n 'UEFA_Europa_League': 0,\n 'Faroe_Islands': 0,\n 'Wales': 22,\n 'Belarus': 0,\n 'Iceland': 0,\n 'Moldova': 0,\n 'Portugal': 15,\n 'Northern_Ireland': 0,\n 'Cyprus': 0,\n 'Armenia': 11,\n 'Australia_national_cricket_team': 260,\n 'Colombo': 27,\n 'Sri_Lanka': 0,\n 'India_national_cricket_team': 118,\n 'Zimbabwe_national_cricket_team': 0,\n 'Ricky_Ponting': 4,\n 'Geoff_Marsh': 3,\n 'Ruse,_Bulgaria': 0,\n 'Veliko_Tarnovo': 0,\n 'Minnetonka,_Minnesota': 0,\n 'United_States_district_court': 3,\n 'Minneapolis': 4,\n 'Medicare_(United_States)': 6,\n 'Oppenheimer_Holdings': 0,\n 'Best_Products': 5,\n 'Richmond,_Virginia': 0,\n \"Crohn's_disease\": 4,\n 'Andrew_Wakefield': 0,\n 'Royal_Free_Hospital': 0,\n 'Uppsala_University_Hospital': 0,\n 'Uppsala': 0,\n 'The_Lancet': 0,\n 'Confederation_of_British_Industry': 3,\n 'University_of_Oxford': 0,\n 'British_Heart_Foundation': 0,\n 'Caribbean': 7,\n 'Montserrat': 2,\n 'Plymouth,_Montserrat': 9,\n 'Department_for_International_Development': 0,\n 'Lynda_Chalker,_Baroness_Chalker_of_Wallasey': 0,\n 'Grand_Slam_(tennis)': 15,\n 'Steffi_Graf': 18,\n 'Yayuk_Basuki': 6,\n 'Australian_Open': 10,\n 'Natasha_Zvereva': 4,\n 'Monica_Seles': 17,\n 'French_Open': 8,\n 'Anke_Huber': 13,\n 'Conchita_Martínez': 8,\n 'Lindsay_Davenport': 11,\n 'Amanda_Coetzer': 9,\n 'Martina_Hingis': 10,\n 'Jana_Novotná': 5,\n 'Ruxandra_Dragomir': 3,\n 'Indianapolis': 5,\n 'Seoul': 23,\n 'Anyang_LG_Cheetahs': 6,\n 'Suwon_Samsung_Bluewings': 5,\n 'Pohang_Steelers': 6,\n 'Ulsan_Hyundai_FC': 0,\n 'Senegal': 8,\n 'Dakar': 4,\n 'Kaolack': 0,\n 'Nigeria': 49,\n 'Liberia': 0,\n 'Economic_Community_of_West_African_States_Monitoring_Group': 3,\n 'Monrovia': 4,\n 'John_Mark_Inienger': 0,\n 'Tubmanburg': 0,\n 'United_Liberation_Movement_of_Liberia_for_Democracy_–_Johnson_faction': 0,\n 'Abuja': 4,\n 'Economic_Community_of_West_African_States': 0,\n 'Conakry': 4,\n 'Lansana_Conté': 2,\n 'Organisation_of_the_Islamic_Conference': 7,\n \"Qur'an\": 0,\n 'Marxism': 0,\n 'Ahmed_Sékou_Touré': 0,\n 'Johannesburg': 22,\n 'Nelson_Mandela': 4,\n 'Sandusky,_Ohio': 0,\n 'Rottweiler': 0,\n 'Vanderbijlpark': 0,\n 'Duff_&_Phelps': 0,\n \"Standard_&_Poor's\": 5,\n 'Moscow': 0,\n 'Grozny': 27,\n 'Interfax': 32,\n 'Chechnya': 84,\n 'Interior_ministry': 7,\n 'Alexander_Lebed': 64,\n 'Aslan_Maskhadov': 18,\n 'Gdańsk': 2,\n 'Sierakowice,_Pomeranian_Voivodeship': 2,\n 'Czech_National_Bank': 0,\n 'Novye_Atagi': 6,\n 'Boris_Yeltsin': 68,\n 'Information_Telegraph_Agency_of_Russia': 9,\n 'Moscow_Kremlin': 0,\n 'Bosnia': 38,\n 'Sarajevo': 15,\n 'Oslobođenje': 0,\n 'Srebrenica': 2,\n 'Serbia': 43,\n 'Dnevni_Avaz': 0,\n 'Ljubljana': 3,\n 'Maribor': 0,\n 'Bogotá': 10,\n 'Coast_guard': 0,\n 'Gorgona,_Colombia': 0,\n 'Buenaventura,_Valle_del_Cauca': 0,\n 'Buenos_Aires': 14,\n 'Peru': 6,\n 'Lima': 3,\n 'Shining_Path': 2,\n 'Abimael_Guzmán': 0,\n 'Suriname': 7,\n 'Paramaribo': 4,\n 'Moengo': 2,\n 'Dési_Bouterse': 2,\n 'French_Guiana': 0,\n 'Thailand': 36,\n 'Bangkok': 13,\n 'Hong_Kong': 73,\n 'Pattaya': 0,\n 'Alexander_Downer': 4,\n 'Qian_Qichen': 0,\n 'Tibet': 9,\n '14th_Dalai_Lama': 0,\n 'Canberra': 11,\n 'Nablus': 5,\n 'Amman': 20,\n 'Jordan': 9,\n 'Edward_Said': 2,\n 'Columbia_University': 0,\n 'Palestinian_National_Authority': 8,\n 'Patrick_Seale': 0,\n 'Jews': 31,\n 'Istanbul': 7,\n 'Cairo': 18,\n 'EgyptAir': 4,\n 'Boeing': 0,\n 'English_language': 0,\n 'Sudan': 27,\n 'Hosni_Mubarak': 11,\n 'United_Nations_Security_Council': 5,\n 'Ethiopia': 13,\n 'Hassan_al-Turabi': 0,\n 'National_Islamic_Front': 0,\n 'Miss_Universe': 4,\n 'Las_Cruces,_New_Mexico': 2,\n 'Alicia_Machado': 9,\n 'New_Mexico': 3,\n 'Los_Angeles': 50,\n 'Las_Vegas,_Nevada': 2,\n 'Jack_Kevorkian': 7,\n 'Pontiac,_Michigan': 0,\n 'Missouri': 7,\n \"Lee's_Summit,_Missouri\": 0,\n 'Geoffrey_Fieger': 0,\n 'Texas': 0,\n 'Lou_Gehrig': 0,\n 'Massachusetts': 9,\n 'Fairview,_Texas': 0,\n 'Hamburg': 0,\n 'Neo-Nazism': 4,\n 'Lincoln,_Nebraska': 0,\n 'Nebraska': 0,\n 'German_language': 0,\n 'Adolf_Hitler': 2,\n 'Nazi_Germany': 6,\n 'Manfred_Kanther': 0,\n 'Social_Democratic_Party_of_Germany': 6,\n 'Nazi_Party': 0,\n 'Nazism': 0,\n 'NSDAP/AO': 0,\n 'Aryan_race': 0,\n 'Yasushi_Akashi': 2,\n 'Algeria': 54,\n 'Islam': 72,\n 'Catholic_Church': 16,\n 'Oran': 0,\n 'Hervé_de_Charette': 0,\n 'Algiers': 0,\n 'Berlin': 33,\n 'Berlin_Tegel_Airport': 0,\n 'Berlin_Tempelhof_Airport': 0,\n 'Bremen_Airport': 2,\n 'Dresden_Airport': 1,\n 'Frankfurt_Airport': 0,\n 'Hamburg_Airport': 16,\n 'Leipzig/Halle_Airport': 0,\n 'Munich_Airport': 0,\n 'Nuremberg_Airport': 0,\n 'Stuttgart_Airport': 0,\n 'BNP_Paribas': 3,\n 'Aegon': 3,\n 'Bill_Clinton': 116,\n 'Ballybunion': 5,\n 'Dublin': 16,\n 'Dick_Spring': 2,\n 'Democratic_Party_(United_States)': 48,\n 'Kennedy_family': 1,\n 'Foreign_Office_(Germany)': 0,\n 'Wolfgang_Ischinger': 5,\n 'Yevgeny_Primakov': 2,\n 'Klaus_Kinkel': 4,\n 'India': 0,\n 'New_Delhi': 13,\n 'Inder_Kumar_Gujral': 5,\n 'Comprehensive_Nuclear-Test-Ban_Treaty': 5,\n 'Dhaka': 17,\n 'Bangladesh': 13,\n 'Commonwealth_of_Nations': 0,\n 'Liam_Fox': 5,\n 'Nepal': 22,\n 'House_of_Commons': 0,\n 'Criminal_Investigation_Department': 0,\n 'Kashmir': 4,\n 'Srinagar': 2,\n 'Indrajit_Gupta': 2,\n 'H._D._Deve_Gowda': 0,\n 'Dhaka_Stock_Exchange': 2,\n 'National_Bank_(Bangladesh)': 0,\n 'Reserve_Bank_of_India': 6,\n 'C._Rangarajan': 3,\n 'Mumbai': 12,\n 'Mother_Teresa': 20,\n 'Kolkata': 14,\n 'Nobel_Peace_Prize': 9,\n 'Bharat_Ratna': 0,\n 'Holy_See': 9,\n 'Missionaries_of_Charity': 5,\n 'Rome': 0,\n 'Albanians': 21,\n 'Sisters_of_Loreto': 0,\n 'Teresa': 0,\n 'Jesus': 2,\n 'Rupert_Murdoch': 2,\n 'Independence_Day_(film)': 2,\n 'News_Corporation': 8,\n 'Fox_Broadcasting_Company': 0,\n 'United_States_dollar': 9,\n 'First_Pacific': 0,\n 'The_Sun_(United_Kingdom)': 2,\n 'The_Times': 4,\n 'TV_Guide': 0,\n 'HarperCollins': 2,\n 'San_Francisco': 0,\n 'Reserve_Bank_of_Australia': 0,\n 'Coalition_(Australia)': 0,\n 'Bank_of_New_Zealand': 2,\n 'Wellington': 19,\n 'New_Zealand_dollar': 2,\n 'Victoria_(Australia)': 0,\n 'Australian_people': 0,\n 'Tokyo': 30,\n 'Ka_Wah_Bank': 2,\n 'Hong_Kong_dollar': 8,\n 'Bernama': 0,\n 'Chua_Jui_Meng': 0,\n 'Jakarta': 27,\n 'Indonesian_Democratic_Party': 6,\n 'Megawati_Sukarnoputri': 5,\n 'Dow_Jones_Industrial_Average': 12,\n 'Surabaya': 6,\n 'FTSE_100_Index': 6,\n 'Nikkei_225': 6,\n 'Hang_Seng_Index': 0,\n 'Kiev': 3,\n 'Government_of_Russia': 79,\n 'Soviet_Union': 18,\n 'Azerbaijan': 3,\n 'Tajikistan': 8,\n 'Leonid_Kuchma': 3,\n 'Post-Soviet_states': 4,\n 'International_Monetary_Fund': 4,\n 'Council_of_Europe': 0,\n 'NATO': 45,\n 'Vatican_Library': 0,\n 'Albanian_language': 0,\n 'Gjon_Buzuku': 0,\n 'Viacom_(1971–2005)': 0,\n 'Paramount_Pictures': 2,\n 'Tom_Cruise': 0,\n 'Variety_(magazine)': 2,\n 'Forrest_Gump': 0,\n 'Academy_Award': 1,\n 'William_Goldman': 0,\n 'Brian_De_Palma': 0,\n 'Crawley': 0,\n 'John_Crawley': 4,\n 'Formula_One': 0,\n 'Circuit_de_Spa-Francorchamps': 4,\n 'Gerhard_Berger': 5,\n 'Benetton_Formula': 15,\n 'David_Coulthard': 4,\n 'McLaren': 8,\n 'Jacques_Villeneuve': 5,\n 'WilliamsF1': 0,\n 'Mika_Häkkinen': 5,\n 'Heinz-Harald_Frentzen': 4,\n 'Jean_Alesi': 5,\n 'Damon_Hill': 5,\n 'Michael_Schumacher': 9,\n 'Martin_Brundle': 4,\n 'Jordan_Grand_Prix': 42,\n ...}"
     },
     "execution_count": 200,
     "metadata": {},
     "output_type": "execute_result"
    }
   ],
   "source": [
    "# CEAFm_levenshtein_precision\n",
    "CEAFm_levenshtein_precision = sum([x for x in max_lev_cluster_dict.values()]) / ents_data.shape[0]\n",
    "CEAFm_levenshtein_precision"
   ],
   "metadata": {
    "collapsed": false,
    "pycharm": {
     "name": "#%%\n"
    }
   }
  },
  {
   "cell_type": "markdown",
   "source": [
    "CEAFm recall"
   ],
   "metadata": {
    "collapsed": false
   }
  },
  {
   "cell_type": "code",
   "execution_count": null,
   "outputs": [],
   "source": [
    "# CEAFm_levenshtein_recall\n",
    "CEAFm_levenshtein_recall = sum([x for x in max_lev_cluster_dict.values()]) / sum(\n",
    "    [y for x in lev_cluster_dict.values() for y in x.values()])\n",
    "CEAFm_levenshtein_recall"
   ],
   "metadata": {
    "collapsed": false,
    "pycharm": {
     "name": "#%%\n"
    }
   }
  },
  {
   "cell_type": "code",
   "execution_count": null,
   "outputs": [],
   "source": [
    "# CEAFm_levenshtein_f1\n",
    "CEAFm_levenshtein_f1 = (2 * (CEAFm_levenshtein_recall * CEAFm_levenshtein_precision)) / (\n",
    "            CEAFm_levenshtein_precision + CEAFm_levenshtein_recall)\n",
    "CEAFm_levenshtein_f1\n",
    "\n"
   ],
   "metadata": {
    "collapsed": false,
    "pycharm": {
     "name": "#%%\n"
    }
   }
  }
 ],
 "metadata": {
  "kernelspec": {
   "display_name": "Python 3",
   "language": "python",
   "name": "python3"
  },
  "language_info": {
   "codemirror_mode": {
    "name": "ipython",
    "version": 2
   },
   "file_extension": ".py",
   "mimetype": "text/x-python",
   "name": "python",
   "nbconvert_exporter": "python",
   "pygments_lexer": "ipython2",
   "version": "2.7.6"
  }
 },
 "nbformat": 4,
 "nbformat_minor": 0
}