{
 "cells": [
  {
   "cell_type": "code",
   "execution_count": 24,
   "outputs": [
    {
     "name": "stdout",
     "output_type": "stream",
     "text": [
      "The autoreload extension is already loaded. To reload it, use:\n",
      "  %reload_ext autoreload\n"
     ]
    }
   ],
   "source": [
    "import pandas as pd\n",
    "%load_ext autoreload\n",
    "%autoreload 2"
   ],
   "metadata": {
    "collapsed": false,
    "pycharm": {
     "name": "#%%\n"
    }
   }
  },
  {
   "cell_type": "code",
   "execution_count": 25,
   "metadata": {
    "collapsed": true
   },
   "outputs": [],
   "source": [
    "import Packages.ClusteringHelper as ch\n",
    "from tqdm import tqdm\n",
    "from textdistance import DamerauLevenshtein, Levenshtein\n",
    "from collections import Counter"
   ]
  },
  {
   "cell_type": "code",
   "execution_count": 26,
   "outputs": [
    {
     "data": {
      "text/plain": "        documents   tokens       indexes  word_indexes mentions  \\\n0               0       EU        (0, 2)             0            \n1               0  rejects       (3, 10)             1            \n2               0   German      (11, 17)             2   German   \n3               0     call      (18, 22)             3            \n4               0       to      (23, 25)             4            \n...           ...      ...           ...           ...      ...   \n285584       1392  younger  (1342, 1349)           265            \n285585       1392  brother  (1350, 1357)           266            \n285586       1392        ,  (1358, 1359)           267            \n285587       1392    Bobby  (1360, 1365)           268    Bobby   \n285588       1392        .  (1366, 1367)           269            \n\n              entities                                    wikidatas  \\\n0                                                                     \n1                                                                     \n2              Germany         http://en.wikipedia.org/wiki/Germany   \n3                                                                     \n4                                                                     \n...                ...                                          ...   \n285584                                                                \n285585                                                                \n285586                                                                \n285587  Bobby_Charlton  http://en.wikipedia.org/wiki/Bobby_Charlton   \n285588                                                                \n\n       numeric_codes alpha_codes  \n0                                 \n1                                 \n2              11867    /m/0345h  \n3                                 \n4                                 \n...              ...         ...  \n285584                            \n285585                            \n285586                            \n285587          4224    /m/01c8x  \n285588                            \n\n[285589 rows x 9 columns]",
      "text/html": "<div>\n<style scoped>\n    .dataframe tbody tr th:only-of-type {\n        vertical-align: middle;\n    }\n\n    .dataframe tbody tr th {\n        vertical-align: top;\n    }\n\n    .dataframe thead th {\n        text-align: right;\n    }\n</style>\n<table border=\"1\" class=\"dataframe\">\n  <thead>\n    <tr style=\"text-align: right;\">\n      <th></th>\n      <th>documents</th>\n      <th>tokens</th>\n      <th>indexes</th>\n      <th>word_indexes</th>\n      <th>mentions</th>\n      <th>entities</th>\n      <th>wikidatas</th>\n      <th>numeric_codes</th>\n      <th>alpha_codes</th>\n    </tr>\n  </thead>\n  <tbody>\n    <tr>\n      <th>0</th>\n      <td>0</td>\n      <td>EU</td>\n      <td>(0, 2)</td>\n      <td>0</td>\n      <td></td>\n      <td></td>\n      <td></td>\n      <td></td>\n      <td></td>\n    </tr>\n    <tr>\n      <th>1</th>\n      <td>0</td>\n      <td>rejects</td>\n      <td>(3, 10)</td>\n      <td>1</td>\n      <td></td>\n      <td></td>\n      <td></td>\n      <td></td>\n      <td></td>\n    </tr>\n    <tr>\n      <th>2</th>\n      <td>0</td>\n      <td>German</td>\n      <td>(11, 17)</td>\n      <td>2</td>\n      <td>German</td>\n      <td>Germany</td>\n      <td>http://en.wikipedia.org/wiki/Germany</td>\n      <td>11867</td>\n      <td>/m/0345h</td>\n    </tr>\n    <tr>\n      <th>3</th>\n      <td>0</td>\n      <td>call</td>\n      <td>(18, 22)</td>\n      <td>3</td>\n      <td></td>\n      <td></td>\n      <td></td>\n      <td></td>\n      <td></td>\n    </tr>\n    <tr>\n      <th>4</th>\n      <td>0</td>\n      <td>to</td>\n      <td>(23, 25)</td>\n      <td>4</td>\n      <td></td>\n      <td></td>\n      <td></td>\n      <td></td>\n      <td></td>\n    </tr>\n    <tr>\n      <th>...</th>\n      <td>...</td>\n      <td>...</td>\n      <td>...</td>\n      <td>...</td>\n      <td>...</td>\n      <td>...</td>\n      <td>...</td>\n      <td>...</td>\n      <td>...</td>\n    </tr>\n    <tr>\n      <th>285584</th>\n      <td>1392</td>\n      <td>younger</td>\n      <td>(1342, 1349)</td>\n      <td>265</td>\n      <td></td>\n      <td></td>\n      <td></td>\n      <td></td>\n      <td></td>\n    </tr>\n    <tr>\n      <th>285585</th>\n      <td>1392</td>\n      <td>brother</td>\n      <td>(1350, 1357)</td>\n      <td>266</td>\n      <td></td>\n      <td></td>\n      <td></td>\n      <td></td>\n      <td></td>\n    </tr>\n    <tr>\n      <th>285586</th>\n      <td>1392</td>\n      <td>,</td>\n      <td>(1358, 1359)</td>\n      <td>267</td>\n      <td></td>\n      <td></td>\n      <td></td>\n      <td></td>\n      <td></td>\n    </tr>\n    <tr>\n      <th>285587</th>\n      <td>1392</td>\n      <td>Bobby</td>\n      <td>(1360, 1365)</td>\n      <td>268</td>\n      <td>Bobby</td>\n      <td>Bobby_Charlton</td>\n      <td>http://en.wikipedia.org/wiki/Bobby_Charlton</td>\n      <td>4224</td>\n      <td>/m/01c8x</td>\n    </tr>\n    <tr>\n      <th>285588</th>\n      <td>1392</td>\n      <td>.</td>\n      <td>(1366, 1367)</td>\n      <td>269</td>\n      <td></td>\n      <td></td>\n      <td></td>\n      <td></td>\n      <td></td>\n    </tr>\n  </tbody>\n</table>\n<p>285589 rows × 9 columns</p>\n</div>"
     },
     "execution_count": 26,
     "metadata": {},
     "output_type": "execute_result"
    }
   ],
   "source": [
    "text, data = ch.read_aida_yago_conll(\n",
    "    \"D:\\\\Sgmon\\\\Documents\\\\Magistrale\\\\TESI\\\\ClusteringAndLinking\\\\aida-yago2-dataset\\\\AIDA-YAGO2-dataset.tsv\")\n",
    "save = False\n",
    "if save:\n",
    "    text_file = open('text.txt', 'w')\n",
    "    text_file.write(text)\n",
    "    text_file.close()\n",
    "data"
   ],
   "metadata": {
    "collapsed": false,
    "pycharm": {
     "name": "#%%\n"
    }
   }
  },
  {
   "cell_type": "code",
   "execution_count": 27,
   "outputs": [
    {
     "data": {
      "text/plain": "        documents               tokens       indexes  word_indexes  \\\n2               0               German      (11, 17)             2   \n6               0              British      (34, 41)             6   \n10              0             BRUSSELS      (55, 63)            11   \n13              0  European Commission      (79, 87)            14   \n20              0               German    (123, 129)            22   \n...           ...                  ...           ...           ...   \n285535       1392              Germany  (1087, 1094)           213   \n285539       1392                Irish  (1107, 1112)           217   \n285543       1392              England  (1133, 1140)           221   \n285554       1392         Leeds United  (1194, 1199)           232   \n285560       1392              England  (1226, 1233)           239   \n\n                   mentions                                    entities  \\\n2                    German                                     Germany   \n6                   British                              United_Kingdom   \n10                 BRUSSELS                                    Brussels   \n13      European Commission                         European_Commission   \n20                   German                                     Germany   \n...                     ...                                         ...   \n285535              Germany                                     Germany   \n285539                Irish  Republic_of_Ireland_national_football_team   \n285543              England              England_national_football_team   \n285554         Leeds United                         Leeds_United_A.F.C.   \n285560              England              England_national_football_team   \n\n                                                wikidatas numeric_codes  \\\n2                    http://en.wikipedia.org/wiki/Germany         11867   \n6             http://en.wikipedia.org/wiki/United_Kingdom         31717   \n10                  http://en.wikipedia.org/wiki/Brussels          3708   \n13       http://en.wikipedia.org/wiki/European_Commission          9974   \n20                   http://en.wikipedia.org/wiki/Germany         11867   \n...                                                   ...           ...   \n285535               http://en.wikipedia.org/wiki/Germany         11867   \n285539  http://en.wikipedia.org/wiki/Republic_of_Irela...        578510   \n285543  http://en.wikipedia.org/wiki/England_national_...          9904   \n285554   http://en.wikipedia.org/wiki/Leeds_United_A.F.C.       7609513   \n285560  http://en.wikipedia.org/wiki/England_national_...          9904   \n\n       alpha_codes  \n2         /m/0345h  \n6         /m/07ssc  \n10        /m/0177z  \n13        /m/02q9k  \n20        /m/0345h  \n...            ...  \n285535    /m/0345h  \n285539   /m/02ryyk  \n285543    /m/02pp1  \n285554  /m/01xn7x1  \n285560    /m/02pp1  \n\n[23267 rows x 9 columns]",
      "text/html": "<div>\n<style scoped>\n    .dataframe tbody tr th:only-of-type {\n        vertical-align: middle;\n    }\n\n    .dataframe tbody tr th {\n        vertical-align: top;\n    }\n\n    .dataframe thead th {\n        text-align: right;\n    }\n</style>\n<table border=\"1\" class=\"dataframe\">\n  <thead>\n    <tr style=\"text-align: right;\">\n      <th></th>\n      <th>documents</th>\n      <th>tokens</th>\n      <th>indexes</th>\n      <th>word_indexes</th>\n      <th>mentions</th>\n      <th>entities</th>\n      <th>wikidatas</th>\n      <th>numeric_codes</th>\n      <th>alpha_codes</th>\n    </tr>\n  </thead>\n  <tbody>\n    <tr>\n      <th>2</th>\n      <td>0</td>\n      <td>German</td>\n      <td>(11, 17)</td>\n      <td>2</td>\n      <td>German</td>\n      <td>Germany</td>\n      <td>http://en.wikipedia.org/wiki/Germany</td>\n      <td>11867</td>\n      <td>/m/0345h</td>\n    </tr>\n    <tr>\n      <th>6</th>\n      <td>0</td>\n      <td>British</td>\n      <td>(34, 41)</td>\n      <td>6</td>\n      <td>British</td>\n      <td>United_Kingdom</td>\n      <td>http://en.wikipedia.org/wiki/United_Kingdom</td>\n      <td>31717</td>\n      <td>/m/07ssc</td>\n    </tr>\n    <tr>\n      <th>10</th>\n      <td>0</td>\n      <td>BRUSSELS</td>\n      <td>(55, 63)</td>\n      <td>11</td>\n      <td>BRUSSELS</td>\n      <td>Brussels</td>\n      <td>http://en.wikipedia.org/wiki/Brussels</td>\n      <td>3708</td>\n      <td>/m/0177z</td>\n    </tr>\n    <tr>\n      <th>13</th>\n      <td>0</td>\n      <td>European Commission</td>\n      <td>(79, 87)</td>\n      <td>14</td>\n      <td>European Commission</td>\n      <td>European_Commission</td>\n      <td>http://en.wikipedia.org/wiki/European_Commission</td>\n      <td>9974</td>\n      <td>/m/02q9k</td>\n    </tr>\n    <tr>\n      <th>20</th>\n      <td>0</td>\n      <td>German</td>\n      <td>(123, 129)</td>\n      <td>22</td>\n      <td>German</td>\n      <td>Germany</td>\n      <td>http://en.wikipedia.org/wiki/Germany</td>\n      <td>11867</td>\n      <td>/m/0345h</td>\n    </tr>\n    <tr>\n      <th>...</th>\n      <td>...</td>\n      <td>...</td>\n      <td>...</td>\n      <td>...</td>\n      <td>...</td>\n      <td>...</td>\n      <td>...</td>\n      <td>...</td>\n      <td>...</td>\n    </tr>\n    <tr>\n      <th>285535</th>\n      <td>1392</td>\n      <td>Germany</td>\n      <td>(1087, 1094)</td>\n      <td>213</td>\n      <td>Germany</td>\n      <td>Germany</td>\n      <td>http://en.wikipedia.org/wiki/Germany</td>\n      <td>11867</td>\n      <td>/m/0345h</td>\n    </tr>\n    <tr>\n      <th>285539</th>\n      <td>1392</td>\n      <td>Irish</td>\n      <td>(1107, 1112)</td>\n      <td>217</td>\n      <td>Irish</td>\n      <td>Republic_of_Ireland_national_football_team</td>\n      <td>http://en.wikipedia.org/wiki/Republic_of_Irela...</td>\n      <td>578510</td>\n      <td>/m/02ryyk</td>\n    </tr>\n    <tr>\n      <th>285543</th>\n      <td>1392</td>\n      <td>England</td>\n      <td>(1133, 1140)</td>\n      <td>221</td>\n      <td>England</td>\n      <td>England_national_football_team</td>\n      <td>http://en.wikipedia.org/wiki/England_national_...</td>\n      <td>9904</td>\n      <td>/m/02pp1</td>\n    </tr>\n    <tr>\n      <th>285554</th>\n      <td>1392</td>\n      <td>Leeds United</td>\n      <td>(1194, 1199)</td>\n      <td>232</td>\n      <td>Leeds United</td>\n      <td>Leeds_United_A.F.C.</td>\n      <td>http://en.wikipedia.org/wiki/Leeds_United_A.F.C.</td>\n      <td>7609513</td>\n      <td>/m/01xn7x1</td>\n    </tr>\n    <tr>\n      <th>285560</th>\n      <td>1392</td>\n      <td>England</td>\n      <td>(1226, 1233)</td>\n      <td>239</td>\n      <td>England</td>\n      <td>England_national_football_team</td>\n      <td>http://en.wikipedia.org/wiki/England_national_...</td>\n      <td>9904</td>\n      <td>/m/02pp1</td>\n    </tr>\n  </tbody>\n</table>\n<p>23267 rows × 9 columns</p>\n</div>"
     },
     "execution_count": 27,
     "metadata": {},
     "output_type": "execute_result"
    }
   ],
   "source": [
    "data = ch.filter_data(data, 3)\n",
    "data"
   ],
   "metadata": {
    "collapsed": false,
    "pycharm": {
     "name": "#%%\n"
    }
   }
  },
  {
   "cell_type": "markdown",
   "source": [
    "### General Info"
   ],
   "metadata": {
    "collapsed": false
   }
  },
  {
   "cell_type": "code",
   "execution_count": 28,
   "outputs": [],
   "source": [
    "n_entities = sum([x is not '' for x in list(data['entities'])])\n",
    "n_ass_ents = sum([x is not '' for x in list(data['numeric_codes'])])\n",
    "# n_tokens = sum([1 for x in list(data['entities'])])\n",
    "n_tokens = sum([len(x.split()) for x in text])\n"
   ],
   "metadata": {
    "collapsed": false,
    "pycharm": {
     "name": "#%%\n"
    }
   }
  },
  {
   "cell_type": "code",
   "execution_count": 29,
   "outputs": [
    {
     "name": "stdout",
     "output_type": "stream",
     "text": [
      "Numero totale di entità:                 23267 \n",
      "Numero totale di tokens:                301418 \n",
      "1 entità ogni:                           12.95 \n"
     ]
    }
   ],
   "source": [
    "print('{0:<35} {1:>10} '.format(\"Numero totale di entità:\", n_entities))\n",
    "print('{0:<35} {1:>10} '.format(\"Numero totale di tokens:\", n_tokens))\n",
    "print('{0:<35} {1:>10} '.format(\"1 entità ogni:\", round(n_tokens / n_entities, 2)))"
   ],
   "metadata": {
    "collapsed": false,
    "pycharm": {
     "name": "#%%\n"
    }
   }
  },
  {
   "cell_type": "markdown",
   "source": [
    "### Gold standard"
   ],
   "metadata": {
    "collapsed": false,
    "pycharm": {
     "name": "#%% md\n"
    }
   }
  },
  {
   "cell_type": "code",
   "execution_count": 30,
   "outputs": [],
   "source": [
    "golden_standard_dict = ch.get_gold_standard_dict(data)"
   ],
   "metadata": {
    "collapsed": false,
    "pycharm": {
     "name": "#%%\n"
    }
   }
  },
  {
   "cell_type": "code",
   "execution_count": 31,
   "outputs": [],
   "source": [
    "ents_data = data[data['entities'] != '']\n",
    "golden_standard_entities = ents_data['entities'].values\n",
    "mentions = ents_data['mentions'].values\n",
    "mentions = [x.lower() for x in mentions]\n"
   ],
   "metadata": {
    "collapsed": false,
    "pycharm": {
     "name": "#%%\n"
    }
   }
  },
  {
   "cell_type": "markdown",
   "source": [
    "### Clustering by Levenshtein distance and DBSCAN"
   ],
   "metadata": {
    "collapsed": false,
    "pycharm": {
     "name": "#%% md\n"
    }
   }
  },
  {
   "cell_type": "code",
   "execution_count": 32,
   "outputs": [],
   "source": [
    "# Way with dbscan algorithm\n",
    "import numpy as np\n",
    "from sklearn.cluster import dbscan\n",
    "\n",
    "clustering = False\n",
    "if clustering:\n",
    "    def damerau_lev_metric(x, y):\n",
    "        i, j = int(x[0]), int(y[0])  # extract indices\n",
    "        if len(mentions[i]) < 4:\n",
    "            if mentions[i] == mentions[j]:\n",
    "                return 0\n",
    "            else:\n",
    "                return DamerauLevenshtein().distance(mentions[i].lower(), mentions[j].lower()) + 3\n",
    "        else:\n",
    "            return DamerauLevenshtein().distance(mentions[i].lower(), mentions[j].lower())\n",
    "\n",
    "    def lev_metric(x, y):\n",
    "        i, j = int(x[0]), int(y[0])  # extract indices\n",
    "        if len(mentions[i]) < 4:\n",
    "            if mentions[i] == mentions[j]:\n",
    "                return 0\n",
    "            else:\n",
    "                return Levenshtein().distance(mentions[i].lower(), mentions[j].lower()) + 3\n",
    "        else:\n",
    "            return Levenshtein().distance(mentions[i].lower(), mentions[j].lower())\n",
    "\n",
    "\n",
    "    X = np.arange(len(mentions)).reshape(-1, 1)\n",
    "    _, leven_cluster = dbscan(X, metric=lev_metric, eps=1, min_samples=0, n_jobs=-1)\n",
    "    np.savetxt('db_cluster_levestein_0_3.txt', leven_cluster, delimiter=',')\n",
    "else:\n",
    "    leven_cluster = np.loadtxt(\"../aida-yago2-dataset/db_cluster_levestein_0_3.txt\", dtype=np.int32)"
   ],
   "metadata": {
    "collapsed": false,
    "pycharm": {
     "name": "#%%\n"
    }
   }
  },
  {
   "cell_type": "code",
   "execution_count": 33,
   "outputs": [],
   "source": [
    "# Now we create a dict for each cluster that contains entities and entities count\n",
    "lev_cluster_dict = {}\n",
    "for i, x in enumerate(leven_cluster):\n",
    "    try:\n",
    "        lev_cluster_dict[x].append((mentions[i],golden_standard_entities[i]))\n",
    "    except:\n",
    "        lev_cluster_dict[x] = [(mentions[i],golden_standard_entities[i])]\n",
    "# \"\"\"se uso un cluster diverso da minimo 0 allora scommento\"\"\"\n",
    "# del lev_cluster_dict[-1]"
   ],
   "metadata": {
    "collapsed": false,
    "pycharm": {
     "name": "#%%\n"
    }
   }
  },
  {
   "cell_type": "code",
   "execution_count": 34,
   "outputs": [
    {
     "name": "stderr",
     "output_type": "stream",
     "text": [
      "100%|██████████| 2750/2750 [00:00<00:00, 229178.72it/s]\n"
     ]
    }
   ],
   "source": [
    "for key in tqdm(lev_cluster_dict):\n",
    "    cluster_list = [x[1] for x in lev_cluster_dict[key]]\n",
    "    cluster_dict = Counter(cluster_list)\n",
    "    lev_cluster_dict[key] = cluster_dict"
   ],
   "metadata": {
    "collapsed": false,
    "pycharm": {
     "name": "#%%\n"
    }
   }
  },
  {
   "cell_type": "markdown",
   "source": [
    "### evaluation levestein"
   ],
   "metadata": {
    "collapsed": false
   }
  },
  {
   "cell_type": "markdown",
   "source": [
    "optimal alignment"
   ],
   "metadata": {
    "collapsed": false
   }
  },
  {
   "cell_type": "code",
   "execution_count": 35,
   "outputs": [],
   "source": [
    "max_lev_cluster_dict = ch.get_optimal_alignment(lev_cluster_dict, set(golden_standard_entities))"
   ],
   "metadata": {
    "collapsed": false,
    "pycharm": {
     "name": "#%%\n"
    }
   }
  },
  {
   "cell_type": "markdown",
   "source": [
    "CEAFm precision"
   ],
   "metadata": {
    "collapsed": false
   }
  },
  {
   "cell_type": "code",
   "execution_count": 36,
   "outputs": [
    {
     "data": {
      "text/plain": "0.7875102075901491"
     },
     "execution_count": 36,
     "metadata": {},
     "output_type": "execute_result"
    }
   ],
   "source": [
    "# CEAFm_levenshtein_precision\n",
    "CEAFm_levenshtein_precision = sum([x for x in max_lev_cluster_dict.values()]) / sum(\n",
    "    [y for x in lev_cluster_dict.values() for y in x.values()])\n",
    "CEAFm_levenshtein_precision"
   ],
   "metadata": {
    "collapsed": false,
    "pycharm": {
     "name": "#%%\n"
    }
   }
  },
  {
   "cell_type": "markdown",
   "source": [
    "CEAFm recall"
   ],
   "metadata": {
    "collapsed": false
   }
  },
  {
   "cell_type": "code",
   "execution_count": 37,
   "outputs": [
    {
     "data": {
      "text/plain": "0.7875102075901491"
     },
     "execution_count": 37,
     "metadata": {},
     "output_type": "execute_result"
    }
   ],
   "source": [
    "# CEAFm_levenshtein_recall\n",
    "CEAFm_levenshtein_recall = sum([x for x in max_lev_cluster_dict.values()]) / ents_data.shape[0]\n",
    "CEAFm_levenshtein_recall"
   ],
   "metadata": {
    "collapsed": false,
    "pycharm": {
     "name": "#%%\n"
    }
   }
  },
  {
   "cell_type": "markdown",
   "source": [
    "CEAFm Fscore"
   ],
   "metadata": {
    "collapsed": false
   }
  },
  {
   "cell_type": "code",
   "execution_count": 38,
   "outputs": [
    {
     "data": {
      "text/plain": "0.7875102075901491"
     },
     "execution_count": 38,
     "metadata": {},
     "output_type": "execute_result"
    }
   ],
   "source": [
    "# CEAFm_levenshtein_f1\n",
    "CEAFm_levenshtein_f1 = (2 * (CEAFm_levenshtein_recall * CEAFm_levenshtein_precision)) / (\n",
    "        CEAFm_levenshtein_precision + CEAFm_levenshtein_recall)\n",
    "CEAFm_levenshtein_f1"
   ],
   "metadata": {
    "collapsed": false,
    "pycharm": {
     "name": "#%%\n"
    }
   }
  },
  {
   "cell_type": "markdown",
   "source": [
    "### B-CUBED"
   ],
   "metadata": {
    "collapsed": false
   }
  },
  {
   "cell_type": "code",
   "execution_count": 39,
   "outputs": [
    {
     "name": "stderr",
     "output_type": "stream",
     "text": [
      "100%|██████████| 2089/2089 [00:06<00:00, 322.31it/s]\n"
     ]
    },
    {
     "data": {
      "text/plain": "0.881592346067853"
     },
     "execution_count": 39,
     "metadata": {},
     "output_type": "execute_result"
    }
   ],
   "source": [
    "# B-cubed - precision\n",
    "bcubed_precision_num = 0\n",
    "for gold_key in tqdm(golden_standard_dict.keys()):\n",
    "    for lev_key in lev_cluster_dict.keys():\n",
    "        try:\n",
    "            bcubed_precision_num = bcubed_precision_num + (pow(lev_cluster_dict[lev_key][gold_key], 2) /\n",
    "                                       sum([x for x in lev_cluster_dict[lev_key].values()]))\n",
    "        except:\n",
    "            pass\n",
    "bcubed_precision = bcubed_precision_num/sum([y for x in lev_cluster_dict.values() for y in x.values()])\n",
    "bcubed_precision"
   ],
   "metadata": {
    "collapsed": false,
    "pycharm": {
     "name": "#%%\n"
    }
   }
  },
  {
   "cell_type": "code",
   "execution_count": 40,
   "outputs": [
    {
     "name": "stderr",
     "output_type": "stream",
     "text": [
      "100%|██████████| 2089/2089 [00:04<00:00, 511.50it/s]\n"
     ]
    },
    {
     "data": {
      "text/plain": "0.7904009008331572"
     },
     "execution_count": 40,
     "metadata": {},
     "output_type": "execute_result"
    }
   ],
   "source": [
    "# B-cubed - recall\n",
    "bcubed_recall_num = 0\n",
    "for gold_key in tqdm(golden_standard_dict.keys()):\n",
    "    for lev_key in lev_cluster_dict.keys():\n",
    "        try:\n",
    "            bcubed_recall_num = bcubed_recall_num + (pow(lev_cluster_dict[lev_key][gold_key], 2) /\n",
    "                                       golden_standard_dict[gold_key])\n",
    "        except:\n",
    "            pass\n",
    "bcubed_recall = bcubed_recall_num/ents_data.shape[0]\n",
    "bcubed_recall"
   ],
   "metadata": {
    "collapsed": false,
    "pycharm": {
     "name": "#%%\n"
    }
   }
  },
  {
   "cell_type": "code",
   "execution_count": 41,
   "outputs": [
    {
     "data": {
      "text/plain": "0.8335098072808208"
     },
     "execution_count": 41,
     "metadata": {},
     "output_type": "execute_result"
    }
   ],
   "source": [
    "bcubed_f1 = (2 * (bcubed_recall * bcubed_precision)) / (\n",
    "        bcubed_precision + bcubed_recall)\n",
    "bcubed_f1"
   ],
   "metadata": {
    "collapsed": false,
    "pycharm": {
     "name": "#%%\n"
    }
   }
  },
  {
   "cell_type": "code",
   "execution_count": 41,
   "outputs": [],
   "source": [],
   "metadata": {
    "collapsed": false,
    "pycharm": {
     "name": "#%%\n"
    }
   }
  }
 ],
 "metadata": {
  "kernelspec": {
   "display_name": "Python 3",
   "language": "python",
   "name": "python3"
  },
  "language_info": {
   "codemirror_mode": {
    "name": "ipython",
    "version": 2
   },
   "file_extension": ".py",
   "mimetype": "text/x-python",
   "name": "python",
   "nbconvert_exporter": "python",
   "pygments_lexer": "ipython2",
   "version": "2.7.6"
  }
 },
 "nbformat": 4,
 "nbformat_minor": 0
}