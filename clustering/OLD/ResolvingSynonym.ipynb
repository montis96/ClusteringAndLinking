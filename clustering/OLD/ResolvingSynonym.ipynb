{
 "cells": [
  {
   "cell_type": "code",
   "execution_count": 1,
   "outputs": [],
   "source": [
    "%load_ext autoreload\n",
    "%autoreload 2"
   ],
   "metadata": {
    "collapsed": false,
    "pycharm": {
     "name": "#%%\n"
    }
   }
  },
  {
   "cell_type": "code",
   "execution_count": 2,
   "outputs": [],
   "source": [
    "import Packages.ClusteringHelper as ch\n",
    "import numpy as np\n",
    "from tqdm import tqdm\n",
    "from collections import Counter\n",
    "import string\n",
    "from nltk.corpus import stopwords"
   ],
   "metadata": {
    "collapsed": false,
    "pycharm": {
     "name": "#%%\n"
    }
   }
  },
  {
   "cell_type": "code",
   "execution_count": 3,
   "outputs": [
    {
     "data": {
      "text/plain": "        documents   tokens       indexes  word_indexes mentions  \\\n0               0       EU        (0, 2)             0            \n1               0  rejects       (3, 10)             1            \n2               0   German      (11, 17)             2   German   \n3               0     call      (18, 22)             3            \n4               0       to      (23, 25)             4            \n...           ...      ...           ...           ...      ...   \n285584       1392  younger  (1342, 1349)           265            \n285585       1392  brother  (1350, 1357)           266            \n285586       1392        ,  (1358, 1359)           267            \n285587       1392    Bobby  (1360, 1365)           268    Bobby   \n285588       1392        .  (1366, 1367)           269            \n\n              entities                                    wikidatas  \\\n0                                                                     \n1                                                                     \n2              Germany         http://en.wikipedia.org/wiki/Germany   \n3                                                                     \n4                                                                     \n...                ...                                          ...   \n285584                                                                \n285585                                                                \n285586                                                                \n285587  Bobby_Charlton  http://en.wikipedia.org/wiki/Bobby_Charlton   \n285588                                                                \n\n       numeric_codes alpha_codes  \n0                                 \n1                                 \n2              11867    /m/0345h  \n3                                 \n4                                 \n...              ...         ...  \n285584                            \n285585                            \n285586                            \n285587          4224    /m/01c8x  \n285588                            \n\n[285589 rows x 9 columns]",
      "text/html": "<div>\n<style scoped>\n    .dataframe tbody tr th:only-of-type {\n        vertical-align: middle;\n    }\n\n    .dataframe tbody tr th {\n        vertical-align: top;\n    }\n\n    .dataframe thead th {\n        text-align: right;\n    }\n</style>\n<table border=\"1\" class=\"dataframe\">\n  <thead>\n    <tr style=\"text-align: right;\">\n      <th></th>\n      <th>documents</th>\n      <th>tokens</th>\n      <th>indexes</th>\n      <th>word_indexes</th>\n      <th>mentions</th>\n      <th>entities</th>\n      <th>wikidatas</th>\n      <th>numeric_codes</th>\n      <th>alpha_codes</th>\n    </tr>\n  </thead>\n  <tbody>\n    <tr>\n      <th>0</th>\n      <td>0</td>\n      <td>EU</td>\n      <td>(0, 2)</td>\n      <td>0</td>\n      <td></td>\n      <td></td>\n      <td></td>\n      <td></td>\n      <td></td>\n    </tr>\n    <tr>\n      <th>1</th>\n      <td>0</td>\n      <td>rejects</td>\n      <td>(3, 10)</td>\n      <td>1</td>\n      <td></td>\n      <td></td>\n      <td></td>\n      <td></td>\n      <td></td>\n    </tr>\n    <tr>\n      <th>2</th>\n      <td>0</td>\n      <td>German</td>\n      <td>(11, 17)</td>\n      <td>2</td>\n      <td>German</td>\n      <td>Germany</td>\n      <td>http://en.wikipedia.org/wiki/Germany</td>\n      <td>11867</td>\n      <td>/m/0345h</td>\n    </tr>\n    <tr>\n      <th>3</th>\n      <td>0</td>\n      <td>call</td>\n      <td>(18, 22)</td>\n      <td>3</td>\n      <td></td>\n      <td></td>\n      <td></td>\n      <td></td>\n      <td></td>\n    </tr>\n    <tr>\n      <th>4</th>\n      <td>0</td>\n      <td>to</td>\n      <td>(23, 25)</td>\n      <td>4</td>\n      <td></td>\n      <td></td>\n      <td></td>\n      <td></td>\n      <td></td>\n    </tr>\n    <tr>\n      <th>...</th>\n      <td>...</td>\n      <td>...</td>\n      <td>...</td>\n      <td>...</td>\n      <td>...</td>\n      <td>...</td>\n      <td>...</td>\n      <td>...</td>\n      <td>...</td>\n    </tr>\n    <tr>\n      <th>285584</th>\n      <td>1392</td>\n      <td>younger</td>\n      <td>(1342, 1349)</td>\n      <td>265</td>\n      <td></td>\n      <td></td>\n      <td></td>\n      <td></td>\n      <td></td>\n    </tr>\n    <tr>\n      <th>285585</th>\n      <td>1392</td>\n      <td>brother</td>\n      <td>(1350, 1357)</td>\n      <td>266</td>\n      <td></td>\n      <td></td>\n      <td></td>\n      <td></td>\n      <td></td>\n    </tr>\n    <tr>\n      <th>285586</th>\n      <td>1392</td>\n      <td>,</td>\n      <td>(1358, 1359)</td>\n      <td>267</td>\n      <td></td>\n      <td></td>\n      <td></td>\n      <td></td>\n      <td></td>\n    </tr>\n    <tr>\n      <th>285587</th>\n      <td>1392</td>\n      <td>Bobby</td>\n      <td>(1360, 1365)</td>\n      <td>268</td>\n      <td>Bobby</td>\n      <td>Bobby_Charlton</td>\n      <td>http://en.wikipedia.org/wiki/Bobby_Charlton</td>\n      <td>4224</td>\n      <td>/m/01c8x</td>\n    </tr>\n    <tr>\n      <th>285588</th>\n      <td>1392</td>\n      <td>.</td>\n      <td>(1366, 1367)</td>\n      <td>269</td>\n      <td></td>\n      <td></td>\n      <td></td>\n      <td></td>\n      <td></td>\n    </tr>\n  </tbody>\n</table>\n<p>285589 rows × 9 columns</p>\n</div>"
     },
     "execution_count": 3,
     "metadata": {},
     "output_type": "execute_result"
    }
   ],
   "source": [
    "text, data = ch.read_aida_yago_conll(\n",
    "    \"D:\\\\Sgmon\\\\Documents\\\\Magistrale\\\\TESI\\\\ClusteringAndLinking\\\\aida-yago2-dataset\\\\AIDA-YAGO2-dataset.tsv\")\n",
    "save = False\n",
    "if save:\n",
    "    text_file = open('text.txt', 'w')\n",
    "    text_file.write(text)\n",
    "    text_file.close()\n",
    "data"
   ],
   "metadata": {
    "collapsed": false,
    "pycharm": {
     "name": "#%%\n"
    }
   }
  },
  {
   "cell_type": "code",
   "execution_count": 4,
   "outputs": [
    {
     "data": {
      "text/plain": "        documents   tokens       indexes  word_indexes mentions entities  \\\n0               0       EU        (0, 2)             0                     \n1               0  rejects       (3, 10)             1                     \n2               0   German      (11, 17)             2   German  Germany   \n3               0     call      (18, 22)             3                     \n4               0       to      (23, 25)             4                     \n...           ...      ...           ...           ...      ...      ...   \n285584       1392  younger  (1342, 1349)           265                     \n285585       1392  brother  (1350, 1357)           266                     \n285586       1392        ,  (1358, 1359)           267                     \n285587       1392    Bobby  (1360, 1365)           268                     \n285588       1392        .  (1366, 1367)           269                     \n\n                                          wikidatas numeric_codes alpha_codes  \n0                                                                              \n1                                                                              \n2              http://en.wikipedia.org/wiki/Germany         11867    /m/0345h  \n3                                                                              \n4                                                                              \n...                                             ...           ...         ...  \n285584                                                                         \n285585                                                                         \n285586                                                                         \n285587  http://en.wikipedia.org/wiki/Bobby_Charlton          4224    /m/01c8x  \n285588                                                                         \n\n[285589 rows x 9 columns]",
      "text/html": "<div>\n<style scoped>\n    .dataframe tbody tr th:only-of-type {\n        vertical-align: middle;\n    }\n\n    .dataframe tbody tr th {\n        vertical-align: top;\n    }\n\n    .dataframe thead th {\n        text-align: right;\n    }\n</style>\n<table border=\"1\" class=\"dataframe\">\n  <thead>\n    <tr style=\"text-align: right;\">\n      <th></th>\n      <th>documents</th>\n      <th>tokens</th>\n      <th>indexes</th>\n      <th>word_indexes</th>\n      <th>mentions</th>\n      <th>entities</th>\n      <th>wikidatas</th>\n      <th>numeric_codes</th>\n      <th>alpha_codes</th>\n    </tr>\n  </thead>\n  <tbody>\n    <tr>\n      <th>0</th>\n      <td>0</td>\n      <td>EU</td>\n      <td>(0, 2)</td>\n      <td>0</td>\n      <td></td>\n      <td></td>\n      <td></td>\n      <td></td>\n      <td></td>\n    </tr>\n    <tr>\n      <th>1</th>\n      <td>0</td>\n      <td>rejects</td>\n      <td>(3, 10)</td>\n      <td>1</td>\n      <td></td>\n      <td></td>\n      <td></td>\n      <td></td>\n      <td></td>\n    </tr>\n    <tr>\n      <th>2</th>\n      <td>0</td>\n      <td>German</td>\n      <td>(11, 17)</td>\n      <td>2</td>\n      <td>German</td>\n      <td>Germany</td>\n      <td>http://en.wikipedia.org/wiki/Germany</td>\n      <td>11867</td>\n      <td>/m/0345h</td>\n    </tr>\n    <tr>\n      <th>3</th>\n      <td>0</td>\n      <td>call</td>\n      <td>(18, 22)</td>\n      <td>3</td>\n      <td></td>\n      <td></td>\n      <td></td>\n      <td></td>\n      <td></td>\n    </tr>\n    <tr>\n      <th>4</th>\n      <td>0</td>\n      <td>to</td>\n      <td>(23, 25)</td>\n      <td>4</td>\n      <td></td>\n      <td></td>\n      <td></td>\n      <td></td>\n      <td></td>\n    </tr>\n    <tr>\n      <th>...</th>\n      <td>...</td>\n      <td>...</td>\n      <td>...</td>\n      <td>...</td>\n      <td>...</td>\n      <td>...</td>\n      <td>...</td>\n      <td>...</td>\n      <td>...</td>\n    </tr>\n    <tr>\n      <th>285584</th>\n      <td>1392</td>\n      <td>younger</td>\n      <td>(1342, 1349)</td>\n      <td>265</td>\n      <td></td>\n      <td></td>\n      <td></td>\n      <td></td>\n      <td></td>\n    </tr>\n    <tr>\n      <th>285585</th>\n      <td>1392</td>\n      <td>brother</td>\n      <td>(1350, 1357)</td>\n      <td>266</td>\n      <td></td>\n      <td></td>\n      <td></td>\n      <td></td>\n      <td></td>\n    </tr>\n    <tr>\n      <th>285586</th>\n      <td>1392</td>\n      <td>,</td>\n      <td>(1358, 1359)</td>\n      <td>267</td>\n      <td></td>\n      <td></td>\n      <td></td>\n      <td></td>\n      <td></td>\n    </tr>\n    <tr>\n      <th>285587</th>\n      <td>1392</td>\n      <td>Bobby</td>\n      <td>(1360, 1365)</td>\n      <td>268</td>\n      <td></td>\n      <td></td>\n      <td>http://en.wikipedia.org/wiki/Bobby_Charlton</td>\n      <td>4224</td>\n      <td>/m/01c8x</td>\n    </tr>\n    <tr>\n      <th>285588</th>\n      <td>1392</td>\n      <td>.</td>\n      <td>(1366, 1367)</td>\n      <td>269</td>\n      <td></td>\n      <td></td>\n      <td></td>\n      <td></td>\n      <td></td>\n    </tr>\n  </tbody>\n</table>\n<p>285589 rows × 9 columns</p>\n</div>"
     },
     "execution_count": 4,
     "metadata": {},
     "output_type": "execute_result"
    }
   ],
   "source": [
    "data = ch.filter_data(data, 3)\n",
    "data"
   ],
   "metadata": {
    "collapsed": false,
    "pycharm": {
     "name": "#%%\n"
    }
   }
  },
  {
   "cell_type": "code",
   "execution_count": 5,
   "outputs": [],
   "source": [
    "# Gold standard\n",
    "ents_data = data[data['entities'] != '']\n",
    "entities = ents_data['entities'].values\n",
    "mentions = ents_data['tokens'].values\n",
    "docs = ents_data['documents'].values\n",
    "word_indexes = ents_data['word_indexes'].values\n",
    "unique_entities = np.unique(entities)\n",
    "gold_standard = Counter(entities)\n",
    "gold_standard = dict(sorted(gold_standard.items(), key=lambda item: item[1], reverse=True))"
   ],
   "metadata": {
    "collapsed": false,
    "pycharm": {
     "name": "#%%\n"
    }
   }
  },
  {
   "cell_type": "markdown",
   "source": [
    "#### Gensim word2vec"
   ],
   "metadata": {
    "collapsed": false
   }
  },
  {
   "cell_type": "code",
   "execution_count": 6,
   "outputs": [],
   "source": [
    "lowercase = True\n",
    "remove_stopwords = True\n",
    "remove_numbers = True\n",
    "remove_symbols = True\n",
    "\n",
    "text_preprocessed = text\n",
    "stop_words = set(stopwords.words(\"english\"))\n",
    "\n",
    "if remove_symbols:\n",
    "    text_preprocessed = [x.translate(str.maketrans('', '', string.punctuation)) for x in text_preprocessed]\n",
    "\n",
    "# rimuovo numeri e punteggiatura\n",
    "if lowercase:\n",
    "    text_splitted_training = [x.lower().split() for x in text_preprocessed]\n",
    "    text_splitted = [x.lower().split() for x in text]\n",
    "else:\n",
    "    text_splitted_training = [x.split() for x in text_preprocessed]\n",
    "    text_splitted = [x.split() for x in text]\n",
    "\n",
    "if remove_numbers:\n",
    "    text_splitted_training = [[y for y in x if not y.isnumeric()] for x in text_splitted_training]\n",
    "\n",
    "if remove_stopwords:\n",
    "    text_splitted_training = [[y for y in x if y.lower() not in stop_words] for x in text_splitted_training]"
   ],
   "metadata": {
    "collapsed": false,
    "pycharm": {
     "name": "#%%\n"
    }
   }
  },
  {
   "cell_type": "markdown",
   "source": [
    "Model selection"
   ],
   "metadata": {
    "collapsed": false
   }
  },
  {
   "cell_type": "code",
   "execution_count": 7,
   "outputs": [],
   "source": [
    "import os\n",
    "from gensim.models import KeyedVectors\n",
    "\n",
    "model_path = \"D:\\Sgmon\\Documents\\Magistrale\\TESI\\gensim-data\"\n",
    "\n",
    "model = KeyedVectors.load_word2vec_format(\n",
    "    os.path.join(model_path, 'glove-wiki-gigaword-50', 'glove-wiki-gigaword-50.gz'), binary=False)"
   ],
   "metadata": {
    "collapsed": false,
    "pycharm": {
     "name": "#%%\n"
    }
   }
  },
  {
   "cell_type": "code",
   "execution_count": 8,
   "outputs": [],
   "source": [
    "leven_cluster = np.loadtxt(\"../aida-yago2-dataset/db_cluster_levestein_0_3.txt\", dtype=np.int32)\n",
    "lev_cluster_dict = {}\n",
    "windows = 30\n",
    "doc_windows = 20\n",
    "for i, x in enumerate(leven_cluster):\n",
    "    try:\n",
    "        lev_cluster_dict[x].append(\n",
    "            (mentions[i], entities[i], docs[i], word_indexes[i],\n",
    "             ch.get_context(text_splitted[docs[i]], word_indexes[i], windows=windows)))\n",
    "    except:\n",
    "        lev_cluster_dict[x] = [\n",
    "            (mentions[i], entities[i], docs[i], word_indexes[i],\n",
    "             ch.get_context(text_splitted[docs[i]], word_indexes[i], windows=windows))]\n",
    "# \"\"\"se uso un cluster diverso da minimo 0 allora scommento\"\"\"\n",
    "# del lev_cluster_dict[-1]"
   ],
   "metadata": {
    "collapsed": false,
    "pycharm": {
     "name": "#%%\n"
    }
   }
  },
  {
   "cell_type": "code",
   "execution_count": 9,
   "outputs": [
    {
     "name": "stderr",
     "output_type": "stream",
     "text": [
      "100%|██████████| 2750/2750 [00:04<00:00, 620.57it/s] \n"
     ]
    }
   ],
   "source": [
    "cluster_all = []\n",
    "from sklearn.cluster import AgglomerativeClustering\n",
    "from sklearn.cluster import DBSCAN\n",
    "\n",
    "# from hdbscan import HDBSCAN\n",
    "\n",
    "clusterizator = AgglomerativeClustering(n_clusters=None, affinity='cosine', distance_threshold=0.035, linkage=\"single\")\n",
    "# clusterizator = DBSCAN(min_samples=0, metric=\"cosine\", n_jobs=-1, eps=0.1)\n",
    "# clusterizator = HDBSCAN(min_cluster_size=2, metric=\"euclidean\", min_samples=1, cluster_selection_epsilon=0.4)\n",
    "vectors_all = []\n",
    "for x in tqdm(lev_cluster_dict):\n",
    "    contexts_vectorized = ch.calculate_context_vector(model, lev_cluster_dict[x], text_splitted, doc_window=doc_windows,\n",
    "                                                      doc_context_alpha=0.3, word_context_aplha=.7)\n",
    "    if len(contexts_vectorized) > 1:\n",
    "        cluster = clusterizator.fit_predict(contexts_vectorized)\n",
    "    else:\n",
    "        cluster = np.zeros(1)\n",
    "    cluster_all.append(cluster)\n",
    "    vectors_all.append(contexts_vectorized)\n",
    "    # print(cluster_all)\n",
    "    # break"
   ],
   "metadata": {
    "collapsed": false,
    "pycharm": {
     "name": "#%%\n"
    }
   }
  },
  {
   "cell_type": "code",
   "execution_count": 10,
   "outputs": [],
   "source": [
    "lev_cluster_dict_vectorized = {}\n",
    "for index in lev_cluster_dict.keys():\n",
    "    lev_cluster_dict_vectorized[index] = []\n",
    "    for i, element in enumerate(lev_cluster_dict[index]):\n",
    "        # print((*element, vectors_all[index][i]))\n",
    "        lev_cluster_dict_vectorized[index].append((*element, vectors_all[index][i]))"
   ],
   "metadata": {
    "collapsed": false,
    "pycharm": {
     "name": "#%%\n"
    }
   }
  },
  {
   "cell_type": "code",
   "execution_count": 11,
   "outputs": [
    {
     "data": {
      "text/plain": "2750"
     },
     "execution_count": 11,
     "metadata": {},
     "output_type": "execute_result"
    }
   ],
   "source": [
    "clustered_entities = [[(row[1], row[5]) for row in lev_cluster_dict_vectorized[index]] for index in lev_cluster_dict_vectorized.keys()]\n",
    "len(clustered_entities)"
   ],
   "metadata": {
    "collapsed": false,
    "pycharm": {
     "name": "#%%\n"
    }
   }
  },
  {
   "cell_type": "code",
   "execution_count": 12,
   "outputs": [],
   "source": [
    "clusters_splitted = []\n",
    "clusters_vectors = []\n",
    "for n_cluster in range(len(clustered_entities)):\n",
    "    cluster_unique = dict.fromkeys(set(cluster_all[n_cluster]), [])\n",
    "    cluster_unique_vector = dict.fromkeys(set(cluster_all[n_cluster]), [])\n",
    "    for key in cluster_unique:\n",
    "        cluster_unique[key] = [clustered_entities[n_cluster][index][0] for index in\n",
    "                               range(len(clustered_entities[n_cluster])) if cluster_all[n_cluster][index] == key]\n",
    "        cluster_unique_vector[key] = [clustered_entities[n_cluster][index][1] for index in\n",
    "                               range(len(clustered_entities[n_cluster])) if cluster_all[n_cluster][index] == key]\n",
    "    clusters_vectors.append(cluster_unique_vector)\n",
    "    clusters_splitted.append(cluster_unique)"
   ],
   "metadata": {
    "collapsed": false,
    "pycharm": {
     "name": "#%%\n"
    }
   }
  },
  {
   "cell_type": "code",
   "execution_count": 13,
   "outputs": [],
   "source": [
    "clusters_splitted_vector_dict = [np.mean(x[y],axis=0)  for x in clusters_vectors for y in x if len(x[y]) > 1]"
   ],
   "metadata": {
    "collapsed": false,
    "pycharm": {
     "name": "#%%\n"
    }
   }
  },
  {
   "cell_type": "code",
   "execution_count": 14,
   "outputs": [],
   "source": [
    "clusters_splitted_dict = [dict(Counter(x[y])) for x in clusters_splitted for y in x if len (x[y]) > 1]"
   ],
   "metadata": {
    "collapsed": false,
    "pycharm": {
     "name": "#%%\n"
    }
   }
  },
  {
   "cell_type": "code",
   "execution_count": 15,
   "outputs": [],
   "source": [
    "clusterizator = AgglomerativeClustering(n_clusters=None, affinity='cosine', distance_threshold=0.015, linkage=\"single\")\n",
    "\n",
    "clusters_of_cluster = clusterizator.fit_predict(clusters_splitted_vector_dict)"
   ],
   "metadata": {
    "collapsed": false,
    "pycharm": {
     "name": "#%%\n"
    }
   }
  },
  {
   "cell_type": "code",
   "source": [
    "coc_dict = {}\n",
    "for index, el in enumerate(clusters_of_cluster):\n",
    "    try:\n",
    "        coc_dict[el] = coc_dict[el] + clusters_splitted_dict[index]\n",
    "    except:\n",
    "        coc_dict[el] = clusters_splitted_dict[index]\n",
    "len(coc_dict.keys())"
   ],
   "metadata": {
    "collapsed": false,
    "pycharm": {
     "name": "#%%\n"
    }
   },
   "execution_count": 16,
   "outputs": [
    {
     "data": {
      "text/plain": "622"
     },
     "execution_count": 16,
     "metadata": {},
     "output_type": "execute_result"
    }
   ]
  },
  {
   "cell_type": "code",
   "execution_count": 17,
   "outputs": [],
   "source": [
    "import Packages.ClusteringHelper as ch\n",
    "golden_standard_dict = ch.get_gold_standard_dict(ents_data)"
   ],
   "metadata": {
    "collapsed": false,
    "pycharm": {
     "name": "#%%\n"
    }
   }
  },
  {
   "cell_type": "markdown",
   "source": [
    "### B-CUBED"
   ],
   "metadata": {
    "collapsed": false
   }
  },
  {
   "cell_type": "code",
   "execution_count": 18,
   "outputs": [
    {
     "name": "stderr",
     "output_type": "stream",
     "text": [
      "100%|██████████| 2089/2089 [00:00<00:00, 5301.36it/s]\n"
     ]
    },
    {
     "data": {
      "text/plain": "0.9444019389918704"
     },
     "execution_count": 18,
     "metadata": {},
     "output_type": "execute_result"
    }
   ],
   "source": [
    "from tqdm import tqdm\n",
    "# B-cubed - precision\n",
    "bcubed_precision_num = 0\n",
    "for gold_key in tqdm(golden_standard_dict.keys()):\n",
    "    for lev_key in coc_dict.keys():\n",
    "        try:\n",
    "            bcubed_precision_num = bcubed_precision_num + (pow(coc_dict[lev_key][gold_key], 2) /\n",
    "                                       sum(coc_dict[lev_key].values()))\n",
    "        except:\n",
    "            pass\n",
    "bcubed_precision = bcubed_precision_num/sum([sum(x.values()) for x in coc_dict.values()])\n",
    "bcubed_precision"
   ],
   "metadata": {
    "collapsed": false,
    "pycharm": {
     "name": "#%%\n"
    }
   }
  },
  {
   "cell_type": "code",
   "execution_count": 19,
   "outputs": [
    {
     "name": "stderr",
     "output_type": "stream",
     "text": [
      "100%|██████████| 2089/2089 [00:00<00:00, 5738.73it/s]\n"
     ]
    },
    {
     "data": {
      "text/plain": "0.04932018777643609"
     },
     "execution_count": 19,
     "metadata": {},
     "output_type": "execute_result"
    }
   ],
   "source": [
    "# B-cubed - recall\n",
    "bcubed_recall_num = 0\n",
    "for gold_key in tqdm(golden_standard_dict.keys()):\n",
    "    for lev_key in coc_dict.keys():\n",
    "        try:\n",
    "            bcubed_recall_num = bcubed_recall_num + (pow(coc_dict[lev_key][gold_key], 2) /\n",
    "                                       golden_standard_dict[gold_key])\n",
    "        except:\n",
    "            pass\n",
    "bcubed_recall = bcubed_recall_num/ents_data.shape[0]\n",
    "bcubed_recall"
   ],
   "metadata": {
    "collapsed": false,
    "pycharm": {
     "name": "#%%\n"
    }
   }
  },
  {
   "cell_type": "code",
   "execution_count": 20,
   "outputs": [
    {
     "data": {
      "text/plain": "0.09374467914684848"
     },
     "execution_count": 20,
     "metadata": {},
     "output_type": "execute_result"
    }
   ],
   "source": [
    "bcubed_f1 = (2 * (bcubed_recall * bcubed_precision)) / (\n",
    "        bcubed_precision + bcubed_recall)\n",
    "bcubed_f1"
   ],
   "metadata": {
    "collapsed": false,
    "pycharm": {
     "name": "#%%\n"
    }
   }
  },
  {
   "cell_type": "markdown",
   "source": [
    "CEAFm precision"
   ],
   "metadata": {
    "collapsed": false
   }
  },
  {
   "cell_type": "code",
   "execution_count": 21,
   "outputs": [],
   "source": [
    "max_evaluation_dict = ch.get_optimal_alignment(coc_dict, set(entities))"
   ],
   "metadata": {
    "collapsed": false,
    "pycharm": {
     "name": "#%%\n"
    }
   }
  },
  {
   "cell_type": "code",
   "execution_count": 25,
   "outputs": [
    {
     "data": {
      "text/plain": "{'Hanover': 2,\n 'Hapoel_Tzafririm_Holon_F.C.': 2,\n 'Miriam_Vogt': 4,\n 'Jews': 2,\n 'Jürgen_Klinsmann': 2,\n 'Boutros_Boutros-Ghali': 2,\n 'Colchester': 0,\n 'Walter_Little_(rugby_player)': 0,\n 'Portugal_national_football_team': 4,\n 'European_Commission': 10,\n 'Alan_Greenspan': 3,\n 'Sebastien_Tortelli': 3,\n 'KK_Partizan': 4,\n 'Berlin': 3,\n 'AOL': 0,\n 'Dejan_Savićević': 0,\n 'Susi_Susanti': 3,\n 'Bertelsmann': 2,\n 'Marcelo_Silva_Ramos': 0,\n 'Germany': 5,\n 'Bonn': 2,\n 'Warsaw': 2,\n 'Sven_Strüver': 0,\n 'Amsterdam': 2,\n 'Hamburg': 2,\n 'San_José,_Costa_Rica': 3,\n 'Bosnia': 4,\n 'Newbury,_Berkshire': 3,\n 'The_Times': 2,\n 'Antony_Marlow': 2,\n 'United_Kingdom': 2,\n 'Luis_Oliveira': 0,\n 'NATO': 2,\n 'Belgium': 2,\n 'Brussels': 3,\n 'WA_Reds': 0,\n 'Salah_Hissou': 2,\n 'Aleksander_Kwaśniewski': 3,\n 'Michael_Collins_(Irish_leader)': 5,\n '1936_Summer_Olympics': 0,\n 'Parramatta_Eels': 0,\n 'Sean_Dundee': 0,\n 'RCD_Espanyol': 0,\n 'Dominique_Baratelli': 2,\n 'ETA': 2,\n 'Bernard_Tapie': 7,\n 'France': 3,\n 'Fredi_Bobic': 0,\n 'Burkina_Faso': 2,\n 'Air_France': 6,\n 'Bristol_City_F.C.': 0,\n 'Madrid': 2,\n 'Buñol': 3,\n 'Hilde_Gerg': 0,\n 'Burnley_F.C.': 0,\n 'Abulhassan_Banisadr': 5,\n 'London': 2,\n 'Jean-Paul_van_Gastel': 0,\n 'Telkom_Indonesia': 2,\n 'Gatwick_Airport': 3,\n 'Tianjin': 4,\n 'Stockholm': 2,\n 'Will_Carling': 2,\n 'Lee_Bowyer': 4,\n 'Colombo': 0,\n 'Arsenal_F.C.': 4,\n 'International_Petroleum_Exchange': 2,\n 'Liam_Gallagher': 3,\n 'China_Steel': 2,\n 'Russia_national_football_team': 0,\n 'Ján_Krošlák': 0,\n 'Sheffield_Wednesday_F.C.': 2,\n '1._HFC_Humenné': 0,\n 'United_States': 358,\n 'United_States_Department_of_Agriculture': 5,\n 'Violeta_Chamorro': 4,\n 'Joseph_Bernardin': 9,\n 'El_Salvador_national_football_team': 3,\n 'Interferon_beta-1b': 5,\n 'Hong_Kong_dollar': 2,\n 'Slobodan_Milošević': 3,\n 'United_Nations': 2,\n 'William_Perry': 3,\n 'Bill_Clinton': 0,\n 'Ohio': 0,\n 'Kansas': 3,\n 'Israel': 2,\n 'Wyche_Fowler': 4,\n 'Labor_Day': 1,\n 'St._Louis,_Missouri': 2,\n 'Chicago': 2,\n 'John_Langmore': 2,\n 'Copenhagen': 2,\n 'British_Airways': 0,\n 'Bruce_Grobbelaar': 5,\n 'London_Wasps': 2,\n 'Australia': 13,\n 'Barbarian_F.C.': 2,\n 'Maurice_Baril': 3,\n 'Javier_Sánchez': 0,\n 'Nevada': 3,\n 'Rodney_Eyles': 5,\n 'Canberra': 1,\n 'Mediterranean_Sea': 0,\n 'Democratic_Karen_Buddhist_Army': 0,\n 'Pirelli': 9,\n 'Ericsson': 3,\n 'Denver_Nuggets': 0,\n 'Kazuyoshi_Miura': 2,\n 'Switzerland': 2,\n \"People's_Republic_of_China\": 3,\n 'Dalian': 3,\n 'Xinhua_News_Agency': 2,\n 'Taiwan': 2,\n 'Republic_of_China': 5,\n 'Tibet': 3,\n 'South_Korea': 2,\n 'Hangzhou': 3,\n 'Soviet_Union': 3,\n 'Turkey_national_football_team': 3,\n 'Canada': 6,\n 'Shanghai': 4,\n 'Frankfurt_Stock_Exchange': 2,\n 'Mitsubishi_Motors': 4,\n 'Milwaukee_Brewers': 2,\n 'Pan_American_World_Airways': 2,\n 'Bellerive_Oval': 0,\n 'Costas_Simitis': 5,\n 'Kenneth_Eriksson': 3,\n 'Norway': 3,\n 'James_Baker': 5,\n 'Syria': 3,\n 'South_Lebanon_Army': 7,\n 'Jerusalem': 2,\n 'Libya': 0,\n 'Skhirat': 3,\n 'Sacramento_Kings': 3,\n 'American_Civil_War': 2,\n 'O._J._Simpson': 4,\n 'Cairo': 2,\n 'K._Sint-Truidense_V.V.': 0,\n 'Old_City_(Jerusalem)': 0,\n 'Arab_people': 4,\n 'Tansu_Çiller': 3,\n 'Urus-Martan': 3,\n 'God': 2,\n 'Zenith_Electronics': 10,\n 'Gaza_Strip': 0,\n 'Tommy_Haas': 0,\n 'Moscow': 3,\n 'FC_Rotor_Volgograd': 4,\n 'Interfax': 3,\n 'Nawaz_Sharif': 0,\n 'Summer_Olympic_Games': 3,\n 'Dariusz_Rosati': 5,\n 'Stoke_City_F.C.': 0,\n 'Agnieszka_Kotlarska': 3,\n 'Czech_Republic': 4,\n 'Poland': 6,\n 'Życie_Warszawy': 3,\n 'Valletta': 2,\n 'Linz': 6,\n 'Best_Products': 5,\n 'University_of_Yangon': 3,\n 'Alicia_Machado': 9,\n 'Zastava_Arms': 5,\n 'Nagyatád': 4,\n 'Alexander_Lukashenko': 7,\n 'Belgrade': 2,\n 'Kandahar': 0,\n 'Cyprus_national_football_team': 3,\n 'Boland_cricket_team': 3,\n 'England_cricket_team': 0,\n 'Iran': 4,\n 'Massoud_Barzani': 2,\n 'AFC_Asian_Cup': 4,\n 'Audi': 2,\n 'Saudi_Arabia': 3,\n 'Panama_national_football_team': 3,\n 'Bahrain': 2,\n 'Palestinian_National_Authority': 2,\n 'Dana_Rohrabacher': 4,\n 'Dubai': 2,\n 'Sergey_Yastrzhembsky': 2,\n 'Félicia_Ballanger': 3,\n 'Barentsburg': 5,\n 'Strobe_Talbott': 3,\n 'Gazprom': 9,\n 'Russia': 2,\n 'Midwestern_United_States': 2,\n 'Chandra_Sturrup': 0,\n 'San_Antonio_Spurs': 0,\n 'Salang,_Afghanistan': 4,\n 'Serie_A': 0,\n 'Kosovo': 4,\n 'Greece': 4,\n 'Catholic_Church': 2,\n 'Belfast': 2,\n 'Albania': 2,\n 'Vatican_Library': 3,\n 'Saddam_Hussein': 3,\n 'United_States_Air_Force': 2,\n 'Hezbollah': 3,\n 'Lebanon': 2,\n 'Tanzania': 0,\n 'Solidere': 4,\n 'Zulu_Kingdom': 3,\n 'Alan_Mullally': 2,\n 'Roberto_Alomar': 0,\n 'Karachi': 2,\n 'Karachi_Stock_Exchange': 2,\n 'Chicago_Mercantile_Exchange': 2,\n 'Ukraine': 0,\n 'Toledo,_Ohio': 3,\n 'Dick_Morris': 2,\n 'Portland,_Oregon': 2,\n 'Philippines': 0,\n 'Santos_FC': 0,\n 'Ross_Perot': 2,\n 'Morocco': 4,\n 'Paris': 2,\n 'Leander_Paes': 0,\n 'Madeleine_Albright': 3,\n 'Jean-Pierre_Cyprien': 6,\n 'Europe': 0,\n 'Phil_Mickelson': 0,\n 'Tignes': 3,\n 'Oslo': 2,\n 'Ali_Alatas': 4,\n \"Czech_Republic_men's_national_ice_hockey_team\": 3,\n 'Michael_Schumacher': 3,\n 'Finland': 2,\n 'Hillary_Rodham_Clinton': 0,\n 'Netherlands': 3,\n 'El_Al': 4,\n 'Ahold': 6,\n 'Cleveland_Cavaliers': 0,\n 'United_Arab_Emirates': 0,\n 'Heidrun_oil_field': 0,\n 'West_Bromwich_Albion_F.C.': 0,\n 'State_of_Palestine': 0,\n 'Herman_Wijffels': 2,\n 'Wang_Chen_(badminton)': 0,\n 'Exxon': 3,\n 'Ryutaro_Hashimoto': 3,\n 'Greenwich_Mean_Time': 11,\n 'WGC-Bridgestone_Invitational': 3,\n 'Akron,_Ohio': 2,\n 'Clive_Lloyd': 0,\n 'Greg_Norman': 5,\n 'Yukio_Hatoyama': 4,\n 'Yamaha_Motor_Company': 2,\n 'Bank_of_Japan': 6,\n 'Windows_95': 0,\n 'Japan': 3,\n 'Jay_Buhner': 0,\n 'Deportivo_de_La_Coruña': 0,\n 'Constand_Viljoen': 3,\n 'Hintsa_kaKhawuta': 3,\n 'Johannesburg': 4,\n 'South_Africa': 2,\n 'AIDS': 2,\n 'Lega_Nord': 3,\n 'FC_Barcelona': 3,\n 'Democratic_Republic_of_the_Congo': 3,\n 'Marcello_Cuttitta': 2,\n 'Etruria': 2,\n 'Guarani_Futebol_Clube': 0,\n 'ACF_Gloria_1922_Bistriţa': 4,\n 'Servette_FC': 0,\n 'Bucharest': 3,\n 'Romania': 3,\n 'Birendra_of_Nepal': 0,\n 'Dănuţ_Lupu': 3,\n 'Guillaume_Raoux': 0,\n 'England': 2,\n 'California': 4,\n 'Western_Bulldogs': 0,\n 'Michael_Chang': 0,\n 'Topoľčany': 3,\n 'Spain': 2,\n 'New_York': 2,\n 'Robert_P._Casey': 0,\n 'New_York_City': 4,\n 'Doboj': 0,\n 'National_Weather_Service': 2,\n 'Michael_Green_(sprinter)': 0,\n 'National_Basketball_Association': 2,\n 'Washington_Wizards': 0,\n 'Carlsbad,_California': 0,\n 'Husqvarna_Motorcycles': 0,\n 'Faroe_Islands_national_football_team': 2,\n 'Blackburn_Rovers_F.C.': 5,\n 'Ata-ur-Rehman': 2,\n 'Scotland_national_football_team': 8,\n 'Labour_Party_(UK)': 2,\n 'Austria': 3,\n 'Andrea_Ferrigato': 3,\n 'FIS_Alpine_Ski_World_Cup': 3,\n 'WSC_World_XI': 3,\n 'Sanath_Jayasuriya': 3,\n 'Vienna': 2,\n 'Keane_(company)': 2,\n 'Republic_of_Ireland': 2,\n 'Stephenville_International_Airport': 3,\n 'Toronto': 5,\n 'Patrick_Rafter': 3,\n 'Bre-X': 13,\n 'Minnesota_Twins': 0,\n 'McLaren': 0,\n 'Whittier,_Alaska': 3,\n 'Biogen_Idec': 0,\n 'Zadar': 3,\n 'Croatia': 3,\n 'Balkans': 2,\n 'Santiago,_Chile': 2,\n 'Costa_Rica_national_football_team': 3,\n 'Chile': 2,\n 'Adrian_Knup': 3,\n 'Zimbabwe': 2,\n 'San_Marino_national_football_team': 4,\n 'Nagorno-Karabakh_Republic': 4,\n 'St._Johnstone_F.C.': 0,\n 'Grasshopper_Club_Zürich': 5,\n 'Estonia': 2,\n 'Jacky_Martens': 0,\n 'Istanbul': 2,\n 'Bulgaria': 4,\n 'Sporting_Clube_de_Portugal': 0,\n 'Luxembourg': 2,\n 'Northern_Ireland': 2,\n 'Republic_of_Macedonia': 2,\n 'FC_Twente': 0,\n 'IFK_Göteborg': 2,\n 'Budapest': 6,\n 'Lierse_S.K.': 0,\n 'Nazi_Germany': 0,\n 'Brazil': 7,\n 'São_Paulo_FC': 2,\n 'O_Globo': 2,\n 'Wimbledon_Championships': 2,\n 'Sydney': 2,\n 'R.W.D._Molenbeek': 0,\n 'Tamil_people': 0,\n '1996_Summer_Olympics': 1,\n 'Kuala_Lumpur': 3,\n 'Pohang_Steelers': 0,\n 'Malaysia': 2,\n 'Alloa_Athletic_F.C.': 0,\n 'Surabaya': 5,\n 'Indonesia': 2,\n 'Indonesian_Democratic_Party': 2,\n 'Fidel_V._Ramos': 2,\n 'New_Zealand_national_cricket_team': 2,\n 'US_Open_(tennis)': 2,\n 'Central_Bank_of_Brazil': 5,\n 'Amazon_River': 3,\n 'Chile_national_football_team': 0,\n 'Brazil_national_football_team': 1,\n 'Bogotá': 2,\n 'Colombia': 4,\n 'Forfar_Athletic_F.C.': 0,\n 'Paul_Eales': 0,\n 'Courtney_Walsh': 0,\n 'Abdalá_Bucaram': 2,\n 'Wilfried_Van_Moer': 2,\n 'Philadelphia_Eagles': 0,\n 'Mumbai': 2,\n 'AK-47': 2,\n 'Buenos_Aires_Province': 4,\n 'Argentina': 2,\n 'Buenos_Aires': 2,\n 'Alejandro_Agustín_Lanusse': 6,\n 'Caracas': 2,\n 'Venezuela': 3,\n 'Kenny_Harrison': 0,\n 'Indigenous_peoples_of_the_Americas': 0,\n 'Davey_Johnson': 5,\n 'Massachusetts': 2,\n 'Detroit': 3,\n 'Illinois': 2,\n 'Oklahoma': 2,\n 'Everton_F.C.': 0,\n 'Seattle': 2,\n 'Paul_Justin': 2,\n 'Philadelphia': 2,\n 'San_Diego': 2,\n 'Los_Angeles': 2,\n 'Sierra_Nevada_(U.S.)': 3,\n 'United_States_courts_of_appeals': 2,\n 'Nanabhoy_Palkhivala': 4,\n 'India': 7,\n 'Atlanta': 0,\n 'Kanpur': 5,\n 'Nasser_Hussain': 0,\n 'Muttahida_Qaumi_Movement': 0,\n 'Bharatiya_Janata_Party': 4,\n 'Navjot_Singh_Sidhu': 4,\n 'Feyenoord': 4,\n 'Rwanda': 2,\n 'Flavio_Cotti': 2,\n 'Abidjan': 2,\n 'Mongolia': 2,\n 'FC_Schalke_04': 3,\n 'Jyväskylä': 2,\n 'Belarus': 3,\n 'Liberation_Tigers_of_Tamil_Eelam': 2,\n 'Sri_Lanka': 2,\n 'Christopher_Wreh': 0,\n 'Minnesota': 2,\n 'Brentford_F.C.': 0,\n \"Crohn's_disease\": 4,\n 'Confederation_of_British_Industry': 3,\n 'Gulf_of_Mexico': 2,\n 'Caribbean': 2,\n 'Hurricane_Edouard_(1996)': 4,\n 'Josef_Zieleniec': 2,\n 'FC_Linz': 0,\n 'Shell_Turbo_Chargers': 4,\n 'Verona': 0,\n 'British_Columbia': 2,\n 'San_Jose_Sharks': 0,\n 'Rochdale_A.F.C.': 0,\n 'Seoul': 2,\n 'Ulsan_Hyundai_FC': 5,\n 'Nigeria': 3,\n 'Abdou_Diouf': 2,\n 'Senegal': 2,\n 'Birmingham': 0,\n 'Kigali': 0,\n 'Economic_Community_of_West_African_States_Monitoring_Group': 3,\n 'Conakry': 2,\n 'Masayoshi_Takemura': 0,\n 'Anke_Huber': 0,\n \"Standard_&_Poor's\": 3,\n 'Mahala': 6,\n 'Anne-Gaëlle_Sidot': 0,\n 'Lima': 2,\n 'Suriname': 2,\n 'Paramaribo': 2,\n 'Bangkok': 4,\n 'Yangon': 2,\n 'Singapore': 5,\n 'Thailand': 2,\n 'Independent_Commission_Against_Corruption_(Hong_Kong)': 6,\n 'Singer_World_Series': 0,\n 'Ayr_United_F.C.': 0,\n 'Palestinian_territories': 6,\n 'Yasser_Arafat': 2,\n 'Edward_Said': 2,\n 'Taibe,_Galilee': 3,\n 'EgyptAir': 4,\n 'Jim_Grabb': 0,\n 'Eritrea': 9,\n 'Benin_national_football_team': 5,\n 'Jack_Kevorkian': 7,\n 'NationsBank': 4,\n 'Party_of_Democratic_Action': 3,\n 'Algiers': 4,\n 'Sauber': 0,\n 'Moscow_Kremlin': 0,\n 'Aegon': 3,\n 'Kashmir': 3,\n 'Dhaka_Stock_Exchange': 2,\n 'Bangladesh_Nationalist_Party': 2,\n 'Workington_Town': 0,\n 'Bangladesh': 3,\n 'Kathmandu': 4,\n 'Unified_Communist_Party_of_Nepal_(Maoist)': 7,\n 'Julius_Nyerere': 4,\n 'Àlex_Corretja': 0,\n 'Wellington': 5,\n 'Auckland': 7,\n '7-Eleven_(cycling_team)': 0,\n 'Winston_Peters': 3,\n 'Dean_Headley': 0,\n 'Tokyo': 10,\n 'United_States_district_court': 0,\n 'FK_Spartak_Zlatibor_Voda': 0,\n 'Jakarta': 2,\n 'China_Daily': 0,\n 'Takuma_Aoki': 3,\n 'Nikkei_225': 2,\n 'Tavildara': 6,\n 'Liam_Botham': 4,\n 'Middlesbrough_F.C.': 2,\n 'Rainier_III,_Prince_of_Monaco': 2,\n 'Jorge_Costa': 5,\n 'Sudan_Airways': 0,\n 'Italy': 3,\n 'Gianni_Bugno': 3,\n 'Japie_Mulder': 3,\n 'Bayer_04_Leverkusen': 2,\n 'Cuba': 3,\n 'Central_African_Republic': 2,\n 'Chaminda_Vaas': 2,\n 'Warren_Buffett': 3,\n 'International_Confederation_of_Free_Trade_Unions': 4,\n 'St._Louis_Cardinals': 0,\n 'World_Trade_Organization': 8,\n 'Kinshasa': 2,\n 'Batajnica': 3,\n 'American_Depositary_Receipt': 6,\n 'Vale_(mining_company)': 2,\n 'Ankara': 2,\n 'Preston_North_End_F.C.': 0,\n 'Melbourne_Football_Club': 0,\n 'Chesterfield_F.C.': 0,\n 'Deutsche_Mark': 6,\n 'Diana,_Princess_of_Wales': 9,\n 'Mexico': 2,\n 'Microsoft': 6,\n 'Little_Rock,_Arkansas': 3,\n 'Sun_Microsystems': 2,\n 'John_Howard': 2,\n 'Melbourne': 2,\n 'Limited_company': 2,\n 'SoftBank': 3,\n 'Merrill_Lynch': 3,\n 'Warrington_Wolves': 2,\n 'Wigan_Warriors': 2,\n 'Les_Ferdinand': 2,\n 'A.C._Milan': 4,\n 'Alan_Ball,_Jr.': 2,\n 'Garry_Galley': 3,\n 'Amtrak': 2,\n 'Vancouver': 3,\n 'Malawi': 3,\n 'Managua': 2,\n 'Tunisia': 2,\n 'National_Congress_of_Brazil': 3,\n 'James_Brady': 5,\n 'Bratislava': 3,\n 'Repsol_YPF': 3,\n 'Punjab,_Pakistan': 2,\n 'Jean-Marc_Gounon': 2,\n 'Glenn_Hoddle': 2,\n 'Shahid_Afridi': 2,\n 'Africa_Cup_of_Nations': 2,\n 'Taliban': 0,\n 'FC_Oţelul_Galaţi': 2,\n 'Milan': 2,\n 'PGA_European_Tour': 4,\n 'Frank_Bruno': 6,\n 'Michoacán': 3,\n 'Chris_Boardman': 0,\n 'Mexico_City': 2,\n 'Poland_national_football_team': 0,\n 'United_States_Fed_Cup_team': 0,\n 'Insein_Township': 2,\n 'Canadian_Prairies': 4,\n 'NASDAQ': 6,\n 'Federal_Reserve_System': 2,\n 'British_West_Indies': 3,\n 'Mauritius': 3,\n 'Regi_Blinker': 3,\n 'Mauritania_national_football_team': 2,\n 'Slovakia': 2,\n 'Brian_Currin': 0,\n 'Arbil': 0,\n 'Ronaldo': 2,\n 'Maputo': 3,\n 'Viktor_Chernomyrdin': 2,\n 'Dallas': 3,\n 'Lithuania_national_football_team': 0,\n 'Winnipeg': 2,\n 'Alberta': 2,\n 'Brush_Engineered_Materials': 6,\n 'Banque_de_France': 3,\n 'Rameswaram': 3,\n 'Raith_Rovers_F.C.': 2,\n 'Griqualand_West': 3,\n 'Chicago_Board_Options_Exchange': 2,\n 'New_Jersey': 1,\n 'AES_Eletropaulo': 3,\n 'Václav_Havel': 5,\n 'Montana': 2,\n 'Sylvester_Stallone': 3,\n 'Trans_World_Airlines': 3,\n 'Wisconsin': 2,\n 'Helibor': 8,\n 'Dominion_Bond_Rating_Service': 2,\n \"Alliance_'90/The_Greens\": 6,\n 'Allensbach': 4,\n 'Tonga': 3,\n 'Sakai,_Osaka': 8,\n 'Jean-Philippe_Fleurian': 3,\n 'Bobby_Robson': 2,\n 'Renate_Götschl': 0,\n 'Ernesto_Samper': 3,\n 'Yemen': 6,\n 'New_Democracy_(Greece)': 4,\n 'Miltiadis_Evert': 2,\n 'Nate_Miller': 4,\n 'Stagecoach_Group': 3,\n 'Queensland': 2,\n 'Cambodia': 3,\n 'Phnom_Penh': 3,\n 'Norodom_Sihanouk': 2,\n 'Red_Star_Belgrade': 0,\n 'European_Economic_Community': 3,\n 'Jim_Telfer': 2,\n 'Atlantic_City,_New_Jersey': 3,\n 'Panama': 3,\n 'Magna_International': 6,\n 'Muammar_al-Gaddafi': 4,\n 'RMS_Titanic': 3,\n 'Vail,_Colorado': 0,\n 'Margaret_Thatcher': 5,\n 'Kenneth_Clarke': 3,\n 'Boston': 0,\n 'Euroleague_Basketball': 2,\n 'World_Badminton_Grand_Prix': 4,\n 'National_Hockey_League': 2,\n 'Lombardi_Award': 3,\n 'Conservative_Party_(UK)': 2,\n 'Peter_Nicol': 2,\n 'Albuquerque,_New_Mexico': 2,\n 'Alessandra_Mussolini': 3,\n 'OPEC': 3,\n 'Munich_Re': 4,\n 'Guilin': 3}"
     },
     "execution_count": 25,
     "metadata": {},
     "output_type": "execute_result"
    }
   ],
   "source": [
    "max_evaluation_dict"
   ],
   "metadata": {
    "collapsed": false,
    "pycharm": {
     "name": "#%%\n"
    }
   }
  },
  {
   "cell_type": "code",
   "execution_count": 27,
   "outputs": [
    {
     "data": {
      "text/plain": "0.08264924571281214"
     },
     "execution_count": 27,
     "metadata": {},
     "output_type": "execute_result"
    }
   ],
   "source": [
    "# CEAFm_precision\n",
    "CEAFm_precision = sum(max_evaluation_dict.values()) / ents_data.shape[0]\n",
    "CEAFm_precision"
   ],
   "metadata": {
    "collapsed": false,
    "pycharm": {
     "name": "#%%\n"
    }
   }
  },
  {
   "cell_type": "markdown",
   "source": [
    "CEAFm recall"
   ],
   "metadata": {
    "collapsed": false
   }
  },
  {
   "cell_type": "code",
   "execution_count": 26,
   "outputs": [
    {
     "data": {
      "text/plain": "0.08264924571281214"
     },
     "execution_count": 26,
     "metadata": {},
     "output_type": "execute_result"
    }
   ],
   "source": [
    "# CEAFm_recall\n",
    "CEAFm_recall = sum(max_evaluation_dict.values()) / ents_data.shape[0]\n",
    "CEAFm_recall"
   ],
   "metadata": {
    "collapsed": false,
    "pycharm": {
     "name": "#%%\n"
    }
   }
  },
  {
   "cell_type": "markdown",
   "source": [
    "CEAFm Fscore"
   ],
   "metadata": {
    "collapsed": false
   }
  },
  {
   "cell_type": "code",
   "execution_count": 24,
   "outputs": [
    {
     "data": {
      "text/plain": "0.15042240300375467"
     },
     "execution_count": 24,
     "metadata": {},
     "output_type": "execute_result"
    }
   ],
   "source": [
    "# CEAFm_f1\n",
    "CEAFm_f1 = (2 * (CEAFm_recall * CEAFm_precision)) / (\n",
    "        CEAFm_precision + CEAFm_recall)\n",
    "CEAFm_f1"
   ],
   "metadata": {
    "collapsed": false,
    "pycharm": {
     "name": "#%%\n"
    }
   }
  },
  {
   "cell_type": "code",
   "execution_count": 24,
   "outputs": [],
   "source": [
    "\n",
    "\n"
   ],
   "metadata": {
    "collapsed": false,
    "pycharm": {
     "name": "#%%\n"
    }
   }
  }
 ],
 "metadata": {
  "kernelspec": {
   "name": "pycharm-44a39ab4",
   "language": "python",
   "display_name": "PyCharm (ClusteringAndLinking)"
  },
  "language_info": {
   "codemirror_mode": {
    "name": "ipython",
    "version": 2
   },
   "file_extension": ".py",
   "mimetype": "text/x-python",
   "name": "python",
   "nbconvert_exporter": "python",
   "pygments_lexer": "ipython2",
   "version": "2.7.6"
  }
 },
 "nbformat": 4,
 "nbformat_minor": 0
}