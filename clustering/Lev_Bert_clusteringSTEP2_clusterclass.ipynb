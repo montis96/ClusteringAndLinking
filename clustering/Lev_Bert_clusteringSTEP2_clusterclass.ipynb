{
 "cells": [
  {
   "cell_type": "code",
   "execution_count": 86,
   "outputs": [
    {
     "name": "stdout",
     "output_type": "stream",
     "text": [
      "The autoreload extension is already loaded. To reload it, use:\n",
      "  %reload_ext autoreload\n"
     ]
    }
   ],
   "source": [
    "%load_ext autoreload\n",
    "%autoreload 2"
   ],
   "metadata": {
    "collapsed": false,
    "pycharm": {
     "name": "#%%\n"
    }
   }
  },
  {
   "cell_type": "code",
   "execution_count": 87,
   "outputs": [],
   "source": [
    "import Packages.ClusteringHelper as ch\n",
    "import numpy as np\n",
    "from tqdm.notebook import tqdm\n",
    "from collections import Counter\n",
    "from Packages.TimeEvolving import Cluster"
   ],
   "metadata": {
    "collapsed": false,
    "pycharm": {
     "name": "#%%\n"
    }
   }
  },
  {
   "cell_type": "code",
   "execution_count": 88,
   "outputs": [
    {
     "data": {
      "text/plain": "        documents   tokens       indexes  word_indexes mentions  \\\n0               0       EU        (0, 2)             0            \n1               0  rejects       (3, 10)             1            \n2               0   German      (11, 17)             2   German   \n3               0     call      (18, 22)             3            \n4               0       to      (23, 25)             4            \n...           ...      ...           ...           ...      ...   \n285584       1392  younger  (1342, 1349)           265            \n285585       1392  brother  (1350, 1357)           266            \n285586       1392        ,  (1358, 1359)           267            \n285587       1392    Bobby  (1360, 1365)           268    Bobby   \n285588       1392        .  (1366, 1367)           269            \n\n              entities                                    wikidatas  \\\n0                                                                     \n1                                                                     \n2              Germany         http://en.wikipedia.org/wiki/Germany   \n3                                                                     \n4                                                                     \n...                ...                                          ...   \n285584                                                                \n285585                                                                \n285586                                                                \n285587  Bobby_Charlton  http://en.wikipedia.org/wiki/Bobby_Charlton   \n285588                                                                \n\n       numeric_codes alpha_codes  \n0                                 \n1                                 \n2              11867    /m/0345h  \n3                                 \n4                                 \n...              ...         ...  \n285584                            \n285585                            \n285586                            \n285587          4224    /m/01c8x  \n285588                            \n\n[285589 rows x 9 columns]",
      "text/html": "<div>\n<style scoped>\n    .dataframe tbody tr th:only-of-type {\n        vertical-align: middle;\n    }\n\n    .dataframe tbody tr th {\n        vertical-align: top;\n    }\n\n    .dataframe thead th {\n        text-align: right;\n    }\n</style>\n<table border=\"1\" class=\"dataframe\">\n  <thead>\n    <tr style=\"text-align: right;\">\n      <th></th>\n      <th>documents</th>\n      <th>tokens</th>\n      <th>indexes</th>\n      <th>word_indexes</th>\n      <th>mentions</th>\n      <th>entities</th>\n      <th>wikidatas</th>\n      <th>numeric_codes</th>\n      <th>alpha_codes</th>\n    </tr>\n  </thead>\n  <tbody>\n    <tr>\n      <th>0</th>\n      <td>0</td>\n      <td>EU</td>\n      <td>(0, 2)</td>\n      <td>0</td>\n      <td></td>\n      <td></td>\n      <td></td>\n      <td></td>\n      <td></td>\n    </tr>\n    <tr>\n      <th>1</th>\n      <td>0</td>\n      <td>rejects</td>\n      <td>(3, 10)</td>\n      <td>1</td>\n      <td></td>\n      <td></td>\n      <td></td>\n      <td></td>\n      <td></td>\n    </tr>\n    <tr>\n      <th>2</th>\n      <td>0</td>\n      <td>German</td>\n      <td>(11, 17)</td>\n      <td>2</td>\n      <td>German</td>\n      <td>Germany</td>\n      <td>http://en.wikipedia.org/wiki/Germany</td>\n      <td>11867</td>\n      <td>/m/0345h</td>\n    </tr>\n    <tr>\n      <th>3</th>\n      <td>0</td>\n      <td>call</td>\n      <td>(18, 22)</td>\n      <td>3</td>\n      <td></td>\n      <td></td>\n      <td></td>\n      <td></td>\n      <td></td>\n    </tr>\n    <tr>\n      <th>4</th>\n      <td>0</td>\n      <td>to</td>\n      <td>(23, 25)</td>\n      <td>4</td>\n      <td></td>\n      <td></td>\n      <td></td>\n      <td></td>\n      <td></td>\n    </tr>\n    <tr>\n      <th>...</th>\n      <td>...</td>\n      <td>...</td>\n      <td>...</td>\n      <td>...</td>\n      <td>...</td>\n      <td>...</td>\n      <td>...</td>\n      <td>...</td>\n      <td>...</td>\n    </tr>\n    <tr>\n      <th>285584</th>\n      <td>1392</td>\n      <td>younger</td>\n      <td>(1342, 1349)</td>\n      <td>265</td>\n      <td></td>\n      <td></td>\n      <td></td>\n      <td></td>\n      <td></td>\n    </tr>\n    <tr>\n      <th>285585</th>\n      <td>1392</td>\n      <td>brother</td>\n      <td>(1350, 1357)</td>\n      <td>266</td>\n      <td></td>\n      <td></td>\n      <td></td>\n      <td></td>\n      <td></td>\n    </tr>\n    <tr>\n      <th>285586</th>\n      <td>1392</td>\n      <td>,</td>\n      <td>(1358, 1359)</td>\n      <td>267</td>\n      <td></td>\n      <td></td>\n      <td></td>\n      <td></td>\n      <td></td>\n    </tr>\n    <tr>\n      <th>285587</th>\n      <td>1392</td>\n      <td>Bobby</td>\n      <td>(1360, 1365)</td>\n      <td>268</td>\n      <td>Bobby</td>\n      <td>Bobby_Charlton</td>\n      <td>http://en.wikipedia.org/wiki/Bobby_Charlton</td>\n      <td>4224</td>\n      <td>/m/01c8x</td>\n    </tr>\n    <tr>\n      <th>285588</th>\n      <td>1392</td>\n      <td>.</td>\n      <td>(1366, 1367)</td>\n      <td>269</td>\n      <td></td>\n      <td></td>\n      <td></td>\n      <td></td>\n      <td></td>\n    </tr>\n  </tbody>\n</table>\n<p>285589 rows × 9 columns</p>\n</div>"
     },
     "execution_count": 88,
     "metadata": {},
     "output_type": "execute_result"
    }
   ],
   "source": [
    "text, data = ch.read_aida_yago_conll(\n",
    "    \"D:\\\\Sgmon\\\\Documents\\\\Magistrale\\\\TESI\\\\ClusteringAndLinking\\\\aida-yago2-dataset\\\\AIDA-YAGO2-dataset.tsv\")\n",
    "save = False\n",
    "if save:\n",
    "    text_file = open('text.txt', 'w')\n",
    "    text_file.write(text)\n",
    "    text_file.close()\n",
    "data"
   ],
   "metadata": {
    "collapsed": false,
    "pycharm": {
     "name": "#%%\n"
    }
   }
  },
  {
   "cell_type": "code",
   "execution_count": 89,
   "outputs": [],
   "source": [
    "ents_data = data[data['entities'] != ''].copy()"
   ],
   "metadata": {
    "collapsed": false,
    "pycharm": {
     "name": "#%%\n"
    }
   }
  },
  {
   "cell_type": "code",
   "execution_count": 90,
   "outputs": [],
   "source": [
    "from pathlib import Path\n",
    "\n",
    "path_train = Path(\n",
    "    \"D:\\\\Sgmon\\\\Documents\\\\Magistrale\\\\TESI\\\\ClusteringAndLinking\\\\aida-yago2-dataset\\\\encodings\\\\AIDA-YAGO2_train_encodings.jsonl\")\n",
    "path_testa = Path(\n",
    "    \"D:\\\\Sgmon\\\\Documents\\\\Magistrale\\\\TESI\\\\ClusteringAndLinking\\\\aida-yago2-dataset\\\\encodings\\\\AIDA-YAGO2_testa_encodings.jsonl\")\n",
    "path_testb = Path(\n",
    "    \"D:\\\\Sgmon\\\\Documents\\\\Magistrale\\\\TESI\\\\ClusteringAndLinking\\\\aida-yago2-dataset\\\\encodings\\\\AIDA-YAGO2_testb_encodings.jsonl\")\n",
    "raw_encodings_train = open(path_train, 'r').read()\n",
    "raw_encodings_testa = open(path_testa, 'r').read()\n",
    "raw_encodings_testb = open(path_testb, 'r').read()"
   ],
   "metadata": {
    "collapsed": false,
    "pycharm": {
     "name": "#%%\n"
    }
   }
  },
  {
   "cell_type": "code",
   "execution_count": 91,
   "outputs": [],
   "source": [
    "import json\n",
    "\n",
    "jsonl_parsed_train = [json.loads(x) for x in raw_encodings_train.splitlines()]\n",
    "jsonl_parsed_testa = [json.loads(x) for x in raw_encodings_testa.splitlines()]\n",
    "jsonl_parsed_testb = [json.loads(x) for x in raw_encodings_testb.splitlines()]\n",
    "jsonl_parsed = jsonl_parsed_train + jsonl_parsed_testa + jsonl_parsed_testb"
   ],
   "metadata": {
    "collapsed": false,
    "pycharm": {
     "name": "#%%\n"
    }
   }
  },
  {
   "cell_type": "code",
   "execution_count": 92,
   "outputs": [],
   "source": [
    "encodings = [x['encoding'] for x in jsonl_parsed]"
   ],
   "metadata": {
    "collapsed": false,
    "pycharm": {
     "name": "#%%\n"
    }
   }
  },
  {
   "cell_type": "code",
   "execution_count": 93,
   "outputs": [],
   "source": [
    "ents_data['encodings'] = encodings\n",
    "# ents_data_filtered = ch.filter_data(ents_data, 3)\n",
    "ents_data_filtered = ents_data.copy()"
   ],
   "metadata": {
    "collapsed": false,
    "pycharm": {
     "name": "#%%\n"
    }
   }
  },
  {
   "cell_type": "code",
   "execution_count": 94,
   "outputs": [],
   "source": [
    "ents_data = ents_data_filtered[ents_data_filtered['entities'] != '']\n",
    "entities = ents_data['entities'].values\n",
    "mentions = ents_data['tokens'].values\n",
    "encodings = ents_data['encodings'].values\n",
    "unique_entities = np.unique(entities)\n",
    "gold_standard = Counter(entities)\n",
    "gold_standard = dict(sorted(gold_standard.items(), key=lambda item: item[1], reverse=True))"
   ],
   "metadata": {
    "collapsed": false,
    "pycharm": {
     "name": "#%%\n"
    }
   }
  },
  {
   "cell_type": "code",
   "execution_count": 95,
   "outputs": [],
   "source": [
    "leven_cluster = np.loadtxt(\"../aida-yago2-dataset/damerau_1_2.txt\", dtype=np.int32)\n",
    "lev_cluster_dict = {}\n",
    "for i, x in enumerate(leven_cluster):\n",
    "    try:\n",
    "        lev_cluster_dict[x].append(\n",
    "            (mentions[i], entities[i], encodings[i]))\n",
    "    except:\n",
    "        lev_cluster_dict[x] = [\n",
    "            (mentions[i], entities[i], encodings[i])]"
   ],
   "metadata": {
    "collapsed": false,
    "pycharm": {
     "name": "#%%\n"
    }
   }
  },
  {
   "cell_type": "code",
   "execution_count": 96,
   "outputs": [],
   "source": [
    "cluster_all = []\n",
    "from sklearn.cluster import AgglomerativeClustering\n",
    "clusterizator = AgglomerativeClustering(n_clusters=None, affinity='cosine',\n",
    "                                        distance_threshold=0.03678974213038678, linkage=\"single\")\n",
    "\n",
    "for x in lev_cluster_dict:\n",
    "    encodings = [y[2] for y in lev_cluster_dict[x]]\n",
    "    if len(encodings) > 1:\n",
    "        cluster = clusterizator.fit_predict(encodings)\n",
    "        cluster_all.append(cluster)\n",
    "    else:\n",
    "        cluster_all.append(np.zeros(1))"
   ],
   "metadata": {
    "collapsed": false,
    "pycharm": {
     "name": "#%%%\n"
    }
   }
  },
  {
   "cell_type": "code",
   "execution_count": 97,
   "outputs": [],
   "source": [
    "total_encodings = [[y[2] for y in lev_cluster_dict[x]] for x in lev_cluster_dict.keys()]\n",
    "clustered_entities = [[row[1] for row in lev_cluster_dict[index]] for index in lev_cluster_dict.keys()]\n",
    "clustered_mentions = [[row[0] for row in lev_cluster_dict[index]] for index in lev_cluster_dict.keys()]"
   ],
   "metadata": {
    "collapsed": false,
    "pycharm": {
     "name": "#%%\n"
    }
   }
  },
  {
   "cell_type": "code",
   "execution_count": 98,
   "outputs": [],
   "source": [
    "# clusters_splitted = []\n",
    "# clusters_vectors = []\n",
    "# for n_cluster in range(len(clustered_entities)):\n",
    "#     cluster_unique = dict.fromkeys(set(cluster_all[n_cluster]), [])\n",
    "#     cluster_unique_vector = dict.fromkeys(set(cluster_all[n_cluster]), [])\n",
    "#     for key in cluster_unique:\n",
    "#         cluster_unique[key] = [clustered_entities[n_cluster][index] for index in\n",
    "#                                range(len(clustered_entities[n_cluster])) if cluster_all[n_cluster][index] == key]\n",
    "#         cluster_unique_vector[key] = [total_encodings[n_cluster][index] for index in\n",
    "#                                range(len(clustered_entities[n_cluster])) if cluster_all[n_cluster][index] == key]\n",
    "#     clusters_vectors.append(cluster_unique_vector)\n",
    "#     clusters_splitted.append(cluster_unique)"
   ],
   "metadata": {
    "collapsed": false,
    "pycharm": {
     "name": "#%%\n"
    }
   }
  },
  {
   "cell_type": "code",
   "execution_count": 99,
   "outputs": [],
   "source": [
    "clusters_splitted = []\n",
    "clusters_vectors = []\n",
    "for n_cluster in range(len(clustered_entities)):\n",
    "    cluster_unique = {k:Cluster() for k in set(cluster_all[n_cluster])}\n",
    "    for key in cluster_unique:\n",
    "        cl_mentions = [clustered_mentions[n_cluster][index] for index in\n",
    "                               range(len(clustered_mentions[n_cluster])) if cluster_all[n_cluster][index] == key]\n",
    "        cl_entities = [clustered_entities[n_cluster][index] for index in\n",
    "                               range(len(clustered_entities[n_cluster])) if cluster_all[n_cluster][index] == key]\n",
    "        cl_encodings = [total_encodings[n_cluster][index] for index in\n",
    "                               range(len(clustered_entities[n_cluster])) if cluster_all[n_cluster][index] == key]\n",
    "        cluster_unique[key] = Cluster(entities=cl_entities, mentions=cl_mentions,encodings_list=cl_encodings)\n",
    "    clusters_splitted.append(cluster_unique)"
   ],
   "metadata": {
    "collapsed": false,
    "pycharm": {
     "name": "#%%\n"
    }
   }
  },
  {
   "cell_type": "code",
   "execution_count": 100,
   "outputs": [],
   "source": [
    "# clusters_splitted_vector_dict = [np.mean(x[y], axis=0)  for x in clusters_vectors for y in x]\n",
    "# clusters_splitted_vector_dict = [np.median(x[y], axis=0)  for x in clusters_vectors for y in x]"
   ],
   "metadata": {
    "collapsed": false,
    "pycharm": {
     "name": "#%%\n"
    }
   }
  },
  {
   "cell_type": "code",
   "execution_count": 101,
   "outputs": [],
   "source": [
    "clusters_splitted_dict = [x[y] for x in clusters_splitted for y in x]"
   ],
   "metadata": {
    "collapsed": false,
    "pycharm": {
     "name": "#%%\n"
    }
   }
  },
  {
   "cell_type": "code",
   "execution_count": 102,
   "outputs": [
    {
     "data": {
      "text/plain": "6244"
     },
     "execution_count": 102,
     "metadata": {},
     "output_type": "execute_result"
    }
   ],
   "source": [
    "clusterizator = AgglomerativeClustering(n_clusters=None, affinity='cosine',\n",
    "                                        distance_threshold=0.0155, linkage=\"single\")\n",
    "\n",
    "clusters_of_cluster = clusterizator.fit_predict([x.encodings_median() for x in clusters_splitted_dict])\n",
    "len(set(clusters_of_cluster))"
   ],
   "metadata": {
    "collapsed": false,
    "pycharm": {
     "name": "#%%\n"
    }
   }
  },
  {
   "cell_type": "code",
   "execution_count": 103,
   "outputs": [
    {
     "data": {
      "text/plain": "6244"
     },
     "execution_count": 103,
     "metadata": {},
     "output_type": "execute_result"
    }
   ],
   "source": [
    "coc_dict = {k: Cluster() for k in set(clusters_of_cluster)}\n",
    "for index, el in enumerate(clusters_of_cluster):\n",
    "    coc_dict[el] = coc_dict[el] + clusters_splitted_dict[index]\n",
    "len(coc_dict.keys())"
   ],
   "metadata": {
    "collapsed": false,
    "pycharm": {
     "name": "#%%\n"
    }
   }
  },
  {
   "cell_type": "code",
   "execution_count": 104,
   "outputs": [],
   "source": [
    "import Packages.ClusteringHelper as ch\n",
    "golden_standard_dict = ch.get_gold_standard_dict(ents_data)"
   ],
   "metadata": {
    "collapsed": false,
    "pycharm": {
     "name": "#%%\n"
    }
   }
  },
  {
   "cell_type": "markdown",
   "source": [
    "### B-CUBED"
   ],
   "metadata": {
    "collapsed": false
   }
  },
  {
   "cell_type": "code",
   "execution_count": 105,
   "outputs": [
    {
     "name": "stdout",
     "output_type": "stream",
     "text": [
      "Counter finito\n"
     ]
    },
    {
     "data": {
      "text/plain": "  0%|          | 0/6244 [00:00<?, ?it/s]",
      "application/vnd.jupyter.widget-view+json": {
       "version_major": 2,
       "version_minor": 0,
       "model_id": "43d47417641c4755a0831a8d742319c0"
      }
     },
     "metadata": {},
     "output_type": "display_data"
    },
    {
     "data": {
      "text/plain": "0.8894849007000544"
     },
     "execution_count": 105,
     "metadata": {},
     "output_type": "execute_result"
    }
   ],
   "source": [
    "list_of_counter = [x.count_ents() for x in coc_dict.values()]\n",
    "print('Counter finito')\n",
    "from tqdm.notebook import tqdm\n",
    "# B-cubed\n",
    "bcubed_precision_num = 0\n",
    "bcubed_recall_num = 0\n",
    "for cluster in tqdm(list_of_counter):\n",
    "    for gold_key in golden_standard_dict.keys():\n",
    "        try:\n",
    "            bcubed_precision_num = bcubed_precision_num + (pow(cluster[gold_key], 2) /\n",
    "                                       sum(cluster.values()))\n",
    "            bcubed_recall_num = bcubed_recall_num + (pow(cluster[gold_key], 2) /\n",
    "                                       golden_standard_dict[gold_key])\n",
    "        except:\n",
    "            pass\n",
    "\n",
    "bcubed_precision = bcubed_precision_num/sum([x.n_elements() for x in coc_dict.values()])\n",
    "bcubed_recall = bcubed_recall_num/ents_data.shape[0]\n",
    "\n",
    "bcubed_precision"
   ],
   "metadata": {
    "collapsed": false,
    "pycharm": {
     "name": "#%%\n"
    }
   }
  },
  {
   "cell_type": "code",
   "execution_count": 106,
   "outputs": [
    {
     "data": {
      "text/plain": "0.8737135964453578"
     },
     "execution_count": 106,
     "metadata": {},
     "output_type": "execute_result"
    }
   ],
   "source": [
    "bcubed_recall"
   ],
   "metadata": {
    "collapsed": false,
    "pycharm": {
     "name": "#%%\n"
    }
   }
  },
  {
   "cell_type": "code",
   "execution_count": 107,
   "outputs": [
    {
     "data": {
      "text/plain": "0.8815287136787912"
     },
     "execution_count": 107,
     "metadata": {},
     "output_type": "execute_result"
    }
   ],
   "source": [
    "bcubed_f1 = (2 * (bcubed_recall * bcubed_precision)) / (\n",
    "        bcubed_precision + bcubed_recall)\n",
    "bcubed_f1"
   ],
   "metadata": {
    "collapsed": false,
    "pycharm": {
     "name": "#%%\n"
    }
   }
  },
  {
   "cell_type": "markdown",
   "source": [
    "CEAFm precision"
   ],
   "metadata": {
    "collapsed": false
   }
  },
  {
   "cell_type": "code",
   "execution_count": 108,
   "outputs": [],
   "source": [
    "best_alignment = ch.get_optimal_alignment([x.count_ents() for x in coc_dict.values()], set(entities),\n",
    "                                          is_dict=False)"
   ],
   "metadata": {
    "collapsed": false,
    "pycharm": {
     "name": "#%%\n"
    }
   }
  },
  {
   "cell_type": "code",
   "execution_count": 109,
   "outputs": [
    {
     "data": {
      "text/plain": "0.8465686450731567"
     },
     "execution_count": 109,
     "metadata": {},
     "output_type": "execute_result"
    }
   ],
   "source": [
    "# CEAFm_precision\n",
    "CEAFm_p = sum(best_alignment.values()) / len(entities)\n",
    "CEAFm_p"
   ],
   "metadata": {
    "collapsed": false,
    "pycharm": {
     "name": "#%%\n"
    }
   }
  },
  {
   "cell_type": "markdown",
   "source": [
    "CEAFm recall"
   ],
   "metadata": {
    "collapsed": false
   }
  },
  {
   "cell_type": "code",
   "execution_count": 110,
   "outputs": [
    {
     "data": {
      "text/plain": "0.8465686450731567"
     },
     "execution_count": 110,
     "metadata": {},
     "output_type": "execute_result"
    }
   ],
   "source": [
    "# CEAFm_recall\n",
    "CEAFm_r = sum(best_alignment.values()) / sum([x.n_elements() for x in coc_dict.values()])\n",
    "CEAFm_r"
   ],
   "metadata": {
    "collapsed": false,
    "pycharm": {
     "name": "#%%\n"
    }
   }
  },
  {
   "cell_type": "markdown",
   "source": [
    "CEAFm Fscore"
   ],
   "metadata": {
    "collapsed": false
   }
  },
  {
   "cell_type": "code",
   "execution_count": 111,
   "outputs": [
    {
     "data": {
      "text/plain": "0.8465686450731568"
     },
     "execution_count": 111,
     "metadata": {},
     "output_type": "execute_result"
    }
   ],
   "source": [
    "# CEAFm_f1\n",
    "CEAFm_f1 = 2 * (CEAFm_p * CEAFm_r) / (CEAFm_p + CEAFm_r)\n",
    "CEAFm_f1"
   ],
   "metadata": {
    "collapsed": false,
    "pycharm": {
     "name": "#%%\n"
    }
   }
  },
  {
   "cell_type": "code",
   "execution_count": 112,
   "outputs": [],
   "source": [
    "to_print = False\n",
    "if to_print:\n",
    "    import sys\n",
    "    original_stdout = sys.stdout\n",
    "    with open(\".\\\\full_approach.html\", \"a\", encoding='utf-8') as f:\n",
    "        sys.stdout = f\n",
    "        print('<html>')\n",
    "        print(\"CEAFm-R:\", CEAFm_r)\n",
    "        print(\"CEAFm-P:\", CEAFm_p)\n",
    "        print(\"CEAFm:\", CEAFm_f1)\n",
    "        print(\"<br>\")\n",
    "        print(\"bcubed_recall:\", bcubed_recall)\n",
    "        print(\"bcubed_precision:\", bcubed_precision)\n",
    "        print(\"bcubed_f1:\", bcubed_f1)\n",
    "        print(\"<br>\", \"Clusters:\", '<br>')\n",
    "        print(\"<br> Clusters:\", '<br>')\n",
    "        print(*list(coc_dict.values()), sep=\" <br><br> \")\n",
    "        print(\"<br>\")\n",
    "        print(\"<br>\")\n",
    "        print(\"Gold_standard:\", '<br>')\n",
    "        print(dict(Counter(entities)))\n",
    "        print('</html>')\n",
    "        sys.stdout = original_stdout"
   ],
   "metadata": {
    "collapsed": false,
    "pycharm": {
     "name": "#%%\n"
    }
   }
  },
  {
   "cell_type": "code",
   "execution_count": 113,
   "outputs": [],
   "source": [
    "gold_dict = dict(Counter(entities))"
   ],
   "metadata": {
    "collapsed": false,
    "pycharm": {
     "name": "#%%\n"
    }
   }
  },
  {
   "cell_type": "code",
   "execution_count": 114,
   "outputs": [],
   "source": [
    "keys_max = []\n",
    "for x in coc_dict.values():\n",
    "    counter = dict(x.count_ents())\n",
    "    max_key = max(counter, key=counter.get)\n",
    "    if len(counter) == 1:\n",
    "        keys_max.append(max_key)\n",
    "    else:\n",
    "        keys_max.append('Germany')"
   ],
   "metadata": {
    "collapsed": false,
    "pycharm": {
     "name": "#%%\n"
    }
   }
  },
  {
   "cell_type": "code",
   "execution_count": 115,
   "outputs": [
    {
     "data": {
      "text/plain": "['Atlantic_Division_(NBA)',\n 'Central_Division_(NBA)',\n 'Pacific_Division_(NHL)',\n 'Central_Division_(NHL)',\n 'Labour_Party_(Malta)',\n 'Ministry_of_Foreign_Affairs_(Poland)',\n 'Minister_of_the_Interior_(France)',\n 'Ministry_of_Finance_(Chile)',\n 'Ford_Escort_(Europe)',\n 'São_Paulo_(state)',\n 'U.S._Open_(golf)',\n 'Ministry_of_Foreign_Affairs_(Israel)',\n 'Bosnia_(region)',\n 'Al_Akhbar_(Lebanon)',\n 'Joe_Miller_(footballer)',\n 'Roberto_Carlos_(Spanish_footballer)',\n 'St._Louis_Blues_(ice_hockey)',\n 'Foreign_Office_(Germany)',\n 'Luxembourg_(city)',\n 'Maccabi_Tel_Aviv_B.C.',\n 'Reading_R.F.C.',\n 'Valletta_F.C.',\n 'Maccabi_Petah_Tikva_F.C.',\n 'Wigan_Athletic_F.C.',\n 'Wimbledon_F.C.',\n 'Northampton_Town_F.C.',\n 'Leicester_City_F.C.',\n 'R._Charleroi_S.C.',\n 'Swansea_RFC',\n 'Pontypridd_RFC',\n 'Cardiff_RFC',\n 'Newport_RFC',\n 'São_Paulo_FC',\n 'Portuguese_Liga',\n 'Philadelphia',\n 'Socialist_Party_of_Albania',\n 'Mauritania',\n 'Charleston,_West_Virginia',\n 'Oakland,_California',\n 'NATO_intervention_in_Bosnia',\n 'Ethiopia',\n 'Security_Council_of_Russia',\n 'Government_of_Russia',\n 'FK_Rudar_Pljevlja',\n 'Sri_Lanka',\n 'Kassala',\n 'CB_Sevilla',\n 'Associação_Desportiva_Vasco_da_Gama',\n 'Indiana',\n 'Botswana',\n 'Supreme_Court_of_the_Republic_of_China',\n \"Ministry_of_Foreign_Affairs_of_the_People's_Republic_of_China\",\n 'Barcelona',\n 'Phoenix,_Arizona',\n 'Club_Santos_Laguna',\n 'Atlanta',\n 'Moldova',\n 'Subaru_Impreza',\n 'FK_Sutjeska_Foča',\n 'Melbourne_Football_Club',\n 'FK_Hajduk_Beograd',\n 'Sheffield',\n 'Chesterfield',\n \"Queen's_Park,_Chesterfield\",\n 'Iceland',\n 'Ireland',\n 'Cleveland',\n 'Kingdom_of_England',\n 'Free_Democratic_Party_of_Switzerland',\n 'Castle_Park_Cricket_Ground',\n 'Oxford',\n 'Nice',\n 'Hakkâri_Province',\n 'Buenos_Aires_Province',\n 'St_Helens,_Merseyside',\n 'Holy_See',\n 'Milwaukee',\n 'Chinese_language',\n 'English_language',\n 'Spanish_language',\n 'Albanian_language',\n 'German_language',\n 'Chicago_Stock_Exchange',\n 'Frankfurt_Stock_Exchange',\n 'Colorado_Avalanche',\n 'Eredivisie',\n 'NK_Rudar_Velenje',\n 'Marseille',\n 'Arab_people',\n 'Chinese_people',\n 'Sri_Lankan_Tamil_people',\n 'Australian_people',\n 'Seattle',\n 'Cologne',\n 'Palestine',\n 'Clarence_Park,_Weston-super-Mare',\n 'Yorkshire',\n 'Austrian_Empire',\n 'Russian_Empire',\n 'Baltimore',\n 'Ducati_Corse',\n 'Harlequins_Rugby_League',\n 'Hove',\n 'Kawasaki_Motors_Racing',\n 'Hamburg',\n 'Utah',\n 'Pittsburgh',\n 'Portsmouth',\n 'Spirou_Charleroi',\n 'Ferrari',\n 'Kansas_City,_Missouri',\n 'Hartford_Wolf_Pack',\n 'Rabobank',\n 'Heineken_International',\n 'ExxonMobil',\n 'Empire_of_Brazil',\n 'National_Congress_of_Brazil',\n 'Nebraska_Cornhuskers_football',\n 'Rugby_football',\n 'Bristol',\n 'County_Cricket_Ground,_Bristol',\n 'Ford_World_Rally_Team',\n 'Subaru_World_Rally_Team',\n 'Romania_national_under-21_football_team',\n 'Lithuania_national_under-21_football_team',\n 'Bulgaria_national_under-21_football_team',\n 'Austria_national_under-21_football_team',\n 'Scotland_national_under-21_football_team',\n 'Israel_national_under-21_football_team',\n 'Wales_national_under-21_football_team',\n 'Congo_DR_national_football_team',\n 'China_PR_national_football_team',\n 'Cuba_national_football_team',\n 'Costa_Rica_national_football_team',\n 'Namibia_national_football_team',\n 'Zambia_national_football_team',\n 'Slovakia_national_football_team',\n 'Albania_national_football_team',\n 'Romania_national_football_team',\n 'Lithuania_national_football_team',\n 'Armenia_national_football_team',\n 'Macedonia_national_football_team',\n 'Estonia_national_football_team',\n 'Bulgaria_national_football_team',\n 'Liberia_national_football_team',\n 'Austria_national_football_team',\n 'Syria_national_football_team',\n 'Indonesia_national_football_team',\n 'Tunisia_national_football_team',\n 'Russia_national_football_team',\n 'Croatia_national_football_team',\n 'Latvia_national_football_team',\n 'Malta_national_football_team',\n 'Kenya_national_football_team',\n 'Korea_Republic_national_football_team',\n 'Czech_Republic_national_football_team',\n 'Central_African_Republic_national_football_team',\n 'England_national_football_team',\n 'Poland_national_football_team',\n 'Switzerland_national_football_team',\n 'Scotland_national_football_team',\n 'France_national_football_team',\n 'Chile_national_football_team',\n 'Ukraine_national_football_team',\n 'Mozambique_national_football_team',\n 'Zimbabwe_national_football_team',\n 'Burundi_national_football_team',\n 'Malawi_national_football_team',\n 'Portugal_national_football_team',\n 'Israel_national_football_team',\n 'Brazil_national_football_team',\n 'Belgium_national_football_team',\n 'Japan_national_football_team',\n 'Sweden_national_football_team',\n 'Gabon_national_football_team',\n 'Cameroon_national_football_team',\n 'Mexico_national_football_team',\n 'Honduras_national_football_team',\n 'Netherlands_national_football_team',\n 'Wales_national_football_team',\n 'Belarus_national_football_team',\n 'Cyprus_national_football_team',\n 'Italy_national_football_team',\n 'Germany_national_football_team',\n 'Ireland_national_rugby_union_team',\n 'England_national_rugby_union_team',\n 'Scotland_national_rugby_union_team',\n 'Wales_national_rugby_union_team',\n 'Italy_national_rugby_union_team',\n 'Austria_Fed_Cup_team',\n 'Czech_Republic_Fed_Cup_team',\n 'France_Fed_Cup_team',\n 'Belgium_Fed_Cup_team',\n 'Japan_Fed_Cup_team',\n 'Spain_Fed_Cup_team',\n 'Netherlands_Fed_Cup_team',\n 'United_States_Fed_Cup_team',\n 'Germany_Fed_Cup_team',\n 'Australia_Davis_Cup_team',\n 'Croatia_Davis_Cup_team',\n 'Germany_Davis_Cup_team',\n \"United_States_men's_national_soccer_team\",\n 'England_cricket_team',\n 'South_Africa_national_cricket_team',\n 'India_national_cricket_team',\n 'Australia_national_cricket_team',\n 'Kenya_national_cricket_team',\n 'New_Zealand_national_cricket_team',\n 'Zimbabwe_national_cricket_team',\n 'South_Africa_national_field_hockey_team',\n \"Czech_Republic_men's_national_ice_hockey_team\",\n \"Finland_men's_national_ice_hockey_team\",\n \"Sweden_men's_national_ice_hockey_team\",\n \"Germany_men's_national_ice_hockey_team\",\n 'Birmingham',\n 'Himalaya_Kingdom',\n 'Catholicism',\n 'Kurdish_nationalism',\n 'Nazism',\n 'Headingley_Stadium',\n 'Wigan',\n 'Milan',\n 'Oman',\n 'Ulsan',\n 'Pakistan',\n 'Uzbekistan',\n 'Taiwan',\n 'St._Gallen',\n 'Bayer_Giants_Leverkusen',\n 'International_cricketers_of_South_African_origin',\n 'Heathrow,_London',\n 'Portland,_Oregon',\n 'Rheinpark_Stadion',\n 'Honda_Racing_Corporation',\n 'Edmonton',\n 'Southampton',\n 'Edgbaston',\n 'Houston',\n 'Sporting_de_Gijón',\n 'San_Francisco',\n 'San_Diego',\n 'Esporte_Clube_Flamengo',\n 'Togo',\n 'Dayton,_Ohio',\n 'Pallacanestro_Treviso',\n 'UEFA_European_Football_Championship',\n 'Six_Nations_Championship',\n '1996–97_UEFA_Cup',\n 'FIFA_World_Cup',\n 'UCI_Road_World_Cup',\n 'FIS_Freestyle_Skiing_World_Cup',\n 'FIS_Ski_Jumping_World_Cup',\n 'Speed_Skating_World_Cup',\n 'FIS_Alpine_Ski_World_Cup',\n 'Biathlon_World_Cup',\n 'Cricket_World_Cup',\n 'Rugby_World_Cup',\n '1996_AFC_Asian_Cup',\n 'Stranraer',\n 'Youri_Mulder',\n 'USTA_Billie_Jean_King_National_Tennis_Center',\n 'Colchester',\n 'Foreign_minister',\n 'Jordan_River',\n 'Denver',\n 'El_Salvador',\n \"Ottawa_67's\",\n 'Indigenous_peoples_of_the_Americas',\n 'Texas',\n 'Serbs',\n 'Seattle_SuperSonics',\n '1972_Summer_Olympics',\n '1992_Summer_Olympics',\n '1936_Summer_Olympics',\n '1976_Winter_Olympics',\n 'Boston_Celtics',\n 'Leeds',\n 'Oldham_Roughyeds',\n 'Faroe_Islands',\n 'Washington_Wizards',\n 'Turkish_Armed_Forces',\n 'British_West_Indies',\n 'Memphis_Grizzlies',\n 'Seychelles',\n 'Commonwealth_Games',\n 'People_of_the_United_States',\n 'Minnesota_Timberwolves',\n 'Toronto_Maple_Leafs',\n 'Kansas_City_Chiefs',\n 'Los_Angeles_Kings',\n 'Detroit_Red_Wings',\n 'Minnesota_Vikings',\n 'Israelis',\n 'Euronext_Paris',\n 'New_York_Knicks',\n 'Dallas_Mavericks',\n 'Milwaukee_Bucks',\n 'Atlanta_Hawks',\n 'Seattle_Seahawks',\n 'Chicago_Blackhawks',\n 'Cincinnati_Bengals',\n 'Washington_Capitals',\n 'New_Jersey_Devils',\n 'Royal_Tunbridge_Wells',\n 'Chicago_Bulls',\n 'Albanians',\n 'Romanians',\n 'New_Zealand_Barbarians',\n 'Bulgarians',\n 'Austrians',\n 'Egyptians',\n 'Germans',\n 'Tennessee_Titans',\n 'Nicaraguans',\n 'Sydney_Swans',\n 'Houston_Texans',\n 'Australian_Greens',\n 'Montreal_Canadiens',\n 'Baltimore_Ravens',\n 'Pittsburgh_Penguins',\n 'Boston_Bruins',\n 'Atlanta_Falcons',\n 'St._George_Illawarra_Dragons',\n 'Detroit_Lions',\n 'Detroit_Pistons',\n 'Phoenix_Suns',\n 'Brisbane_Broncos',\n 'Denver_Broncos',\n '1996_Wimbledon_Championships',\n 'Chicago_Bears',\n 'Dallas_Stars',\n 'Philadelphia_76ers',\n 'San_Francisco_49ers',\n 'Indiana_Pacers',\n 'Canberra_Raiders',\n 'Oakland_Raiders',\n 'Tampa_Bay_Buccaneers',\n 'Leicester_Tigers',\n 'San_Diego_Chargers',\n 'Gold_Coast_Chargers',\n 'Florida_Panthers',\n 'Cleveland_Cavaliers',\n 'Pittsburgh_Steelers',\n 'Philadelphia_Flyers',\n 'New_Zealand_Warriors',\n 'Ottawa_Senators',\n 'Toronto_Raptors',\n 'Charlotte_Bobcats',\n 'Houston_Rockets',\n 'Newcastle_Knights',\n 'Northampton_Saints',\n 'Olympic_sports',\n 'Footwork_Arrows',\n 'Miami_Heat',\n 'Chester-le-Street',\n 'Wall_Street',\n 'Stansted_Mountfitchet',\n 'FC_Barcelona_Bàsquet',\n 'KK_Split',\n 'Detroit',\n 'Hamburg_Airport',\n 'Munich_Airport',\n 'Dresden_Airport',\n 'Stuttgart_Airport',\n 'Frankfurt_Airport',\n 'PBC_CSKA_Moscow',\n 'MBC_Dynamo_Moscow',\n 'Jordan_Grand_Prix',\n 'Bordeaux',\n 'Labour_Day',\n 'World_Cup_of_Hockey',\n 'Provisional_Irish_Republican_Army',\n 'Calgary',\n 'Vatican_Library',\n 'Colombian_Liberal_Party',\n 'Estonian_Reform_Party',\n 'New_Zealand_Labour_Party',\n 'Qing_Dynasty',\n 'Vaduz']"
     },
     "execution_count": 115,
     "metadata": {},
     "output_type": "execute_result"
    }
   ],
   "source": [
    "def last_letter(word):\n",
    "    return word[::-1]\n",
    "ciao = sorted([x for x in best_alignment.keys() if best_alignment[x] == 0], key=last_letter)\n",
    "# print(*ciao, sep=\"; \")\n",
    "ciao"
   ],
   "metadata": {
    "collapsed": false,
    "pycharm": {
     "name": "#%%\n"
    }
   }
  },
  {
   "cell_type": "code",
   "execution_count": 116,
   "outputs": [],
   "source": [
    "ciao_dict = {}\n",
    "for i, x in enumerate(keys_max):\n",
    "    ciao_dict[x] = list(coc_dict.values())[i].count_ents()[x]"
   ],
   "metadata": {
    "collapsed": false,
    "pycharm": {
     "name": "#%%\n"
    }
   }
  },
  {
   "cell_type": "code",
   "execution_count": 117,
   "outputs": [
    {
     "data": {
      "text/plain": "2282"
     },
     "execution_count": 117,
     "metadata": {},
     "output_type": "execute_result"
    }
   ],
   "source": [
    "sum([1 for x in ciao_dict if ciao_dict[x] == gold_dict[x] and ciao_dict[x]==1])\n",
    "# sum([1 for x in ciao_dict if ciao_dict[x] == gold_dict[x]])"
   ],
   "metadata": {
    "collapsed": false,
    "pycharm": {
     "name": "#%%\n"
    }
   }
  },
  {
   "cell_type": "code",
   "execution_count": 118,
   "outputs": [
    {
     "data": {
      "text/plain": "2468"
     },
     "execution_count": 118,
     "metadata": {},
     "output_type": "execute_result"
    }
   ],
   "source": [
    "sum([1 for x in gold_dict if gold_dict[x] == 1])\n"
   ],
   "metadata": {
    "collapsed": false,
    "pycharm": {
     "name": "#%%\n"
    }
   }
  },
  {
   "cell_type": "code",
   "execution_count": 119,
   "outputs": [
    {
     "ename": "SyntaxError",
     "evalue": "invalid syntax (Temp/ipykernel_24752/285106049.py, line 1)",
     "output_type": "error",
     "traceback": [
      "\u001B[1;36m  File \u001B[1;32m\"C:\\Users\\Sgmon\\AppData\\Local\\Temp/ipykernel_24752/285106049.py\"\u001B[1;36m, line \u001B[1;32m1\u001B[0m\n\u001B[1;33m    2282*100/2468best_alignment if best_alignment[x] == 0]\u001B[0m\n\u001B[1;37m                              ^\u001B[0m\n\u001B[1;31mSyntaxError\u001B[0m\u001B[1;31m:\u001B[0m invalid syntax\n"
     ]
    }
   ],
   "source": [],
   "metadata": {
    "collapsed": false,
    "pycharm": {
     "name": "#%%"
    }
   }
  }
 ],
 "metadata": {
  "kernelspec": {
   "display_name": "Python 3",
   "language": "python",
   "name": "python3"
  },
  "language_info": {
   "codemirror_mode": {
    "name": "ipython",
    "version": 2
   },
   "file_extension": ".py",
   "mimetype": "text/x-python",
   "name": "python",
   "nbconvert_exporter": "python",
   "pygments_lexer": "ipython2",
   "version": "2.7.6"
  }
 },
 "nbformat": 4,
 "nbformat_minor": 0
}