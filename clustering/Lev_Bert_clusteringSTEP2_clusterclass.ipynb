{
 "cells": [
  {
   "cell_type": "code",
   "execution_count": 4,
   "outputs": [
    {
     "name": "stdout",
     "output_type": "stream",
     "text": [
      "The autoreload extension is already loaded. To reload it, use:\n",
      "  %reload_ext autoreload\n"
     ]
    }
   ],
   "source": [
    "%load_ext autoreload\n",
    "%autoreload 2"
   ],
   "metadata": {
    "collapsed": false,
    "pycharm": {
     "name": "#%%\n"
    }
   }
  },
  {
   "cell_type": "code",
   "execution_count": 5,
   "outputs": [],
   "source": [
    "import Packages.ClusteringHelper as ch\n",
    "import numpy as np\n",
    "from tqdm.notebook import tqdm\n",
    "from collections import Counter\n",
    "from Packages.TimeEvolving import Cluster"
   ],
   "metadata": {
    "collapsed": false,
    "pycharm": {
     "name": "#%%\n"
    }
   }
  },
  {
   "cell_type": "code",
   "execution_count": 6,
   "outputs": [
    {
     "data": {
      "text/plain": "        documents   tokens       indexes  word_indexes mentions  \\\n0               0       EU        (0, 2)             0            \n1               0  rejects       (3, 10)             1            \n2               0   German      (11, 17)             2   German   \n3               0     call      (18, 22)             3            \n4               0       to      (23, 25)             4            \n...           ...      ...           ...           ...      ...   \n285584       1392  younger  (1342, 1349)           265            \n285585       1392  brother  (1350, 1357)           266            \n285586       1392        ,  (1358, 1359)           267            \n285587       1392    Bobby  (1360, 1365)           268    Bobby   \n285588       1392        .  (1366, 1367)           269            \n\n              entities                                    wikidatas  \\\n0                                                                     \n1                                                                     \n2              Germany         http://en.wikipedia.org/wiki/Germany   \n3                                                                     \n4                                                                     \n...                ...                                          ...   \n285584                                                                \n285585                                                                \n285586                                                                \n285587  Bobby_Charlton  http://en.wikipedia.org/wiki/Bobby_Charlton   \n285588                                                                \n\n       numeric_codes alpha_codes  \n0                                 \n1                                 \n2              11867    /m/0345h  \n3                                 \n4                                 \n...              ...         ...  \n285584                            \n285585                            \n285586                            \n285587          4224    /m/01c8x  \n285588                            \n\n[285589 rows x 9 columns]",
      "text/html": "<div>\n<style scoped>\n    .dataframe tbody tr th:only-of-type {\n        vertical-align: middle;\n    }\n\n    .dataframe tbody tr th {\n        vertical-align: top;\n    }\n\n    .dataframe thead th {\n        text-align: right;\n    }\n</style>\n<table border=\"1\" class=\"dataframe\">\n  <thead>\n    <tr style=\"text-align: right;\">\n      <th></th>\n      <th>documents</th>\n      <th>tokens</th>\n      <th>indexes</th>\n      <th>word_indexes</th>\n      <th>mentions</th>\n      <th>entities</th>\n      <th>wikidatas</th>\n      <th>numeric_codes</th>\n      <th>alpha_codes</th>\n    </tr>\n  </thead>\n  <tbody>\n    <tr>\n      <th>0</th>\n      <td>0</td>\n      <td>EU</td>\n      <td>(0, 2)</td>\n      <td>0</td>\n      <td></td>\n      <td></td>\n      <td></td>\n      <td></td>\n      <td></td>\n    </tr>\n    <tr>\n      <th>1</th>\n      <td>0</td>\n      <td>rejects</td>\n      <td>(3, 10)</td>\n      <td>1</td>\n      <td></td>\n      <td></td>\n      <td></td>\n      <td></td>\n      <td></td>\n    </tr>\n    <tr>\n      <th>2</th>\n      <td>0</td>\n      <td>German</td>\n      <td>(11, 17)</td>\n      <td>2</td>\n      <td>German</td>\n      <td>Germany</td>\n      <td>http://en.wikipedia.org/wiki/Germany</td>\n      <td>11867</td>\n      <td>/m/0345h</td>\n    </tr>\n    <tr>\n      <th>3</th>\n      <td>0</td>\n      <td>call</td>\n      <td>(18, 22)</td>\n      <td>3</td>\n      <td></td>\n      <td></td>\n      <td></td>\n      <td></td>\n      <td></td>\n    </tr>\n    <tr>\n      <th>4</th>\n      <td>0</td>\n      <td>to</td>\n      <td>(23, 25)</td>\n      <td>4</td>\n      <td></td>\n      <td></td>\n      <td></td>\n      <td></td>\n      <td></td>\n    </tr>\n    <tr>\n      <th>...</th>\n      <td>...</td>\n      <td>...</td>\n      <td>...</td>\n      <td>...</td>\n      <td>...</td>\n      <td>...</td>\n      <td>...</td>\n      <td>...</td>\n      <td>...</td>\n    </tr>\n    <tr>\n      <th>285584</th>\n      <td>1392</td>\n      <td>younger</td>\n      <td>(1342, 1349)</td>\n      <td>265</td>\n      <td></td>\n      <td></td>\n      <td></td>\n      <td></td>\n      <td></td>\n    </tr>\n    <tr>\n      <th>285585</th>\n      <td>1392</td>\n      <td>brother</td>\n      <td>(1350, 1357)</td>\n      <td>266</td>\n      <td></td>\n      <td></td>\n      <td></td>\n      <td></td>\n      <td></td>\n    </tr>\n    <tr>\n      <th>285586</th>\n      <td>1392</td>\n      <td>,</td>\n      <td>(1358, 1359)</td>\n      <td>267</td>\n      <td></td>\n      <td></td>\n      <td></td>\n      <td></td>\n      <td></td>\n    </tr>\n    <tr>\n      <th>285587</th>\n      <td>1392</td>\n      <td>Bobby</td>\n      <td>(1360, 1365)</td>\n      <td>268</td>\n      <td>Bobby</td>\n      <td>Bobby_Charlton</td>\n      <td>http://en.wikipedia.org/wiki/Bobby_Charlton</td>\n      <td>4224</td>\n      <td>/m/01c8x</td>\n    </tr>\n    <tr>\n      <th>285588</th>\n      <td>1392</td>\n      <td>.</td>\n      <td>(1366, 1367)</td>\n      <td>269</td>\n      <td></td>\n      <td></td>\n      <td></td>\n      <td></td>\n      <td></td>\n    </tr>\n  </tbody>\n</table>\n<p>285589 rows × 9 columns</p>\n</div>"
     },
     "execution_count": 6,
     "metadata": {},
     "output_type": "execute_result"
    }
   ],
   "source": [
    "text, data = ch.read_aida_yago_conll(\n",
    "    \"D:\\\\Sgmon\\\\Documents\\\\Magistrale\\\\TESI\\\\ClusteringAndLinking\\\\aida-yago2-dataset\\\\AIDA-YAGO2-dataset.tsv\")\n",
    "save = False\n",
    "if save:\n",
    "    text_file = open('text.txt', 'w')\n",
    "    text_file.write(text)\n",
    "    text_file.close()\n",
    "data"
   ],
   "metadata": {
    "collapsed": false,
    "pycharm": {
     "name": "#%%\n"
    }
   }
  },
  {
   "cell_type": "code",
   "execution_count": 7,
   "outputs": [],
   "source": [
    "ents_data = data[data['entities'] != ''].copy()"
   ],
   "metadata": {
    "collapsed": false,
    "pycharm": {
     "name": "#%%\n"
    }
   }
  },
  {
   "cell_type": "code",
   "execution_count": 8,
   "outputs": [],
   "source": [
    "from pathlib import Path\n",
    "\n",
    "path_train = Path(\n",
    "    \"D:\\\\Sgmon\\\\Documents\\\\Magistrale\\\\TESI\\\\ClusteringAndLinking\\\\aida-yago2-dataset\\\\encodings\\\\AIDA-YAGO2_train_encodings.jsonl\")\n",
    "path_testa = Path(\n",
    "    \"D:\\\\Sgmon\\\\Documents\\\\Magistrale\\\\TESI\\\\ClusteringAndLinking\\\\aida-yago2-dataset\\\\encodings\\\\AIDA-YAGO2_testa_encodings.jsonl\")\n",
    "path_testb = Path(\n",
    "    \"D:\\\\Sgmon\\\\Documents\\\\Magistrale\\\\TESI\\\\ClusteringAndLinking\\\\aida-yago2-dataset\\\\encodings\\\\AIDA-YAGO2_testb_encodings.jsonl\")\n",
    "raw_encodings_train = open(path_train, 'r').read()\n",
    "raw_encodings_testa = open(path_testa, 'r').read()\n",
    "raw_encodings_testb = open(path_testb, 'r').read()"
   ],
   "metadata": {
    "collapsed": false,
    "pycharm": {
     "name": "#%%\n"
    }
   }
  },
  {
   "cell_type": "code",
   "execution_count": 9,
   "outputs": [],
   "source": [
    "import json\n",
    "\n",
    "jsonl_parsed_train = [json.loads(x) for x in raw_encodings_train.splitlines()]\n",
    "jsonl_parsed_testa = [json.loads(x) for x in raw_encodings_testa.splitlines()]\n",
    "jsonl_parsed_testb = [json.loads(x) for x in raw_encodings_testb.splitlines()]\n",
    "jsonl_parsed = jsonl_parsed_train + jsonl_parsed_testa + jsonl_parsed_testb"
   ],
   "metadata": {
    "collapsed": false,
    "pycharm": {
     "name": "#%%\n"
    }
   }
  },
  {
   "cell_type": "code",
   "execution_count": 10,
   "outputs": [],
   "source": [
    "encodings = [x['encoding'] for x in jsonl_parsed]"
   ],
   "metadata": {
    "collapsed": false,
    "pycharm": {
     "name": "#%%\n"
    }
   }
  },
  {
   "cell_type": "code",
   "execution_count": 11,
   "outputs": [],
   "source": [
    "ents_data['encodings'] = encodings\n",
    "# ents_data_filtered = ch.filter_data(ents_data, 3)\n",
    "ents_data_filtered = ents_data.copy()"
   ],
   "metadata": {
    "collapsed": false,
    "pycharm": {
     "name": "#%%\n"
    }
   }
  },
  {
   "cell_type": "code",
   "execution_count": 12,
   "outputs": [],
   "source": [
    "ents_data = ents_data_filtered[ents_data_filtered['entities'] != '']\n",
    "entities = ents_data['entities'].values\n",
    "mentions = ents_data['tokens'].values\n",
    "encodings = ents_data['encodings'].values\n",
    "unique_entities = np.unique(entities)\n",
    "gold_standard = Counter(entities)\n",
    "gold_standard = dict(sorted(gold_standard.items(), key=lambda item: item[1], reverse=True))"
   ],
   "metadata": {
    "collapsed": false,
    "pycharm": {
     "name": "#%%\n"
    }
   }
  },
  {
   "cell_type": "code",
   "execution_count": 13,
   "outputs": [],
   "source": [
    "leven_cluster = np.loadtxt(\"../aida-yago2-dataset/damerau_1_2.txt\", dtype=np.int32)\n",
    "lev_cluster_dict = {}\n",
    "for i, x in enumerate(leven_cluster):\n",
    "    try:\n",
    "        lev_cluster_dict[x].append(\n",
    "            (mentions[i], entities[i], encodings[i]))\n",
    "    except:\n",
    "        lev_cluster_dict[x] = [\n",
    "            (mentions[i], entities[i], encodings[i])]"
   ],
   "metadata": {
    "collapsed": false,
    "pycharm": {
     "name": "#%%\n"
    }
   }
  },
  {
   "cell_type": "code",
   "execution_count": 14,
   "outputs": [],
   "source": [
    "cluster_all = []\n",
    "from sklearn.cluster import AgglomerativeClustering\n",
    "clusterizator = AgglomerativeClustering(n_clusters=None, affinity='cosine',\n",
    "                                        distance_threshold=0.03678974213038678, linkage=\"single\")\n",
    "\n",
    "for x in lev_cluster_dict:\n",
    "    encodings = [y[2] for y in lev_cluster_dict[x]]\n",
    "    if len(encodings) > 1:\n",
    "        cluster = clusterizator.fit_predict(encodings)\n",
    "        cluster_all.append(cluster)\n",
    "    else:\n",
    "        cluster_all.append(np.zeros(1))"
   ],
   "metadata": {
    "collapsed": false,
    "pycharm": {
     "name": "#%%%\n"
    }
   }
  },
  {
   "cell_type": "code",
   "execution_count": 15,
   "outputs": [],
   "source": [
    "total_encodings = [[y[2] for y in lev_cluster_dict[x]] for x in lev_cluster_dict.keys()]\n",
    "clustered_entities = [[row[1] for row in lev_cluster_dict[index]] for index in lev_cluster_dict.keys()]\n",
    "clustered_mentions = [[row[0] for row in lev_cluster_dict[index]] for index in lev_cluster_dict.keys()]"
   ],
   "metadata": {
    "collapsed": false,
    "pycharm": {
     "name": "#%%\n"
    }
   }
  },
  {
   "cell_type": "code",
   "execution_count": 16,
   "outputs": [],
   "source": [
    "# clusters_splitted = []\n",
    "# clusters_vectors = []\n",
    "# for n_cluster in range(len(clustered_entities)):\n",
    "#     cluster_unique = dict.fromkeys(set(cluster_all[n_cluster]), [])\n",
    "#     cluster_unique_vector = dict.fromkeys(set(cluster_all[n_cluster]), [])\n",
    "#     for key in cluster_unique:\n",
    "#         cluster_unique[key] = [clustered_entities[n_cluster][index] for index in\n",
    "#                                range(len(clustered_entities[n_cluster])) if cluster_all[n_cluster][index] == key]\n",
    "#         cluster_unique_vector[key] = [total_encodings[n_cluster][index] for index in\n",
    "#                                range(len(clustered_entities[n_cluster])) if cluster_all[n_cluster][index] == key]\n",
    "#     clusters_vectors.append(cluster_unique_vector)\n",
    "#     clusters_splitted.append(cluster_unique)"
   ],
   "metadata": {
    "collapsed": false,
    "pycharm": {
     "name": "#%%\n"
    }
   }
  },
  {
   "cell_type": "code",
   "execution_count": 17,
   "outputs": [],
   "source": [
    "clusters_splitted = []\n",
    "clusters_vectors = []\n",
    "for n_cluster in range(len(clustered_entities)):\n",
    "    cluster_unique = {k:Cluster() for k in set(cluster_all[n_cluster])}\n",
    "    for key in cluster_unique:\n",
    "        cl_mentions = [clustered_mentions[n_cluster][index] for index in\n",
    "                               range(len(clustered_mentions[n_cluster])) if cluster_all[n_cluster][index] == key]\n",
    "        cl_entities = [clustered_entities[n_cluster][index] for index in\n",
    "                               range(len(clustered_entities[n_cluster])) if cluster_all[n_cluster][index] == key]\n",
    "        cl_encodings = [total_encodings[n_cluster][index] for index in\n",
    "                               range(len(clustered_entities[n_cluster])) if cluster_all[n_cluster][index] == key]\n",
    "        cluster_unique[key] = Cluster(entities=cl_entities, mentions=cl_mentions,encodings_list=cl_encodings)\n",
    "    clusters_splitted.append(cluster_unique)"
   ],
   "metadata": {
    "collapsed": false,
    "pycharm": {
     "name": "#%%\n"
    }
   }
  },
  {
   "cell_type": "code",
   "execution_count": 18,
   "outputs": [],
   "source": [
    "# clusters_splitted_vector_dict = [np.mean(x[y], axis=0)  for x in clusters_vectors for y in x]\n",
    "# clusters_splitted_vector_dict = [np.median(x[y], axis=0)  for x in clusters_vectors for y in x]"
   ],
   "metadata": {
    "collapsed": false,
    "pycharm": {
     "name": "#%%\n"
    }
   }
  },
  {
   "cell_type": "code",
   "execution_count": 19,
   "outputs": [],
   "source": [
    "clusters_splitted_dict = [x[y] for x in clusters_splitted for y in x]"
   ],
   "metadata": {
    "collapsed": false,
    "pycharm": {
     "name": "#%%\n"
    }
   }
  },
  {
   "cell_type": "code",
   "execution_count": 20,
   "outputs": [
    {
     "data": {
      "text/plain": "6244"
     },
     "execution_count": 20,
     "metadata": {},
     "output_type": "execute_result"
    }
   ],
   "source": [
    "clusterizator = AgglomerativeClustering(n_clusters=None, affinity='cosine',\n",
    "                                        distance_threshold=0.0155, linkage=\"single\")\n",
    "\n",
    "clusters_of_cluster = clusterizator.fit_predict([x.encodings_mean() for x in clusters_splitted_dict])\n",
    "len(set(clusters_of_cluster))"
   ],
   "metadata": {
    "collapsed": false,
    "pycharm": {
     "name": "#%%\n"
    }
   }
  },
  {
   "cell_type": "code",
   "execution_count": 21,
   "outputs": [
    {
     "data": {
      "text/plain": "6244"
     },
     "execution_count": 21,
     "metadata": {},
     "output_type": "execute_result"
    }
   ],
   "source": [
    "coc_dict = {k: Cluster() for k in set(clusters_of_cluster)}\n",
    "for index, el in enumerate(clusters_of_cluster):\n",
    "    coc_dict[el] = coc_dict[el] + clusters_splitted_dict[index]\n",
    "len(coc_dict.keys())"
   ],
   "metadata": {
    "collapsed": false,
    "pycharm": {
     "name": "#%%\n"
    }
   }
  },
  {
   "cell_type": "code",
   "execution_count": 22,
   "outputs": [],
   "source": [
    "import Packages.ClusteringHelper as ch\n",
    "golden_standard_dict = ch.get_gold_standard_dict(ents_data)"
   ],
   "metadata": {
    "collapsed": false,
    "pycharm": {
     "name": "#%%\n"
    }
   }
  },
  {
   "cell_type": "markdown",
   "source": [
    "### B-CUBED"
   ],
   "metadata": {
    "collapsed": false
   }
  },
  {
   "cell_type": "code",
   "execution_count": 23,
   "outputs": [
    {
     "name": "stdout",
     "output_type": "stream",
     "text": [
      "Counter finito\n"
     ]
    },
    {
     "data": {
      "text/plain": "  0%|          | 0/6244 [00:00<?, ?it/s]",
      "application/vnd.jupyter.widget-view+json": {
       "version_major": 2,
       "version_minor": 0,
       "model_id": "153072f473754965b3aea9ff29c8c395"
      }
     },
     "metadata": {},
     "output_type": "display_data"
    },
    {
     "data": {
      "text/plain": "0.8894849007000544"
     },
     "execution_count": 23,
     "metadata": {},
     "output_type": "execute_result"
    }
   ],
   "source": [
    "list_of_counter = [x.count_ents() for x in coc_dict.values()]\n",
    "print('Counter finito')\n",
    "from tqdm.notebook import tqdm\n",
    "# B-cubed\n",
    "bcubed_precision_num = 0\n",
    "bcubed_recall_num = 0\n",
    "for cluster in tqdm(list_of_counter):\n",
    "    for gold_key in golden_standard_dict.keys():\n",
    "        try:\n",
    "            bcubed_precision_num = bcubed_precision_num + (pow(cluster[gold_key], 2) /\n",
    "                                       sum(cluster.values()))\n",
    "            bcubed_recall_num = bcubed_recall_num + (pow(cluster[gold_key], 2) /\n",
    "                                       golden_standard_dict[gold_key])\n",
    "        except:\n",
    "            pass\n",
    "\n",
    "bcubed_precision = bcubed_precision_num/sum([x.n_elements() for x in coc_dict.values()])\n",
    "bcubed_recall = bcubed_recall_num/ents_data.shape[0]\n",
    "\n",
    "bcubed_precision"
   ],
   "metadata": {
    "collapsed": false,
    "pycharm": {
     "name": "#%%\n"
    }
   }
  },
  {
   "cell_type": "code",
   "execution_count": 24,
   "outputs": [
    {
     "data": {
      "text/plain": "0.8737135964453578"
     },
     "execution_count": 24,
     "metadata": {},
     "output_type": "execute_result"
    }
   ],
   "source": [
    "bcubed_recall"
   ],
   "metadata": {
    "collapsed": false,
    "pycharm": {
     "name": "#%%\n"
    }
   }
  },
  {
   "cell_type": "code",
   "execution_count": 25,
   "outputs": [
    {
     "data": {
      "text/plain": "0.8815287136787912"
     },
     "execution_count": 25,
     "metadata": {},
     "output_type": "execute_result"
    }
   ],
   "source": [
    "bcubed_f1 = (2 * (bcubed_recall * bcubed_precision)) / (\n",
    "        bcubed_precision + bcubed_recall)\n",
    "bcubed_f1"
   ],
   "metadata": {
    "collapsed": false,
    "pycharm": {
     "name": "#%%\n"
    }
   }
  },
  {
   "cell_type": "markdown",
   "source": [
    "CEAFm precision"
   ],
   "metadata": {
    "collapsed": false
   }
  },
  {
   "cell_type": "code",
   "execution_count": 26,
   "outputs": [],
   "source": [
    "best_alignment = ch.get_optimal_alignment([x.count_ents() for x in coc_dict.values()], set(entities),\n",
    "                                          is_dict=False)"
   ],
   "metadata": {
    "collapsed": false,
    "pycharm": {
     "name": "#%%\n"
    }
   }
  },
  {
   "cell_type": "code",
   "execution_count": 27,
   "outputs": [
    {
     "data": {
      "text/plain": "0.8465686450731567"
     },
     "execution_count": 27,
     "metadata": {},
     "output_type": "execute_result"
    }
   ],
   "source": [
    "# CEAFm_precision\n",
    "CEAFm_p = sum(best_alignment.values()) / len(entities)\n",
    "CEAFm_p"
   ],
   "metadata": {
    "collapsed": false,
    "pycharm": {
     "name": "#%%\n"
    }
   }
  },
  {
   "cell_type": "markdown",
   "source": [
    "CEAFm recall"
   ],
   "metadata": {
    "collapsed": false
   }
  },
  {
   "cell_type": "code",
   "execution_count": 28,
   "outputs": [
    {
     "data": {
      "text/plain": "0.8465686450731567"
     },
     "execution_count": 28,
     "metadata": {},
     "output_type": "execute_result"
    }
   ],
   "source": [
    "# CEAFm_recall\n",
    "CEAFm_r = sum(best_alignment.values()) / sum([x.n_elements() for x in coc_dict.values()])\n",
    "CEAFm_r"
   ],
   "metadata": {
    "collapsed": false,
    "pycharm": {
     "name": "#%%\n"
    }
   }
  },
  {
   "cell_type": "markdown",
   "source": [
    "CEAFm Fscore"
   ],
   "metadata": {
    "collapsed": false
   }
  },
  {
   "cell_type": "code",
   "execution_count": 29,
   "outputs": [
    {
     "data": {
      "text/plain": "0.8465686450731568"
     },
     "execution_count": 29,
     "metadata": {},
     "output_type": "execute_result"
    }
   ],
   "source": [
    "# CEAFm_f1\n",
    "CEAFm_f1 = 2 * (CEAFm_p * CEAFm_r) / (CEAFm_p + CEAFm_r)\n",
    "CEAFm_f1"
   ],
   "metadata": {
    "collapsed": false,
    "pycharm": {
     "name": "#%%\n"
    }
   }
  },
  {
   "cell_type": "code",
   "execution_count": 30,
   "outputs": [],
   "source": [
    "to_print = True\n",
    "if to_print:\n",
    "    import sys\n",
    "    original_stdout = sys.stdout\n",
    "    with open(\".\\\\full_approach.html\", \"a\", encoding='utf-8') as f:\n",
    "        sys.stdout = f\n",
    "        print('<html>')\n",
    "        print(\"CEAFm-R:\", CEAFm_r)\n",
    "        print(\"CEAFm-P:\", CEAFm_p)\n",
    "        print(\"CEAFm:\", CEAFm_f1)\n",
    "        print(\"<br>\")\n",
    "        print(\"bcubed_recall:\", bcubed_recall)\n",
    "        print(\"bcubed_precision:\", bcubed_precision)\n",
    "        print(\"bcubed_f1:\", bcubed_f1)\n",
    "        print(\"<br>\", \"Clusters:\", '<br>')\n",
    "        print(\"<br> Clusters:\", '<br>')\n",
    "        print(*list(coc_dict.values()), sep=\" <br><br> \")\n",
    "        print(\"<br>\")\n",
    "        print(\"<br>\")\n",
    "        print(\"Gold_standard:\", '<br>')\n",
    "        print(dict(Counter(entities)))\n",
    "        print('</html>')\n",
    "        sys.stdout = original_stdout"
   ],
   "metadata": {
    "collapsed": false,
    "pycharm": {
     "name": "#%%\n"
    }
   }
  },
  {
   "cell_type": "code",
   "execution_count": 31,
   "outputs": [
    {
     "data": {
      "text/plain": "  0%|          | 0/6244 [00:00<?, ?it/s]",
      "application/vnd.jupyter.widget-view+json": {
       "version_major": 2,
       "version_minor": 0,
       "model_id": "96ec8377e24a423d99641580f0e0d42b"
      }
     },
     "metadata": {},
     "output_type": "display_data"
    }
   ],
   "source": [],
   "metadata": {
    "collapsed": false,
    "pycharm": {
     "name": "#%%\n"
    }
   }
  }
 ],
 "metadata": {
  "kernelspec": {
   "display_name": "Python 3",
   "language": "python",
   "name": "python3"
  },
  "language_info": {
   "codemirror_mode": {
    "name": "ipython",
    "version": 2
   },
   "file_extension": ".py",
   "mimetype": "text/x-python",
   "name": "python",
   "nbconvert_exporter": "python",
   "pygments_lexer": "ipython2",
   "version": "2.7.6"
  }
 },
 "nbformat": 4,
 "nbformat_minor": 0
}