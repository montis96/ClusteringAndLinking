{
 "cells": [
  {
   "cell_type": "code",
   "execution_count": 45,
   "outputs": [
    {
     "name": "stdout",
     "output_type": "stream",
     "text": [
      "The autoreload extension is already loaded. To reload it, use:\n",
      "  %reload_ext autoreload\n"
     ]
    }
   ],
   "source": [
    "%load_ext autoreload\n",
    "%autoreload 2"
   ],
   "metadata": {
    "collapsed": false,
    "pycharm": {
     "name": "#%%\n"
    }
   }
  },
  {
   "cell_type": "code",
   "execution_count": 22,
   "metadata": {
    "collapsed": true
   },
   "outputs": [],
   "source": [
    "import Packages.CoNLLReader as reader\n",
    "import numpy as np\n",
    "from tqdm import tqdm\n",
    "from Levenshtein import distance\n",
    "from collections import Counter"
   ]
  },
  {
   "cell_type": "code",
   "execution_count": 23,
   "outputs": [
    {
     "data": {
      "text/plain": "        documents   tokens       indexes tags mentions        entities  \\\n0               0       EU        (0, 2)                                 \n1               0  rejects       (3, 10)                                 \n2               0   German      (11, 17)    B   German         Germany   \n3               0     call      (18, 22)                                 \n4               0       to      (23, 25)                                 \n...           ...      ...           ...  ...      ...             ...   \n285584       1392  younger  (1390, 1397)                                 \n285585       1392  brother  (1398, 1405)                                 \n285586       1392        ,  (1406, 1407)                                 \n285587       1392    Bobby  (1408, 1413)    B    Bobby  Bobby_Charlton   \n285588       1392        .  (1414, 1415)                                 \n\n                                          wikidatas numeric_codes alpha_codes  \n0                                                                              \n1                                                                              \n2              http://en.wikipedia.org/wiki/Germany         11867    /m/0345h  \n3                                                                              \n4                                                                              \n...                                             ...           ...         ...  \n285584                                                                         \n285585                                                                         \n285586                                                                         \n285587  http://en.wikipedia.org/wiki/Bobby_Charlton          4224    /m/01c8x  \n285588                                                                         \n\n[285589 rows x 9 columns]",
      "text/html": "<div>\n<style scoped>\n    .dataframe tbody tr th:only-of-type {\n        vertical-align: middle;\n    }\n\n    .dataframe tbody tr th {\n        vertical-align: top;\n    }\n\n    .dataframe thead th {\n        text-align: right;\n    }\n</style>\n<table border=\"1\" class=\"dataframe\">\n  <thead>\n    <tr style=\"text-align: right;\">\n      <th></th>\n      <th>documents</th>\n      <th>tokens</th>\n      <th>indexes</th>\n      <th>tags</th>\n      <th>mentions</th>\n      <th>entities</th>\n      <th>wikidatas</th>\n      <th>numeric_codes</th>\n      <th>alpha_codes</th>\n    </tr>\n  </thead>\n  <tbody>\n    <tr>\n      <th>0</th>\n      <td>0</td>\n      <td>EU</td>\n      <td>(0, 2)</td>\n      <td></td>\n      <td></td>\n      <td></td>\n      <td></td>\n      <td></td>\n      <td></td>\n    </tr>\n    <tr>\n      <th>1</th>\n      <td>0</td>\n      <td>rejects</td>\n      <td>(3, 10)</td>\n      <td></td>\n      <td></td>\n      <td></td>\n      <td></td>\n      <td></td>\n      <td></td>\n    </tr>\n    <tr>\n      <th>2</th>\n      <td>0</td>\n      <td>German</td>\n      <td>(11, 17)</td>\n      <td>B</td>\n      <td>German</td>\n      <td>Germany</td>\n      <td>http://en.wikipedia.org/wiki/Germany</td>\n      <td>11867</td>\n      <td>/m/0345h</td>\n    </tr>\n    <tr>\n      <th>3</th>\n      <td>0</td>\n      <td>call</td>\n      <td>(18, 22)</td>\n      <td></td>\n      <td></td>\n      <td></td>\n      <td></td>\n      <td></td>\n      <td></td>\n    </tr>\n    <tr>\n      <th>4</th>\n      <td>0</td>\n      <td>to</td>\n      <td>(23, 25)</td>\n      <td></td>\n      <td></td>\n      <td></td>\n      <td></td>\n      <td></td>\n      <td></td>\n    </tr>\n    <tr>\n      <th>...</th>\n      <td>...</td>\n      <td>...</td>\n      <td>...</td>\n      <td>...</td>\n      <td>...</td>\n      <td>...</td>\n      <td>...</td>\n      <td>...</td>\n      <td>...</td>\n    </tr>\n    <tr>\n      <th>285584</th>\n      <td>1392</td>\n      <td>younger</td>\n      <td>(1390, 1397)</td>\n      <td></td>\n      <td></td>\n      <td></td>\n      <td></td>\n      <td></td>\n      <td></td>\n    </tr>\n    <tr>\n      <th>285585</th>\n      <td>1392</td>\n      <td>brother</td>\n      <td>(1398, 1405)</td>\n      <td></td>\n      <td></td>\n      <td></td>\n      <td></td>\n      <td></td>\n      <td></td>\n    </tr>\n    <tr>\n      <th>285586</th>\n      <td>1392</td>\n      <td>,</td>\n      <td>(1406, 1407)</td>\n      <td></td>\n      <td></td>\n      <td></td>\n      <td></td>\n      <td></td>\n      <td></td>\n    </tr>\n    <tr>\n      <th>285587</th>\n      <td>1392</td>\n      <td>Bobby</td>\n      <td>(1408, 1413)</td>\n      <td>B</td>\n      <td>Bobby</td>\n      <td>Bobby_Charlton</td>\n      <td>http://en.wikipedia.org/wiki/Bobby_Charlton</td>\n      <td>4224</td>\n      <td>/m/01c8x</td>\n    </tr>\n    <tr>\n      <th>285588</th>\n      <td>1392</td>\n      <td>.</td>\n      <td>(1414, 1415)</td>\n      <td></td>\n      <td></td>\n      <td></td>\n      <td></td>\n      <td></td>\n      <td></td>\n    </tr>\n  </tbody>\n</table>\n<p>285589 rows × 9 columns</p>\n</div>"
     },
     "execution_count": 23,
     "metadata": {},
     "output_type": "execute_result"
    }
   ],
   "source": [
    "text, data = reader.read_aida_yago_conll(\n",
    "    \"D:\\\\Sgmon\\\\Documents\\\\Magistrale\\\\TESI\\\\ClusteringAndLinking\\\\aida-yago2-dataset\\\\AIDA-YAGO2-dataset.tsv\")\n",
    "save = False\n",
    "if save:\n",
    "    text_file = open('text.txt', 'w')\n",
    "    text_file.write(text)\n",
    "    text_file.close()\n",
    "data"
   ],
   "metadata": {
    "collapsed": false,
    "pycharm": {
     "name": "#%%\n"
    }
   }
  },
  {
   "cell_type": "markdown",
   "source": [
    "### General Info"
   ],
   "metadata": {
    "collapsed": false,
    "pycharm": {
     "name": "#%% md\n"
    }
   }
  },
  {
   "cell_type": "code",
   "execution_count": 24,
   "outputs": [],
   "source": [
    "n_entities = sum([x is not '' for x in list(data['entities'])])\n",
    "n_ass_ents = sum([x is not '' for x in list(data['numeric_codes'])])\n",
    "n_tokens = sum([1 for x in list(data['entities'])])"
   ],
   "metadata": {
    "collapsed": false,
    "pycharm": {
     "name": "#%%\n"
    }
   }
  },
  {
   "cell_type": "code",
   "execution_count": 25,
   "outputs": [
    {
     "name": "stdout",
     "output_type": "stream",
     "text": [
      "Numero totale di entità:                 27817 \n",
      "Numero totale di tokens:                285589 \n",
      "1 entità ogni:                           10.27 \n"
     ]
    }
   ],
   "source": [
    "print('{0:<35} {1:>10} '.format(\"Numero totale di entità:\", n_entities))\n",
    "print('{0:<35} {1:>10} '.format(\"Numero totale di tokens:\", n_tokens))\n",
    "print('{0:<35} {1:>10} '.format(\"1 entità ogni:\", round(n_tokens / n_entities, 2)))"
   ],
   "metadata": {
    "collapsed": false,
    "pycharm": {
     "name": "#%%\n"
    }
   }
  },
  {
   "cell_type": "code",
   "execution_count": 26,
   "outputs": [],
   "source": [
    "ents_data = data[data['entities'] != '']\n",
    "golden_standard_entities = ents_data['entities'].values"
   ],
   "metadata": {
    "collapsed": false,
    "pycharm": {
     "name": "#%%\n"
    }
   }
  },
  {
   "cell_type": "markdown",
   "source": [
    "### Gold standard"
   ],
   "metadata": {
    "collapsed": false,
    "pycharm": {
     "name": "#%% md\n"
    }
   }
  },
  {
   "cell_type": "code",
   "execution_count": 27,
   "outputs": [],
   "source": [
    "unique_entities = np.unique(golden_standard_entities)\n",
    "golden_standard_dict = Counter(golden_standard_entities)\n",
    "golden_standard_dict = dict(sorted(golden_standard_dict.items(), key=lambda item: item[1], reverse=True))"
   ],
   "metadata": {
    "collapsed": false,
    "pycharm": {
     "name": "#%%\n"
    }
   }
  },
  {
   "cell_type": "code",
   "execution_count": 28,
   "outputs": [],
   "source": [
    "mentions = ents_data['mentions'].values\n",
    "mentions = [x.lower() for x in mentions]"
   ],
   "metadata": {
    "collapsed": false,
    "pycharm": {
     "name": "#%%\n"
    }
   }
  },
  {
   "cell_type": "markdown",
   "source": [
    "### Clustering by Levenshtein distance and DBSCAN"
   ],
   "metadata": {
    "collapsed": false,
    "pycharm": {
     "name": "#%% md\n"
    }
   }
  },
  {
   "cell_type": "code",
   "execution_count": 32,
   "outputs": [],
   "source": [
    "# Way with dbscan algorithm\n",
    "import numpy as np\n",
    "from sklearn.cluster import dbscan\n",
    "\n",
    "clustering = False\n",
    "if clustering:\n",
    "    def lev_metric(x, y):\n",
    "        i, j = int(x[0]), int(y[0])  # extract indices\n",
    "        if len(mentions[i]) < 4:\n",
    "            if mentions[i] == mentions[j]:\n",
    "                return 0\n",
    "            else:\n",
    "                return distance(mentions[i].lower(), mentions[j].lower()) + 3\n",
    "        else:\n",
    "            return distance(mentions[i].lower(), mentions[j].lower())\n",
    "\n",
    "\n",
    "    X = np.arange(len(mentions)).reshape(-1, 1)\n",
    "    _, leven_cluster = dbscan(X, metric=lev_metric, eps=1, min_samples=1, n_jobs=-1)\n",
    "    np.savetxt('db_cluster_levestein.txt', leven_cluster, delimiter=',')\n",
    "else:\n",
    "    leven_cluster = np.loadtxt(\"../aida-yago2-dataset/db_cluster_levestein_0.txt\", dtype=np.int32)"
   ],
   "metadata": {
    "collapsed": false,
    "pycharm": {
     "name": "#%%\n"
    }
   }
  },
  {
   "cell_type": "code",
   "execution_count": 33,
   "outputs": [],
   "source": [
    "# Now we create a dict for each cluster that contains entities and entities count\n",
    "lev_cluster_dict = {}\n",
    "for i, x in enumerate(leven_cluster):\n",
    "    try:\n",
    "        lev_cluster_dict[x].append((mentions[i],golden_standard_entities[i]))\n",
    "    except:\n",
    "        lev_cluster_dict[x] = [(mentions[i],golden_standard_entities[i])]\n",
    "# \"\"\"se uso un cluster diverso da minimo 0 allora scommento\"\"\"\n",
    "# del lev_cluster_dict[-1]"
   ],
   "metadata": {
    "collapsed": false,
    "pycharm": {
     "name": "#%%\n"
    }
   }
  },
  {
   "cell_type": "code",
   "execution_count": 34,
   "outputs": [
    {
     "name": "stderr",
     "output_type": "stream",
     "text": [
      "100%|██████████| 6066/6066 [00:00<00:00, 252477.36it/s]\n"
     ]
    },
    {
     "data": {
      "text/plain": "{0: Counter({'Germany': 354,\n          'Germany_Davis_Cup_team': 1,\n          'German_language': 3,\n          'Germany_national_football_team': 6,\n          'Germans': 1,\n          \"Germany_men's_national_ice_hockey_team\": 1,\n          'Germany_Fed_Cup_team': 1,\n          'Nazi_Germany': 2,\n          'Lee_Germon': 2}),\n 1: Counter({'United_Kingdom': 92, 'England': 1}),\n 2: Counter({'Brussels': 44}),\n 3: Counter({'European_Commission': 8}),\n 4: Counter({'European_Union': 24}),\n 5: Counter({'United_Kingdom': 166}),\n 6: Counter({'European_Commission': 11}),\n 7: Counter({'Franz_Fischler': 2}),\n 8: Counter({'France': 193,\n          'France_Fed_Cup_team': 1,\n          'France_national_football_team': 8}),\n 9: Counter({'Bovine_spongiform_encephalopathy': 11,\n          'Budapest_Stock_Exchange': 2}),\n 10: Counter({'Spain': 31, 'Spanish_language': 1}),\n 11: Counter({'Loyola_de_Palacio': 1}),\n 12: Counter({'Europe': 44}),\n 13: Counter({'Bonn': 42}),\n 14: Counter({'Jimi_Hendrix': 4}),\n 15: Counter({'London': 233,\n          'London_Wasps': 2,\n          'Harlequins_Rugby_League': 3,\n          'London_Stock_Exchange': 3}),\n 16: Counter({'United_States': 467,\n          'United_Nations': 61,\n          'Hong_Kong': 4,\n          'United_Kingdom': 2,\n          \"United_States_men's_national_soccer_team\": 2}),\n 17: Counter({'Jimi_Hendrix': 1}),\n 18: Counter({'England': 69, 'English_language': 6, 'United_Kingdom': 3}),\n 19: Counter({'Nottingham': 3}),\n 20: Counter({'Australia': 203,\n          'Australia_Davis_Cup_team': 4,\n          'Australia_national_cricket_team': 60,\n          'Australian_people': 1,\n          'Australia_national_rugby_union_team': 7}),\n 21: Counter({\"People's_Republic_of_China\": 143,\n          'HINA': 2,\n          'Republic_of_China': 1,\n          'Qing_Dynasty': 1,\n          'China_PR_national_football_team': 5}),\n 22: Counter({'Republic_of_China': 22, 'Taiwan': 8}),\n 23: Counter({'Beijing': 30, \"People's_Republic_of_China\": 3}),\n 24: Counter({'Taipei': 5}),\n 25: Counter({'Taiwan_Strait': 1}),\n 26: Counter({'Ukraine': 40, 'Ukraine_national_football_team': 4}),\n 27: Counter({'Republic_of_China': 3}),\n 28: Counter({'Lien_Chan': 1}),\n 29: Counter({\"People's_Republic_of_China\": 37,\n          'Chinese_language': 1,\n          'Chinese_people': 1}),\n 30: Counter({\"Ministry_of_Foreign_Affairs_of_the_People's_Republic_of_China\": 1,\n          'Foreign_Office_(Germany)': 1,\n          'Foreign_minister': 2,\n          'Ministry_of_Foreign_Affairs_(Turkey)': 2,\n          'Ministry_of_Foreign_Affairs_(Israel)': 1,\n          'Ministry_of_Foreign_Affairs_(Poland)': 1}),\n 31: Counter({'Reuters': 1}),\n 32: Counter({'Xinhua_News_Agency': 11}),\n 33: Counter({'Association_for_Relations_Across_the_Taiwan_Straits': 1}),\n 34: Counter({'Frankfurt_am_Main': 9,\n          'Frankfurt_Airport': 1,\n          'DAX': 1,\n          'Frankfurt_Stock_Exchange': 3}),\n 35: Counter({'Volkswagen': 1, 'Volkswagen_Group': 2}),\n 36: Counter({'Opel': 1}),\n 37: Counter({'General_Motors': 1}),\n 38: Counter({'Ford_Motor_Company': 5, 'Ford_World_Rally_Team': 1}),\n 39: Counter({'Porsche': 2}),\n 40: Counter({'Greece': 18, 'Rusty_Greer': 3}),\n 41: Counter({'Athens': 15}),\n 42: Counter({'Costas_Simitis': 7}),\n 43: Counter({'Kostas_Skandalidis': 2}),\n 44: Counter({'HypoVereinsbank': 2}),\n 45: Counter({'Sweden': 8}),\n 46: Counter({'Sweden': 112,\n          \"Sweden_men's_national_ice_hockey_team\": 1,\n          'Sweden_national_football_team': 2}),\n 47: Counter({'Syria': 29, 'Syria_national_football_team': 17}),\n 48: Counter({'Tartus': 1}),\n 49: Counter({'Israel': 194,\n          'Israelis': 2,\n          'Israel_national_football_team': 1,\n          'Israel_national_under-21_football_team': 1}),\n 50: Counter({'Jerusalem': 48}),\n 51: Counter({'Itamar_Rabinovich': 2}),\n 52: Counter({'Washington,_D.C.': 49,\n          'United_States': 7,\n          'MaliVai_Washington': 10,\n          'Washington_(U.S._state)': 1,\n          'Washington_Capitals': 5,\n          'Washington_Wizards': 3,\n          'Washington_Redskins': 2}),\n 53: Counter({'Kol_Yisrael': 2}),\n 54: Counter({'Syria': 6, 'Damascus': 2}),\n 55: Counter({'Itamar_Rabinovich': 1}),\n 56: Counter({'Eliyahu_Ben-Elissar': 1}),\n 57: Counter({'Egypt': 33}),\n 58: Counter({'Likud': 3}),\n 59: Counter({'Hafez_al-Assad': 1}),\n 60: Counter({'David_Levy_(Israeli_politician)': 4}),\n 61: Counter({'Benjamin_Netanyahu': 13}),\n 62: Counter({'Golan_Heights': 1}),\n 63: Counter({'Middle_East': 12}),\n 64: Counter({'Golan_Heights': 2}),\n 65: Counter({'God': 9}),\n 66: Counter({'Channel_2_(Israel)': 1}),\n 67: Counter({'Benjamin_Netanyahu': 23}),\n 68: Counter({'United_States': 80,\n          'United_States_Fed_Cup_team': 3,\n          \"United_States_men's_national_soccer_team\": 1}),\n 69: Counter({'Russia': 15, 'Moscow': 76, 'Government_of_Russia': 1}),\n 70: Counter({'Poland': 48}),\n 71: Counter({'Libya': 18}),\n 72: Counter({'Tunis': 5}),\n 73: Counter({'Reuters': 109}),\n 74: Counter({'Poland': 54,\n          'Boland_cricket_team': 3,\n          'Poland_national_football_team': 5}),\n 75: Counter({'Iran': 30}),\n 76: Counter({'Baghdad': 32, 'Iraq': 5}),\n 77: Counter({'Iraq': 180,\n          'Iran': 38,\n          'Oran': 1,\n          'Rome': 23,\n          'Goma': 4,\n          'Lomé': 2,\n          'Oman': 1,\n          'Ian_Botham': 1,\n          'A.S._Roma': 5,\n          'Ronnie_Irani': 6,\n          'Provisional_Irish_Republican_Army': 1,\n          'Roman_Empire': 1,\n          'Irish_Republican_Army': 3,\n          'Rama': 1}),\n 78: Counter({'Kurdish_people': 5,\n          'Kurdish_nationalism': 1,\n          'Iraqi_Kurdistan': 2,\n          'Kurdistan': 30}),\n 79: Counter({'Massoud_Rajavi': 1}),\n 80: Counter({'Democratic_Party_of_Iranian_Kurdistan': 1}),\n 81: Counter({'Democratic_Party_of_Iranian_Kurdistan': 2,\n          'Kurdistan_Democratic_Party': 29}),\n 82: Counter({'Kurdish_people': 4, 'Kurdistan': 6}),\n 83: Counter({'Resistance_movement': 1}),\n 84: Counter({'Iranian_Kurdistan': 1}),\n 85: Counter({'Iranian_Kurdistan': 2}),\n 86: Counter({'Iraqi_Kurdistan': 11}),\n 87: Counter({'Patriotic_Union_of_Kurdistan': 12}),\n 88: Counter({'Kurdistan_Democratic_Party': 10}),\n 89: Counter({'Kuwait': 7, 'Kuwait_national_football_team': 5}),\n 90: Counter({'Gulf_War': 8}),\n 91: Counter({'Qasr-e_Shirin': 1}),\n 92: Counter({'Sulaymaniyah': 1}),\n 93: Counter({'Iraqi_Kurdistan': 6}),\n 94: Counter({'Saudi_Arabia': 15, 'Aldi': 1, 'Audi': 2}),\n 95: Counter({'Manama': 4, 'Panama': 2, 'Panama_national_football_team': 3}),\n 96: Counter({'Yasser_Arafat': 49}),\n 97: Counter({'State_of_Palestine': 57, 'Palestine': 19}),\n 98: Counter({'Yasser_Arafat': 17}),\n 99: Counter({'Shimon_Peres': 8}),\n 100: Counter({'Ramallah': 11}),\n 101: Counter({'Gaza_Strip': 8, 'Gaza': 8}),\n 102: Counter({'Allenby_Bridge': 1}),\n 103: Counter({'Jordan_River': 1,\n          'Jordan': 26,\n          'Jordan_Grand_Prix': 7,\n          'Neil_Jordan': 8}),\n 104: Counter({'Shimon_Peres': 10, 'Robert_Pirès': 3}),\n 105: Counter({'Erez': 1}),\n 106: Counter({'Afghanistan': 14}),\n 107: Counter({'United_Arab_Emirates': 2,\n          'United_Arab_Emirates_national_football_team': 3}),\n 108: Counter({'Taliban': 7}),\n 109: Counter({'Dubai': 7}),\n 110: Counter({'United_Arab_Emirates': 4,\n          'United_Arab_Emirates_national_football_team': 1}),\n 111: Counter({'Russia': 289,\n          'Russia_national_football_team': 4,\n          'Russian_Empire': 1}),\n 112: Counter({'Afghanistan': 14}),\n 113: Counter({'Abu_Dhabi': 4, 'Abu_Dhabi_(emirate)': 1}),\n 114: Counter({'United_Arab_Emirates': 1}),\n 115: Counter({'United_Arab_Emirates': 1}),\n 116: Counter({'Sharjah_(emirate)': 1, 'Sharjah_(city)': 1}),\n 117: Counter({'Kandahar': 5}),\n 118: Counter({'United_Arab_Emirates': 1}),\n 119: Counter({'Kabul': 10}),\n 120: Counter({'Burhanuddin_Rabbani': 3}),\n 121: Counter({'Tatarstan': 1}),\n 122: Counter({'Albania': 27,\n          'Albanians': 3,\n          'Albanian_language': 2,\n          'FC_Alania_Vladikavkaz': 1,\n          'Albania_national_football_team': 2}),\n 123: Counter({'Burhanuddin_Rabbani': 3}),\n 124: Counter({'United_Arab_Emirates': 1}),\n 125: Counter({'Saddam_Hussein': 5}),\n 126: Counter({'Vladimir_Zhirinovsky': 4}),\n 127: Counter({'Saddam_Hussein': 8}),\n 128: Counter({'Vladimir_Zhirinovsky': 2}),\n 129: Counter({'Duma': 1}),\n 130: Counter({'Umm_Qasr': 1}),\n 131: Counter({'Persian_Gulf': 7, 'Gulf_War': 1, 'Gulf_of_Mexico': 1}),\n 132: Counter({'Lebanon': 27}),\n 133: Counter({'Beirut': 11}),\n 134: Counter({'An-Nahar': 2}),\n 135: Counter({'Hezbollah': 4}),\n 136: Counter({'As-Safir': 2}),\n 137: Counter({'Ad-Diyar': 2}),\n 138: Counter({'Pakistan': 59, 'Pakistan_national_cricket_team': 78}),\n 139: Counter({'Maronite_Church': 1}),\n 140: Counter({'Chicago_Mercantile_Exchange': 4}),\n 141: Counter({'Chicago': 72,\n          'Chicago_Cubs': 3,\n          'Chicago_White_Sox': 54,\n          'Chicago_Stock_Exchange': 2,\n          'Chicago_Blackhawks': 5,\n          'Chicago_Bulls': 3,\n          'Chicago_Bears': 2}),\n 142: Counter({'Montgomery,_Alabama': 1}),\n 143: Counter({'Alabama': 2}),\n 144: Counter({'KinderCare_Learning_Centers': 1}),\n 145: Counter({'Lehman_Brothers': 2, 'Darren_Lehmann': 1}),\n 146: Counter({'Southern_New_England_Telecommunications': 1}),\n 147: Counter({'Phoenix,_Arizona': 1,\n          'Phoenix_Coyotes': 4,\n          'Phoenix_Suns': 4}),\n 148: Counter({'Le_Monde': 5}),\n 149: Counter({'Paris': 60,\n          'Paris_Saint_Germain_(rugby_league_team)': 4,\n          'Euronext_Paris': 1,\n          'Paris,_Arkansas': 1}),\n 150: Counter({'Africa': 27}),\n 151: Counter({'Alain_Juppé': 5}),\n 152: Counter({'National_Liberation_Front_of_Corsica': 1}),\n 153: Counter({'Corsica': 7}),\n 154: Counter({'Bally_Shoe': 1,\n          'Ken_Hill_(baseball)': 1,\n          'Illinois': 1,\n          'Hull_City_A.F.C.': 8,\n          'Donne_Wall': 2,\n          'Alan_Ball,_Jr.': 2,\n          'Tony_P._Hall': 1,\n          'A.S._Bari': 1,\n          'Bali': 2,\n          'Maurice_Baril': 3,\n          'Mali': 1}),\n 155: Counter({'France': 100, 'France_national_football_team': 2}),\n 156: Counter({'Sud-PTT': 1}),\n 157: Counter({'France_Télécom': 1}),\n 158: Counter({'Heidrun_oil_field': 3}),\n 159: Counter({'Statoil': 2}),\n 160: Counter({'Oslo': 7}),\n 161: Counter({'Finland': 4}),\n 162: Counter({'Helsinki': 8}),\n 163: Counter({'Finland': 47, \"Finland_men's_national_ice_hockey_team\": 4}),\n 164: Counter({'Bank_of_Finland': 2}),\n 165: Counter({'Netherlands': 80,\n          'Butch_Harmon': 1,\n          'Eredivisie': 3,\n          'Netherlands_national_football_team': 5}),\n 166: Counter({'Amsterdam': 48}),\n 167: Counter({'Greenwich_Mean_Time': 53}),\n 168: Counter({'ZDF': 2}),\n 169: Counter({'World_Series_of_Golf': 10}),\n 170: Counter({'Akron,_Ohio': 12}),\n 171: Counter({'Ohio': 17}),\n 172: Counter({'WGC-Bridgestone_Invitational': 3}),\n 173: Counter({'Paul_Goydos': 4}),\n 174: Counter({'Billy_Mayfair': 8}),\n 175: Counter({'Hidemichi_Tanaka': 3}),\n 176: Counter({'Japan': 119,\n          'Japan_Fed_Cup_team': 3,\n          'Japan_national_football_team': 13}),\n 177: Counter({'Steve_Stricker': 6}),\n 178: Counter({'Justin_Leonard': 3}),\n 179: Counter({'Mark_Brooks_(golfer)': 4}),\n 180: Counter({'Tim_Herron': 3}),\n 181: Counter({'Duffy_Waldorf': 7}),\n 182: Counter({'Davis_Love_III': 4}),\n 183: Counter({'Anders_Forsbrand': 3}),\n 184: Counter({'Nick_Faldo': 3}),\n 185: Counter({'John_Cook_(golfer)': 3}),\n 186: Counter({'Steve_Jones_(golfer)': 3}),\n 187: Counter({'Phil_Mickelson': 5}),\n 188: Counter({'Greg_Norman': 5}),\n 189: Counter({'Ernie_Els': 3}),\n 190: Counter({'South_Africa': 78,\n          'International_cricketers_of_South_African_origin': 1,\n          'South_Africa_national_rugby_union_team': 12,\n          'South_Africa_national_field_hockey_team': 1,\n          'South_Africa_national_cricket_team': 4}),\n 191: Counter({'Scott_Hoch': 4}),\n 192: Counter({'Clarence_Rose': 3}),\n 193: Counter({'Loren_Roberts': 5}),\n 194: Counter({'Fred_Funk': 3}),\n 195: Counter({'Sven_Strüver': 3}),\n 196: Counter({'Alex_Čejka': 3}),\n 197: Counter({'Hal_Sutton': 3}),\n 198: Counter({'Tom_Lehman': 4}),\n 199: Counter({'D._A._Weibring': 3}),\n 200: Counter({'Brad_Bryant': 3}),\n 201: Counter({'Craig_Parry': 3}),\n 202: Counter({'Stewart_Ginn': 3}),\n 203: Counter({'Corey_Pavin': 3}),\n 204: Counter({'Craig_Stadler': 3}),\n 205: Counter({'Fred_Couples': 3}),\n 206: Counter({'Paul_Stankowski': 3}),\n 207: Counter({'Costantino_Rocca': 8}),\n 208: Counter({'Italy': 157,\n          'Italy_national_football_team': 1,\n          'Italy_national_rugby_union_team': 4}),\n 209: Counter({'Jim_Furyk': 3}),\n 210: Counter({'Satoshi_Higashi': 3}),\n 211: Counter({'Willie_Wood_(golfer)': 4}),\n 212: Counter({'Shigeki_Maruyama': 2}),\n 213: Counter({'Scott_McCarron': 4}),\n 214: Counter({'Wayne_Westner': 3}),\n 215: Counter({'Tom_Watson_(golfer)': 3}),\n 216: Counter({'ACF_Gloria_1922_Bistriţa': 9}),\n 217: Counter({'Bistriţa': 3}),\n 218: Counter({'Romania': 46,\n          'Romanians': 1,\n          'Romania_national_football_team': 8,\n          'Romania_national_under-21_football_team': 2}),\n 219: Counter({'Malta': 11, 'Malta_national_football_team': 1}),\n 220: Counter({\"UEFA_Cup_Winners'_Cup\": 2}),\n 221: Counter({'Gilbert_Agius': 2}),\n 222: Counter({'York': 2, 'Dominic_Cork': 13, 'York_City_F.C.': 8}),\n 223: Counter({'England': 87,\n          'England_cricket_team': 81,\n          'England_national_football_team': 19,\n          'England_national_rugby_union_team': 11,\n          'Kingdom_of_England': 1,\n          'United_Kingdom': 3}),\n 224: Counter({'Mark_Prescott': 2}),\n 225: Counter({'Nunthorpe_Stakes': 2}),\n 226: Counter({'George_Duffield': 2}),\n 227: Counter({'Longchamp_Racecourse': 1}),\n 228: Counter({'Ascot_Racecourse': 1}),\n 229: Counter({'Jason_Weaver_(jockey)': 1}),\n 230: Counter({'Newmarket,_Suffolk': 1}),\n 231: Counter({'Southern_California_Open': 10}),\n 232: Counter({'Carlsbad,_California': 5}),\n 233: Counter({'California': 21, 'Los_Angeles_Angels_of_Anaheim': 30}),\n 234: Counter({'Arantxa_Sánchez_Vicario': 11}),\n 235: Counter({'Spain': 142, 'Spain_Fed_Cup_team': 4}),\n 236: Counter({'Kimiko_Date_Krumm': 6}),\n 237: Counter({'Sandrine_Testud': 5}),\n 238: Counter({'Ai_Sugiyama': 3}),\n 239: Counter({'Nathalie_Tauziat': 4}),\n 240: Counter({'Wang_Shi-ting': 1}),\n 241: Counter({'Commack,_New_York': 4}),\n 242: Counter({'New_York': 15,\n          'New_York_City': 134,\n          'New_York_Yankees': 48,\n          'New_York_Mets': 1,\n          'New_York_Knicks': 5}),\n 243: Counter({'Michael_Chang': 6}),\n 244: Counter({'Sergi_Bruguera': 6}),\n 245: Counter({'Michael_Joyce_(tennis)': 4}),\n 246: Counter({'Richey_Reneberg': 4}),\n 247: Counter({'Martin_Damm': 6}),\n 248: Counter({'Czech_Republic': 63,\n          'Czech_Republic_national_football_team': 1,\n          \"Czech_Republic_men's_national_ice_hockey_team\": 4,\n          'Czech_Republic_Fed_Cup_team': 1}),\n 249: Counter({'Younes_El_Aynaoui': 2}),\n 250: Counter({'Morocco': 24}),\n 251: Counter({'Karol_Kučera': 5}),\n 252: Counter({'Slovakia': 36, 'Slovakia_national_football_team': 3}),\n 253: Counter({'Hicham_Arazi': 3}),\n 254: Counter({'Kenny_Dalglish': 4}),\n 255: Counter({'Blackburn_Rovers_F.C.': 16}),\n 256: Counter({'Kenny_Dalglish': 1}),\n 257: Counter({'County_Championship': 12}),\n 258: Counter({'County_Championship': 3}),\n 259: Counter({'Clarence_Park,_Weston-super-Mare': 1, 'Weston-super-Mare': 2}),\n 260: Counter({'Durham_County_Cricket_Club': 12}),\n 261: Counter({'Somerset_County_Cricket_Club': 14}),\n 262: Counter({'Castle_Park_Cricket_Ground': 2,\n          'Colchester': 3,\n          'Colchester_United_F.C.': 7}),\n 263: Counter({'Gloucestershire_County_Cricket_Club': 14}),\n 264: Counter({'J._Russell_(Essex_cricketer)': 2}),\n 265: Counter({'Essex_County_Cricket_Club': 23, 'Essex': 2}),\n 266: Counter({'Cardiff': 7, 'Cardiff_City_F.C.': 8, 'Cardiff_RFC': 2}),\n 267: Counter({'Kent_County_Cricket_Club': 17}),\n 268: Counter({'Glamorgan_County_Cricket_Club': 15}),\n 269: Counter({'Leicester': 7,\n          'Leicester_City_F.C.': 7,\n          'Leicester_Tigers': 4}),\n 270: Counter({'Leicestershire_County_Cricket_Club': 17}),\n 271: Counter({'Hampshire_County_Cricket_Club': 16, 'Hampshire': 2}),\n 272: Counter({'Northampton': 9,\n          'Northampton_Town_F.C.': 7,\n          'Northamptonshire_County_Cricket_Club': 1,\n          'Northampton_Saints': 2}),\n 273: Counter({'Sussex_County_Cricket_Club': 11}),\n 274: Counter({'Northamptonshire_County_Cricket_Club': 10}),\n 275: Counter({'Trent_Bridge': 7}),\n 276: Counter({'Nottinghamshire_County_Cricket_Club': 14}),\n 277: Counter({'Surrey_County_Cricket_Club': 24, 'Surrey': 1}),\n 278: Counter({'Worcester': 4}),\n 279: Counter({'Warwickshire_County_Cricket_Club': 20}),\n 280: Counter({'Worcestershire_County_Cricket_Club': 16}),\n 281: Counter({'Headingley_Stadium': 4, 'Headingley': 6}),\n 282: Counter({'Yorkshire_County_Cricket_Club': 16, 'Yorkshire': 1}),\n 283: Counter({'Lancashire_County_Cricket_Club': 15}),\n 284: Counter({'The_Oval': 20}),\n 285: Counter({'Waqar_Younis': 34}),\n 286: Counter({'Mushtaq_Ahmed': 30}),\n 287: Counter({'Saeed_Anwar': 19}),\n 288: Counter({'Mohammad_Akram': 7}),\n 289: Counter({'Wasim_Akram': 36}),\n 290: Counter({'Ijaz_Ahmed_(cricketer)': 17}),\n 291: Counter({'Inzamam-ul-Haq': 14}),\n 292: Counter({'Saleem_Malik': 18}),\n 293: Counter({'Asif_Mujtaba': 10}),\n 294: Counter({'Moin_Khan': 20}),\n 295: Counter({'Duncan_Ferguson': 3,\n          'Ian_Ferguson_(footballer_born_1967)': 1}),\n 296: Counter({'Scotland_national_football_team': 2, 'Scotland': 35}),\n 297: Counter({'Glasgow': 9}),\n 298: Counter({'Everton_F.C.': 13}),\n 299: Counter({'Duncan_Ferguson': 4}),\n 300: Counter({'Manchester_United_F.C.': 18}),\n 301: Counter({'Rangers_F.C.': 1}),\n 302: Counter({'Ally_McCoist': 3}),\n 303: Counter({'1998_FIFA_World_Cup': 34,\n          'FIFA_World_Cup': 15,\n          'Cricket_World_Cup': 5,\n          'UCI_Road_World_Cup': 5,\n          '1995_Rugby_World_Cup': 2,\n          'World_Cup_of_Hockey': 1,\n          'Rugby_World_Cup': 2,\n          'FIS_Freestyle_Skiing_World_Cup': 5,\n          'FIS_Alpine_Ski_World_Cup': 9,\n          'Biathlon_World_Cup': 3,\n          'FIS_Ski_Jumping_World_Cup': 2,\n          'Speed_Skating_World_Cup': 1}),\n 304: Counter({'Austria_national_football_team': 9,\n          'Austria': 86,\n          'Austria_national_under-21_football_team': 1,\n          'Austria_Fed_Cup_team': 2,\n          'Austrians': 1,\n          'Austrian_Empire': 2}),\n 305: Counter({'Vienna': 14}),\n 306: Counter({'Scotland_national_football_team': 10,\n          'Scotland': 31,\n          'Scottish_Premier_League': 1,\n          'Scotland_national_rugby_union_team': 5,\n          'Scotland_national_under-21_football_team': 1}),\n 307: Counter({'Craig_Brown_(footballer)': 2}),\n 308: Counter({'Celtic_F.C.': 10}),\n 309: Counter({'Jackie_McNamara': 1}),\n 310: Counter({'Roy_Keane': 1, 'Keane_(company)': 2}),\n 311: Counter({'Republic_of_Ireland': 38,\n          'Ireland': 5,\n          'Iceland': 2,\n          'Republic_of_Ireland_national_football_team': 5,\n          'Ireland_national_rugby_union_team': 1}),\n 312: Counter({'Roy_Keane': 1}),\n 313: Counter({'FA_Cup': 1}),\n 314: Counter({'Roy_Keane': 1}),\n 315: Counter({'Manchester_United_F.C.': 4}),\n 316: Counter({'Alex_Ferguson': 2}),\n 317: Counter({'Rogers_Cup_(tennis)': 13}),\n 318: Counter({'Toronto': 25,\n          'Toronto_Blue_Jays': 23,\n          'Toronto_Maple_Leafs': 4,\n          'Toronto_Raptors': 3}),\n 319: Counter({'Daniel_Nestor': 4}),\n 320: Counter({'Canada': 74}),\n 321: Counter({'Thomas_Muster': 7}),\n 322: Counter({'Mikael_Tillström': 7}),\n 323: Counter({'Goran_Ivanišević': 6}),\n 324: Counter({'Croatia': 26,\n          'Croatia_national_football_team': 1,\n          'Croatia_Davis_Cup_team': 2}),\n 325: Counter({'Wayne_Ferreira': 9}),\n 326: Counter({'Jiří_Novák': 4}),\n 327: Counter({'Marcelo_Ríos': 9}),\n 328: Counter({'Chile': 25, 'Chile_national_football_team': 3}),\n 329: Counter({'Kenneth_Carlsen': 4}),\n 330: Counter({'Denmark': 30}),\n 331: Counter({'MaliVai_Washington': 9}),\n 332: Counter({'Àlex_Corretja': 4}),\n 333: Counter({'Todd_Martin': 12}),\n 334: Counter({'Renzo_Furlan': 3}),\n 335: Counter({'Mark_Philippoussis': 10}),\n 336: Counter({'Marc_Rosset': 4}),\n 337: Counter({'Switzerland': 43, 'Switzerland_national_football_team': 5}),\n 338: Counter({'Cédric_Pioline': 7}),\n 339: Counter({'Grégory_Carraz': 1}),\n 340: Counter({'Patrick_Rafter': 7}),\n 341: Counter({'Alberto_Berasategui': 4}),\n 342: Counter({'Petr_Korda': 6}),\n 343: Counter({'Francisco_Clavet': 3}),\n 344: Counter({'Daniel_Vacek': 5}),\n 345: Counter({'Jason_Stoltenberg': 6}),\n 346: Counter({'Todd_Woodbridge': 9}),\n 347: Counter({'Sébastien_Lareau': 1}),\n 348: Counter({'Byron_Black': 3}),\n 349: Counter({'Zimbabwe': 18,\n          'Zimbabwe_national_cricket_team': 14,\n          'Zimbabwe_national_football_team': 2}),\n 350: Counter({'Bohdan_Ulihrach': 6}),\n 351: Counter({'Andrea_Gaudenzi': 4}),\n 352: Counter({'Tim_Henman': 6}),\n 353: Counter({'Chris_Woodruff': 3}),\n 354: Counter({'David_Millns': 1}),\n 355: Counter({'Cape_Town': 9}),\n 356: Counter({'David_Millns': 2}),\n 357: Counter({'Phillip_DeFreitas': 1}),\n 358: Counter({'Tirana': 14}),\n 359: Counter({'Flamurtari_Vlorë': 1}),\n 360: Counter({'1._HFC_Humenné': 5}),\n 361: Counter({'Valletta_F.C.': 2, 'Valletta': 4}),\n 362: Counter({'Chorzów': 1}),\n 363: Counter({'Ruch_Chorzów': 5}),\n 364: Counter({'The_New_Saints_F.C.': 1}),\n 365: Counter({'Wales_national_football_team': 4,\n          'Wales': 10,\n          'Wales_national_under-21_football_team': 2,\n          'Wales_national_rugby_union_team': 2}),\n 366: Counter({'Arkadiusz_Bąk': 1}),\n 367: Counter({'Larnaca': 6}),\n 368: Counter({'AEK_Larnaca': 2}),\n 369: Counter({'Cyprus_national_football_team': 4, 'Cyprus': 16}),\n 370: Counter({'FC_Kotayk_Abovian': 1}),\n 371: Counter({'Armenia_national_football_team': 4, 'Armenia': 8}),\n 372: Counter({'Šiauliai': 1}),\n 373: Counter({'FK_Kareda_Kaunas': 1}),\n 374: Counter({'Lithuania': 11,\n          'Lithuania_national_football_team': 6,\n          'Lithuania_national_under-21_football_team': 2}),\n 375: Counter({'FC_Sion': 10, 'John_Y._Simon': 1}),\n 376: Counter({'Vinnytsia': 1}),\n 377: Counter({'JK_Tallinna_Sadam': 1}),\n 378: Counter({'Estonia': 14, 'Estonia_national_football_team': 2}),\n 379: Counter({'PFC_Nyva_Vinnytsia': 1}),\n 380: Counter({'Bergen': 2, 'Gerhard_Berger': 1}),\n 381: Counter({'SK_Brann': 5}),\n 382: Counter({'Norway': 44}),\n 383: Counter({'Shelbourne_F.C.': 2}),\n 384: Counter({'Mons_Ivar_Mjelde': 1}),\n 385: Counter({'Jan_Ove_Pedersen': 1}),\n 386: Counter({'Mark_Rutherford_(footballer)': 1}),\n 387: Counter({'Sofia': 10}),\n 388: Counter({'PFC_Levski_Sofia': 1}),\n 389: Counter({'Bulgaria': 21,\n          'Bulgarians': 1,\n          'Bulgaria_national_football_team': 1,\n          'Bulgaria_national_under-21_football_team': 1}),\n 390: Counter({'NK_Olimpija_Ljubljana_(1911)': 2}),\n 391: Counter({'Slovenia': 19}),\n 392: Counter({'Rheinpark_Stadion': 1, 'FC_Vaduz': 3, 'Vaduz': 1}),\n 393: Counter({'Liechtenstein_national_football_team': 7, 'Liechtenstein': 3}),\n 394: Counter({'Latvia': 7, 'Latvia_national_football_team': 2}),\n 395: Counter({'Luxembourg_(city)': 1, 'Luxembourg': 6}),\n 396: Counter({'Union_Luxembourg': 1}),\n 397: Counter({'NK_Varaždin': 2}),\n 398: Counter({'Tórshavn': 1}),\n 399: Counter({'Havnar_Bóltfelag': 1}),\n 400: Counter({'Faroe_Islands_national_football_team': 3, 'Faroe_Islands': 2}),\n 401: Counter({'FC_Dinamo_Batumi': 2}),\n 402: Counter({'Georgia_(country)': 3, 'Georgia_(U.S._state)': 1}),\n 403: Counter({'Prague': 11, 'Sprague,_Manitoba': 1}),\n 404: Counter({'Sparta_Prague': 1}),\n 405: Counter({'Glentoran_F.C.': 3}),\n 406: Counter({'Northern_Ireland_national_football_team': 5,\n          'Northern_Ireland': 7}),\n 407: Counter({'Horst_Siegl': 1}),\n 408: Counter({'Zdeněk_Svoboda': 1}),\n 409: Counter({'Petr_Gabriel': 1}),\n 410: Counter({'Sparta_Prague': 1, 'FK_Spartak_Zlatibor_Voda': 4}),\n 411: Counter({'Edinburgh': 1}),\n 412: Counter({'Heart_of_Midlothian_F.C.': 9}),\n 413: Counter({'Red_Star_Belgrade': 1}),\n 414: Counter({'Yugoslavia': 24, 'Serbia': 1}),\n 415: Counter({'Dave_McPherson_(footballer)': 1}),\n 416: Counter({'Red_Star_Belgrade': 5, 'KK_Crvena_zvezda': 6}),\n 417: Counter({'Vinko_Marinović': 1}),\n 418: Counter({'Hapoel_Ironi_Rishon_LeZion_F.C.': 1}),\n 419: Counter({'FC_Tiraspol': 2}),\n 420: Counter({'Moldova_national_football_team': 7, 'Moldova': 5}),\n 421: Counter({'MYPA': 1}),\n 422: Counter({'Azerbaijan_national_football_team': 4, 'Azerbaijan': 4}),\n 423: Counter({'Skopje': 4}),\n 424: Counter({'FK_Sloga_Jugomagnat': 1}),\n 425: Counter({'Republic_of_Macedonia': 5,\n          'Macedonia_national_football_team': 2}),\n 426: Counter({'Budapest_Honvéd_FC': 2}),\n 427: Counter({'Hungary': 25}),\n 428: Counter({'IFK_Göteborg': 2}),\n 429: Counter({'Ferencvárosi_TC': 5}),\n 430: Counter({'UEFA_European_Football_Championship': 1}),\n 431: Counter({'Budapest': 17}),\n 432: Counter({'IFK_Göteborg': 2}),\n 433: Counter({'UEFA_Champions_League': 1}),\n 434: Counter({'Ferenc_Horváth': 1}),\n 435: Counter({'Andreas_Andersson': 1}),\n 436: Counter({'Brazil': 34}),\n 437: Counter({'Rio_de_Janeiro': 10}),\n 438: Counter({'Esporte_Clube_Bahia': 4}),\n 439: Counter({'Clube_Atlético_Paranaense': 3}),\n 440: Counter({'Sport_Club_Corinthians_Paulista': 3}),\n 441: Counter({'Guarani_Futebol_Clube': 3}),\n 442: Counter({'Coritiba_Foot_Ball_Club': 3, 'Curitiba': 1}),\n 443: Counter({'Clube_Atlético_Mineiro': 4}),\n 444: Counter({'Cruzeiro_Esporte_Clube': 3}),\n 445: Counter({'Esporte_Clube_Vitória': 3,\n          'Victoria_(Australia)': 1,\n          'Victorian_Bushrangers': 8}),\n 446: Counter({'Esporte_Clube_Flamengo': 1,\n          'Clube_de_Regatas_do_Flamengo': 2}),\n 447: Counter({'Esporte_Clube_Juventude': 4}),\n 448: Counter({'Goiás_Esporte_Clube': 4}),\n 449: Counter({'Sport_Club_do_Recife': 3}),\n 450: Counter({'Grêmio_Foot-Ball_Porto_Alegrense': 4}),\n 451: Counter({'Clube_Atlético_Bragantino': 3}),\n 452: Counter({'Sociedade_Esportiva_Palmeiras': 3}),\n 453: Counter({'Associação_Desportiva_Vasco_da_Gama': 1,\n          'CR_Vasco_da_Gama': 2}),\n 454: Counter({'Associação_Portuguesa_de_Desportos': 4,\n          'Portuguese_Liga': 1,\n          'Portugal': 9,\n          'Portugal_national_football_team': 1}),\n 455: Counter({'Paraná_Clube': 3}),\n 456: Counter({'John_Newcombe': 7}),\n 457: Counter({'Davis_Cup': 7}),\n 458: Counter({'Sydney': 19, 'Sydney_Swans': 4, '2000_Summer_Olympics': 1}),\n 459: Counter({'John_Newcombe': 1}),\n 460: Counter({'Wimbledon_Championships': 27,\n          'Wimbledon_F.C.': 16,\n          '1996_Wimbledon_Championships': 1}),\n 461: Counter({'Tony_Roche': 1}),\n 462: Counter({'Split_(city)': 1, 'KK_Split': 1}),\n 463: Counter({'Tony_Roche': 1}),\n 464: Counter({'The_Daily_Telegraph_(Australia)': 1}),\n 465: Counter({'Neale_Fraser': 1}),\n 466: Counter({'Tony_Roche': 1}),\n 467: Counter({'Summer_Olympic_Games': 24,\n          '1996_Summer_Olympics': 14,\n          'Olympic_sports': 10,\n          '2000_Summer_Olympics': 1,\n          '1936_Summer_Olympics': 3,\n          '1992_Summer_Olympics': 1,\n          '1976_Winter_Olympics': 1}),\n 468: Counter({'Mark_Woodforde': 4}),\n 469: Counter({'Neale_Fraser': 1, 'Fraser,_Australian_Capital_Territory': 2}),\n 470: Counter({'Malaysia_Open_(badminton)': 6}),\n 471: Counter({'Kuala_Lumpur': 5}),\n 472: Counter({'South_Korea': 42, 'Korea_Republic_national_football_team': 8}),\n 473: Counter({'Malaysia': 21}),\n 474: Counter({'Netherlands': 74,\n          'Netherlands_national_football_team': 6,\n          'Netherlands_Fed_Cup_team': 1}),\n 475: Counter({'Indonesia': 69, 'Indonesia_national_football_team': 9}),\n 476: Counter({'Hermawan_Susanto': 3}),\n 477: Counter({'Fung_Permadi': 3}),\n 478: Counter({'Wang_Chen_(badminton)': 3}),\n 479: Counter({'Meluawati': 1}),\n 480: Counter({'Gong_Zhichao': 3}),\n 481: Counter({'New_Zealand': 32,\n          'New_Zealand_national_rugby_union_team': 21,\n          'New_Zealand_national_cricket_team': 7}),\n 482: Counter({'Christine_Magnusson': 1}),\n 483: Counter({'Zhang_Ning': 2}),\n 484: Counter({'US_Open_(tennis)': 38, 'U.S._Open_(golf)': 1}),\n 485: Counter({'Pete_Sampras': 8}),\n 486: Counter({'Adrian_Voinea': 4}),\n 487: Counter({'Magnus_Larsson': 1}),\n 488: Counter({'Alexander_Vladimirovich_Volkov': 3}),\n 489: Counter({'Andrei_Olhovskiy': 3}),\n 490: Counter({'Roberto_Carretero': 3}),\n 491: Counter({'Jordi_Burillo': 2}),\n 492: Counter({'Jonas_Björkman': 3}),\n 493: Counter({'David_Rikl': 4}),\n 494: Counter({'Sjeng_Schalken': 3}),\n 495: Counter({'Gilbert_Schaller': 2}),\n 496: Counter({'Grant_Stafford': 2}),\n 497: Counter({'Guy_Forget': 3}),\n 498: Counter({'Fernando_Meligeni': 2}),\n 499: Counter({'Brazil': 58,\n          'Brazil_national_football_team': 9,\n          'Empire_of_Brazil': 2}),\n 500: Counter({'Yevgeny_Kafelnikov': 3}),\n 501: Counter({'Andrei_Chesnokov': 1}),\n 502: Counter({'Scott_Draper': 3}),\n 503: Counter({'Galo_Blanco': 2}),\n 504: Counter({'Thomas_Johansson': 4}),\n 505: Counter({'Greg_Rusedski': 1}),\n 506: Counter({'Andriy_Medvedev': 7}),\n 507: Counter({'Jean-Philippe_Fleurian': 3}),\n 508: Counter({'Ján_Krošlák': 3}),\n 509: Counter({'Shuzo_Matsuoka': 2}),\n 510: Counter({'Doug_Flach': 3}),\n 511: Counter({'Mats_Wilander': 2}),\n 512: Counter({'Paul_Haarhuis': 4}),\n 513: Counter({'Michael_Tebbutt': 3}),\n 514: Counter({'Jonathan_Stark': 3}),\n 515: Counter({'Bernd_Karbacher': 4}),\n 516: Counter({'Stefan_Edberg': 7}),\n 517: Counter({'Richard_Krajicek': 5}),\n 518: Counter({'Andre_Agassi': 5}),\n 519: Counter({'Mauricio_Hadad': 1}),\n 520: Counter({'Colombia': 33}),\n 521: Counter({'Marcos_Ondruska': 2}),\n 522: Counter({'Félix_Mantilla_Botella': 4}),\n 523: Counter({'Carlos_Moyá': 3}),\n 524: Counter({'Scott_Humphries': 2}),\n 525: Counter({'Jan_Siemerink': 3}),\n 526: Counter({'Carl-Uwe_Steeb': 2}),\n 527: Counter({'David_Wheaton': 2}),\n 528: Counter({'Kevin_Kim': 1}),\n 529: Counter({'Nicolás_Lapentti': 3}),\n 530: Counter({'Ecuador': 10}),\n 531: Counter({'Karim_Alami': 4}),\n 532: Counter({'Thomas_Enqvist': 7}),\n 533: Counter({'Stéphane_Simian': 2}),\n 534: Counter({'Guillaume_Raoux': 3}),\n 535: Counter({'Filip_Dewulf': 2}),\n 536: Counter({'Belgium': 85,\n          'Belgium_Fed_Cup_team': 2,\n          'Belgium_national_football_team': 10}),\n 537: Counter({'Mark_Knowles': 3}),\n 538: Counter({'The_Bahamas': 7}),\n 539: Counter({'Marcelo_Filippini': 2}),\n 540: Counter({'Uruguay': 4}),\n 541: Counter({'Michael_Stich': 5}),\n 542: Counter({'Chuck_Adams': 2}),\n 543: Counter({'Javier_Frana': 3}),\n 544: Counter({'Argentina': 52}),\n 545: Counter({'Jim_Courier': 4}),\n 546: Counter({'Javier_Sánchez': 4}),\n 547: Counter({'Jim_Grabb': 3}),\n 548: Counter({'Sandon_Stolle': 2}),\n 549: Counter({'Stefano_Pescosolido': 2}),\n 550: Counter({'Arnaud_Boetsch': 3}),\n 551: Counter({'Nicolás_Pereira': 2}),\n 552: Counter({'Venezuela': 21}),\n 553: Counter({'Carlos_Costa': 2}),\n 554: Counter({'Magnus_Gustafsson': 4}),\n 555: Counter({'Jeff_Tarango': 4}),\n 556: Counter({'Alex_Rădulescu': 3}),\n 557: Counter({'Jared_Palmer': 3}),\n 558: Counter({'Hernán_Gumy': 2}),\n 559: Counter({'Nicklas_Kulti': 2}),\n 560: Counter({'Jakob_Hlasek': 2}),\n 561: Counter({'Cecil_Mamiit': 2}),\n 562: Counter({'Vince_Spadea': 1}),\n 563: Counter({'David_Prinosil': 2}),\n 564: Counter({'Tomás_Carbonell': 2}),\n 565: Counter({'Baltimore_Orioles': 15}),\n 566: Counter({'Davey_Johnson': 3}),\n 567: Counter({'Baltimore': 7,\n          'Baltimore_Orioles': 40,\n          'Baltimore_Ravens': 2}),\n 568: Counter({'Baltimore_Orioles': 5}),\n 569: Counter({'Seattle_Mariners': 6}),\n 570: Counter({'Davey_Johnson': 5, 'Allen_Johnson': 1}),\n 571: Counter({'Andy_Etchebarren': 2}),\n 572: Counter({'Los_Angeles_Angels_of_Anaheim': 6}),\n 573: Counter({'John_McNamara_(baseball)': 2}),\n 574: Counter({'NewYork–Presbyterian_Hospital': 1}),\n 575: Counter({'Phil_Regan_(baseball)': 1}),\n 576: Counter({'Cincinnati_Reds': 6}),\n 577: Counter({'New_York_Mets': 3, 'New_York_Jets': 1}),\n 578: Counter({'World_Series': 1, 'World_Series_Cricket': 9}),\n 579: Counter({'New_York_Yankees': 5}),\n 580: Counter({'American_League_East': 1}),\n 581: Counter({'Major_League_Baseball': 29}),\n 582: Counter({'Major_League_Baseball': 11}),\n 583: Counter({'American_League_East': 10}),\n 584: Counter({'Boston_Red_Sox': 33,\n          'Boston': 10,\n          'Bolton_Wanderers_F.C.': 9,\n          'Boston_Bruins': 4,\n          'Boston_Celtics': 4,\n          'Boston_United_F.C.': 1}),\n 585: Counter({'Detroit_Tigers': 31,\n          'Detroit': 8,\n          'Detroit_Red_Wings': 2,\n          'Detroit_Pistons': 5,\n          'Detroit_Lions': 2}),\n 586: Counter({'National_League_Central': 20,\n          'Central_Division_(NHL)': 1,\n          'Central_Division_(NBA)': 1}),\n 587: Counter({'Cleveland_Indians': 31,\n          'Cleveland': 3,\n          'Cleveland_Cavaliers': 3}),\n 588: Counter({'Minnesota_Twins': 31,\n          'Minnesota': 6,\n          'Minnesota_Timberwolves': 4,\n          'Minnesota_Vikings': 2}),\n 589: Counter({'Milwaukee_Brewers': 32, 'Milwaukee': 5, 'Milwaukee_Bucks': 3}),\n 590: Counter({'Kansas_City_Royals': 29,\n          'Kansas_City,_Missouri': 8,\n          'Kansas_City_Chiefs': 2}),\n 591: Counter({'National_League_West': 20}),\n 592: Counter({'Texas_Rangers_(baseball)': 31, 'Texas': 14}),\n 593: Counter({'Seattle_Mariners': 36,\n          'Seattle': 8,\n          'Seattle_SuperSonics': 3,\n          'Seattle_Seahawks': 2}),\n 594: Counter({'Oakland_Athletics': 32,\n          'Oakland,_California': 1,\n          'Oakland_Raiders': 2,\n          'Oakland,_New_Jersey': 1}),\n 595: Counter({'National_League_East': 11}),\n 596: Counter({'Atlanta_Braves': 32,\n          '1996_Summer_Olympics': 5,\n          'Atlanta': 13,\n          'Atlante_F.C.': 2,\n          'Atalanta_B.C.': 6,\n          'Atlanta_Hawks': 3,\n          'Atlanta_Falcons': 2}),\n 597: Counter({'Montreal_Expos': 24, 'Montreal': 11, 'Montreal_Canadiens': 4}),\n 598: Counter({'Florida_Marlins': 30, 'Florida_Panthers': 3}),\n 599: Counter({'Philadelphia_Phillies': 27,\n          'Philadelphia': 11,\n          'Philadelphia_Flyers': 4,\n          'Philadelphia_Eagles': 3,\n          'Philadelphia_76ers': 3}),\n 600: Counter({'Houston_Astros': 29,\n          'Houston': 6,\n          'Houston_Rockets': 3,\n          'Houston_Texans': 1,\n          'Tennessee_Titans': 1,\n          'Houston_Cougars_football': 1}),\n 601: Counter({'Cincinnati_Reds': 30,\n          'Cincinnati': 3,\n          'Cincinnati_Bengals': 2}),\n 602: Counter({'Pittsburgh_Pirates': 27,\n          'Pittsburgh': 2,\n          'Pittsburgh_Penguins': 4,\n          'Pittsburgh_Steelers': 1}),\n 603: Counter({'San_Diego_Padres': 26,\n          'San_Diego': 8,\n          'San_Diego_Chargers': 2}),\n 604: Counter({'Los_Angeles_Angels_of_Anaheim': 20,\n          'Los_Angeles': 20,\n          'Los_Angeles_Dodgers': 7,\n          'Los_Angeles_Kings': 3}),\n 605: Counter({'Colorado_Rockies': 33,\n          'Colorado': 15,\n          'Colorado_Avalanche': 5}),\n 606: Counter({'San_Francisco_Giants': 29,\n          'San_Francisco': 6,\n          'San_Francisco_49ers': 2}),\n 607: Counter({'American_League': 14}),\n 608: Counter({'National_League': 12}),\n 609: Counter({'Cleveland_Indians': 5,\n          'India_national_cricket_team': 19,\n          'India': 100,\n          'Inia,_Paphos': 1,\n          'Indigenous_peoples_of_the_Americas': 4,\n          'Indiana': 3,\n          'Indiana_Pacers': 4}),\n 610: Counter({'Rusty_Greer': 2}),\n 611: Counter({'Texas_Rangers_(baseball)': 5}),\n 612: Counter({'Cleveland_Indians': 5}),\n 613: Counter({'Julián_Tavárez': 1}),\n 614: Counter({'Iván_Rodríguez': 2}),\n 615: Counter({'Mickey_Cochrane': 1}),\n 616: Counter({'Johnny_Bench': 1}),\n 617: Counter({'Terry_Kennedy': 1}),\n 618: Counter({'Texas_Rangers_(baseball)': 4, 'Rangers_F.C.': 10}),\n 619: Counter({'Progressive_Field': 1}),\n 620: Counter({'New_York_Yankees': 13}),\n 621: Counter({'Kenny_Lofton': 1}),\n 622: Counter({'Ed_Vosberg': 1}),\n 623: Counter({'Dean_Palmer': 1}),\n 624: Counter({'Cal_Ripken,_Jr.': 3}),\n 625: Counter({'Bobby_Bonilla': 3}),\n 626: Counter({'Seattle_Mariners': 6, 'United_States_Marine_Corps': 3}),\n 627: Counter({'Cal_Ripken,_Jr.': 4}),\n 628: Counter({'Sterling_Hitchcock': 1}),\n 629: Counter({'Bobby_Bonilla': 2}),\n 630: Counter({'Randy_Johnson': 2}),\n 631: Counter({'Cy_Young_Award': 1}),\n 632: Counter({'American_League_East': 1}),\n 633: Counter({'Scott_Erickson': 1}),\n 634: Counter({'Alex_Rodriguez': 2}),\n 635: Counter({'Chris_Hoiles': 1}),\n 636: Counter({'Jason_Dickson': 1}),\n 637: Counter({'Chili_Davis': 1}),\n 638: Counter({'Jason_Dickson': 1}),\n 639: Counter({'Derek_Jeter': 1}),\n 640: Counter({'Los_Angeles_Angels_of_Anaheim': 4}),\n 641: Counter({'Jimmy_Key': 2}),\n 642: Counter({'Mike_Stanley': 1}),\n 643: Counter({'Boston_Red_Sox': 4}),\n 644: Counter({'Oakland_Athletics': 5}),\n 645: Counter({'Mo_Vaughn': 2}),\n 646: Counter({'Scott_Brosius': 1}),\n 647: Counter({'Oakland_Athletics': 1}),\n 648: Counter({'Brad_Ausmus': 1}),\n 649: Counter({'Detroit_Tigers': 4}),\n 650: Counter({'Chicago_White_Sox': 5}),\n 651: Counter({'Chicago_White_Sox': 6}),\n 652: Counter({'Juan_Guzmán_(baseball)': 2}),\n 653: Counter({'Toronto_Blue_Jays': 4}),\n 654: Counter({'Kansas_City_Royals': 3}),\n 655: Counter({'John_Jaha': 2}),\n 656: Counter({'Milwaukee_Brewers': 4}),\n 657: Counter({'Minnesota_Twins': 2}),\n 658: Counter({'José_Valentín': 1}),\n 659: Counter({'Phillip_Cocu': 3}),\n 660: Counter({'PSV_Eindhoven': 18}),\n 661: Counter({'Phillip_Cocu': 3}),\n 662: Counter({'PSV_Eindhoven': 15}),\n 663: Counter({'N.E.C._(football_club)': 11}),\n 664: Counter({'Arthur_Numan': 2}),\n 665: Counter({'Luc_Nilis': 4}),\n 666: Counter({'AFC_Ajax': 18}),\n 667: Counter({'NAC_Breda': 10}),\n 668: Counter({'Luc_Nilis': 3}),\n 669: Counter({'Adrian_Knup': 3}),\n 670: Counter({'Switzerland': 41}),\n 671: Counter({'Geneva': 17}),\n 672: Counter({'Galatasaray_S.K._(football_team)': 4}),\n 673: Counter({'Adrian_Knup': 2}),\n 674: Counter({'Baku': 2}),\n 675: Counter({'Artur_Jorge_(footballer)': 2}),\n 676: Counter({'Europe': 64,\n          'UEFA_Champions_League': 1,\n          'European_Union': 8,\n          'UEFA_European_Football_Championship': 2}),\n 677: Counter({'Rolf_Fringer': 1}),\n 678: Counter({'UEFA_Euro_1996': 8}),\n 679: Counter({'Marco_Pascolo': 1}),\n 680: Counter({'Cagliari_Calcio': 6}),\n 681: Counter({'Pascal_Zuberbühler': 1}),\n 682: Counter({'Grasshopper_Club_Zürich': 7}),\n 683: Counter({'Stéphane_Henchoz': 1}),\n 684: Counter({'Hamburger_SV': 11, 'Hamburg': 6, 'Hamburg_Airport': 1}),\n 685: Counter({'Marc_Hottiger': 1}),\n 686: Counter({'Yvan_Quentin': 1}),\n 687: Counter({'Ramon_Vega': 2}),\n 688: Counter({'Raphaël_Wicky': 1}),\n 689: Counter({'Alexandre_Comisetti': 1}),\n 690: Counter({'Antonio_Esposito': 1}),\n 691: Counter({'Sébastien_Fournier': 1}),\n 692: Counter({'VfB_Stuttgart': 4, 'Stuttgart': 4, 'Stuttgart_Airport': 1}),\n 693: Counter({'Christophe_Ohrel': 1}),\n 694: Counter({'FC_Lausanne-Sport': 2}),\n 695: Counter({'Patrick_Sylvestre': 1}),\n 696: Counter({'David_Sesa': 1}),\n 697: Counter({'Servette_FC': 3}),\n 698: Counter({'Ciriaco_Sforza': 1}),\n 699: Counter({'F.C._Internazionale_Milano': 2}),\n 700: Counter({'Murat_Yakin': 1}),\n 701: Counter({'Kubilay_Türkyilmaz': 1}),\n 702: Counter({'Christophe_Bonvin': 1}),\n 703: Counter({'Stéphane_Chapuisat': 1}),\n 704: Counter({'Borussia_Dortmund': 11}),\n 705: Counter({'Belgium': 44}),\n 706: Counter({'German_Open_(golf)': 7}),\n 707: Counter({'Paul_Broadhurst': 6}),\n 708: Counter({'Raymond_Russell': 7}),\n 709: Counter({'David_J_Russell': 1}),\n 710: Counter({'Michael_Campbell': 1}),\n 711: Counter({'Ian_Woosnam': 9}),\n 712: Counter({'Bernhard_Langer': 2}),\n 713: Counter({'Ronan_Rafferty': 2}),\n 714: Counter({'Mats_Lanner': 2}),\n 715: Counter({'Wayne_Riley': 5}),\n 716: Counter({'Eamonn_Darcy': 3}),\n 717: Counter({'Per_Nyman': 1}),\n 718: Counter({'Russell_Claydon': 2}),\n 719: Counter({'Mark_Roe': 5}),\n 720: Counter({'Retief_Goosen': 5}),\n 721: Counter({'Carl_Suneson': 3}),\n 722: Counter({'Paul_Lawrie': 7}),\n 723: Counter({'Iain_Pyman': 5}),\n 724: Counter({'Miles_Tunnicliff': 1}),\n 725: Counter({'Christian_Cévaër': 1}),\n 726: Counter({'Des_Smyth': 3}),\n 727: Counter({'David_Carter_(golfer)': 4}),\n 728: Counter({'Lee_Westwood': 4}),\n 729: Counter({'Greg_Chalmers': 1}),\n 730: Counter({'Miguel_Ángel_Martín_(golfer)': 7}),\n 731: Counter({'Thomas_Bjørn': 3}),\n 732: Counter({'Derrick_Cooper': 1}),\n 733: Counter({'Pádraig_Harrington': 4}),\n 734: Counter({'Paul_McGinley': 3}),\n 735: Counter({'Gary_Orr': 2}),\n 736: Counter({'José_Maria_Cañizares': 2}),\n 737: Counter({'Michael_Jonzon': 4}),\n 738: Counter({'Paul_Eales': 5}),\n 739: Counter({'Andrew_Coltart': 4}),\n 740: Counter({'Jonathan_Lomas': 5}),\n 741: Counter({'José_Rivero': 1}),\n 742: Counter({'Robert_Karlsson': 3}),\n 743: Counter({'Pedro_Linhart': 7}),\n 744: Counter({'Jamie_Spence': 1}),\n 745: Counter({'Terry_Price_(golfer)': 2}),\n 746: Counter({'Mark_Mouland': 1}),\n 747: Counter({'UEFA': 5}),\n 748: Counter({'UEFA_Europa_League': 6, '1996–97_UEFA_Cup': 2}),\n 749: Counter({'Belarus': 22, 'Belarus_national_football_team': 3}),\n 750: Counter({'Portugal': 10,\n          'Portugal_national_football_team': 6,\n          'Portuguese_Empire': 1}),\n 751: Counter({'Greece': 22}),\n 752: Counter({'Colombo': 27}),\n 753: Counter({'Sri_Lanka': 28, 'Sri_Lanka_national_cricket_team': 38}),\n 754: Counter({'Ricky_Ponting': 4}),\n 755: Counter({'Geoff_Marsh': 3}),\n 756: Counter({'Ruse,_Bulgaria': 1}),\n 757: Counter({'Veliko_Tarnovo': 1}),\n 758: Counter({'Minnetonka,_Minnesota': 1}),\n 759: Counter({'Minnesota': 3,\n          'Finland': 3,\n          'Daniel_da_Cruz_Carvalho': 1,\n          'Lamberto_Dini': 2,\n          'Dili': 2,\n          'Gianfranco_Fini': 1}),\n 760: Counter({'United_States_district_court': 1}),\n 761: Counter({'Minneapolis': 4}),\n 762: Counter({'Medicare_(United_States)': 6}),\n 763: Counter({'United_States_district_court': 3}),\n 764: Counter({'Oppenheimer_Holdings': 1}),\n 765: Counter({'Best_Products': 5,\n          'Western_world': 1,\n          'American_League_West': 1}),\n 766: Counter({'Richmond,_Virginia': 1, 'Richmond_Football_Club': 4}),\n 767: Counter({\"Crohn's_disease\": 4}),\n 768: Counter({'Andrew_Wakefield': 1}),\n 769: Counter({'Royal_Free_Hospital': 1}),\n 770: Counter({'Uppsala_University_Hospital': 1}),\n 771: Counter({'Uppsala': 1}),\n 772: Counter({'Andrew_Wakefield': 1}),\n 773: Counter({'The_Lancet': 1}),\n 774: Counter({'Confederation_of_British_Industry': 3}),\n 775: Counter({'Confederation_of_British_Industry': 1}),\n 776: Counter({'University_of_Oxford': 1}),\n 777: Counter({'University_of_Oxford': 2,\n          'Oxford_United_F.C.': 10,\n          'Oxford': 1}),\n 778: Counter({'British_Heart_Foundation': 1}),\n 779: Counter({'Caribbean': 7}),\n 780: Counter({'Montserrat': 2}),\n 781: Counter({'Plymouth,_Montserrat': 1, 'Plymouth_Argyle_F.C.': 8}),\n 782: Counter({'Department_for_International_Development': 1}),\n 783: Counter({'Lynda_Chalker,_Baroness_Chalker_of_Wallasey': 1}),\n 784: Counter({'Mark_Philippoussis': 8}),\n 785: Counter({'Pete_Sampras': 9}),\n 786: Counter({'Grand_Slam_(tennis)': 15}),\n 787: Counter({'Steffi_Graf': 5}),\n 788: Counter({'Steffi_Graf': 13, 'Maurice_Graef': 1}),\n 789: Counter({'Yayuk_Basuki': 3}),\n 790: Counter({'Australian_Open': 10}),\n 791: Counter({'Natasha_Zvereva': 4}),\n 792: Counter({'Andre_Agassi': 6}),\n 793: Counter({'Czech_Republic': 24, 'Czechs': 1}),\n 794: Counter({'Monica_Seles': 10}),\n 795: Counter({'United_States': 75,\n          'Club_América': 2,\n          'People_of_the_United_States': 1}),\n 796: Counter({'Thomas_Muster': 7}),\n 797: Counter({'Michael_Chang': 11}),\n 798: Counter({'France': 6}),\n 799: Counter({'French_Open': 8}),\n 800: Counter({'Monica_Seles': 7}),\n 801: Counter({'Anke_Huber': 6}),\n 802: Counter({'Conchita_Martínez': 8}),\n 803: Counter({'Lindsay_Davenport': 7}),\n 804: Counter({'Anke_Huber': 7, 'Hubei': 1}),\n 805: Counter({'Amanda_Coetzer': 6}),\n 806: Counter({'Martina_Hingis': 5}),\n 807: Counter({'Jana_Novotná': 5}),\n 808: Counter({'Conchita_Martínez': 8, 'Pedro_Martínez': 1}),\n 809: Counter({'Ruxandra_Dragomir': 3}),\n 810: Counter({'Jason_Stoltenberg': 1}),\n 811: Counter({'Daniel_Nestor': 2}),\n 812: Counter({'Canada': 34}),\n 813: Counter({'Goran_Ivanišević': 3}),\n 814: Counter({'Indianapolis': 2, 'Indianapolis_Colts': 3}),\n 815: Counter({'Marc_Rosset': 1}),\n 816: Counter({'Seoul': 23}),\n 817: Counter({'Anyang_LG_Cheetahs': 6}),\n 818: Counter({'Suwon_Samsung_Bluewings': 5}),\n 819: Counter({'Pohang_Steelers': 6}),\n 820: Counter({'Ulsan_Hyundai_FC': 5, 'Ulsan': 1}),\n 821: Counter({'Senegal': 6}),\n 822: Counter({'Dakar': 4}),\n 823: Counter({'Kaolack': 1}),\n 824: Counter({'Senegal': 2}),\n 825: Counter({'Nigeria': 49}),\n 826: Counter({'Liberia': 12,\n          'Liberia_national_football_team': 2,\n          'Iberian_Peninsula': 1}),\n 827: Counter({'Economic_Community_of_West_African_States_Monitoring_Group': 3}),\n 828: Counter({'Monrovia': 4}),\n 829: Counter({'John_Mark_Inienger': 1}),\n 830: Counter({'United_Nations': 27}),\n 831: Counter({'Tubmanburg': 1}),\n 832: Counter({'United_Liberation_Movement_of_Liberia_for_Democracy_–_Johnson_faction': 1}),\n 833: Counter({'Abuja': 4}),\n 834: Counter({'Economic_Community_of_West_African_States': 1}),\n 835: Counter({'Conakry': 4}),\n 836: Counter({'Lansana_Conté': 2}),\n 837: Counter({'Organisation_of_the_Islamic_Conference': 3}),\n 838: Counter({'Organisation_of_the_Islamic_Conference': 4}),\n 839: Counter({\"Qur'an\": 1}),\n 840: Counter({'Marxism': 1}),\n 841: Counter({'Ahmed_Sékou_Touré': 1}),\n 842: Counter({'Johannesburg': 22}),\n 843: Counter({'Nelson_Mandela': 4}),\n 844: Counter({'Sandusky,_Ohio': 1}),\n 845: Counter({'Rottweiler': 1}),\n 846: Counter({'Vanderbijlpark': 1}),\n 847: Counter({'Duff_&_Phelps': 1}),\n 848: Counter({\"Standard_&_Poor's\": 5}),\n 849: Counter({'Grozny': 27}),\n 850: Counter({'Interfax': 32}),\n 851: Counter({'Chechnya': 62}),\n 852: Counter({'Interior_ministry': 6,\n          'Minister_of_the_Interior_(France)': 1}),\n 853: Counter({'Alexander_Lebed': 16}),\n 854: Counter({'Aslan_Maskhadov': 11}),\n 855: Counter({'Gdańsk': 2}),\n 856: Counter({'Sierakowice,_Pomeranian_Voivodeship': 2}),\n 857: Counter({'Czech_National_Bank': 1}),\n 858: Counter({'Novye_Atagi': 6}),\n 859: Counter({'Boris_Yeltsin': 18}),\n 860: Counter({'Chechnya': 31, 'Chechen_people': 1}),\n 861: Counter({'Information_Telegraph_Agency_of_Russia': 9}),\n 862: Counter({'Alexander_Lebed': 48}),\n 863: Counter({'Boris_Yeltsin': 50}),\n 864: Counter({'Moscow_Kremlin': 8,\n          'Government_of_Russia': 5,\n          'FC_Kremin_Kremenchuk': 1}),\n 865: Counter({'Bosnia': 58, 'Bosnia_(region)': 1}),\n 866: Counter({'Sarajevo': 15}),\n 867: Counter({'Oslobođenje': 1}),\n 868: Counter({'Srebrenica': 2}),\n 869: Counter({'Serbia': 21}),\n 870: Counter({'Dnevni_Avaz': 1}),\n 871: Counter({'Ljubljana': 3}),\n 872: Counter({'Maribor': 1}),\n 873: Counter({'Bogotá': 10}),\n 874: Counter({'Coast_guard': 1}),\n 875: Counter({'Gorgona,_Colombia': 1}),\n 876: Counter({'Buenaventura,_Valle_del_Cauca': 1}),\n 877: Counter({'Buenos_Aires': 10, 'Buenos_Aires_Province': 4}),\n 878: Counter({'Peru': 6, 'Perm': 1}),\n 879: Counter({'Lima': 3}),\n 880: Counter({'Peru': 1}),\n 881: Counter({'Shining_Path': 2}),\n 882: Counter({'Abimael_Guzmán': 1}),\n 883: Counter({'Suriname': 5}),\n 884: Counter({'Paramaribo': 4}),\n 885: Counter({'Suriname': 2}),\n 886: Counter({'Moengo': 2}),\n 887: Counter({'Dési_Bouterse': 2}),\n 888: Counter({'French_Guiana': 1}),\n 889: Counter({'Thailand': 25}),\n 890: Counter({'Bangkok': 13}),\n 891: Counter({'Hong_Kong': 73}),\n 892: Counter({'Pattaya': 1}),\n 893: Counter({'Alexander_Downer': 2}),\n 894: Counter({'Alexander_Downer': 2}),\n 895: Counter({'Qian_Qichen': 1}),\n 896: Counter({'Australia': 1, 'Canberra': 6, 'Canberra_Raiders': 4}),\n 897: Counter({'Tibet': 5}),\n 898: Counter({'14th_Dalai_Lama': 1}),\n 899: Counter({'Nablus': 5}),\n 900: Counter({'Amman': 20}),\n 901: Counter({'Edward_Said': 1}),\n 902: Counter({'New_York_City': 5}),\n 903: Counter({'Columbia_University': 1}),\n 904: Counter({'Edward_Said': 2}),\n 905: Counter({'Palestinian_National_Authority': 8}),\n 906: Counter({'Patrick_Seale': 1}),\n 907: Counter({'Gaza_Strip': 3}),\n 908: Counter({'Jews': 24}),\n 909: Counter({'Istanbul': 7}),\n 910: Counter({'Cairo': 18}),\n 911: Counter({'EgyptAir': 4}),\n 912: Counter({'Boeing': 1}),\n 913: Counter({'Sudan': 27}),\n 914: Counter({'Egypt': 10, 'Egyptians': 1}),\n 915: Counter({'Hosni_Mubarak': 4}),\n 916: Counter({'Hosni_Mubarak': 7}),\n 917: Counter({'United_Nations_Security_Council': 3}),\n 918: Counter({'Sudan': 17, 'Sudan_national_football_team': 1}),\n 919: Counter({'Ethiopia': 7, 'Ethiopia_national_football_team': 7}),\n 920: Counter({'Hassan_al-Turabi': 1}),\n 921: Counter({'Hassan_al-Turabi': 1}),\n 922: Counter({'National_Islamic_Front': 1}),\n 923: Counter({'Miss_Universe': 4}),\n 924: Counter({'Las_Cruces,_New_Mexico': 2}),\n 925: Counter({'Alicia_Machado': 1}),\n 926: Counter({'New_Mexico': 3}),\n 927: Counter({'Alicia_Machado': 9}),\n 928: Counter({'Los_Angeles': 1}),\n 929: Counter({'Las_Vegas,_Nevada': 2}),\n 930: Counter({'Alicia_Machado': 1}),\n 931: Counter({'Jack_Kevorkian': 7}),\n 932: Counter({'Pontiac,_Michigan': 1}),\n 933: Counter({'Jack_Kevorkian': 1}),\n 934: Counter({'Missouri': 7}),\n 935: Counter({\"Lee's_Summit,_Missouri\": 1}),\n 936: Counter({'Geoffrey_Fieger': 1}),\n 937: Counter({'Lou_Gehrig': 1}),\n 938: Counter({'Massachusetts': 9}),\n 939: Counter({'Fairview,_Texas': 1}),\n 940: Counter({'Neo-Nazism': 2}),\n 941: Counter({'Lincoln,_Nebraska': 1,\n          'Lincoln_City_F.C.': 7,\n          'Abraham_Lincoln': 2}),\n 942: Counter({'Nebraska': 2, 'Nebraska_Cornhuskers_football': 1}),\n 943: Counter({'Neo-Nazism': 2}),\n 944: Counter({'Adolf_Hitler': 2}),\n 945: Counter({'Nazi_Germany': 4, 'Nazi_Party': 3, 'Nazism': 1}),\n 946: Counter({'Jews': 7}),\n 947: Counter({'Manfred_Kanther': 1}),\n 948: Counter({'Social_Democratic_Party_of_Germany': 1}),\n 949: Counter({'Nazi_Party': 1}),\n 950: Counter({'NSDAP/AO': 1}),\n 951: Counter({'Aryan_race': 1}),\n 952: Counter({'Yasushi_Akashi': 2}),\n 953: Counter({'United_Nations_Security_Council': 11,\n          'Security_Council_of_Russia': 1}),\n 954: Counter({'Yasushi_Akashi': 1}),\n 955: Counter({'Algeria': 43}),\n 956: Counter({'Islam': 58}),\n 957: Counter({'Catholic_Church': 12}),\n 958: Counter({'Hervé_de_Charette': 1}),\n 959: Counter({'Algiers': 9, 'Algeria': 2}),\n 960: Counter({'Berlin': 32, '1936_Summer_Olympics': 1}),\n 961: Counter({'Berlin_Tegel_Airport': 1}),\n 962: Counter({'Berlin_Tempelhof_Airport': 1}),\n 963: Counter({'Bremen_Airport': 1, 'SV_Werder_Bremen': 1, 'Gary_Breen': 1}),\n 964: Counter({'Dresden_Airport': 1, 'Dresden': 1}),\n 965: Counter({'Leipzig/Halle_Airport': 1}),\n 966: Counter({'Munich_Airport': 1, 'Munich': 3}),\n 967: Counter({'Nuremberg_Airport': 1, 'Nuremberg': 1}),\n 968: Counter({'BNP_Paribas': 3}),\n 969: Counter({'Aegon': 3}),\n 970: Counter({'Bill_Clinton': 93}),\n 971: Counter({'Ballybunion': 5}),\n 972: Counter({'Dublin': 16}),\n 973: Counter({'Bill_Clinton': 23}),\n 974: Counter({'Republic_of_Ireland': 16,\n          'Republic_of_Ireland_national_football_team': 4,\n          'Northern_Ireland': 1}),\n 975: Counter({'Dick_Spring': 2}),\n 976: Counter({'Democratic_Party_(United_States)': 26}),\n 977: Counter({'Kennedy_family': 1, 'Mark_Kennedy_(footballer)': 1}),\n 978: Counter({'Wolfgang_Ischinger': 1}),\n 979: Counter({'Wolfgang_Ischinger': 5}),\n 980: Counter({'Yevgeny_Primakov': 2}),\n 981: Counter({'Klaus_Kinkel': 2}),\n 982: Counter({'Klaus_Kinkel': 2}),\n 983: Counter({'New_Delhi': 13}),\n 984: Counter({'Inder_Kumar_Gujral': 1}),\n 985: Counter({'Inder_Kumar_Gujral': 5}),\n 986: Counter({'Comprehensive_Nuclear-Test-Ban_Treaty': 2}),\n 987: Counter({'Comprehensive_Nuclear-Test-Ban_Treaty': 3}),\n 988: Counter({'Dhaka': 14, 'Dhaka_Stock_Exchange': 3}),\n 989: Counter({'Bangladesh': 13}),\n 990: Counter({'Commonwealth_of_Nations': 13, 'Commonwealth_Games': 1}),\n 991: Counter({'Liam_Fox': 5}),\n 992: Counter({'Nepal': 22}),\n 993: Counter({'House_of_Commons': 1}),\n 994: Counter({'Criminal_Investigation_Department': 1}),\n 995: Counter({'Kashmir': 4}),\n 996: Counter({'Srinagar': 2}),\n 997: Counter({'Indrajit_Gupta': 2}),\n 998: Counter({'H._D._Deve_Gowda': 1}),\n 999: Counter({'Dhaka_Stock_Exchange': 2}),\n ...}"
     },
     "execution_count": 34,
     "metadata": {},
     "output_type": "execute_result"
    }
   ],
   "source": [
    "for key in tqdm(lev_cluster_dict):\n",
    "    cluster_list = [x[1] for x in lev_cluster_dict[key]]\n",
    "    cluster_dict = Counter(cluster_list)\n",
    "    lev_cluster_dict[key] = cluster_dict\n",
    "lev_cluster_dict"
   ],
   "metadata": {
    "collapsed": false,
    "pycharm": {
     "name": "#%%\n"
    }
   }
  },
  {
   "cell_type": "markdown",
   "source": [
    "### evaluation levestein"
   ],
   "metadata": {
    "collapsed": false
   }
  },
  {
   "cell_type": "markdown",
   "source": [
    "CEAFm precision"
   ],
   "metadata": {
    "collapsed": false
   }
  },
  {
   "cell_type": "code",
   "execution_count": 35,
   "outputs": [],
   "source": [
    "max_lev_cluster_list = []\n",
    "for key in lev_cluster_dict.keys():\n",
    "    max_key = max(lev_cluster_dict[key], key=lev_cluster_dict[key].get)\n",
    "    max_lev_cluster_list.append((max_key, lev_cluster_dict[key][max_key]))\n",
    "max_lev_cluster_list.sort(key=lambda x: x[1], reverse=True)\n",
    "max_lev_cluster_dict = dict.fromkeys(golden_standard_entities, 0)\n",
    "for key, val in max_lev_cluster_list:\n",
    "    if max_lev_cluster_dict[key] == 0:\n",
    "        max_lev_cluster_dict[key] = val"
   ],
   "metadata": {
    "collapsed": false,
    "pycharm": {
     "name": "#%%\n"
    }
   }
  },
  {
   "cell_type": "code",
   "execution_count": 36,
   "outputs": [
    {
     "data": {
      "text/plain": "0.7916741560915986"
     },
     "execution_count": 36,
     "metadata": {},
     "output_type": "execute_result"
    }
   ],
   "source": [
    "# CEAFm_levenshtein_precision\n",
    "CEAFm_levenshtein_precision = sum([x for x in max_lev_cluster_dict.values()]) / sum(\n",
    "    [y for x in lev_cluster_dict.values() for y in x.values()])\n",
    "CEAFm_levenshtein_precision"
   ],
   "metadata": {
    "collapsed": false,
    "pycharm": {
     "name": "#%%\n"
    }
   }
  },
  {
   "cell_type": "markdown",
   "source": [
    "CEAFm recall"
   ],
   "metadata": {
    "collapsed": false
   }
  },
  {
   "cell_type": "code",
   "execution_count": 37,
   "outputs": [
    {
     "data": {
      "text/plain": "0.7916741560915986"
     },
     "execution_count": 37,
     "metadata": {},
     "output_type": "execute_result"
    }
   ],
   "source": [
    "# CEAFm_levenshtein_recall\n",
    "CEAFm_levenshtein_recall = sum([x for x in max_lev_cluster_dict.values()]) / ents_data.shape[0]\n",
    "CEAFm_levenshtein_recall"
   ],
   "metadata": {
    "collapsed": false,
    "pycharm": {
     "name": "#%%\n"
    }
   }
  },
  {
   "cell_type": "markdown",
   "source": [
    "CEAFm Fscore"
   ],
   "metadata": {
    "collapsed": false
   }
  },
  {
   "cell_type": "code",
   "execution_count": 38,
   "outputs": [
    {
     "data": {
      "text/plain": "0.7916741560915986"
     },
     "execution_count": 38,
     "metadata": {},
     "output_type": "execute_result"
    }
   ],
   "source": [
    "# CEAFm_levenshtein_f1\n",
    "CEAFm_levenshtein_f1 = (2 * (CEAFm_levenshtein_recall * CEAFm_levenshtein_precision)) / (\n",
    "        CEAFm_levenshtein_precision + CEAFm_levenshtein_recall)\n",
    "CEAFm_levenshtein_f1"
   ],
   "metadata": {
    "collapsed": false,
    "pycharm": {
     "name": "#%%\n"
    }
   }
  },
  {
   "cell_type": "markdown",
   "source": [
    "### B-CUBED"
   ],
   "metadata": {
    "collapsed": false
   }
  },
  {
   "cell_type": "code",
   "execution_count": 39,
   "outputs": [
    {
     "name": "stderr",
     "output_type": "stream",
     "text": [
      "100%|██████████| 5598/5598 [00:36<00:00, 152.36it/s]\n"
     ]
    },
    {
     "data": {
      "text/plain": "0.8723965956665684"
     },
     "execution_count": 39,
     "metadata": {},
     "output_type": "execute_result"
    }
   ],
   "source": [
    "# B-cubed - precision\n",
    "bcubed_precision_num = 0\n",
    "for gold_key in tqdm(golden_standard_dict.keys()):\n",
    "    for lev_key in lev_cluster_dict.keys():\n",
    "        try:\n",
    "            bcubed_precision_num = bcubed_precision_num + (pow(lev_cluster_dict[lev_key][gold_key], 2) /\n",
    "                                       sum([x for x in lev_cluster_dict[lev_key].values()]))\n",
    "        except:\n",
    "            pass\n",
    "bcubed_precision = bcubed_precision_num/sum([y for x in lev_cluster_dict.values() for y in x.values()])\n",
    "bcubed_precision"
   ],
   "metadata": {
    "collapsed": false,
    "pycharm": {
     "name": "#%%\n"
    }
   }
  },
  {
   "cell_type": "code",
   "execution_count": 40,
   "outputs": [
    {
     "name": "stderr",
     "output_type": "stream",
     "text": [
      "100%|██████████| 5598/5598 [00:30<00:00, 186.48it/s]\n"
     ]
    },
    {
     "data": {
      "text/plain": "0.8166030724808002"
     },
     "execution_count": 40,
     "metadata": {},
     "output_type": "execute_result"
    }
   ],
   "source": [
    "# B-cubed - recall\n",
    "bcubed_recall_num = 0\n",
    "for gold_key in tqdm(golden_standard_dict.keys()):\n",
    "    for lev_key in lev_cluster_dict.keys():\n",
    "        try:\n",
    "            bcubed_recall_num = bcubed_recall_num + (pow(lev_cluster_dict[lev_key][gold_key], 2) /\n",
    "                                       golden_standard_dict[gold_key])\n",
    "        except:\n",
    "            pass\n",
    "bcubed_recall = bcubed_recall_num/ents_data.shape[0]\n",
    "bcubed_recall"
   ],
   "metadata": {
    "collapsed": false,
    "pycharm": {
     "name": "#%%\n"
    }
   }
  },
  {
   "cell_type": "code",
   "execution_count": 41,
   "outputs": [
    {
     "data": {
      "text/plain": "0.843578307181706"
     },
     "execution_count": 41,
     "metadata": {},
     "output_type": "execute_result"
    }
   ],
   "source": [
    "bcubed_f1 = (2 * (bcubed_recall * bcubed_precision)) / (\n",
    "        bcubed_precision + bcubed_recall)\n",
    "bcubed_f1"
   ],
   "metadata": {
    "collapsed": false,
    "pycharm": {
     "name": "#%%\n"
    }
   }
  },
  {
   "cell_type": "code",
   "execution_count": 17,
   "outputs": [],
   "source": [],
   "metadata": {
    "collapsed": false,
    "pycharm": {
     "name": "#%%\n"
    }
   }
  }
 ],
 "metadata": {
  "kernelspec": {
   "display_name": "Python 3",
   "language": "python",
   "name": "python3"
  },
  "language_info": {
   "codemirror_mode": {
    "name": "ipython",
    "version": 2
   },
   "file_extension": ".py",
   "mimetype": "text/x-python",
   "name": "python",
   "nbconvert_exporter": "python",
   "pygments_lexer": "ipython2",
   "version": "2.7.6"
  }
 },
 "nbformat": 4,
 "nbformat_minor": 0
}