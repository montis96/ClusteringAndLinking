{
 "cells": [
  {
   "cell_type": "code",
   "execution_count": 4,
   "metadata": {
    "collapsed": true
   },
   "outputs": [],
   "source": [
    "%load_ext autoreload\n",
    "%autoreload 2"
   ]
  },
  {
   "cell_type": "code",
   "execution_count": 1,
   "outputs": [],
   "source": [
    "import Packages.CoNLLReader as reader\n",
    "import numpy as np\n",
    "from tqdm import tqdm\n",
    "from sklearn.feature_extraction.text import CountVectorizer, TfidfVectorizer\n",
    "import pandas as pd"
   ],
   "metadata": {
    "collapsed": false,
    "pycharm": {
     "name": "#%%\n"
    }
   }
  },
  {
   "cell_type": "code",
   "execution_count": 2,
   "outputs": [
    {
     "data": {
      "text/plain": "        documents   tokens       indexes tags mentions        entities  \\\n0               0       EU        (0, 2)                                 \n1               0  rejects       (3, 10)                                 \n2               0   German      (11, 17)    B   German         Germany   \n3               0     call      (18, 22)                                 \n4               0       to      (23, 25)                                 \n...           ...      ...           ...  ...      ...             ...   \n285584       1392  younger  (1390, 1397)                                 \n285585       1392  brother  (1398, 1405)                                 \n285586       1392        ,  (1406, 1407)                                 \n285587       1392    Bobby  (1408, 1413)    B    Bobby  Bobby_Charlton   \n285588       1392        .  (1414, 1415)                                 \n\n                                          wikidatas numeric_codes alpha_codes  \n0                                                                              \n1                                                                              \n2              http://en.wikipedia.org/wiki/Germany         11867    /m/0345h  \n3                                                                              \n4                                                                              \n...                                             ...           ...         ...  \n285584                                                                         \n285585                                                                         \n285586                                                                         \n285587  http://en.wikipedia.org/wiki/Bobby_Charlton          4224    /m/01c8x  \n285588                                                                         \n\n[285589 rows x 9 columns]",
      "text/html": "<div>\n<style scoped>\n    .dataframe tbody tr th:only-of-type {\n        vertical-align: middle;\n    }\n\n    .dataframe tbody tr th {\n        vertical-align: top;\n    }\n\n    .dataframe thead th {\n        text-align: right;\n    }\n</style>\n<table border=\"1\" class=\"dataframe\">\n  <thead>\n    <tr style=\"text-align: right;\">\n      <th></th>\n      <th>documents</th>\n      <th>tokens</th>\n      <th>indexes</th>\n      <th>tags</th>\n      <th>mentions</th>\n      <th>entities</th>\n      <th>wikidatas</th>\n      <th>numeric_codes</th>\n      <th>alpha_codes</th>\n    </tr>\n  </thead>\n  <tbody>\n    <tr>\n      <th>0</th>\n      <td>0</td>\n      <td>EU</td>\n      <td>(0, 2)</td>\n      <td></td>\n      <td></td>\n      <td></td>\n      <td></td>\n      <td></td>\n      <td></td>\n    </tr>\n    <tr>\n      <th>1</th>\n      <td>0</td>\n      <td>rejects</td>\n      <td>(3, 10)</td>\n      <td></td>\n      <td></td>\n      <td></td>\n      <td></td>\n      <td></td>\n      <td></td>\n    </tr>\n    <tr>\n      <th>2</th>\n      <td>0</td>\n      <td>German</td>\n      <td>(11, 17)</td>\n      <td>B</td>\n      <td>German</td>\n      <td>Germany</td>\n      <td>http://en.wikipedia.org/wiki/Germany</td>\n      <td>11867</td>\n      <td>/m/0345h</td>\n    </tr>\n    <tr>\n      <th>3</th>\n      <td>0</td>\n      <td>call</td>\n      <td>(18, 22)</td>\n      <td></td>\n      <td></td>\n      <td></td>\n      <td></td>\n      <td></td>\n      <td></td>\n    </tr>\n    <tr>\n      <th>4</th>\n      <td>0</td>\n      <td>to</td>\n      <td>(23, 25)</td>\n      <td></td>\n      <td></td>\n      <td></td>\n      <td></td>\n      <td></td>\n      <td></td>\n    </tr>\n    <tr>\n      <th>...</th>\n      <td>...</td>\n      <td>...</td>\n      <td>...</td>\n      <td>...</td>\n      <td>...</td>\n      <td>...</td>\n      <td>...</td>\n      <td>...</td>\n      <td>...</td>\n    </tr>\n    <tr>\n      <th>285584</th>\n      <td>1392</td>\n      <td>younger</td>\n      <td>(1390, 1397)</td>\n      <td></td>\n      <td></td>\n      <td></td>\n      <td></td>\n      <td></td>\n      <td></td>\n    </tr>\n    <tr>\n      <th>285585</th>\n      <td>1392</td>\n      <td>brother</td>\n      <td>(1398, 1405)</td>\n      <td></td>\n      <td></td>\n      <td></td>\n      <td></td>\n      <td></td>\n      <td></td>\n    </tr>\n    <tr>\n      <th>285586</th>\n      <td>1392</td>\n      <td>,</td>\n      <td>(1406, 1407)</td>\n      <td></td>\n      <td></td>\n      <td></td>\n      <td></td>\n      <td></td>\n      <td></td>\n    </tr>\n    <tr>\n      <th>285587</th>\n      <td>1392</td>\n      <td>Bobby</td>\n      <td>(1408, 1413)</td>\n      <td>B</td>\n      <td>Bobby</td>\n      <td>Bobby_Charlton</td>\n      <td>http://en.wikipedia.org/wiki/Bobby_Charlton</td>\n      <td>4224</td>\n      <td>/m/01c8x</td>\n    </tr>\n    <tr>\n      <th>285588</th>\n      <td>1392</td>\n      <td>.</td>\n      <td>(1414, 1415)</td>\n      <td></td>\n      <td></td>\n      <td></td>\n      <td></td>\n      <td></td>\n      <td></td>\n    </tr>\n  </tbody>\n</table>\n<p>285589 rows × 9 columns</p>\n</div>"
     },
     "execution_count": 2,
     "metadata": {},
     "output_type": "execute_result"
    }
   ],
   "source": [
    "text, data = reader.read_aida_yago_conll(\n",
    "    \"D:\\\\Sgmon\\\\Documents\\\\Magistrale\\\\TESI\\\\ClusteringAndLinking\\\\aida-yago2-dataset\\\\AIDA-YAGO2-dataset.tsv\")\n",
    "save = False\n",
    "if save:\n",
    "    text_file = open('text.txt', 'w')\n",
    "    text_file.write(text)\n",
    "    text_file.close()\n",
    "data"
   ],
   "metadata": {
    "collapsed": false,
    "pycharm": {
     "name": "#%%\n"
    }
   }
  },
  {
   "cell_type": "code",
   "execution_count": 3,
   "outputs": [
    {
     "name": "stderr",
     "output_type": "stream",
     "text": [
      "100%|██████████| 27817/27817 [00:00<00:00, 1981302.40it/s]\n"
     ]
    }
   ],
   "source": [
    "# Gold standard\n",
    "ents_data = data[data['entities'] != '']\n",
    "entities = ents_data['entities'].values\n",
    "mentions = ents_data['mentions'].values\n",
    "docs = ents_data['documents'].values\n",
    "unique_entities = np.unique(entities)\n",
    "gold_standard = dict.fromkeys(entities, 0)\n",
    "for uniqu_ent in tqdm(entities):\n",
    "    gold_standard[uniqu_ent] = gold_standard[uniqu_ent] + 1\n",
    "ent_nums = dict(sorted(gold_standard.items(), key=lambda item: item[1], reverse=True))"
   ],
   "metadata": {
    "collapsed": false,
    "pycharm": {
     "name": "#%%\n"
    }
   }
  },
  {
   "cell_type": "code",
   "execution_count": 7,
   "outputs": [],
   "source": [
    "leven_cluster = np.loadtxt(\"../aida-yago2-dataset/db_cluster_levestein_0.txt\", dtype=np.int32)\n",
    "# Now we create a dict for each cluster that contains entities and entities count\n",
    "lev_cluster_dict = dict.fromkeys(np.unique(leven_cluster), [])\n",
    "for i, x in enumerate(leven_cluster):\n",
    "    lev_cluster_dict[x].append(mentions[i])\n",
    "\n",
    "# \"\"\"se uso un cluster diverso da minimo 0 allora scommento\"\"\"\n",
    "# del lev_cluster_dict[-1]"
   ],
   "metadata": {
    "collapsed": false,
    "pycharm": {
     "name": "#%%\n"
    }
   }
  },
  {
   "cell_type": "code",
   "execution_count": 8,
   "outputs": [
    {
     "name": "stderr",
     "output_type": "stream",
     "text": [
      "100%|██████████| 6066/6066 [01:28<00:00, 68.35it/s]\n"
     ]
    }
   ],
   "source": [
    "for key in tqdm(lev_cluster_dict):\n",
    "    cluster_list = [mention_to_entity[x] for x in lev_cluster_dict[key]]\n",
    "    cluster_set = set(cluster_list)\n",
    "    cluster_dict = dict.fromkeys(list(cluster_set), 0)\n",
    "    for cluster in cluster_list:\n",
    "        cluster_dict[cluster] = cluster_dict[cluster] + 1\n",
    "    lev_cluster_dict[key] = cluster_dict"
   ],
   "metadata": {
    "collapsed": false,
    "pycharm": {
     "name": "#%%\n"
    }
   }
  },
  {
   "cell_type": "markdown",
   "source": [
    "### Bag of Words"
   ],
   "metadata": {
    "collapsed": false,
    "pycharm": {
     "name": "#%% md\n"
    }
   }
  },
  {
   "cell_type": "code",
   "execution_count": null,
   "outputs": [],
   "source": [
    "# creation of BOW\n",
    "\n",
    "CountVec = CountVectorizer(ngram_range=(1, 1), stop_words='english', lowercase=True, strip_accents=\"ascii\",\n",
    "                           analyzer=\"word\")\n",
    "#transform\n",
    "bow_text = CountVec.fit_transform(text)\n",
    "bow_df = pd.DataFrame(bow_text.toarray(), columns=CountVec.get_feature_names())\n",
    "bow_vectors = bow_text.toarray()"
   ],
   "metadata": {
    "collapsed": false,
    "pycharm": {
     "name": "#%%\n"
    }
   }
  },
  {
   "cell_type": "code",
   "execution_count": 42,
   "outputs": [],
   "source": [
    "text_coupled = [(text[i], bag) for i, bag in enumerate(bow_vectors)]"
   ],
   "metadata": {
    "collapsed": false,
    "pycharm": {
     "name": "#%%\n"
    }
   }
  },
  {
   "cell_type": "code",
   "execution_count": 38,
   "outputs": [
    {
     "data": {
      "text/plain": "{'\"',\n \"'\",\n \"'s\",\n '(',\n ')',\n ',',\n '--',\n '.',\n '10',\n '1996-08-22',\n '4,275',\n '47,600',\n 'BBC',\n 'BRUSSELS',\n 'BSE',\n 'Blackburn',\n 'Bonn',\n 'Bovine',\n 'Britain',\n 'British',\n 'But',\n 'Commission',\n 'Commissioner',\n 'EU',\n 'EU-wide',\n 'Encephalopathy',\n 'Europe',\n 'European',\n 'Farm',\n 'Farmers',\n 'Fischler',\n 'France',\n 'Franz',\n 'German',\n 'Germany',\n 'He',\n 'It',\n 'John',\n 'Jones',\n 'Lloyd',\n 'Loyola',\n 'March',\n 'Minister',\n 'NFU',\n 'National',\n 'Nikolaus',\n 'Only',\n 'Palacio',\n 'Pas',\n 'Peter',\n 'Sheep',\n 'Spanish',\n 'Spongiform',\n 'The',\n 'Thursday',\n 'Union',\n 'We',\n 'Wednesday',\n 'Welsh',\n 'Werner',\n 'What',\n 'Zwingmann',\n 'a',\n 'accused',\n 'across',\n 'action',\n 'advice',\n 'after',\n 'agreed',\n 'alarm',\n 'an',\n 'and',\n 'animal',\n 'any',\n 'are',\n 'as',\n 'at',\n 'avoid',\n 'backed',\n 'ban',\n 'be',\n 'because',\n 'beef',\n 'been',\n 'believed',\n 'boycott',\n 'brain-wasting',\n 'brains',\n 'briefing',\n 'brought',\n 'but',\n 'buy',\n 'by',\n 'call',\n 'can',\n 'careful',\n 'cattle',\n 'causing',\n 'chains',\n 'chairman',\n 'chief',\n 'clearer',\n 'collapsed',\n 'committee',\n 'committees',\n 'concern',\n 'conditions',\n 'confidence',\n 'consumer',\n 'consumers',\n 'containing',\n 'contaminated',\n 'contract',\n 'cords',\n 'could',\n 'countries',\n 'cow',\n 'danger',\n 'dangerous',\n 'de',\n 'denied',\n 'der',\n 'determine',\n 'disagreed',\n 'disease',\n 'do',\n 'due',\n 'earlier',\n 'early',\n 'eating',\n 'efforts',\n 'expressed',\n 'extremely',\n 'farm',\n 'farmers',\n 'feed',\n 'food',\n 'for',\n 'found',\n 'from',\n 'further',\n 'generalisation',\n 'going',\n 'government',\n 'grounds',\n 'had',\n 'half',\n 'has',\n 'have',\n 'health',\n 'highly',\n 'his',\n 'how',\n 'human',\n 'humans',\n 'if',\n 'illness',\n 'imported',\n 'imports',\n 'in',\n 'influence',\n 'is',\n 'issue',\n 'it',\n 'justified',\n 'known',\n 'laboratory',\n 'lamb',\n 'last',\n 'lead',\n 'led',\n 'long',\n 'mad',\n 'make',\n 'mational',\n 'measures',\n 'meeting',\n 'might',\n 'ministers',\n 'month',\n 'move',\n 'multidisciplinary',\n 'mutton',\n \"n't\",\n 'nearly',\n 'needed',\n 'news',\n 'next',\n 'of',\n 'officials',\n 'on',\n 'only',\n 'other',\n 'overall',\n 'percent',\n 'precautionary',\n 'proposal',\n 'proposed',\n 'protect',\n 'public',\n 'questioned',\n 'radio',\n 're-examine',\n 'recommendation',\n 'recommendations',\n 'rejects',\n 'report',\n 'reports',\n 'representative',\n 'required',\n 'review',\n 'risk',\n 'said',\n 'scientific',\n 'scientists',\n 'scrapie',\n 'see',\n 'senior',\n 'sheep',\n 'sheepmeat',\n 'should',\n 'shun',\n 'similar',\n 'slight',\n 'some',\n 'specific',\n 'spinal',\n 'spleens',\n 'spokesman',\n 'standing',\n 'study',\n 'such',\n 'suggested',\n 'support',\n 'take',\n 'taken',\n 'than',\n 'that',\n 'the',\n 'their',\n 'there',\n 'through',\n 'to',\n 'told',\n 'tonnes',\n 'total',\n 'transferred',\n 'transmitted',\n 'under',\n 'unjustified',\n 'until',\n 'van',\n 'veterinary',\n 'was',\n 'waste',\n 'we',\n 'whether',\n 'which',\n 'with',\n 'year'}"
     },
     "execution_count": 38,
     "metadata": {},
     "output_type": "execute_result"
    }
   ],
   "source": [],
   "metadata": {
    "collapsed": false,
    "pycharm": {
     "name": "#%%\n"
    }
   }
  },
  {
   "cell_type": "code",
   "execution_count": 36,
   "outputs": [
    {
     "data": {
      "text/plain": "136"
     },
     "execution_count": 36,
     "metadata": {},
     "output_type": "execute_result"
    }
   ],
   "source": [],
   "metadata": {
    "collapsed": false,
    "pycharm": {
     "name": "#%%"
    }
   }
  }
 ],
 "metadata": {
  "kernelspec": {
   "display_name": "Python 3",
   "language": "python",
   "name": "python3"
  },
  "language_info": {
   "codemirror_mode": {
    "name": "ipython",
    "version": 2
   },
   "file_extension": ".py",
   "mimetype": "text/x-python",
   "name": "python",
   "nbconvert_exporter": "python",
   "pygments_lexer": "ipython2",
   "version": "2.7.6"
  }
 },
 "nbformat": 4,
 "nbformat_minor": 0
}