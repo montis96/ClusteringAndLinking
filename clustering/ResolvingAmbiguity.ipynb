{
 "cells": [
  {
   "cell_type": "code",
   "execution_count": 1,
   "metadata": {
    "collapsed": true
   },
   "outputs": [],
   "source": [
    "%load_ext autoreload\n",
    "%autoreload 2"
   ]
  },
  {
   "cell_type": "code",
   "execution_count": null,
   "outputs": [],
   "source": [
    "import Packages.ClusteringHelper as ch\n",
    "import numpy as np\n",
    "from tqdm import tqdm\n",
    "import pandas as pd\n",
    "from collections import Counter"
   ],
   "metadata": {
    "collapsed": false,
    "pycharm": {
     "name": "#%%\n",
     "is_executing": true
    }
   }
  },
  {
   "cell_type": "code",
   "execution_count": 3,
   "outputs": [
    {
     "data": {
      "text/plain": "        documents   tokens       indexes  word_indexes mentions  \\\n0               0       EU        (0, 2)             0            \n1               0  rejects       (3, 10)             1            \n2               0   German      (11, 17)             2   German   \n3               0     call      (18, 22)             3            \n4               0       to      (23, 25)             4            \n...           ...      ...           ...           ...      ...   \n285584       1392  younger  (1390, 1397)           265            \n285585       1392  brother  (1398, 1405)           266            \n285586       1392        ,  (1406, 1407)           267            \n285587       1392    Bobby  (1408, 1413)           268    Bobby   \n285588       1392        .  (1414, 1415)           269            \n\n              entities                                    wikidatas  \\\n0                                                                     \n1                                                                     \n2              Germany         http://en.wikipedia.org/wiki/Germany   \n3                                                                     \n4                                                                     \n...                ...                                          ...   \n285584                                                                \n285585                                                                \n285586                                                                \n285587  Bobby_Charlton  http://en.wikipedia.org/wiki/Bobby_Charlton   \n285588                                                                \n\n       numeric_codes alpha_codes  \n0                                 \n1                                 \n2              11867    /m/0345h  \n3                                 \n4                                 \n...              ...         ...  \n285584                            \n285585                            \n285586                            \n285587          4224    /m/01c8x  \n285588                            \n\n[285589 rows x 9 columns]",
      "text/html": "<div>\n<style scoped>\n    .dataframe tbody tr th:only-of-type {\n        vertical-align: middle;\n    }\n\n    .dataframe tbody tr th {\n        vertical-align: top;\n    }\n\n    .dataframe thead th {\n        text-align: right;\n    }\n</style>\n<table border=\"1\" class=\"dataframe\">\n  <thead>\n    <tr style=\"text-align: right;\">\n      <th></th>\n      <th>documents</th>\n      <th>tokens</th>\n      <th>indexes</th>\n      <th>word_indexes</th>\n      <th>mentions</th>\n      <th>entities</th>\n      <th>wikidatas</th>\n      <th>numeric_codes</th>\n      <th>alpha_codes</th>\n    </tr>\n  </thead>\n  <tbody>\n    <tr>\n      <th>0</th>\n      <td>0</td>\n      <td>EU</td>\n      <td>(0, 2)</td>\n      <td>0</td>\n      <td></td>\n      <td></td>\n      <td></td>\n      <td></td>\n      <td></td>\n    </tr>\n    <tr>\n      <th>1</th>\n      <td>0</td>\n      <td>rejects</td>\n      <td>(3, 10)</td>\n      <td>1</td>\n      <td></td>\n      <td></td>\n      <td></td>\n      <td></td>\n      <td></td>\n    </tr>\n    <tr>\n      <th>2</th>\n      <td>0</td>\n      <td>German</td>\n      <td>(11, 17)</td>\n      <td>2</td>\n      <td>German</td>\n      <td>Germany</td>\n      <td>http://en.wikipedia.org/wiki/Germany</td>\n      <td>11867</td>\n      <td>/m/0345h</td>\n    </tr>\n    <tr>\n      <th>3</th>\n      <td>0</td>\n      <td>call</td>\n      <td>(18, 22)</td>\n      <td>3</td>\n      <td></td>\n      <td></td>\n      <td></td>\n      <td></td>\n      <td></td>\n    </tr>\n    <tr>\n      <th>4</th>\n      <td>0</td>\n      <td>to</td>\n      <td>(23, 25)</td>\n      <td>4</td>\n      <td></td>\n      <td></td>\n      <td></td>\n      <td></td>\n      <td></td>\n    </tr>\n    <tr>\n      <th>...</th>\n      <td>...</td>\n      <td>...</td>\n      <td>...</td>\n      <td>...</td>\n      <td>...</td>\n      <td>...</td>\n      <td>...</td>\n      <td>...</td>\n      <td>...</td>\n    </tr>\n    <tr>\n      <th>285584</th>\n      <td>1392</td>\n      <td>younger</td>\n      <td>(1390, 1397)</td>\n      <td>265</td>\n      <td></td>\n      <td></td>\n      <td></td>\n      <td></td>\n      <td></td>\n    </tr>\n    <tr>\n      <th>285585</th>\n      <td>1392</td>\n      <td>brother</td>\n      <td>(1398, 1405)</td>\n      <td>266</td>\n      <td></td>\n      <td></td>\n      <td></td>\n      <td></td>\n      <td></td>\n    </tr>\n    <tr>\n      <th>285586</th>\n      <td>1392</td>\n      <td>,</td>\n      <td>(1406, 1407)</td>\n      <td>267</td>\n      <td></td>\n      <td></td>\n      <td></td>\n      <td></td>\n      <td></td>\n    </tr>\n    <tr>\n      <th>285587</th>\n      <td>1392</td>\n      <td>Bobby</td>\n      <td>(1408, 1413)</td>\n      <td>268</td>\n      <td>Bobby</td>\n      <td>Bobby_Charlton</td>\n      <td>http://en.wikipedia.org/wiki/Bobby_Charlton</td>\n      <td>4224</td>\n      <td>/m/01c8x</td>\n    </tr>\n    <tr>\n      <th>285588</th>\n      <td>1392</td>\n      <td>.</td>\n      <td>(1414, 1415)</td>\n      <td>269</td>\n      <td></td>\n      <td></td>\n      <td></td>\n      <td></td>\n      <td></td>\n    </tr>\n  </tbody>\n</table>\n<p>285589 rows × 9 columns</p>\n</div>"
     },
     "execution_count": 3,
     "metadata": {},
     "output_type": "execute_result"
    }
   ],
   "source": [
    "text, data = ch.read_aida_yago_conll(\n",
    "    \"D:\\\\Sgmon\\\\Documents\\\\Magistrale\\\\TESI\\\\ClusteringAndLinking\\\\aida-yago2-dataset\\\\AIDA-YAGO2-dataset.tsv\")\n",
    "save = False\n",
    "if save:\n",
    "    text_file = open('text.txt', 'w')\n",
    "    text_file.write(text)\n",
    "    text_file.close()\n",
    "data"
   ],
   "metadata": {
    "collapsed": false,
    "pycharm": {
     "name": "#%%\n"
    }
   }
  },
  {
   "cell_type": "code",
   "execution_count": 4,
   "outputs": [],
   "source": [
    "# Gold standard\n",
    "ents_data = data[data['entities'] != '']\n",
    "entities = ents_data['entities'].values\n",
    "mentions = ents_data['mentions'].values\n",
    "docs = ents_data['documents'].values\n",
    "word_indexes = ents_data['word_indexes'].values\n",
    "unique_entities = np.unique(entities)\n",
    "gold_standard = Counter(entities)\n",
    "gold_standard = dict(sorted(gold_standard.items(), key=lambda item: item[1], reverse=True))"
   ],
   "metadata": {
    "collapsed": false,
    "pycharm": {
     "name": "#%%\n"
    }
   }
  },
  {
   "cell_type": "markdown",
   "source": [
    "#### Gensim word2vec"
   ],
   "metadata": {
    "collapsed": false,
    "pycharm": {
     "name": "#%% md\n"
    }
   }
  },
  {
   "cell_type": "code",
   "execution_count": 5,
   "outputs": [],
   "source": [
    "lowercase = True\n",
    "if lowercase:\n",
    "    text_splitted = [x.lower().split() for x in text]\n",
    "else:\n",
    "    text_splitted = [x.split() for x in text]"
   ],
   "metadata": {
    "collapsed": false,
    "pycharm": {
     "name": "#%%\n"
    }
   }
  },
  {
   "cell_type": "markdown",
   "source": [
    "Model selection"
   ],
   "metadata": {
    "collapsed": false,
    "pycharm": {
     "name": "#%% md\n"
    }
   }
  },
  {
   "cell_type": "code",
   "execution_count": 12,
   "outputs": [],
   "source": [
    "# create the model\n",
    "# from gensim.models.word2vec import Word2Vec\n",
    "# from multiprocessing import cpu_count\n",
    "# model = Word2Vec(text_splitted, min_count=0, workers=cpu_count())\n",
    "\n",
    "# or select it\n",
    "import os\n",
    "from gensim.models import KeyedVectors\n",
    "model_path = \"D:\\Sgmon\\Documents\\Magistrale\\TESI\\gensim-data\"\n",
    "# model = KeyedVectors.load_word2vec_format(os.path.join(model_path, 'word2vec-google-news-300', \"word2vec-google-news-300.gz\"),\n",
    "#                                                        binary=True)\n",
    "\n",
    "model = KeyedVectors.load_word2vec_format(os.path.join(model_path, 'glove-wiki-gigaword-300', \"glove-wiki-gigaword-300.txt\"))\n",
    "\n",
    "# model = KeyedVectors.load_word2vec_format(os.path.join(model_path, 'fasttext-wiki-news-subwords-300', \"fasttext-wiki-news-subwords-300.gz\"),\n",
    "#                                                        binary=False)"
   ],
   "metadata": {
    "collapsed": false,
    "pycharm": {
     "name": "#%%\n"
    }
   }
  },
  {
   "cell_type": "code",
   "execution_count": 13,
   "outputs": [],
   "source": [
    "leven_cluster = np.loadtxt(\"../aida-yago2-dataset/db_cluster_levestein_0.txt\", dtype=np.int32)\n",
    "lev_cluster_dict = {}\n",
    "windows = 100\n",
    "doc_windows = 20\n",
    "for i, x in enumerate(leven_cluster):\n",
    "    try:\n",
    "        lev_cluster_dict[x].append(\n",
    "            (mentions[i], entities[i], docs[i], word_indexes[i],\n",
    "             ch.get_context(text_splitted[docs[i]], word_indexes[i], windows=windows)))\n",
    "    except:\n",
    "        lev_cluster_dict[x] = [\n",
    "            (mentions[i], entities[i], docs[i], word_indexes[i],\n",
    "             ch.get_context(text_splitted[docs[i]], word_indexes[i], windows=windows))]\n",
    "# \"\"\"se uso un cluster diverso da minimo 0 allora scommento\"\"\"\n",
    "# del lev_cluster_dict[-1]"
   ],
   "metadata": {
    "collapsed": false,
    "pycharm": {
     "name": "#%%\n"
    }
   }
  },
  {
   "cell_type": "code",
   "execution_count": 14,
   "outputs": [],
   "source": [
    "contexts_vectorized = ch.calculate_context_vector(model, lev_cluster_dict[0], text_splitted, doc_window=30,\n",
    "                                                      doc_context_alpha=0.3, word_context_aplha=0.7)"
   ],
   "metadata": {
    "collapsed": false,
    "pycharm": {
     "name": "#%%\n"
    }
   }
  },
  {
   "cell_type": "code",
   "execution_count": 18,
   "outputs": [
    {
     "data": {
      "text/plain": "array([0, 0, 0, 0, 0, 0, 0, 0, 0, 0, 0, 1, 0, 0, 0, 0, 0, 0, 0, 0, 0, 0,\n       0, 0, 0, 0, 0, 5, 0, 0, 0, 0, 0, 0, 0, 0, 0, 0, 0, 0, 0, 0, 0, 0,\n       0, 0, 0, 0, 0, 0, 0, 0, 0, 0, 0, 0, 0, 0, 0, 0, 0, 0, 0, 0, 0, 0,\n       0, 0, 0, 0, 0, 0, 0, 0, 0, 0, 0, 0, 0, 0, 0, 0, 0, 0, 0, 0, 0, 0,\n       0, 0, 0, 0, 0, 0, 0, 0, 0, 0, 0, 0, 0, 0, 0, 0, 0, 0, 0, 0, 0, 0,\n       0, 0, 0, 0, 0, 0, 0, 0, 0, 0, 0, 0, 0, 0, 0, 0, 0, 0, 0, 0, 0, 0,\n       0, 0, 0, 0, 0, 0, 0, 0, 0, 0, 0, 0, 0, 0, 0, 0, 0, 0, 0, 2, 2, 0,\n       0, 0, 0, 0, 0, 0, 0, 0, 0, 0, 0, 0, 0, 0, 0, 0, 0, 0, 0, 0, 0, 0,\n       0, 0, 0, 0, 0, 0, 0, 0, 0, 0, 0, 0, 0, 0, 0, 0, 0, 0, 0, 0, 0, 0,\n       0, 0, 0, 0, 0, 0, 0, 0, 0, 0, 0, 0, 0, 0, 0, 0, 0, 0, 0, 0, 0, 1,\n       0, 0, 0, 0, 0, 0, 0, 0, 0, 0, 0, 0, 0, 0, 0, 0, 0, 0, 0, 0, 0, 0,\n       0, 0, 0, 0, 0, 0, 0, 0, 0, 0, 0, 0, 0, 0, 0, 0, 0, 0, 0, 0, 0, 0,\n       0, 0, 0, 0, 0, 0, 0, 0, 0, 0, 0, 0, 0, 0, 0, 0, 0, 0, 0, 0, 0, 0,\n       0, 0, 0, 0, 0, 0, 0, 0, 0, 0, 0, 0, 0, 0, 0, 0, 0, 0, 0, 0, 4, 4,\n       0, 0, 0, 0, 0, 0, 0, 0, 0, 0, 0, 0, 0, 0, 0, 0, 0, 0, 0, 0, 0, 0,\n       0, 0, 0, 0, 0, 0, 0, 0, 0, 0, 0, 0, 0, 0, 0, 0, 0, 0, 0, 0, 0, 0,\n       0, 0, 0, 0, 0, 0, 0, 0, 0, 0, 0, 0, 0, 0, 0, 0, 0, 3, 0],\n      dtype=int64)"
     },
     "execution_count": 18,
     "metadata": {},
     "output_type": "execute_result"
    }
   ],
   "source": [
    "from sklearn.cluster import AgglomerativeClustering\n",
    "\n",
    "clusterizator = AgglomerativeClustering(n_clusters=None, affinity='cosine', distance_threshold=.37, linkage=\"average\")\n",
    "clusters = clusterizator.fit_predict(contexts_vectorized)\n",
    "clusters"
   ],
   "metadata": {
    "collapsed": false,
    "pycharm": {
     "name": "#%%\n"
    }
   }
  },
  {
   "cell_type": "code",
   "execution_count": 19,
   "outputs": [
    {
     "data": {
      "text/plain": "[('Germany', 0),\n ('Germany', 0),\n ('Germany', 0),\n ('Germany', 0),\n ('Germany', 0),\n ('Germany', 0),\n ('Germany', 0),\n ('Germany', 0),\n ('Germany', 0),\n ('Germany', 0),\n ('Germany', 0),\n ('Germany', 1),\n ('Germany', 0),\n ('Germany', 0),\n ('Germany', 0),\n ('Germany', 0),\n ('Germany', 0),\n ('Germany_Davis_Cup_team', 0),\n ('Germany', 0),\n ('Germany', 0),\n ('Germany', 0),\n ('Germany', 0),\n ('Germany', 0),\n ('Germany', 0),\n ('Germany', 0),\n ('Germany', 0),\n ('Germany', 0),\n ('Germany', 5),\n ('Germany', 0),\n ('Germany', 0),\n ('Germany', 0),\n ('Germany', 0),\n ('Germany', 0),\n ('Germany', 0),\n ('German_language', 0),\n ('Germany', 0),\n ('Germany', 0),\n ('Germany', 0),\n ('Germany', 0),\n ('Germany', 0),\n ('Germany', 0),\n ('Germany', 0),\n ('German_language', 0),\n ('Germany', 0),\n ('Germany', 0),\n ('Germany', 0),\n ('Germany', 0),\n ('Germany', 0),\n ('Germany', 0),\n ('Germany', 0),\n ('Germany', 0),\n ('Germany', 0),\n ('Germany', 0),\n ('Germany', 0),\n ('Germany', 0),\n ('Germany', 0),\n ('Germany', 0),\n ('Germany', 0),\n ('Germany', 0),\n ('Germany', 0),\n ('Germany', 0),\n ('Germany', 0),\n ('Germany', 0),\n ('Germany', 0),\n ('Germany', 0),\n ('Germany', 0),\n ('Germany_national_football_team', 0),\n ('Germany', 0),\n ('Germany', 0),\n ('Germany', 0),\n ('Germany', 0),\n ('Germany', 0),\n ('Germany', 0),\n ('Germany', 0),\n ('Germany', 0),\n ('Germany', 0),\n ('Germany', 0),\n ('Germany', 0),\n ('Germany', 0),\n ('Germany', 0),\n ('Germany', 0),\n ('Germany', 0),\n ('Germany', 0),\n ('Germany', 0),\n ('Germany', 0),\n ('Germany', 0),\n ('Germany', 0),\n ('Germany', 0),\n ('Germany', 0),\n ('Germany', 0),\n ('Germany', 0),\n ('Germany', 0),\n ('Germany', 0),\n ('Germany', 0),\n ('Germany', 0),\n ('Germany', 0),\n ('Germany', 0),\n ('Germany', 0),\n ('Germany', 0),\n ('Germany', 0),\n ('Germany', 0),\n ('Germany', 0),\n ('Germany', 0),\n ('Germany', 0),\n ('Germany', 0),\n ('Germany', 0),\n ('Germany', 0),\n ('Germany', 0),\n ('Germany', 0),\n ('Germany', 0),\n ('Germany', 0),\n ('Germany', 0),\n ('Germany', 0),\n ('Germany', 0),\n ('Germany', 0),\n ('Germany', 0),\n ('Germany', 0),\n ('Germans', 0),\n ('Germany', 0),\n ('Germany', 0),\n ('Germany', 0),\n ('Germany', 0),\n ('Germany', 0),\n ('Germany', 0),\n ('Germany', 0),\n ('Germany', 0),\n ('Germany', 0),\n ('Germany', 0),\n ('Germany', 0),\n ('Germany', 0),\n ('Germany', 0),\n ('Germany', 0),\n ('Germany', 0),\n ('Germany', 0),\n ('Germany', 0),\n ('Germany', 0),\n ('Germany', 0),\n ('Germany', 0),\n ('Germany', 0),\n ('Germany', 0),\n ('Germany', 0),\n ('Germany', 0),\n ('Germany', 0),\n ('Germany', 0),\n (\"Germany_men's_national_ice_hockey_team\", 0),\n ('Germany', 0),\n ('Germany', 0),\n ('Germany', 0),\n ('Germany', 0),\n ('Germany', 0),\n ('Germany', 0),\n ('Germany', 2),\n ('Germany', 2),\n ('Germany', 0),\n ('Germany', 0),\n ('Germany', 0),\n ('Germany', 0),\n ('Germany', 0),\n ('Germany', 0),\n ('Germany', 0),\n ('Germany', 0),\n ('Germany', 0),\n ('Germany', 0),\n ('Germany', 0),\n ('Germany', 0),\n ('Germany', 0),\n ('Germany', 0),\n ('Germany', 0),\n ('Germany', 0),\n ('Germany', 0),\n ('Germany', 0),\n ('Germany', 0),\n ('Germany', 0),\n ('Germany', 0),\n ('Germany', 0),\n ('Germany', 0),\n ('Germany', 0),\n ('Germany', 0),\n ('Germany', 0),\n ('Germany', 0),\n ('Germany', 0),\n ('Germany', 0),\n ('Germany', 0),\n ('Germany', 0),\n ('Germany', 0),\n ('Germany', 0),\n ('Germany', 0),\n ('Germany', 0),\n ('Germany', 0),\n ('Germany', 0),\n ('Germany', 0),\n ('Germany', 0),\n ('Germany', 0),\n ('Germany', 0),\n ('Germany', 0),\n ('Germany', 0),\n ('Germany', 0),\n ('Germany', 0),\n ('Germany', 0),\n ('Germany', 0),\n ('Germany', 0),\n ('German_language', 0),\n ('Germany', 0),\n ('Germany', 0),\n ('Germany', 0),\n ('Germany', 0),\n ('Germany', 0),\n ('Germany', 0),\n ('Germany', 0),\n ('Germany', 0),\n ('Germany', 0),\n ('Germany', 0),\n ('Germany', 0),\n ('Germany', 0),\n ('Germany', 0),\n ('Germany', 0),\n ('Germany', 0),\n ('Germany', 0),\n ('Germany', 0),\n ('Germany', 1),\n ('Germany', 0),\n ('Germany', 0),\n ('Germany', 0),\n ('Germany', 0),\n ('Germany', 0),\n ('Germany', 0),\n ('Germany', 0),\n ('Germany', 0),\n ('Germany', 0),\n ('Germany', 0),\n ('Germany', 0),\n ('Germany', 0),\n ('Germany', 0),\n ('Germany', 0),\n ('Germany', 0),\n ('Germany', 0),\n ('Germany', 0),\n ('Germany', 0),\n ('Germany', 0),\n ('Germany', 0),\n ('Germany', 0),\n ('Germany', 0),\n ('Germany', 0),\n ('Germany', 0),\n ('Germany', 0),\n ('Germany', 0),\n ('Germany', 0),\n ('Germany', 0),\n ('Germany', 0),\n ('Germany', 0),\n ('Germany', 0),\n ('Germany', 0),\n ('Germany', 0),\n ('Germany', 0),\n ('Germany', 0),\n ('Germany', 0),\n ('Germany', 0),\n ('Germany', 0),\n ('Germany', 0),\n ('Germany', 0),\n ('Germany', 0),\n ('Germany', 0),\n ('Germany', 0),\n ('Germany', 0),\n ('Germany', 0),\n ('Germany', 0),\n ('Germany', 0),\n ('Germany', 0),\n ('Germany', 0),\n ('Germany', 0),\n ('Germany', 0),\n ('Germany', 0),\n ('Germany', 0),\n ('Germany', 0),\n ('Germany', 0),\n ('Germany', 0),\n ('Germany', 0),\n ('Germany', 0),\n ('Germany', 0),\n ('Germany', 0),\n ('Germany', 0),\n ('Germany', 0),\n ('Germany', 0),\n ('Germany', 0),\n ('Germany', 0),\n ('Germany', 0),\n ('Germany', 0),\n ('Germany', 0),\n ('Germany', 0),\n ('Germany', 0),\n ('Germany_Fed_Cup_team', 0),\n ('Germany', 0),\n ('Germany', 0),\n ('Germany', 0),\n ('Germany_national_football_team', 0),\n ('Germany_national_football_team', 0),\n ('Nazi_Germany', 0),\n ('Germany', 0),\n ('Germany', 0),\n ('Germany', 0),\n ('Germany', 0),\n ('Germany', 0),\n ('Germany', 0),\n ('Germany', 0),\n ('Germany', 0),\n ('Germany', 0),\n ('Lee_Germon', 4),\n ('Lee_Germon', 4),\n ('Germany', 0),\n ('Germany', 0),\n ('Germany', 0),\n ('Germany', 0),\n ('Germany', 0),\n ('Germany', 0),\n ('Germany', 0),\n ('Germany_national_football_team', 0),\n ('Germany_national_football_team', 0),\n ('Germany_national_football_team', 0),\n ('Germany', 0),\n ('Germany', 0),\n ('Nazi_Germany', 0),\n ('Germany', 0),\n ('Germany', 0),\n ('Germany', 0),\n ('Germany', 0),\n ('Germany', 0),\n ('Germany', 0),\n ('Germany', 0),\n ('Germany', 0),\n ('Germany', 0),\n ('Germany', 0),\n ('Germany', 0),\n ('Germany', 0),\n ('Germany', 0),\n ('Germany', 0),\n ('Germany', 0),\n ('Germany', 0),\n ('Germany', 0),\n ('Germany', 0),\n ('Germany', 0),\n ('Germany', 0),\n ('Germany', 0),\n ('Germany', 0),\n ('Germany', 0),\n ('Germany', 0),\n ('Germany', 0),\n ('Germany', 0),\n ('Germany', 0),\n ('Germany', 0),\n ('Germany', 0),\n ('Germany', 0),\n ('Germany', 0),\n ('Germany', 0),\n ('Germany', 0),\n ('Germany', 0),\n ('Germany', 0),\n ('Germany', 0),\n ('Germany', 0),\n ('Germany', 0),\n ('Germany', 0),\n ('Germany', 0),\n ('Germany', 0),\n ('Germany', 0),\n ('Germany', 0),\n ('Germany', 0),\n ('Germany', 0),\n ('Germany', 0),\n ('Germany', 0),\n ('Germany', 0),\n ('Germany', 3),\n ('Germany', 0)]"
     },
     "execution_count": 19,
     "metadata": {},
     "output_type": "execute_result"
    }
   ],
   "source": [
    "[(lev_cluster_dict[0][i][1], x) for i,x in enumerate(clusters)]"
   ],
   "metadata": {
    "collapsed": false,
    "pycharm": {
     "name": "#%%\n"
    }
   }
  },
  {
   "cell_type": "code",
   "execution_count": null,
   "outputs": [],
   "source": [],
   "metadata": {
    "collapsed": false,
    "pycharm": {
     "name": "#%%\n"
    }
   }
  }
 ],
 "metadata": {
  "kernelspec": {
   "display_name": "Python 3",
   "language": "python",
   "name": "python3"
  },
  "language_info": {
   "codemirror_mode": {
    "name": "ipython",
    "version": 2
   },
   "file_extension": ".py",
   "mimetype": "text/x-python",
   "name": "python",
   "nbconvert_exporter": "python",
   "pygments_lexer": "ipython2",
   "version": "2.7.6"
  }
 },
 "nbformat": 4,
 "nbformat_minor": 0
}